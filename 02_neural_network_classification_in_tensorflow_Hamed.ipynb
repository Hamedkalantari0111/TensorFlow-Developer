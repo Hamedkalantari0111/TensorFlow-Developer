{
  "nbformat": 4,
  "nbformat_minor": 0,
  "metadata": {
    "colab": {
      "provenance": [],
      "toc_visible": true,
      "gpuType": "T4"
    },
    "kernelspec": {
      "name": "python3",
      "display_name": "Python 3"
    },
    "language_info": {
      "name": "python"
    },
    "gpuClass": "standard",
    "accelerator": "GPU"
  },
  "cells": [
    {
      "cell_type": "markdown",
      "source": [
        "# 02. Neural Network Classification with TensorFlow\n",
        "\n",
        "Okay, we've seen how to deal with a regression problem in TensorFlow, let's look at how we can approach a classification problem.\n",
        "\n",
        "A [classification problem](https://en.wikipedia.org/wiki/Statistical_classification) involves predicting whether something is one thing or another.\n",
        "\n",
        "For example, you might want to:\n",
        "* Predict whether or not someone has heart disease based on their health parameters. This is called **binary classification** since there are only two options.\n",
        "* Decide whether a photo of is of food, a person or a dog. This is called **multi-class classification** since there are more than two options.\n",
        "* Predict what categories should be assigned to a Wikipedia article. This is called **multi-label classification** since a single article could have more than one category assigned.\n",
        "\n",
        "In this notebook, we're going to work through a number of different classification problems with TensorFlow. In other words, taking a set of inputs and predicting what class those set of inputs belong to.\n",
        "\n",
        "## What we're going to cover\n",
        "\n",
        "Specifically, we're going to go through doing the following with TensorFlow:\n",
        "- Architecture of a classification model\n",
        "- Input shapes and output shapes\n",
        "  - `X`: features/data (inputs)\n",
        "  - `y`: labels (outputs) \n",
        "    - \"What class do the inputs belong to?\"\n",
        "- Creating custom data to view and fit\n",
        "- Steps in modelling for binary and mutliclass classification\n",
        "  - Creating a model\n",
        "  - Compiling a model\n",
        "    - Defining a loss function\n",
        "    - Setting up an optimizer\n",
        "      - Finding the best learning rate\n",
        "    - Creating evaluation metrics\n",
        "  - Fitting a model (getting it to find patterns in our data)\n",
        "  - Improving a model\n",
        "- The power of non-linearity\n",
        "- Evaluating classification models\n",
        "  - Visualizng the model (\"visualize, visualize, visualize\")\n",
        "  - Looking at training curves\n",
        "  - Compare predictions to ground truth (using our evaluation metrics)\n",
        "\n",
        "## How you can use this notebook\n",
        "\n",
        "You can read through the descriptions and the code (it should all run, except for the cells which error on purpose), but there's a better option.\n",
        "\n",
        "Write all of the code yourself.\n",
        "\n",
        "Yes. I'm serious. Create a new notebook, and rewrite each line by yourself. Investigate it, see if you can break it, why does it break?\n",
        "\n",
        "You don't have to write the text descriptions but writing the code yourself is a great way to get hands-on experience.\n",
        "\n",
        "Don't worry if you make mistakes, we all do. The way to get better and make less mistakes is to **write more code**."
      ],
      "metadata": {
        "id": "plR3yqwBhYDj"
      }
    },
    {
      "cell_type": "markdown",
      "source": [
        "## Typical architecture of a classification neural network \n",
        "\n",
        "The word *typical* is on purpose.\n",
        "\n",
        "Because the architecture of a classification neural network can widely vary depending on the problem you're working on.\n",
        "\n",
        "However, there are some fundamentals all deep neural networks contain:\n",
        "* An input layer.\n",
        "* Some hidden layers.\n",
        "* An output layer.\n",
        "\n",
        "Much of the rest is up to the data analyst creating the model.\n",
        "\n",
        "The following are some standard values you'll often use in your classification neural networks.\n",
        "\n",
        "| **Hyperparameter** | **Binary Classification** | **Multiclass classification** |\n",
        "| --- | --- | --- |\n",
        "| Input layer shape | Same as number of features (e.g. 5 for age, sex, height, weight, smoking status in heart disease prediction) | Same as binary classification |\n",
        "| Hidden layer(s) | Problem specific, minimum = 1, maximum = unlimited | Same as binary classification |\n",
        "| Neurons per hidden layer | Problem specific, generally 10 to 100 | Same as binary classification |\n",
        "| Output layer shape | 1 (one class or the other) | 1 per class (e.g. 3 for food, person or dog photo) |\n",
        "| Hidden activation | Usually [ReLU](https://www.kaggle.com/dansbecker/rectified-linear-units-relu-in-deep-learning) (rectified linear unit) | Same as binary classification |\n",
        "| Output activation | [Sigmoid](https://en.wikipedia.org/wiki/Sigmoid_function) | [Softmax](https://en.wikipedia.org/wiki/Softmax_function) |\n",
        "| Loss function | [Cross entropy](https://en.wikipedia.org/wiki/Cross_entropy#Cross-entropy_loss_function_and_logistic_regression) ([`tf.keras.losses.BinaryCrossentropy`](https://www.tensorflow.org/api_docs/python/tf/keras/losses/BinaryCrossentropy) in TensorFlow) | Cross entropy ([`tf.keras.losses.CategoricalCrossentropy`](https://www.tensorflow.org/api_docs/python/tf/keras/losses/CategoricalCrossentropy) in TensorFlow) |\n",
        "| Optimizer | [SGD](https://www.tensorflow.org/api_docs/python/tf/keras/optimizers/SGD) (stochastic gradient descent), [Adam](https://www.tensorflow.org/api_docs/python/tf/keras/optimizers/Adam) | Same as binary classification |\n",
        "\n",
        "***Table 1:*** *Typical architecture of a classification network.* ***Source:*** *Adapted from page 295 of [Hands-On Machine Learning with Scikit-Learn, Keras & TensorFlow Book by Aurélien Géron](https://www.oreilly.com/library/view/hands-on-machine-learning/9781492032632/)*\n",
        "\n",
        "Don't worry if not much of the above makes sense right now, we'll get plenty of experience as we go through this notebook.\n",
        "\n",
        "Let's start by importing TensorFlow as the common alias `tf`. For this notebook, make sure you're using version 2.x+."
      ],
      "metadata": {
        "id": "Gu-CWvrGpRhQ"
      }
    },
    {
      "cell_type": "code",
      "source": [
        " from sklearn.datasets import make_circles\n",
        "\n",
        " # Make 1000 examples\n",
        " n_samples = 1000\n",
        "\n",
        " # Create circles\n",
        " X, y = make_circles(n_samples,\n",
        "                     noise=0.03,\n",
        "                     random_state=42)"
      ],
      "metadata": {
        "id": "2oTCs7DLpT2I"
      },
      "execution_count": 2,
      "outputs": []
    },
    {
      "cell_type": "code",
      "source": [
        "# Checkout features\n",
        "X[:10]"
      ],
      "metadata": {
        "colab": {
          "base_uri": "https://localhost:8080/"
        },
        "id": "m0Y6zxKWu4K6",
        "outputId": "1f7c20e3-1f0c-4f3e-bde6-b199e0973667"
      },
      "execution_count": 3,
      "outputs": [
        {
          "output_type": "execute_result",
          "data": {
            "text/plain": [
              "array([[ 0.75424625,  0.23148074],\n",
              "       [-0.75615888,  0.15325888],\n",
              "       [-0.81539193,  0.17328203],\n",
              "       [-0.39373073,  0.69288277],\n",
              "       [ 0.44220765, -0.89672343],\n",
              "       [-0.47964637,  0.67643477],\n",
              "       [-0.01364836,  0.80334872],\n",
              "       [ 0.77151327,  0.14775959],\n",
              "       [-0.16932234, -0.79345575],\n",
              "       [-0.1214858 ,  1.02150905]])"
            ]
          },
          "metadata": {},
          "execution_count": 3
        }
      ]
    },
    {
      "cell_type": "code",
      "source": [
        "# Check the labels\n",
        "y[:10]"
      ],
      "metadata": {
        "colab": {
          "base_uri": "https://localhost:8080/"
        },
        "id": "jDJhpPyLvdjP",
        "outputId": "e2031797-02f7-4970-bcc8-4596f94ba0b7"
      },
      "execution_count": 4,
      "outputs": [
        {
          "output_type": "execute_result",
          "data": {
            "text/plain": [
              "array([1, 1, 1, 1, 0, 1, 1, 1, 1, 0])"
            ]
          },
          "metadata": {},
          "execution_count": 4
        }
      ]
    },
    {
      "cell_type": "markdown",
      "source": [
        "Okay, we've seen some of our data and labels, how about we move towards visualizing?\n",
        "\n",
        "> 🔑 **Note:** One important step of starting any kind of machine learning project is to [become one with the data](https://karpathy.github.io/2019/04/25/recipe/). And one of the best ways to do this is to visualize the data you're working with as much as possible. The data explorer's motto is \"visualize, visualize, visualize\".\n",
        "\n",
        "We'll start with a DataFrame."
      ],
      "metadata": {
        "id": "bAbaHq0pvfhO"
      }
    },
    {
      "cell_type": "code",
      "source": [
        "import pandas as pd\n",
        "circles = pd.DataFrame({\"X0\":X[:, 0], \"X1\":X[:, 1], \"label\": y})\n",
        "circles.head(10)"
      ],
      "metadata": {
        "colab": {
          "base_uri": "https://localhost:8080/",
          "height": 363
        },
        "id": "Xmmku-sIv6g-",
        "outputId": "cc345e4a-ddf6-4f0b-a212-e02d6fb6c6d8"
      },
      "execution_count": 5,
      "outputs": [
        {
          "output_type": "execute_result",
          "data": {
            "text/plain": [
              "         X0        X1  label\n",
              "0  0.754246  0.231481      1\n",
              "1 -0.756159  0.153259      1\n",
              "2 -0.815392  0.173282      1\n",
              "3 -0.393731  0.692883      1\n",
              "4  0.442208 -0.896723      0\n",
              "5 -0.479646  0.676435      1\n",
              "6 -0.013648  0.803349      1\n",
              "7  0.771513  0.147760      1\n",
              "8 -0.169322 -0.793456      1\n",
              "9 -0.121486  1.021509      0"
            ],
            "text/html": [
              "\n",
              "  <div id=\"df-0571f421-a8d8-4f94-9bf9-7038760d4f06\">\n",
              "    <div class=\"colab-df-container\">\n",
              "      <div>\n",
              "<style scoped>\n",
              "    .dataframe tbody tr th:only-of-type {\n",
              "        vertical-align: middle;\n",
              "    }\n",
              "\n",
              "    .dataframe tbody tr th {\n",
              "        vertical-align: top;\n",
              "    }\n",
              "\n",
              "    .dataframe thead th {\n",
              "        text-align: right;\n",
              "    }\n",
              "</style>\n",
              "<table border=\"1\" class=\"dataframe\">\n",
              "  <thead>\n",
              "    <tr style=\"text-align: right;\">\n",
              "      <th></th>\n",
              "      <th>X0</th>\n",
              "      <th>X1</th>\n",
              "      <th>label</th>\n",
              "    </tr>\n",
              "  </thead>\n",
              "  <tbody>\n",
              "    <tr>\n",
              "      <th>0</th>\n",
              "      <td>0.754246</td>\n",
              "      <td>0.231481</td>\n",
              "      <td>1</td>\n",
              "    </tr>\n",
              "    <tr>\n",
              "      <th>1</th>\n",
              "      <td>-0.756159</td>\n",
              "      <td>0.153259</td>\n",
              "      <td>1</td>\n",
              "    </tr>\n",
              "    <tr>\n",
              "      <th>2</th>\n",
              "      <td>-0.815392</td>\n",
              "      <td>0.173282</td>\n",
              "      <td>1</td>\n",
              "    </tr>\n",
              "    <tr>\n",
              "      <th>3</th>\n",
              "      <td>-0.393731</td>\n",
              "      <td>0.692883</td>\n",
              "      <td>1</td>\n",
              "    </tr>\n",
              "    <tr>\n",
              "      <th>4</th>\n",
              "      <td>0.442208</td>\n",
              "      <td>-0.896723</td>\n",
              "      <td>0</td>\n",
              "    </tr>\n",
              "    <tr>\n",
              "      <th>5</th>\n",
              "      <td>-0.479646</td>\n",
              "      <td>0.676435</td>\n",
              "      <td>1</td>\n",
              "    </tr>\n",
              "    <tr>\n",
              "      <th>6</th>\n",
              "      <td>-0.013648</td>\n",
              "      <td>0.803349</td>\n",
              "      <td>1</td>\n",
              "    </tr>\n",
              "    <tr>\n",
              "      <th>7</th>\n",
              "      <td>0.771513</td>\n",
              "      <td>0.147760</td>\n",
              "      <td>1</td>\n",
              "    </tr>\n",
              "    <tr>\n",
              "      <th>8</th>\n",
              "      <td>-0.169322</td>\n",
              "      <td>-0.793456</td>\n",
              "      <td>1</td>\n",
              "    </tr>\n",
              "    <tr>\n",
              "      <th>9</th>\n",
              "      <td>-0.121486</td>\n",
              "      <td>1.021509</td>\n",
              "      <td>0</td>\n",
              "    </tr>\n",
              "  </tbody>\n",
              "</table>\n",
              "</div>\n",
              "      <button class=\"colab-df-convert\" onclick=\"convertToInteractive('df-0571f421-a8d8-4f94-9bf9-7038760d4f06')\"\n",
              "              title=\"Convert this dataframe to an interactive table.\"\n",
              "              style=\"display:none;\">\n",
              "        \n",
              "  <svg xmlns=\"http://www.w3.org/2000/svg\" height=\"24px\"viewBox=\"0 0 24 24\"\n",
              "       width=\"24px\">\n",
              "    <path d=\"M0 0h24v24H0V0z\" fill=\"none\"/>\n",
              "    <path d=\"M18.56 5.44l.94 2.06.94-2.06 2.06-.94-2.06-.94-.94-2.06-.94 2.06-2.06.94zm-11 1L8.5 8.5l.94-2.06 2.06-.94-2.06-.94L8.5 2.5l-.94 2.06-2.06.94zm10 10l.94 2.06.94-2.06 2.06-.94-2.06-.94-.94-2.06-.94 2.06-2.06.94z\"/><path d=\"M17.41 7.96l-1.37-1.37c-.4-.4-.92-.59-1.43-.59-.52 0-1.04.2-1.43.59L10.3 9.45l-7.72 7.72c-.78.78-.78 2.05 0 2.83L4 21.41c.39.39.9.59 1.41.59.51 0 1.02-.2 1.41-.59l7.78-7.78 2.81-2.81c.8-.78.8-2.07 0-2.86zM5.41 20L4 18.59l7.72-7.72 1.47 1.35L5.41 20z\"/>\n",
              "  </svg>\n",
              "      </button>\n",
              "      \n",
              "  <style>\n",
              "    .colab-df-container {\n",
              "      display:flex;\n",
              "      flex-wrap:wrap;\n",
              "      gap: 12px;\n",
              "    }\n",
              "\n",
              "    .colab-df-convert {\n",
              "      background-color: #E8F0FE;\n",
              "      border: none;\n",
              "      border-radius: 50%;\n",
              "      cursor: pointer;\n",
              "      display: none;\n",
              "      fill: #1967D2;\n",
              "      height: 32px;\n",
              "      padding: 0 0 0 0;\n",
              "      width: 32px;\n",
              "    }\n",
              "\n",
              "    .colab-df-convert:hover {\n",
              "      background-color: #E2EBFA;\n",
              "      box-shadow: 0px 1px 2px rgba(60, 64, 67, 0.3), 0px 1px 3px 1px rgba(60, 64, 67, 0.15);\n",
              "      fill: #174EA6;\n",
              "    }\n",
              "\n",
              "    [theme=dark] .colab-df-convert {\n",
              "      background-color: #3B4455;\n",
              "      fill: #D2E3FC;\n",
              "    }\n",
              "\n",
              "    [theme=dark] .colab-df-convert:hover {\n",
              "      background-color: #434B5C;\n",
              "      box-shadow: 0px 1px 3px 1px rgba(0, 0, 0, 0.15);\n",
              "      filter: drop-shadow(0px 1px 2px rgba(0, 0, 0, 0.3));\n",
              "      fill: #FFFFFF;\n",
              "    }\n",
              "  </style>\n",
              "\n",
              "      <script>\n",
              "        const buttonEl =\n",
              "          document.querySelector('#df-0571f421-a8d8-4f94-9bf9-7038760d4f06 button.colab-df-convert');\n",
              "        buttonEl.style.display =\n",
              "          google.colab.kernel.accessAllowed ? 'block' : 'none';\n",
              "\n",
              "        async function convertToInteractive(key) {\n",
              "          const element = document.querySelector('#df-0571f421-a8d8-4f94-9bf9-7038760d4f06');\n",
              "          const dataTable =\n",
              "            await google.colab.kernel.invokeFunction('convertToInteractive',\n",
              "                                                     [key], {});\n",
              "          if (!dataTable) return;\n",
              "\n",
              "          const docLinkHtml = 'Like what you see? Visit the ' +\n",
              "            '<a target=\"_blank\" href=https://colab.research.google.com/notebooks/data_table.ipynb>data table notebook</a>'\n",
              "            + ' to learn more about interactive tables.';\n",
              "          element.innerHTML = '';\n",
              "          dataTable['output_type'] = 'display_data';\n",
              "          await google.colab.output.renderOutput(dataTable, element);\n",
              "          const docLink = document.createElement('div');\n",
              "          docLink.innerHTML = docLinkHtml;\n",
              "          element.appendChild(docLink);\n",
              "        }\n",
              "      </script>\n",
              "    </div>\n",
              "  </div>\n",
              "  "
            ]
          },
          "metadata": {},
          "execution_count": 5
        }
      ]
    },
    {
      "cell_type": "code",
      "source": [
        "# Visalize with the plot\n",
        "import matplotlib.pyplot as plt\n",
        "plt.scatter(X[:, 0], X[:, 1], c=y, cmap=plt.cm.RdYlBu);"
      ],
      "metadata": {
        "colab": {
          "base_uri": "https://localhost:8080/",
          "height": 430
        },
        "id": "Vw_aF6A-wWPx",
        "outputId": "040b3d72-5ba9-474a-893e-b2975e62e6cc"
      },
      "execution_count": 6,
      "outputs": [
        {
          "output_type": "display_data",
          "data": {
            "text/plain": [
              "<Figure size 640x480 with 1 Axes>"
            ],
            "image/png": "[encoded data removed]"
          },
          "metadata": {}
        }
      ]
    },
    {
      "cell_type": "markdown",
      "source": [
        "Nice! From the plot, can you guess what kind of model we might want to build?\n",
        "\n",
        "How about we try and build one to classify blue or red dots? As in, a model which is able to distinguish blue from red dots.\n",
        "\n",
        "> 🛠 **Practice:** Before pushing forward, you might want to spend 10 minutes playing around with the [TensorFlow Playground](https://playground.tensorflow.org/#activation=relu&batchSize=10&dataset=circle&regDataset=reg-plane&learningRate=0.03&regularizationRate=0&noise=0&networkShape=2,2&seed=0.93799&showTestData=false&discretize=false&percTrainData=50&x=true&y=true&xTimesY=false&xSquared=false&ySquared=false&cosX=false&sinX=false&cosY=false&sinY=false&collectStats=false&problem=classification&initZero=false&hideText=false&regularization_hide=true&regularizationRate_hide=true&batchSize_hide=true). Try adjusting the different hyperparameters you see and click play to see a neural network train. I think you'll find the data very similar to what we've just created."
      ],
      "metadata": {
        "id": "aabGe4wsw3nm"
      }
    },
    {
      "cell_type": "markdown",
      "source": [
        "## Input and output shapes\n",
        "\n",
        "One of the most common issues you'll run into when building neural networks is shape mismatches.\n",
        "\n",
        "More specifically, the shape of the input data and the shape of the output data.\n",
        "\n",
        "In our case, we want to input `X` and get our model to predict `y`.\n",
        "\n",
        "So let's check out the shapes of `X` and `y`."
      ],
      "metadata": {
        "id": "LflckarCxh0X"
      }
    },
    {
      "cell_type": "code",
      "source": [
        "# Check the shapes of our features and labels\n",
        "X.shape, y.shape"
      ],
      "metadata": {
        "colab": {
          "base_uri": "https://localhost:8080/"
        },
        "id": "huOktaPbzLgD",
        "outputId": "98fd3eb2-3c92-4cd0-fd64-e97ce0d383fa"
      },
      "execution_count": 7,
      "outputs": [
        {
          "output_type": "execute_result",
          "data": {
            "text/plain": [
              "((1000, 2), (1000,))"
            ]
          },
          "metadata": {},
          "execution_count": 7
        }
      ]
    },
    {
      "cell_type": "code",
      "source": [
        "# How many samples we are working with\n",
        "len(X), len(y)"
      ],
      "metadata": {
        "colab": {
          "base_uri": "https://localhost:8080/"
        },
        "id": "_pkfQeFfzOzs",
        "outputId": "108b8370-754f-4d5b-b390-cc6a42d4e357"
      },
      "execution_count": 8,
      "outputs": [
        {
          "output_type": "execute_result",
          "data": {
            "text/plain": [
              "(1000, 1000)"
            ]
          },
          "metadata": {},
          "execution_count": 8
        }
      ]
    },
    {
      "cell_type": "code",
      "source": [
        "# View the first wxample of features and labels\n",
        "X[4], y[4]"
      ],
      "metadata": {
        "colab": {
          "base_uri": "https://localhost:8080/"
        },
        "id": "-nB5f8JGzWh8",
        "outputId": "9b708df0-d678-469d-b885-7365b87278a7"
      },
      "execution_count": 9,
      "outputs": [
        {
          "output_type": "execute_result",
          "data": {
            "text/plain": [
              "(array([ 0.44220765, -0.89672343]), 0)"
            ]
          },
          "metadata": {},
          "execution_count": 9
        }
      ]
    },
    {
      "cell_type": "markdown",
      "source": [
        "Alright, so we've got two `X` features which lead to one `y` value.\n",
        "\n",
        "This means our neural network input shape will has to accept a tensor with at least one dimension being two and output a tensor with at least one value.\n",
        "\n",
        "> 🤔 **Note:** `y` having a shape of (1000,) can seem confusing. However, this is because all `y` values are actually scalars (single values) and therefore don't have a dimension. For now, think of your output shape as being at least the same value as one example of `y` (in our case, the output from our neural network has to be at least one value)."
      ],
      "metadata": {
        "id": "cVlnzhTAzdvc"
      }
    },
    {
      "cell_type": "markdown",
      "source": [
        "## Steps in modelling\n",
        "\n",
        "Now we know what data we have as well as the input and output shapes, let's see how we'd build a neural network to model it.\n",
        "\n",
        "In TensorFlow, there are typically 3 fundamental steps to creating and training a model.\n",
        "\n",
        "1. **Creating a model** - piece together the layers of a neural network yourself (using the [functional](https://www.tensorflow.org/guide/keras/functional) or [sequential API](https://www.tensorflow.org/api_docs/python/tf/keras/Sequential)) or import a previously built model (known as transfer learning).\n",
        "2. **Compiling a model** - defining how a model's performance should be measured (loss/metrics) as well as defining how it should improve (optimizer). \n",
        "3. **Fitting a model** - letting the model try to find patterns in the data (how does `X` get to `y`). \n",
        "4. **Tweak** the model\n",
        "5. **Evaluate the model**\n",
        "\n",
        "Let's see these in action using the Sequential API to build a model for our regression data. And then we'll step through each."
      ],
      "metadata": {
        "id": "HyLU_Z3azuRe"
      }
    },
    {
      "cell_type": "code",
      "source": [
        "# Import TensorFlow\n",
        "import tensorflow as tf\n",
        "tf.__version__"
      ],
      "metadata": {
        "colab": {
          "base_uri": "https://localhost:8080/",
          "height": 36
        },
        "id": "4Yfyto_F09Kd",
        "outputId": "4e62de0a-21e0-4981-d232-22ef25ee6d51"
      },
      "execution_count": 10,
      "outputs": [
        {
          "output_type": "execute_result",
          "data": {
            "text/plain": [
              "'2.12.0'"
            ],
            "application/vnd.google.colaboratory.intrinsic+json": {
              "type": "string"
            }
          },
          "metadata": {},
          "execution_count": 10
        }
      ]
    },
    {
      "cell_type": "code",
      "source": [
        "# Set the random seed\n",
        "tf.random.set_seed(42)\n",
        "\n",
        "# 1. Create the model using the Sequential API\n",
        "model_1 = tf.keras.Sequential([\n",
        "    tf.keras.layers.Dense(1)\n",
        "])\n",
        "\n",
        "# 2. Compile the model\n",
        "model_1.compile(loss=tf.keras.losses.BinaryCrossentropy(),\n",
        "                optimizer=tf.keras.optimizers.SGD(),\n",
        "                metrics=[\"accuracy\"]) # see evaluatio metrics: https://www.ritchieng.com/machine-learning-evaluate-classification-model/\n",
        "\n",
        "# 3. Fit the model\n",
        "model_1.fit(X, y, epochs=5)"
      ],
      "metadata": {
        "colab": {
          "base_uri": "https://localhost:8080/"
        },
        "id": "fbu7X6WSzwZc",
        "outputId": "8a464231-338e-4bb4-8156-da975629f530"
      },
      "execution_count": 11,
      "outputs": [
        {
          "output_type": "stream",
          "name": "stdout",
          "text": [
            "Epoch 1/5\n",
            "32/32 [==============================] - 4s 3ms/step - loss: 6.4518 - accuracy: 0.4920\n",
            "Epoch 2/5\n",
            "32/32 [==============================] - 0s 3ms/step - loss: 6.4438 - accuracy: 0.4900\n",
            "Epoch 3/5\n",
            "32/32 [==============================] - 0s 3ms/step - loss: 6.4152 - accuracy: 0.4890\n",
            "Epoch 4/5\n",
            "32/32 [==============================] - 0s 3ms/step - loss: 6.3321 - accuracy: 0.4930\n",
            "Epoch 5/5\n",
            "32/32 [==============================] - 0s 3ms/step - loss: 5.9316 - accuracy: 0.5040\n"
          ]
        },
        {
          "output_type": "execute_result",
          "data": {
            "text/plain": [
              "<keras.callbacks.History at 0x7f8de0126e60>"
            ]
          },
          "metadata": {},
          "execution_count": 11
        }
      ]
    },
    {
      "cell_type": "code",
      "source": [
        "# Let's try and improve our model by training for longer...\n",
        "model_1.fit(X, y, epochs=200, verbose=0)\n",
        "model_1.evaluate(X, y)"
      ],
      "metadata": {
        "colab": {
          "base_uri": "https://localhost:8080/"
        },
        "id": "oqYOUFvr0r_A",
        "outputId": "f1685f7f-86e5-4dd2-cc8f-6babab9445ed"
      },
      "execution_count": 12,
      "outputs": [
        {
          "output_type": "stream",
          "name": "stdout",
          "text": [
            "32/32 [==============================] - 1s 4ms/step - loss: 0.6935 - accuracy: 0.5000\n"
          ]
        },
        {
          "output_type": "execute_result",
          "data": {
            "text/plain": [
              "[0.6934829950332642, 0.5]"
            ]
          },
          "metadata": {},
          "execution_count": 12
        }
      ]
    },
    {
      "cell_type": "markdown",
      "source": [
        "Even after 200 passes of the data, it's still performing as if it's guessing.\n",
        "\n",
        "What if we added an extra layer and trained for a little longer?"
      ],
      "metadata": {
        "id": "bsNGD_Ph2-jk"
      }
    },
    {
      "cell_type": "code",
      "source": [
        "# Set the random seed\n",
        "tf.random.set_seed(42)\n",
        "\n",
        "# 1. Create a model, this time with 2 layers\n",
        "model_2 = tf.keras.Sequential([\n",
        "    tf.keras.layers.Dense(1),\n",
        "    tf.keras.layers.Dense(1)\n",
        "])\n",
        "\n",
        "# 2. Compile the model\n",
        "model_2.compile(loss=tf.keras.losses.BinaryCrossentropy(),\n",
        "                optimizer=tf.keras.optimizers.SGD(),\n",
        "                metrics=[\"accuracy\"])\n",
        "\n",
        "# 3. Fit the model\n",
        "model_2.fit(X, y, epochs=100, verbose=0)"
      ],
      "metadata": {
        "colab": {
          "base_uri": "https://localhost:8080/"
        },
        "id": "6KJAdj5M3IYc",
        "outputId": "6ed34af5-3dec-4b70-a2c6-5f19db13360d"
      },
      "execution_count": 22,
      "outputs": [
        {
          "output_type": "execute_result",
          "data": {
            "text/plain": [
              "<keras.callbacks.History at 0x7f8d40adf4f0>"
            ]
          },
          "metadata": {},
          "execution_count": 22
        }
      ]
    },
    {
      "cell_type": "code",
      "source": [
        "model_2.evaluate(X, y)"
      ],
      "metadata": {
        "colab": {
          "base_uri": "https://localhost:8080/"
        },
        "id": "UKuo1L72383F",
        "outputId": "eb9aac0c-3bbc-4c45-fcbc-83f17cc62c40"
      },
      "execution_count": 23,
      "outputs": [
        {
          "output_type": "stream",
          "name": "stdout",
          "text": [
            "32/32 [==============================] - 0s 2ms/step - loss: 7.7125 - accuracy: 0.5000\n"
          ]
        },
        {
          "output_type": "execute_result",
          "data": {
            "text/plain": [
              "[7.712474346160889, 0.5]"
            ]
          },
          "metadata": {},
          "execution_count": 23
        }
      ]
    },
    {
      "cell_type": "code",
      "source": [
        "circles[\"label\"].value_counts()"
      ],
      "metadata": {
        "colab": {
          "base_uri": "https://localhost:8080/"
        },
        "id": "xXdsiHwX4CDz",
        "outputId": "8ef6d599-3e34-4d90-8690-4ac2df729f29"
      },
      "execution_count": 17,
      "outputs": [
        {
          "output_type": "execute_result",
          "data": {
            "text/plain": [
              "1    500\n",
              "0    500\n",
              "Name: label, dtype: int64"
            ]
          },
          "metadata": {},
          "execution_count": 17
        }
      ]
    },
    {
      "cell_type": "markdown",
      "source": [
        "## Improving a model\n",
        "\n",
        "To improve our model, we can alter almost every part of the 3 steps we went through before.\n",
        "\n",
        "1. **Creating a model** - here you might want to add more layers, increase the number of hidden units (also called neurons) within each layer, change the activation functions of each layer.\n",
        "2. **Compiling a model** - you might want to choose a different optimization function (such as the [Adam](https://www.tensorflow.org/api_docs/python/tf/keras/optimizers/Adam) optimizer, which is usually pretty good for many problems) or perhaps change the learning rate of the optimization function.\n",
        "3. **Fitting a model** - perhaps you could fit a model for more epochs (leave it training for longer).\n",
        "\n",
        "![various options you can use to improve a neural network model](https://raw.githubusercontent.com/mrdbourke/tensorflow-deep-learning/main/images/02-improving-a-model-from-model-perspective.png)\n",
        "*There are many different ways to potentially improve a neural network. Some of the most common include: increasing the number of layers (making the network deeper), increasing the number of hidden units (making the network wider) and changing the learning rate. Because these values are all human-changeable, they're referred to as [hyperparameters](https://en.wikipedia.org/wiki/Hyperparameter_(machine_learning)) and the practice of trying to find the best hyperparameters is referred to as [hyperparameter tuning](https://en.wikipedia.org/wiki/Hyperparameter_optimization).*\n",
        "\n",
        "How about we try adding more neurons, an extra layer and our friend the Adam optimizer?\n",
        "\n",
        "Surely doing this will result in predictions better than guessing...\n",
        "\n",
        "> **Note:** The following message (below this one) can be ignored if you're running TensorFlow 2.8.0+, the error seems to have been fixed.\n",
        "\n",
        "> **Note:** If you're using TensorFlow 2.7.0+ (but not 2.8.0+) the original code from the following cells may have caused some errors. They've since been updated to fix those errors. You can see explanations on what happened at the following resources:\n",
        "* [Example Colab Notebook](https://colab.research.google.com/drive/1_dlrB_DJOBS9c9foYJs49I0YwN7LTakl?usp=sharing)\n",
        "* [TensorFlow for Deep Learning GitHub Discussion on TensorFlow 2.7.0 breaking changes](https://github.com/mrdbourke/tensorflow-deep-learning/discussions/278)\n"
      ],
      "metadata": {
        "id": "90beR1Vv4M8L"
      }
    },
    {
      "cell_type": "code",
      "source": [
        "# Set the random seed\n",
        "tf.random.set_seed(42)\n",
        "\n",
        "# 1. Create a model\n",
        "model_3 = tf.keras.Sequential([\n",
        "  tf.keras.layers.Dense(100), # add 100 dense neurons\n",
        "  tf.keras.layers.Dense(10), # add another layer with 10 neurons\n",
        "  tf.keras.layers.Dense(1)\n",
        "])\n",
        "\n",
        "# 2. Compile the model\n",
        "model_3.compile(loss=tf.keras.losses.BinaryCrossentropy(),\n",
        "                optimizer=tf.keras.optimizers.Adam(),\n",
        "                metrics=[\"accuracy\"])\n",
        "\n",
        "# 3. Fit the model\n",
        "model_3.fit(X, y, epochs=100, verbose=0)"
      ],
      "metadata": {
        "colab": {
          "base_uri": "https://localhost:8080/"
        },
        "id": "kwQ1xKc_4xsW",
        "outputId": "8d147350-adfa-47d0-acae-6857563f604c"
      },
      "execution_count": 44,
      "outputs": [
        {
          "output_type": "execute_result",
          "data": {
            "text/plain": [
              "<keras.callbacks.History at 0x7f8d40dcff40>"
            ]
          },
          "metadata": {},
          "execution_count": 44
        }
      ]
    },
    {
      "cell_type": "code",
      "source": [
        "model_3.evaluate(X, y)"
      ],
      "metadata": {
        "colab": {
          "base_uri": "https://localhost:8080/"
        },
        "id": "HNWQiJkz6cus",
        "outputId": "7e8a1161-7ae9-44d6-da66-4201be3d29fa"
      },
      "execution_count": 45,
      "outputs": [
        {
          "output_type": "stream",
          "name": "stdout",
          "text": [
            "32/32 [==============================] - 0s 2ms/step - loss: 0.6974 - accuracy: 0.5040\n"
          ]
        },
        {
          "output_type": "execute_result",
          "data": {
            "text/plain": [
              "[0.6974182724952698, 0.5040000081062317]"
            ]
          },
          "metadata": {},
          "execution_count": 45
        }
      ]
    },
    {
      "cell_type": "code",
      "source": [
        "model_3.predict(X)"
      ],
      "metadata": {
        "colab": {
          "base_uri": "https://localhost:8080/"
        },
        "id": "SUI34Mse6mhK",
        "outputId": "e5c31f04-c66a-4a10-ef04-078393d42290"
      },
      "execution_count": 46,
      "outputs": [
        {
          "output_type": "stream",
          "name": "stdout",
          "text": [
            "32/32 [==============================] - 0s 4ms/step\n"
          ]
        },
        {
          "output_type": "execute_result",
          "data": {
            "text/plain": [
              "array([[0.4911332 ],\n",
              "       [0.5496354 ],\n",
              "       [0.5532434 ],\n",
              "       [0.5652299 ],\n",
              "       [0.43995327],\n",
              "       [0.567875  ],\n",
              "       [0.55567306],\n",
              "       [0.4856506 ],\n",
              "       [0.47131643],\n",
              "       [0.5725791 ],\n",
              "       [0.50522393],\n",
              "       [0.53372574],\n",
              "       [0.56160724],\n",
              "       [0.45984924],\n",
              "       [0.4509407 ],\n",
              "       [0.4580401 ],\n",
              "       [0.52891314],\n",
              "       [0.4598176 ],\n",
              "       [0.53775024],\n",
              "       [0.4937567 ],\n",
              "       [0.5088786 ],\n",
              "       [0.5814079 ],\n",
              "       [0.4536067 ],\n",
              "       [0.4944042 ],\n",
              "       [0.5733019 ],\n",
              "       [0.55979997],\n",
              "       [0.55319345],\n",
              "       [0.46623766],\n",
              "       [0.45497543],\n",
              "       [0.45551836],\n",
              "       [0.47108817],\n",
              "       [0.5752291 ],\n",
              "       [0.5536288 ],\n",
              "       [0.46822226],\n",
              "       [0.452384  ],\n",
              "       [0.58136547],\n",
              "       [0.56554705],\n",
              "       [0.5313552 ],\n",
              "       [0.45607668],\n",
              "       [0.51482403],\n",
              "       [0.49025398],\n",
              "       [0.5476418 ],\n",
              "       [0.5005274 ],\n",
              "       [0.46093354],\n",
              "       [0.5110731 ],\n",
              "       [0.5274347 ],\n",
              "       [0.44796115],\n",
              "       [0.54431456],\n",
              "       [0.43693024],\n",
              "       [0.48573607],\n",
              "       [0.5243679 ],\n",
              "       [0.4600259 ],\n",
              "       [0.54156846],\n",
              "       [0.52413553],\n",
              "       [0.4878189 ],\n",
              "       [0.49230963],\n",
              "       [0.5516067 ],\n",
              "       [0.47628224],\n",
              "       [0.57074845],\n",
              "       [0.4959936 ],\n",
              "       [0.5081194 ],\n",
              "       [0.50639   ],\n",
              "       [0.5039971 ],\n",
              "       [0.5755209 ],\n",
              "       [0.54384345],\n",
              "       [0.56567293],\n",
              "       [0.5617267 ],\n",
              "       [0.4682743 ],\n",
              "       [0.52474326],\n",
              "       [0.5043841 ],\n",
              "       [0.55513316],\n",
              "       [0.46253833],\n",
              "       [0.53396165],\n",
              "       [0.54771423],\n",
              "       [0.5141331 ],\n",
              "       [0.51953214],\n",
              "       [0.55963874],\n",
              "       [0.49862826],\n",
              "       [0.54086006],\n",
              "       [0.5036416 ],\n",
              "       [0.5611227 ],\n",
              "       [0.519854  ],\n",
              "       [0.5261966 ],\n",
              "       [0.5253418 ],\n",
              "       [0.4925875 ],\n",
              "       [0.51047635],\n",
              "       [0.4733762 ],\n",
              "       [0.5593491 ],\n",
              "       [0.54278755],\n",
              "       [0.48917085],\n",
              "       [0.44778395],\n",
              "       [0.4440028 ],\n",
              "       [0.49040028],\n",
              "       [0.57214665],\n",
              "       [0.5203708 ],\n",
              "       [0.43498555],\n",
              "       [0.535037  ],\n",
              "       [0.5443494 ],\n",
              "       [0.5211378 ],\n",
              "       [0.4883185 ],\n",
              "       [0.5548953 ],\n",
              "       [0.46433458],\n",
              "       [0.4536743 ],\n",
              "       [0.54332304],\n",
              "       [0.5576161 ],\n",
              "       [0.56530553],\n",
              "       [0.51286644],\n",
              "       [0.4571634 ],\n",
              "       [0.5770776 ],\n",
              "       [0.45455232],\n",
              "       [0.4940698 ],\n",
              "       [0.49648   ],\n",
              "       [0.47227615],\n",
              "       [0.4996149 ],\n",
              "       [0.53884983],\n",
              "       [0.43915838],\n",
              "       [0.5797106 ],\n",
              "       [0.46654773],\n",
              "       [0.49972388],\n",
              "       [0.51419586],\n",
              "       [0.45692995],\n",
              "       [0.4373265 ],\n",
              "       [0.5617063 ],\n",
              "       [0.5462324 ],\n",
              "       [0.5632618 ],\n",
              "       [0.5161026 ],\n",
              "       [0.5281185 ],\n",
              "       [0.44361636],\n",
              "       [0.46686107],\n",
              "       [0.5123101 ],\n",
              "       [0.54099286],\n",
              "       [0.4743    ],\n",
              "       [0.5360775 ],\n",
              "       [0.47265047],\n",
              "       [0.49356955],\n",
              "       [0.5159958 ],\n",
              "       [0.56256473],\n",
              "       [0.57080036],\n",
              "       [0.48769864],\n",
              "       [0.53088534],\n",
              "       [0.5026077 ],\n",
              "       [0.5491729 ],\n",
              "       [0.5580829 ],\n",
              "       [0.52843964],\n",
              "       [0.4571932 ],\n",
              "       [0.45179182],\n",
              "       [0.50288355],\n",
              "       [0.55371034],\n",
              "       [0.49500954],\n",
              "       [0.4902014 ],\n",
              "       [0.560913  ],\n",
              "       [0.57691574],\n",
              "       [0.46579933],\n",
              "       [0.44040024],\n",
              "       [0.4552423 ],\n",
              "       [0.4474795 ],\n",
              "       [0.50175875],\n",
              "       [0.5610105 ],\n",
              "       [0.51899993],\n",
              "       [0.4577354 ],\n",
              "       [0.54231006],\n",
              "       [0.5314146 ],\n",
              "       [0.5591766 ],\n",
              "       [0.565829  ],\n",
              "       [0.4686461 ],\n",
              "       [0.5651354 ],\n",
              "       [0.51216453],\n",
              "       [0.56582344],\n",
              "       [0.49868473],\n",
              "       [0.50246984],\n",
              "       [0.45972177],\n",
              "       [0.45603126],\n",
              "       [0.55763483],\n",
              "       [0.47039175],\n",
              "       [0.45484254],\n",
              "       [0.45953807],\n",
              "       [0.54492176],\n",
              "       [0.5428876 ],\n",
              "       [0.5071871 ],\n",
              "       [0.56521696],\n",
              "       [0.4595821 ],\n",
              "       [0.5661724 ],\n",
              "       [0.45102146],\n",
              "       [0.49318   ],\n",
              "       [0.4832676 ],\n",
              "       [0.57272613],\n",
              "       [0.46330455],\n",
              "       [0.45487106],\n",
              "       [0.4551436 ],\n",
              "       [0.544746  ],\n",
              "       [0.45649147],\n",
              "       [0.49037415],\n",
              "       [0.5650008 ],\n",
              "       [0.57514524],\n",
              "       [0.5733882 ],\n",
              "       [0.44490582],\n",
              "       [0.48058015],\n",
              "       [0.57380664],\n",
              "       [0.54890376],\n",
              "       [0.53167045],\n",
              "       [0.49005365],\n",
              "       [0.49787915],\n",
              "       [0.56445134],\n",
              "       [0.5145962 ],\n",
              "       [0.4866715 ],\n",
              "       [0.5393175 ],\n",
              "       [0.5805378 ],\n",
              "       [0.4514566 ],\n",
              "       [0.46538988],\n",
              "       [0.49375623],\n",
              "       [0.5252949 ],\n",
              "       [0.57596266],\n",
              "       [0.4532833 ],\n",
              "       [0.4898749 ],\n",
              "       [0.5600544 ],\n",
              "       [0.47972816],\n",
              "       [0.56560314],\n",
              "       [0.55084664],\n",
              "       [0.4541086 ],\n",
              "       [0.5580859 ],\n",
              "       [0.5076349 ],\n",
              "       [0.5523213 ],\n",
              "       [0.4638141 ],\n",
              "       [0.5072098 ],\n",
              "       [0.45470715],\n",
              "       [0.4689914 ],\n",
              "       [0.50478524],\n",
              "       [0.46646512],\n",
              "       [0.4533371 ],\n",
              "       [0.499977  ],\n",
              "       [0.47518307],\n",
              "       [0.4742018 ],\n",
              "       [0.45794445],\n",
              "       [0.5298458 ],\n",
              "       [0.49498698],\n",
              "       [0.49283665],\n",
              "       [0.56450576],\n",
              "       [0.45531696],\n",
              "       [0.5808336 ],\n",
              "       [0.48361397],\n",
              "       [0.47088414],\n",
              "       [0.5738398 ],\n",
              "       [0.4848613 ],\n",
              "       [0.5111247 ],\n",
              "       [0.50973535],\n",
              "       [0.5599934 ],\n",
              "       [0.44006136],\n",
              "       [0.5319143 ],\n",
              "       [0.5355639 ],\n",
              "       [0.5216231 ],\n",
              "       [0.5350727 ],\n",
              "       [0.47023112],\n",
              "       [0.5193731 ],\n",
              "       [0.45930153],\n",
              "       [0.44618422],\n",
              "       [0.49155635],\n",
              "       [0.48715046],\n",
              "       [0.45023042],\n",
              "       [0.45043537],\n",
              "       [0.47285616],\n",
              "       [0.55561507],\n",
              "       [0.4498943 ],\n",
              "       [0.5452549 ],\n",
              "       [0.54081476],\n",
              "       [0.4643324 ],\n",
              "       [0.46532068],\n",
              "       [0.5128044 ],\n",
              "       [0.4510311 ],\n",
              "       [0.5567643 ],\n",
              "       [0.44829664],\n",
              "       [0.45931667],\n",
              "       [0.5634133 ],\n",
              "       [0.45656285],\n",
              "       [0.5516775 ],\n",
              "       [0.4924325 ],\n",
              "       [0.482049  ],\n",
              "       [0.579334  ],\n",
              "       [0.54635733],\n",
              "       [0.5344696 ],\n",
              "       [0.51995814],\n",
              "       [0.53224885],\n",
              "       [0.5152077 ],\n",
              "       [0.5578419 ],\n",
              "       [0.51919264],\n",
              "       [0.5734722 ],\n",
              "       [0.560742  ],\n",
              "       [0.46612462],\n",
              "       [0.4434469 ],\n",
              "       [0.56387824],\n",
              "       [0.45769647],\n",
              "       [0.45477653],\n",
              "       [0.51297086],\n",
              "       [0.47629523],\n",
              "       [0.4472279 ],\n",
              "       [0.45798567],\n",
              "       [0.44687355],\n",
              "       [0.45218998],\n",
              "       [0.44267172],\n",
              "       [0.47430366],\n",
              "       [0.57823116],\n",
              "       [0.50140405],\n",
              "       [0.44132808],\n",
              "       [0.4576702 ],\n",
              "       [0.44078416],\n",
              "       [0.5255488 ],\n",
              "       [0.454291  ],\n",
              "       [0.47550988],\n",
              "       [0.5256224 ],\n",
              "       [0.4534476 ],\n",
              "       [0.5221287 ],\n",
              "       [0.54002076],\n",
              "       [0.49357313],\n",
              "       [0.5300295 ],\n",
              "       [0.55913913],\n",
              "       [0.44478944],\n",
              "       [0.44252586],\n",
              "       [0.56307155],\n",
              "       [0.46664372],\n",
              "       [0.5560527 ],\n",
              "       [0.57063377],\n",
              "       [0.53247523],\n",
              "       [0.57393605],\n",
              "       [0.5087394 ],\n",
              "       [0.55578554],\n",
              "       [0.5248421 ],\n",
              "       [0.48061985],\n",
              "       [0.471286  ],\n",
              "       [0.4558482 ],\n",
              "       [0.5618687 ],\n",
              "       [0.56805736],\n",
              "       [0.5604799 ],\n",
              "       [0.49627033],\n",
              "       [0.55475247],\n",
              "       [0.5516396 ],\n",
              "       [0.46581116],\n",
              "       [0.49680597],\n",
              "       [0.56291723],\n",
              "       [0.50942945],\n",
              "       [0.46047455],\n",
              "       [0.4961328 ],\n",
              "       [0.4513982 ],\n",
              "       [0.43991956],\n",
              "       [0.5805279 ],\n",
              "       [0.5650019 ],\n",
              "       [0.44725627],\n",
              "       [0.43919456],\n",
              "       [0.5109912 ],\n",
              "       [0.4561899 ],\n",
              "       [0.54510605],\n",
              "       [0.45270824],\n",
              "       [0.58278185],\n",
              "       [0.5316599 ],\n",
              "       [0.45947787],\n",
              "       [0.5290813 ],\n",
              "       [0.5163539 ],\n",
              "       [0.57158285],\n",
              "       [0.51096195],\n",
              "       [0.43638107],\n",
              "       [0.48331407],\n",
              "       [0.5728011 ],\n",
              "       [0.44014493],\n",
              "       [0.5319625 ],\n",
              "       [0.57238847],\n",
              "       [0.4435178 ],\n",
              "       [0.57957804],\n",
              "       [0.48970208],\n",
              "       [0.5288612 ],\n",
              "       [0.5792906 ],\n",
              "       [0.44481525],\n",
              "       [0.47065157],\n",
              "       [0.5787113 ],\n",
              "       [0.56162333],\n",
              "       [0.5743672 ],\n",
              "       [0.5824347 ],\n",
              "       [0.47243762],\n",
              "       [0.54576623],\n",
              "       [0.45465788],\n",
              "       [0.53277093],\n",
              "       [0.45424944],\n",
              "       [0.50106317],\n",
              "       [0.5555587 ],\n",
              "       [0.5765871 ],\n",
              "       [0.5185519 ],\n",
              "       [0.5603727 ],\n",
              "       [0.56855303],\n",
              "       [0.45415407],\n",
              "       [0.48016888],\n",
              "       [0.5680254 ],\n",
              "       [0.46775126],\n",
              "       [0.5296398 ],\n",
              "       [0.580158  ],\n",
              "       [0.5011673 ],\n",
              "       [0.563178  ],\n",
              "       [0.5547126 ],\n",
              "       [0.5338681 ],\n",
              "       [0.5179102 ],\n",
              "       [0.44444215],\n",
              "       [0.4413682 ],\n",
              "       [0.5404655 ],\n",
              "       [0.4730006 ],\n",
              "       [0.48445094],\n",
              "       [0.44853398],\n",
              "       [0.501145  ],\n",
              "       [0.4963038 ],\n",
              "       [0.54936993],\n",
              "       [0.562227  ],\n",
              "       [0.45417225],\n",
              "       [0.48320407],\n",
              "       [0.51143086],\n",
              "       [0.4772508 ],\n",
              "       [0.48793793],\n",
              "       [0.4503144 ],\n",
              "       [0.52295756],\n",
              "       [0.5371373 ],\n",
              "       [0.49896228],\n",
              "       [0.56222844],\n",
              "       [0.56593055],\n",
              "       [0.48854315],\n",
              "       [0.48820192],\n",
              "       [0.44307387],\n",
              "       [0.4843704 ],\n",
              "       [0.5593888 ],\n",
              "       [0.45553458],\n",
              "       [0.52505624],\n",
              "       [0.43816367],\n",
              "       [0.45810422],\n",
              "       [0.53738   ],\n",
              "       [0.5172801 ],\n",
              "       [0.5622091 ],\n",
              "       [0.53544664],\n",
              "       [0.5235979 ],\n",
              "       [0.45939466],\n",
              "       [0.46663743],\n",
              "       [0.44484872],\n",
              "       [0.53016937],\n",
              "       [0.47682095],\n",
              "       [0.5813574 ],\n",
              "       [0.4553347 ],\n",
              "       [0.46006134],\n",
              "       [0.549224  ],\n",
              "       [0.56716555],\n",
              "       [0.52462465],\n",
              "       [0.46109977],\n",
              "       [0.5668512 ],\n",
              "       [0.5057084 ],\n",
              "       [0.5288401 ],\n",
              "       [0.5562736 ],\n",
              "       [0.5800654 ],\n",
              "       [0.5675044 ],\n",
              "       [0.5654404 ],\n",
              "       [0.53319204],\n",
              "       [0.46470934],\n",
              "       [0.4420258 ],\n",
              "       [0.5796996 ],\n",
              "       [0.551455  ],\n",
              "       [0.56089437],\n",
              "       [0.45886606],\n",
              "       [0.5667684 ],\n",
              "       [0.45410267],\n",
              "       [0.44013947],\n",
              "       [0.52746516],\n",
              "       [0.55705297],\n",
              "       [0.5385054 ],\n",
              "       [0.46012712],\n",
              "       [0.44445494],\n",
              "       [0.5555863 ],\n",
              "       [0.55993104],\n",
              "       [0.43842736],\n",
              "       [0.48920095],\n",
              "       [0.44423354],\n",
              "       [0.4449632 ],\n",
              "       [0.54129356],\n",
              "       [0.45064119],\n",
              "       [0.5406975 ],\n",
              "       [0.4755499 ],\n",
              "       [0.46826583],\n",
              "       [0.4539556 ],\n",
              "       [0.452836  ],\n",
              "       [0.54738575],\n",
              "       [0.5404822 ],\n",
              "       [0.54587185],\n",
              "       [0.54617965],\n",
              "       [0.48079282],\n",
              "       [0.442634  ],\n",
              "       [0.49804425],\n",
              "       [0.49999586],\n",
              "       [0.5027917 ],\n",
              "       [0.48035944],\n",
              "       [0.58042467],\n",
              "       [0.46365255],\n",
              "       [0.45866612],\n",
              "       [0.5427959 ],\n",
              "       [0.53897995],\n",
              "       [0.5526046 ],\n",
              "       [0.44153887],\n",
              "       [0.57826114],\n",
              "       [0.44195712],\n",
              "       [0.441971  ],\n",
              "       [0.46737182],\n",
              "       [0.46023047],\n",
              "       [0.5690383 ],\n",
              "       [0.5801122 ],\n",
              "       [0.44161332],\n",
              "       [0.45241737],\n",
              "       [0.5143445 ],\n",
              "       [0.4579527 ],\n",
              "       [0.56466347],\n",
              "       [0.44808835],\n",
              "       [0.4601791 ],\n",
              "       [0.5428028 ],\n",
              "       [0.5438627 ],\n",
              "       [0.5011558 ],\n",
              "       [0.47946483],\n",
              "       [0.47840667],\n",
              "       [0.487824  ],\n",
              "       [0.5353325 ],\n",
              "       [0.5704894 ],\n",
              "       [0.58563834],\n",
              "       [0.4676596 ],\n",
              "       [0.4853053 ],\n",
              "       [0.4635883 ],\n",
              "       [0.5638756 ],\n",
              "       [0.47369835],\n",
              "       [0.47629866],\n",
              "       [0.44167212],\n",
              "       [0.5085745 ],\n",
              "       [0.48835707],\n",
              "       [0.57969165],\n",
              "       [0.55293906],\n",
              "       [0.5464564 ],\n",
              "       [0.51319075],\n",
              "       [0.5256538 ],\n",
              "       [0.5554387 ],\n",
              "       [0.52377343],\n",
              "       [0.47719565],\n",
              "       [0.44126487],\n",
              "       [0.5784945 ],\n",
              "       [0.5304768 ],\n",
              "       [0.5518351 ],\n",
              "       [0.44264412],\n",
              "       [0.58023936],\n",
              "       [0.53436106],\n",
              "       [0.55778646],\n",
              "       [0.46165496],\n",
              "       [0.56370395],\n",
              "       [0.453798  ],\n",
              "       [0.4819882 ],\n",
              "       [0.4939031 ],\n",
              "       [0.5368973 ],\n",
              "       [0.5650386 ],\n",
              "       [0.5623819 ],\n",
              "       [0.45096573],\n",
              "       [0.56535906],\n",
              "       [0.5135822 ],\n",
              "       [0.47067997],\n",
              "       [0.45394015],\n",
              "       [0.45516777],\n",
              "       [0.5368502 ],\n",
              "       [0.5065865 ],\n",
              "       [0.4699459 ],\n",
              "       [0.57728225],\n",
              "       [0.47362804],\n",
              "       [0.48824942],\n",
              "       [0.5503751 ],\n",
              "       [0.53960997],\n",
              "       [0.4376519 ],\n",
              "       [0.56825584],\n",
              "       [0.5024262 ],\n",
              "       [0.47721088],\n",
              "       [0.45807874],\n",
              "       [0.5761104 ],\n",
              "       [0.56312823],\n",
              "       [0.52068543],\n",
              "       [0.5131428 ],\n",
              "       [0.4682651 ],\n",
              "       [0.45317656],\n",
              "       [0.57202077],\n",
              "       [0.446297  ],\n",
              "       [0.44409344],\n",
              "       [0.5568774 ],\n",
              "       [0.4921395 ],\n",
              "       [0.48499402],\n",
              "       [0.49972108],\n",
              "       [0.51692736],\n",
              "       [0.5068993 ],\n",
              "       [0.44150355],\n",
              "       [0.50146854],\n",
              "       [0.5509757 ],\n",
              "       [0.5002322 ],\n",
              "       [0.57950044],\n",
              "       [0.5531952 ],\n",
              "       [0.49116218],\n",
              "       [0.56733805],\n",
              "       [0.54071057],\n",
              "       [0.4699803 ],\n",
              "       [0.57592666],\n",
              "       [0.51961875],\n",
              "       [0.5448178 ],\n",
              "       [0.5243782 ],\n",
              "       [0.5499516 ],\n",
              "       [0.4779424 ],\n",
              "       [0.5683205 ],\n",
              "       [0.48965633],\n",
              "       [0.5453985 ],\n",
              "       [0.5634317 ],\n",
              "       [0.46049556],\n",
              "       [0.58027935],\n",
              "       [0.5613837 ],\n",
              "       [0.55463   ],\n",
              "       [0.5468259 ],\n",
              "       [0.57735944],\n",
              "       [0.5080779 ],\n",
              "       [0.53286207],\n",
              "       [0.5613891 ],\n",
              "       [0.55859506],\n",
              "       [0.56666183],\n",
              "       [0.46155936],\n",
              "       [0.4861783 ],\n",
              "       [0.46683288],\n",
              "       [0.5020118 ],\n",
              "       [0.4539789 ],\n",
              "       [0.5748475 ],\n",
              "       [0.47259146],\n",
              "       [0.5771402 ],\n",
              "       [0.47989833],\n",
              "       [0.48291427],\n",
              "       [0.5050073 ],\n",
              "       [0.46608567],\n",
              "       [0.45315808],\n",
              "       [0.48581845],\n",
              "       [0.45768926],\n",
              "       [0.45106232],\n",
              "       [0.52648455],\n",
              "       [0.5572813 ],\n",
              "       [0.4616148 ],\n",
              "       [0.5652707 ],\n",
              "       [0.48983333],\n",
              "       [0.45452842],\n",
              "       [0.43840352],\n",
              "       [0.4573642 ],\n",
              "       [0.4560643 ],\n",
              "       [0.565063  ],\n",
              "       [0.49491474],\n",
              "       [0.45892435],\n",
              "       [0.4534781 ],\n",
              "       [0.44480738],\n",
              "       [0.46158236],\n",
              "       [0.47702754],\n",
              "       [0.5608503 ],\n",
              "       [0.4828151 ],\n",
              "       [0.5738128 ],\n",
              "       [0.4778602 ],\n",
              "       [0.47004288],\n",
              "       [0.47865042],\n",
              "       [0.45769683],\n",
              "       [0.48815024],\n",
              "       [0.5320793 ],\n",
              "       [0.4610777 ],\n",
              "       [0.58003235],\n",
              "       [0.45860454],\n",
              "       [0.57626814],\n",
              "       [0.51267767],\n",
              "       [0.47043136],\n",
              "       [0.54029155],\n",
              "       [0.55778164],\n",
              "       [0.5699346 ],\n",
              "       [0.5640753 ],\n",
              "       [0.5493472 ],\n",
              "       [0.44318712],\n",
              "       [0.43594322],\n",
              "       [0.54084396],\n",
              "       [0.5330427 ],\n",
              "       [0.5244736 ],\n",
              "       [0.56652707],\n",
              "       [0.56464034],\n",
              "       [0.5122872 ],\n",
              "       [0.5779022 ],\n",
              "       [0.44101807],\n",
              "       [0.4505561 ],\n",
              "       [0.5721649 ],\n",
              "       [0.562951  ],\n",
              "       [0.4829365 ],\n",
              "       [0.53536683],\n",
              "       [0.4737422 ],\n",
              "       [0.50543267],\n",
              "       [0.49246567],\n",
              "       [0.44112673],\n",
              "       [0.5674478 ],\n",
              "       [0.5500757 ],\n",
              "       [0.50649345],\n",
              "       [0.5433708 ],\n",
              "       [0.52297014],\n",
              "       [0.5563788 ],\n",
              "       [0.5547885 ],\n",
              "       [0.45907515],\n",
              "       [0.5443821 ],\n",
              "       [0.5460141 ],\n",
              "       [0.51302046],\n",
              "       [0.44105253],\n",
              "       [0.5767593 ],\n",
              "       [0.51605874],\n",
              "       [0.55592483],\n",
              "       [0.45489725],\n",
              "       [0.5071091 ],\n",
              "       [0.46175438],\n",
              "       [0.45784086],\n",
              "       [0.5773901 ],\n",
              "       [0.57260484],\n",
              "       [0.55429757],\n",
              "       [0.45381302],\n",
              "       [0.54793435],\n",
              "       [0.56229955],\n",
              "       [0.46957442],\n",
              "       [0.4487682 ],\n",
              "       [0.48844963],\n",
              "       [0.5777503 ],\n",
              "       [0.56637317],\n",
              "       [0.47475278],\n",
              "       [0.54813063],\n",
              "       [0.5751747 ],\n",
              "       [0.45693716],\n",
              "       [0.576626  ],\n",
              "       [0.5469743 ],\n",
              "       [0.5290663 ],\n",
              "       [0.51607853],\n",
              "       [0.44059938],\n",
              "       [0.56504565],\n",
              "       [0.5785876 ],\n",
              "       [0.5759422 ],\n",
              "       [0.43760252],\n",
              "       [0.55527484],\n",
              "       [0.44089568],\n",
              "       [0.45487937],\n",
              "       [0.53356546],\n",
              "       [0.45875394],\n",
              "       [0.48722035],\n",
              "       [0.4610974 ],\n",
              "       [0.5633768 ],\n",
              "       [0.56054026],\n",
              "       [0.4445973 ],\n",
              "       [0.5207869 ],\n",
              "       [0.5324192 ],\n",
              "       [0.55223763],\n",
              "       [0.45609686],\n",
              "       [0.5718073 ],\n",
              "       [0.55861944],\n",
              "       [0.4542625 ],\n",
              "       [0.53863215],\n",
              "       [0.50836736],\n",
              "       [0.45217183],\n",
              "       [0.5527467 ],\n",
              "       [0.46189198],\n",
              "       [0.53858864],\n",
              "       [0.44888148],\n",
              "       [0.46587813],\n",
              "       [0.47717813],\n",
              "       [0.53602403],\n",
              "       [0.4961511 ],\n",
              "       [0.44336668],\n",
              "       [0.46417522],\n",
              "       [0.55954236],\n",
              "       [0.5640047 ],\n",
              "       [0.56634736],\n",
              "       [0.4679727 ],\n",
              "       [0.545615  ],\n",
              "       [0.5636469 ],\n",
              "       [0.4548934 ],\n",
              "       [0.47029302],\n",
              "       [0.48214328],\n",
              "       [0.56371397],\n",
              "       [0.52040595],\n",
              "       [0.56560725],\n",
              "       [0.4910407 ],\n",
              "       [0.55929416],\n",
              "       [0.43968356],\n",
              "       [0.45495877],\n",
              "       [0.5632243 ],\n",
              "       [0.4626101 ],\n",
              "       [0.540928  ],\n",
              "       [0.5409901 ],\n",
              "       [0.55585957],\n",
              "       [0.556923  ],\n",
              "       [0.5233348 ],\n",
              "       [0.44943708],\n",
              "       [0.45065856],\n",
              "       [0.5677588 ],\n",
              "       [0.4538669 ],\n",
              "       [0.5028842 ],\n",
              "       [0.4471245 ],\n",
              "       [0.47067586],\n",
              "       [0.48022524],\n",
              "       [0.5602354 ],\n",
              "       [0.4686676 ],\n",
              "       [0.45073858],\n",
              "       [0.4556073 ],\n",
              "       [0.55168927],\n",
              "       [0.47275665],\n",
              "       [0.5073044 ],\n",
              "       [0.5596554 ],\n",
              "       [0.48067963],\n",
              "       [0.51238954],\n",
              "       [0.46171016],\n",
              "       [0.53087866],\n",
              "       [0.5119631 ],\n",
              "       [0.53637147],\n",
              "       [0.55722404],\n",
              "       [0.5646393 ],\n",
              "       [0.579399  ],\n",
              "       [0.4883008 ],\n",
              "       [0.49695724],\n",
              "       [0.50000113],\n",
              "       [0.57379955],\n",
              "       [0.5643718 ],\n",
              "       [0.45659316],\n",
              "       [0.47259748],\n",
              "       [0.47867316],\n",
              "       [0.4522976 ],\n",
              "       [0.55279887],\n",
              "       [0.5468209 ],\n",
              "       [0.51667804],\n",
              "       [0.5588242 ],\n",
              "       [0.5451271 ],\n",
              "       [0.5285664 ],\n",
              "       [0.5651273 ],\n",
              "       [0.443125  ],\n",
              "       [0.513978  ],\n",
              "       [0.4579425 ],\n",
              "       [0.57179445],\n",
              "       [0.44398493],\n",
              "       [0.5145044 ],\n",
              "       [0.44199485],\n",
              "       [0.5321766 ],\n",
              "       [0.47915298],\n",
              "       [0.5687431 ],\n",
              "       [0.46957654],\n",
              "       [0.5316341 ],\n",
              "       [0.5618255 ],\n",
              "       [0.45053923],\n",
              "       [0.5456805 ],\n",
              "       [0.54535395],\n",
              "       [0.50621027],\n",
              "       [0.55714   ],\n",
              "       [0.56496686],\n",
              "       [0.55448806],\n",
              "       [0.5105976 ],\n",
              "       [0.55697423],\n",
              "       [0.5237967 ],\n",
              "       [0.4384859 ],\n",
              "       [0.47173768],\n",
              "       [0.5036896 ],\n",
              "       [0.49224883],\n",
              "       [0.5255478 ],\n",
              "       [0.4842373 ],\n",
              "       [0.57434756],\n",
              "       [0.5728653 ],\n",
              "       [0.48899925],\n",
              "       [0.463795  ],\n",
              "       [0.56557786],\n",
              "       [0.45815134],\n",
              "       [0.5238249 ],\n",
              "       [0.45014635],\n",
              "       [0.52028006],\n",
              "       [0.43905097],\n",
              "       [0.5680623 ],\n",
              "       [0.44461396],\n",
              "       [0.53753126],\n",
              "       [0.46494213],\n",
              "       [0.56755203],\n",
              "       [0.52085745],\n",
              "       [0.4485818 ],\n",
              "       [0.5607141 ],\n",
              "       [0.5672914 ],\n",
              "       [0.46738207],\n",
              "       [0.488581  ],\n",
              "       [0.48199543],\n",
              "       [0.46202523],\n",
              "       [0.52181536],\n",
              "       [0.4999982 ],\n",
              "       [0.4785394 ],\n",
              "       [0.5795416 ],\n",
              "       [0.5018762 ],\n",
              "       [0.46176016],\n",
              "       [0.4507632 ],\n",
              "       [0.5785245 ],\n",
              "       [0.53775966],\n",
              "       [0.56942666],\n",
              "       [0.51934546],\n",
              "       [0.5117453 ],\n",
              "       [0.45998532],\n",
              "       [0.4800382 ],\n",
              "       [0.54167026],\n",
              "       [0.55828714],\n",
              "       [0.5576491 ],\n",
              "       [0.5148752 ],\n",
              "       [0.5625764 ],\n",
              "       [0.5512726 ],\n",
              "       [0.55688775],\n",
              "       [0.44776016],\n",
              "       [0.44254616],\n",
              "       [0.47318524],\n",
              "       [0.4948989 ],\n",
              "       [0.4669108 ],\n",
              "       [0.53704023],\n",
              "       [0.5787541 ],\n",
              "       [0.57539815],\n",
              "       [0.51298183],\n",
              "       [0.55252254],\n",
              "       [0.44236395],\n",
              "       [0.5650493 ],\n",
              "       [0.44995767],\n",
              "       [0.4943658 ],\n",
              "       [0.5275039 ],\n",
              "       [0.5559326 ],\n",
              "       [0.5168136 ],\n",
              "       [0.4497996 ],\n",
              "       [0.46698976],\n",
              "       [0.4534919 ],\n",
              "       [0.46866542],\n",
              "       [0.5135725 ],\n",
              "       [0.535669  ],\n",
              "       [0.5754964 ],\n",
              "       [0.49340856],\n",
              "       [0.527303  ],\n",
              "       [0.48103535],\n",
              "       [0.44244057],\n",
              "       [0.4399653 ],\n",
              "       [0.4583169 ],\n",
              "       [0.5430629 ],\n",
              "       [0.48042482],\n",
              "       [0.45602253],\n",
              "       [0.51669323],\n",
              "       [0.4728331 ],\n",
              "       [0.52757186],\n",
              "       [0.55807394],\n",
              "       [0.4774567 ],\n",
              "       [0.49771738],\n",
              "       [0.53944445],\n",
              "       [0.44672498],\n",
              "       [0.53337675],\n",
              "       [0.57677215],\n",
              "       [0.4829356 ],\n",
              "       [0.47104526],\n",
              "       [0.55939   ],\n",
              "       [0.49664688],\n",
              "       [0.45746124],\n",
              "       [0.46788973],\n",
              "       [0.47777694],\n",
              "       [0.4909085 ],\n",
              "       [0.5550901 ],\n",
              "       [0.52156496],\n",
              "       [0.46652097],\n",
              "       [0.5161819 ],\n",
              "       [0.5650229 ],\n",
              "       [0.5749266 ],\n",
              "       [0.5194961 ],\n",
              "       [0.5618855 ],\n",
              "       [0.45182186],\n",
              "       [0.56324863],\n",
              "       [0.48289442],\n",
              "       [0.51518065],\n",
              "       [0.45070988],\n",
              "       [0.51232505],\n",
              "       [0.47309762],\n",
              "       [0.5419836 ],\n",
              "       [0.54974824],\n",
              "       [0.48543513],\n",
              "       [0.49755913],\n",
              "       [0.4421423 ],\n",
              "       [0.5822147 ],\n",
              "       [0.52850705],\n",
              "       [0.4594118 ],\n",
              "       [0.5776653 ],\n",
              "       [0.44686392],\n",
              "       [0.501096  ],\n",
              "       [0.44149357],\n",
              "       [0.46249014],\n",
              "       [0.47342128],\n",
              "       [0.53423595],\n",
              "       [0.50459176],\n",
              "       [0.56705797],\n",
              "       [0.571363  ],\n",
              "       [0.5679838 ],\n",
              "       [0.46669632],\n",
              "       [0.5503892 ],\n",
              "       [0.451381  ],\n",
              "       [0.5435694 ],\n",
              "       [0.44391137],\n",
              "       [0.4834271 ],\n",
              "       [0.5723738 ],\n",
              "       [0.45292056],\n",
              "       [0.5584706 ],\n",
              "       [0.5503283 ],\n",
              "       [0.48096442],\n",
              "       [0.5614465 ],\n",
              "       [0.5306281 ],\n",
              "       [0.55294126],\n",
              "       [0.53469396],\n",
              "       [0.4690231 ],\n",
              "       [0.43779573],\n",
              "       [0.5525198 ]], dtype=float32)"
            ]
          },
          "metadata": {},
          "execution_count": 46
        }
      ]
    },
    {
      "cell_type": "markdown",
      "source": [
        "Now we've got a function to plot our model's decision boundary (the cut off point its making between red and blue dots), let's try it out."
      ],
      "metadata": {
        "id": "gC7xw7Pr9GzZ"
      }
    },
    {
      "cell_type": "markdown",
      "source": [
        "Still! \n",
        "\n",
        "We've pulled out a few tricks but our model isn't even doing better than guessing.\n",
        "\n",
        "Let's make some visualizations to see what's happening.\n",
        "\n",
        "> 🔑 **Note:** Whenever your model is performing strangely or there's something going on with your data you're not quite sure of, remember these three words: **visualize, visualize, visualize**. Inspect your data, inspect your model, inpsect your model's predictions.\n",
        "\n",
        "To visualize our model's predictions we're going to create a function `plot_decision_boundary()` which:\n",
        "* Takes in a trained model, features (`X`) and labels (`y`).\n",
        "* Creates a [meshgrid](https://numpy.org/doc/stable/reference/generated/numpy.meshgrid.html) of the different `X` values.\n",
        "* Makes predictions across the meshgrid.\n",
        "* Plots the predictions as well as a line between the different zones (where each unique class falls).\n",
        "\n",
        "If this sounds confusing, let's see it in code and then see the output.\n",
        "\n",
        "> 🔑 **Note:** If you're ever unsure of what a function does, try unraveling it and writing it line by line for yourself to see what it does. Break it into small parts and see what each part outputs."
      ],
      "metadata": {
        "id": "c5XK6uyr9RZs"
      }
    },
    {
      "cell_type": "code",
      "source": [
        "# Import NumPy\n",
        "import numpy as np"
      ],
      "metadata": {
        "id": "tjdw7n_l-siQ"
      },
      "execution_count": 50,
      "outputs": []
    },
    {
      "cell_type": "code",
      "source": [
        "def plot_decision_boundry(model, X, y):\n",
        "  \"\"\"\n",
        "  Plots the decision boundary created by a model predicting on X.\n",
        "  This function has been adapted from two phenomenal resources:\n",
        "   1. CS231n - https://cs231n.github.io/neural-networks-case-study/\n",
        "   2. Made with ML basics - https://github.com/GokuMohandas/MadeWithML/blob/main/notebooks/08_Neural_Networks.ipynb\n",
        "  \"\"\"\n",
        "  # Define the axis boundries of the plot and create a meshgird\n",
        "  x_min, x_max = X[:, 0].min() - 0.1, X[:, 1].max() + 0.1\n",
        "  y_min, y_max = X[:, 0].min() - 0.1, X[:, 1].max() + 0.1\n",
        "  xx, yy = np.meshgrid(np.linspace(x_min, x_max, 100),\n",
        "                       np.linspace(y_min, y_max, 100))\n",
        "  \n",
        "  # Create X value (we are going to make prediction on these)\n",
        "  x_in = np.c_[xx.ravel(), yy.ravel()] # stack 2D arrays together\n",
        "\n",
        "  # Make predictions \n",
        "  y_pred = model.predict(x_in)\n",
        "\n",
        "  # Check for multi-class\n",
        "  if len(y_pred[0]) > 1:\n",
        "    print(\"Doing multi-class classification\")\n",
        "    # We have to reshape our prediction to get them ready fpr plotting\n",
        "    y_pred = np.argmax(y_pred, axis=1).reshape(xx.shape)\n",
        "  else:\n",
        "    print(\"Doing Binary classification\")\n",
        "    y_pred = np.round(y_pred).reshape(xx.shape)\n",
        "\n",
        "  # Plot the decision boundry\n",
        "  plt.contourf(xx, yy, y_pred, cmap=plt.cm.RdYlBu, alpha=0.7)\n",
        "  plt.scatter(X[:, 0], X[:, 1], c=y, s=40, cmap=plt.cm.RdYlBu)\n",
        "  plt.xlim(xx.min(), xx.max())\n",
        "  plt.ylim(yy.min(), yy.max())"
      ],
      "metadata": {
        "id": "MX_puBS09giB"
      },
      "execution_count": 57,
      "outputs": []
    },
    {
      "cell_type": "code",
      "source": [
        "# Check ou tthe predictions our model is making\n",
        "plot_decision_boundry(model=model_3,\n",
        "                      X=X,\n",
        "                      y=y)"
      ],
      "metadata": {
        "colab": {
          "base_uri": "https://localhost:8080/",
          "height": 467
        },
        "id": "YusAo58S-buR",
        "outputId": "e0fd6b5a-b4c7-469f-c1f5-a605d8519526"
      },
      "execution_count": 58,
      "outputs": [
        {
          "output_type": "stream",
          "name": "stdout",
          "text": [
            "313/313 [==============================] - 1s 2ms/step\n",
            "Doing Binary classification\n"
          ]
        },
        {
          "output_type": "display_data",
          "data": {
            "text/plain": [
              "<Figure size 640x480 with 1 Axes>"
            ],
            "image/png": "[encoded data removed]"
          },
          "metadata": {}
        }
      ]
    },
    {
      "cell_type": "code",
      "source": [
        "# Set the random seed\n",
        "tf.random.set_seed(42)\n",
        "\n",
        "# 1. Create a model\n",
        "model_4 = tf.keras.Sequential([\n",
        "  tf.keras.layers.Dense(100, activation=\"relu\"), # add 100 dense neurons\n",
        "  tf.keras.layers.Dense(10, activation=\"relu\"), # add another layer with 10 neurons\n",
        "  tf.keras.layers.Dense(1)\n",
        "])\n",
        "\n",
        "# 2. Compile the model\n",
        "model_4.compile(loss=tf.keras.losses.BinaryCrossentropy(),\n",
        "                optimizer=tf.keras.optimizers.Adam(),\n",
        "                metrics=[\"accuracy\"])\n",
        "\n",
        "# 3. Fit the model\n",
        "model_4.fit(X, y, epochs=100, verbose=0)"
      ],
      "metadata": {
        "colab": {
          "base_uri": "https://localhost:8080/"
        },
        "id": "pQ8COUqBDRhQ",
        "outputId": "50c161e1-4409-4aa3-e8c3-564ecddafa67"
      },
      "execution_count": 62,
      "outputs": [
        {
          "output_type": "execute_result",
          "data": {
            "text/plain": [
              "<keras.callbacks.History at 0x7f8d410a7b80>"
            ]
          },
          "metadata": {},
          "execution_count": 62
        }
      ]
    },
    {
      "cell_type": "code",
      "source": [
        "model_4.evaluate(X, y)"
      ],
      "metadata": {
        "colab": {
          "base_uri": "https://localhost:8080/"
        },
        "id": "aDhwJwzzFb9H",
        "outputId": "4858f716-cfb5-4f19-f64e-e92f46fd080b"
      },
      "execution_count": 63,
      "outputs": [
        {
          "output_type": "stream",
          "name": "stdout",
          "text": [
            "32/32 [==============================] - 0s 4ms/step - loss: 0.0033 - accuracy: 1.0000\n"
          ]
        },
        {
          "output_type": "execute_result",
          "data": {
            "text/plain": [
              "[0.00330345775000751, 1.0]"
            ]
          },
          "metadata": {},
          "execution_count": 63
        }
      ]
    },
    {
      "cell_type": "code",
      "source": [
        "# Check ou tthe predictions our model is making\n",
        "plot_decision_boundry(model=model_4,\n",
        "                      X=X,\n",
        "                      y=y)"
      ],
      "metadata": {
        "colab": {
          "base_uri": "https://localhost:8080/",
          "height": 467
        },
        "id": "kZPTiJVbFije",
        "outputId": "3f6f58dd-e034-46e5-b0a2-f0f6c3c35ce1"
      },
      "execution_count": 64,
      "outputs": [
        {
          "output_type": "stream",
          "name": "stdout",
          "text": [
            "313/313 [==============================] - 1s 3ms/step\n",
            "Doing Binary classification\n"
          ]
        },
        {
          "output_type": "display_data",
          "data": {
            "text/plain": [
              "<Figure size 640x480 with 1 Axes>"
            ],
            "image/png": "[encoded data removed]"
          },
          "metadata": {}
        }
      ]
    },
    {
      "cell_type": "markdown",
      "source": [
        "Looks like our model_3 is trying to draw a straight line through the data.\n",
        "\n",
        "What's wrong with doing this?\n",
        "\n",
        "The main issue is our data isn't separable by a straight line.\n",
        "\n",
        "In a regression problem, our model might work. In fact, let's try it."
      ],
      "metadata": {
        "id": "wXYJ_0qUFuqf"
      }
    },
    {
      "cell_type": "code",
      "source": [],
      "metadata": {
        "id": "mY3u_wvYGNzH"
      },
      "execution_count": null,
      "outputs": []
    }
  ]
}