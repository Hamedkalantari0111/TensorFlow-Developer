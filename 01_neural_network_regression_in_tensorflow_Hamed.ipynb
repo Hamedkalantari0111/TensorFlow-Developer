{
  "nbformat": 4,
  "nbformat_minor": 0,
  "metadata": {
    "colab": {
      "provenance": []
    },
    "kernelspec": {
      "name": "python3",
      "display_name": "Python 3"
    },
    "language_info": {
      "name": "python"
    },
    "accelerator": "GPU",
    "gpuClass": "standard"
  },
  "cells": [
    {
      "cell_type": "markdown",
      "source": [
        "# 01. Neural Network Regression with TensorFlow\n",
        "\n",
        "There are many definitions for a [regression problem](https://en.wikipedia.org/wiki/Regression_analysis) but in our case, we're going to simplify it to be: predicting a number.\n",
        "\n",
        "For example, you might want to:\n",
        "- Predict the selling price of houses given information about them (such as number of rooms, size, number of bathrooms).\n",
        "- Predict the coordinates of a bounding box of an item in an image.\n",
        "- Predict the cost of medical insurance for an individual given their demographics (age, sex, gender, race).\n",
        "\n",
        "In this notebook, we're going to set the foundations for how you can take a sample of inputs (this is your data), build a neural network to discover patterns in those inputs and then make a prediction (in the form of a number) based on those inputs.\n",
        "\n",
        "## What we're going to cover\n",
        "\n",
        "Specifically, we're going to go through doing the following with TensorFlow:\n",
        "- Architecture of a regression model\n",
        "- Input shapes and output shapes\n",
        "  - `X`: features/data (inputs)\n",
        "  - `y`: labels (outputs)\n",
        "- Creating custom data to view and fit\n",
        "- Steps in modelling\n",
        "  - Creating a model\n",
        "  - Compiling a model\n",
        "    - Defining a loss function\n",
        "    - Setting up an optimizer\n",
        "    - Creating evaluation metrics\n",
        "  - Fitting a model (getting it to find patterns in our data)\n",
        "- Evaluating a model\n",
        "  - Visualizng the model (\"visualize, visualize, visualize\")\n",
        "  - Looking at training curves\n",
        "  - Compare predictions to ground truth (using our evaluation metrics)\n",
        "- Saving a model (so we can use it later)\n",
        "- Loading a model\n",
        "\n",
        "Don't worry if none of these make sense now, we're going to go through each.\n",
        "\n",
        "## How you can use this notebook\n",
        "\n",
        "You can read through the descriptions and the code (it should all run), but there's a better option.\n",
        "\n",
        "Write all of the code yourself.\n",
        "\n",
        "Yes. I'm serious. Create a new notebook, and rewrite each line by yourself. Investigate it, see if you can break it, why does it break?\n",
        "\n",
        "You don't have to write the text descriptions but writing the code yourself is a great way to get hands-on experience.\n",
        "\n",
        "Don't worry if you make mistakes, we all do. The way to get better and make less mistakes is to **write more code**."
      ],
      "metadata": {
        "id": "A2gk85emVKRE"
      }
    },
    {
      "cell_type": "markdown",
      "source": [
        "## Typical architecture of a regresison neural network\n",
        "\n",
        "The word *typical* is on purpose.\n",
        "\n",
        "Why?\n",
        "\n",
        "Because there are many different ways (actually, there's almost an infinite number of ways) to write neural networks.\n",
        "\n",
        "But the following is a generic setup for ingesting a collection of numbers, finding patterns in them and then outputing some kind of target number.\n",
        "\n",
        "Yes, the previous sentence is vague but we'll see this in action shortly.\n",
        "\n",
        "| **Hyperparameter** | **Typical value** |\n",
        "| --- | --- |\n",
        "| Input layer shape | Same shape as number of features (e.g. 3 for # bedrooms, # bathrooms, # car spaces in housing price prediction) |\n",
        "| Hidden layer(s) | Problem specific, minimum = 1, maximum = unlimited |\n",
        "| Neurons per hidden layer | Problem specific, generally 10 to 100 |\n",
        "| Output layer shape | Same shape as desired prediction shape (e.g. 1 for house price) |\n",
        "| Hidden activation | Usually [ReLU](https://www.kaggle.com/dansbecker/rectified-linear-units-relu-in-deep-learning) (rectified linear unit) |\n",
        "| Output activation | None, ReLU, logistic/tanh |\n",
        "| Loss function | [MSE](https://en.wikipedia.org/wiki/Mean_squared_error) (mean square error) or [MAE](https://en.wikipedia.org/wiki/Mean_absolute_error) (mean absolute error)/Huber (combination of MAE/MSE) if outliers |\n",
        "| Optimizer | [SGD](https://www.tensorflow.org/api_docs/python/tf/keras/optimizers/SGD) (stochastic gradient descent), [Adam](https://www.tensorflow.org/api_docs/python/tf/keras/optimizers/Adam) |\n",
        "\n",
        "***Table 1:*** *Typical architecture of a regression network.* ***Source:*** *Adapted from page 293 of [Hands-On Machine Learning with Scikit-Learn, Keras & TensorFlow Book by Aurélien Géron](https://www.oreilly.com/library/view/hands-on-machine-learning/9781492032632/)*\n",
        "\n",
        "Again, if you're new to neural networks and deep learning in general, much of the above table won't make sense. But don't worry, we'll be getting hands-on with all of it soon.\n",
        "\n",
        "> 🔑 **Note:** A **hyperparameter** in machine learning is something a data analyst or developer can set themselves, where as a **parameter** usually describes something a model learns on its own (a value not explicitly set by an analyst).\n",
        "\n",
        "Okay, enough talk, let's get started writing code.\n",
        "\n",
        "To use TensorFlow, we'll import it as the common alias `tf` (short for TensorFlow)."
      ],
      "metadata": {
        "id": "RP4CtyFAhcID"
      }
    },
    {
      "cell_type": "code",
      "source": [
        "# Import Tensorflow\n",
        "import tensorflow as tf\n",
        "print(tf.__version__)"
      ],
      "metadata": {
        "colab": {
          "base_uri": "https://localhost:8080/"
        },
        "id": "3ZwRpuRSh2lS",
        "outputId": "269cb6bf-6f3d-4d98-c1c9-a351b80ec89a"
      },
      "execution_count": 1,
      "outputs": [
        {
          "output_type": "stream",
          "name": "stdout",
          "text": [
            "2.12.0\n"
          ]
        }
      ]
    },
    {
      "cell_type": "markdown",
      "source": [
        "## Create data to view and fit"
      ],
      "metadata": {
        "id": "_-lEkZ8AiALE"
      }
    },
    {
      "cell_type": "code",
      "source": [
        "import numpy as np\n",
        "import matplotlib.pyplot as plt \n",
        "\n",
        "# Create features\n",
        "X = np.array([-7.0, -4.0, -1.0, 2.0, 5.0, 8.0, 11.0, 14.0])\n",
        "\n",
        "# Create labels\n",
        "y = np.array([3.0, 6.0, 9.0, 12.0, 15.0, 18.0, 21.0, 24.0])\n",
        "\n",
        "# Visualize it\n",
        "plt.scatter(X, y)"
      ],
      "metadata": {
        "id": "zZcu4Lf1iT0r",
        "colab": {
          "base_uri": "https://localhost:8080/",
          "height": 453
        },
        "outputId": "96884ea1-1138-4420-c995-105d113352ec"
      },
      "execution_count": 2,
      "outputs": [
        {
          "output_type": "execute_result",
          "data": {
            "text/plain": [
              "<matplotlib.collections.PathCollection at 0x7f58f2856860>"
            ]
          },
          "metadata": {},
          "execution_count": 2
        },
        {
          "output_type": "display_data",
          "data": {
            "text/plain": [
              "<Figure size 640x480 with 1 Axes>"
            ],
            "image/png": "[encoded data removed]"
          },
          "metadata": {}
        }
      ]
    },
    {
      "cell_type": "code",
      "source": [
        "y == X +10"
      ],
      "metadata": {
        "colab": {
          "base_uri": "https://localhost:8080/"
        },
        "id": "UIv9C4_jBW52",
        "outputId": "497ab960-31b0-472f-9f95-ce10c422f402"
      },
      "execution_count": 3,
      "outputs": [
        {
          "output_type": "execute_result",
          "data": {
            "text/plain": [
              "array([ True,  True,  True,  True,  True,  True,  True,  True])"
            ]
          },
          "metadata": {},
          "execution_count": 3
        }
      ]
    },
    {
      "cell_type": "markdown",
      "source": [
        "## Input and output shapes"
      ],
      "metadata": {
        "id": "JfObIkVCBplk"
      }
    },
    {
      "cell_type": "code",
      "source": [
        "# Create a demo tensor for a housing price prediction problem\n",
        "house_info = tf.constant([\"bedroom\", \"bathroom\", \"garage\"])\n",
        "house_price = tf.constant([939700])\n",
        "house_info, house_price"
      ],
      "metadata": {
        "colab": {
          "base_uri": "https://localhost:8080/"
        },
        "id": "HEDd0Z3pB0v2",
        "outputId": "b06fd406-0f78-437d-d88c-d81d27ff006a"
      },
      "execution_count": 4,
      "outputs": [
        {
          "output_type": "execute_result",
          "data": {
            "text/plain": [
              "(<tf.Tensor: shape=(3,), dtype=string, numpy=array([b'bedroom', b'bathroom', b'garage'], dtype=object)>,\n",
              " <tf.Tensor: shape=(1,), dtype=int32, numpy=array([939700], dtype=int32)>)"
            ]
          },
          "metadata": {},
          "execution_count": 4
        }
      ]
    },
    {
      "cell_type": "code",
      "source": [
        "X[0], y[0]"
      ],
      "metadata": {
        "colab": {
          "base_uri": "https://localhost:8080/"
        },
        "id": "S7ldOlv0Dd5T",
        "outputId": "fafc7f04-ca6b-40a3-a3ab-615574981383"
      },
      "execution_count": 5,
      "outputs": [
        {
          "output_type": "execute_result",
          "data": {
            "text/plain": [
              "(-7.0, 3.0)"
            ]
          },
          "metadata": {},
          "execution_count": 5
        }
      ]
    },
    {
      "cell_type": "code",
      "source": [
        "input_shape = X[0].shape\n",
        "output_shape = y[0].shape\n",
        "input_shape, output_shape"
      ],
      "metadata": {
        "colab": {
          "base_uri": "https://localhost:8080/"
        },
        "id": "-ZS3iNtqC5ht",
        "outputId": "75cb56dc-d29a-4105-fe53-db655625ce18"
      },
      "execution_count": 6,
      "outputs": [
        {
          "output_type": "execute_result",
          "data": {
            "text/plain": [
              "((), ())"
            ]
          },
          "metadata": {},
          "execution_count": 6
        }
      ]
    },
    {
      "cell_type": "code",
      "source": [
        "X[0].ndim"
      ],
      "metadata": {
        "colab": {
          "base_uri": "https://localhost:8080/"
        },
        "id": "Tctvq9J4DTis",
        "outputId": "4e2ff155-7b07-4b83-b347-09b78a7e4755"
      },
      "execution_count": 7,
      "outputs": [
        {
          "output_type": "execute_result",
          "data": {
            "text/plain": [
              "0"
            ]
          },
          "metadata": {},
          "execution_count": 7
        }
      ]
    },
    {
      "cell_type": "code",
      "source": [
        "# Turn our NumPy array into Tensors with dtype float32\n",
        "X = tf.cast(tf.constant(X), dtype=tf.float32)\n",
        "y = tf.cast(tf.constant(y), dtype=tf.float32)\n",
        "X, y"
      ],
      "metadata": {
        "colab": {
          "base_uri": "https://localhost:8080/"
        },
        "id": "OZ2UyUrtDTAU",
        "outputId": "5172d3db-7b65-4562-a925-bf8f4980d0a2"
      },
      "execution_count": 15,
      "outputs": [
        {
          "output_type": "execute_result",
          "data": {
            "text/plain": [
              "(<tf.Tensor: shape=(8,), dtype=float32, numpy=array([-7., -4., -1.,  2.,  5.,  8., 11., 14.], dtype=float32)>,\n",
              " <tf.Tensor: shape=(8,), dtype=float32, numpy=array([ 3.,  6.,  9., 12., 15., 18., 21., 24.], dtype=float32)>)"
            ]
          },
          "metadata": {},
          "execution_count": 15
        }
      ]
    },
    {
      "cell_type": "code",
      "source": [
        "input_shape = X[0].shape\n",
        "out_shape = y[0].shape\n",
        "input_shape, out_shape"
      ],
      "metadata": {
        "colab": {
          "base_uri": "https://localhost:8080/"
        },
        "id": "gLlUw-ZUErCD",
        "outputId": "525b6ede-de5f-4b21-abb2-81942b486d78"
      },
      "execution_count": 16,
      "outputs": [
        {
          "output_type": "execute_result",
          "data": {
            "text/plain": [
              "(TensorShape([]), TensorShape([]))"
            ]
          },
          "metadata": {},
          "execution_count": 16
        }
      ]
    },
    {
      "cell_type": "markdown",
      "source": [
        "## Steps in modelling with TensorFlow\n",
        "\n",
        "Now we know what data we have as well as the input and output shapes, let's see how we'd build a neural network to model it.\n",
        "\n",
        "In TensorFlow, there are typically 3 fundamental steps to creating and training a model.\n",
        "\n",
        "1. **Creating a model** - Define the input and output layes, as well as the hidden layers of a deep learning model. piece together the layers of a neural network yourself (using the [Functional](https://www.tensorflow.org/guide/keras/functional) or [Sequential API](https://www.tensorflow.org/api_docs/python/tf/keras/Sequential)) or import a previously built model (known as transfer learning).\n",
        "2. **Compiling a model** - defining how a models performance should be measured (**loss**(the function which tells our model how wrong it is)/**metrics**(what we can use to interpret the performance of our model)) as well as defining how it should improve (**optimizer**(tell our model how to improve the patterns its learning)). \n",
        "3. **Fitting a model** - letting the model try to find patterns in the data (how does `X` get to `y`). \n",
        "\n",
        "Let's see these in action using the [Keras Sequential API](https://www.tensorflow.org/api_docs/python/tf/keras/Sequential) to build a model for our regression data. And then we'll step through each.\n",
        "\n",
        "> **Note:** If you're using [TensorFlow 2.7.0](https://github.com/tensorflow/tensorflow/releases/tag/v2.7.0)+, the `fit()` function no longer upscales input data to go from `(batch_size, )` to `(batch_size, 1)`. To fix this, you'll need to expand the dimension of input data using `tf.expand_dims(input_data, axis=-1)`.\n",
        ">\n",
        "> In our case, this means instead of using `model.fit(X, y, epochs=5)`, use `model.fit(tf.expand_dims(X, axis=-1), y, epochs=5)`. "
      ],
      "metadata": {
        "id": "QY9WOSsUEvOz"
      }
    },
    {
      "cell_type": "code",
      "source": [
        "# Set random seed\n",
        "tf.random.set_seed(42)\n",
        "\n",
        "# 1- Create a model using the sequential API\n",
        "model = tf.keras.Sequential([\n",
        "    tf.keras.layers.Dense(1)\n",
        "])\n",
        "\n",
        "# 2- Compile the model\n",
        "model.compile(loss=tf.keras.losses.mae,\n",
        "              optimizer=tf.keras.optimizers.SGD(),\n",
        "              metrics=[\"mae\"])\n",
        "\n",
        "# model.fit(X, y, epochs=5) # this will break with TensorFlow 2.7.0+\n",
        "model.fit(tf.expand_dims(X, axis=-1), y, epochs=5)"
      ],
      "metadata": {
        "colab": {
          "base_uri": "https://localhost:8080/"
        },
        "id": "98NPoV-4E5jM",
        "outputId": "672e3b4d-7b26-4da2-cbff-8deca2209933"
      },
      "execution_count": 17,
      "outputs": [
        {
          "output_type": "stream",
          "name": "stdout",
          "text": [
            "Epoch 1/5\n",
            "1/1 [==============================] - 0s 377ms/step - loss: 12.3629 - mae: 12.3629\n",
            "Epoch 2/5\n",
            "1/1 [==============================] - 0s 11ms/step - loss: 12.2304 - mae: 12.2304\n",
            "Epoch 3/5\n",
            "1/1 [==============================] - 0s 10ms/step - loss: 12.0979 - mae: 12.0979\n",
            "Epoch 4/5\n",
            "1/1 [==============================] - 0s 10ms/step - loss: 11.9654 - mae: 11.9654\n",
            "Epoch 5/5\n",
            "1/1 [==============================] - 0s 10ms/step - loss: 11.8329 - mae: 11.8329\n"
          ]
        },
        {
          "output_type": "execute_result",
          "data": {
            "text/plain": [
              "<keras.callbacks.History at 0x7f5850babd30>"
            ]
          },
          "metadata": {},
          "execution_count": 17
        }
      ]
    },
    {
      "cell_type": "markdown",
      "source": [
        "**epochs-- how many times the model will go through all of the training examples**"
      ],
      "metadata": {
        "id": "aKlmIDcxLOV1"
      }
    },
    {
      "cell_type": "code",
      "source": [
        "# Check out X and  y\n",
        "X, y"
      ],
      "metadata": {
        "colab": {
          "base_uri": "https://localhost:8080/"
        },
        "id": "N90kI3AqIvGV",
        "outputId": "da4c86a2-863b-4369-afc6-a7cd6dd4477f"
      },
      "execution_count": 18,
      "outputs": [
        {
          "output_type": "execute_result",
          "data": {
            "text/plain": [
              "(<tf.Tensor: shape=(8,), dtype=float32, numpy=array([-7., -4., -1.,  2.,  5.,  8., 11., 14.], dtype=float32)>,\n",
              " <tf.Tensor: shape=(8,), dtype=float32, numpy=array([ 3.,  6.,  9., 12., 15., 18., 21., 24.], dtype=float32)>)"
            ]
          },
          "metadata": {},
          "execution_count": 18
        }
      ]
    },
    {
      "cell_type": "code",
      "source": [
        "# Try and make a prediction using our model\n",
        "y_pred = model.predict([17.0])\n",
        "y_pred"
      ],
      "metadata": {
        "colab": {
          "base_uri": "https://localhost:8080/"
        },
        "id": "p-JTXn56KVKj",
        "outputId": "afe9b9b3-92a3-4678-fd13-e65c54faf348"
      },
      "execution_count": 20,
      "outputs": [
        {
          "output_type": "stream",
          "name": "stdout",
          "text": [
            "1/1 [==============================] - 0s 30ms/step\n"
          ]
        },
        {
          "output_type": "execute_result",
          "data": {
            "text/plain": [
              "array([[8.548139]], dtype=float32)"
            ]
          },
          "metadata": {},
          "execution_count": 20
        }
      ]
    },
    {
      "cell_type": "markdown",
      "source": [
        "## Improving a model\n",
        "\n",
        "How do you think you'd improve upon our current model?\n",
        "\n",
        "If you guessed by tweaking some of the things we did above, you'd be correct.\n",
        "\n",
        "To improve our model, we alter almost every part of the 3 steps we went through before.\n",
        "\n",
        "1. **Creating a model**:\n",
        "\n",
        "  1-1- here you might want to add more layers, \n",
        "\n",
        "  1-2- increase the number of hidden units (also called neurons) within each layer, \n",
        "\n",
        "  1-3- change the activation functions of each layer.\n",
        "2. **Compiling a model**:\n",
        "\n",
        " 2-1- you might want to choose optimization function \n",
        "\n",
        " 2-2- perhaps change the **learning rate** of the optimization function.\n",
        "3. **Fitting a model**:\n",
        "\n",
        " 3-1- perhaps you could fit a model for more **epochs** (leave it training for longer) \n",
        " \n",
        "  3-2- or on more data (give the model more examples to learn from).\n",
        "\n",
        "![various options you can use to improve a neural network model](https://raw.githubusercontent.com/mrdbourke/tensorflow-deep-learning/main/images/02-improving-a-model-from-model-perspective.png)\n",
        "*There are many different ways to potentially improve a neural network. Some of the most common include: increasing the number of layers (making the network deeper), increasing the number of hidden units (making the network wider) and changing the learning rate. Because these values are all human-changeable, they're referred to as [hyperparameters](https://en.wikipedia.org/wiki/Hyperparameter_(machine_learning)) and the practice of trying to find the best hyperparameters is referred to as [hyperparameter tuning](https://en.wikipedia.org/wiki/Hyperparameter_optimization).*\n",
        "\n",
        "Woah. We just introduced a bunch of possible steps. The important thing to remember is how you alter each of these will depend on the problem you're working on.\n",
        "\n",
        "And the good thing is, over the next few problems, we'll get hands-on with all of them.\n",
        "\n",
        "For now, let's keep it simple, all we'll do is train our model for longer (everything else will stay the same)."
      ],
      "metadata": {
        "id": "schJWD3bKiSi"
      }
    },
    {
      "cell_type": "code",
      "source": [
        "# Let's rebuild our model\n",
        "\n",
        "# 1. Create the model\n",
        "model = tf.keras.Sequential([\n",
        "    tf.keras.layers.Dense(1)\n",
        "])\n",
        "\n",
        "# Compile the model\n",
        "model.compile(loss=tf.keras.losses.mae,\n",
        "              optimizer=tf.keras.optimizers.SGD(),\n",
        "              metrics=[\"mae\"])\n",
        "\n",
        "# 3. Fit the model\n",
        "model.fit(tf.expand_dims(X, axis=-1), y, epochs=100)"
      ],
      "metadata": {
        "colab": {
          "base_uri": "https://localhost:8080/"
        },
        "id": "s291L5pBK2k0",
        "outputId": "8f8bb889-1622-45da-aa23-4d8d1b95ca46"
      },
      "execution_count": 27,
      "outputs": [
        {
          "output_type": "stream",
          "name": "stdout",
          "text": [
            "Epoch 1/100\n",
            "1/1 [==============================] - 0s 344ms/step - loss: 15.3211 - mae: 15.3211\n",
            "Epoch 2/100\n",
            "1/1 [==============================] - 0s 11ms/step - loss: 15.0398 - mae: 15.0398\n",
            "Epoch 3/100\n",
            "1/1 [==============================] - 0s 10ms/step - loss: 14.8316 - mae: 14.8316\n",
            "Epoch 4/100\n",
            "1/1 [==============================] - 0s 10ms/step - loss: 14.6991 - mae: 14.6991\n",
            "Epoch 5/100\n",
            "1/1 [==============================] - 0s 10ms/step - loss: 14.5666 - mae: 14.5666\n",
            "Epoch 6/100\n",
            "1/1 [==============================] - 0s 10ms/step - loss: 14.4341 - mae: 14.4341\n",
            "Epoch 7/100\n",
            "1/1 [==============================] - 0s 11ms/step - loss: 14.3016 - mae: 14.3016\n",
            "Epoch 8/100\n",
            "1/1 [==============================] - 0s 10ms/step - loss: 14.1691 - mae: 14.1691\n",
            "Epoch 9/100\n",
            "1/1 [==============================] - 0s 12ms/step - loss: 14.0366 - mae: 14.0366\n",
            "Epoch 10/100\n",
            "1/1 [==============================] - 0s 9ms/step - loss: 13.9041 - mae: 13.9041\n",
            "Epoch 11/100\n",
            "1/1 [==============================] - 0s 9ms/step - loss: 13.7716 - mae: 13.7716\n",
            "Epoch 12/100\n",
            "1/1 [==============================] - 0s 10ms/step - loss: 13.6391 - mae: 13.6391\n",
            "Epoch 13/100\n",
            "1/1 [==============================] - 0s 9ms/step - loss: 13.5066 - mae: 13.5066\n",
            "Epoch 14/100\n",
            "1/1 [==============================] - 0s 9ms/step - loss: 13.3741 - mae: 13.3741\n",
            "Epoch 15/100\n",
            "1/1 [==============================] - 0s 10ms/step - loss: 13.2416 - mae: 13.2416\n",
            "Epoch 16/100\n",
            "1/1 [==============================] - 0s 10ms/step - loss: 13.1091 - mae: 13.1091\n",
            "Epoch 17/100\n",
            "1/1 [==============================] - 0s 9ms/step - loss: 12.9766 - mae: 12.9766\n",
            "Epoch 18/100\n",
            "1/1 [==============================] - 0s 10ms/step - loss: 12.8441 - mae: 12.8441\n",
            "Epoch 19/100\n",
            "1/1 [==============================] - 0s 10ms/step - loss: 12.7116 - mae: 12.7116\n",
            "Epoch 20/100\n",
            "1/1 [==============================] - 0s 11ms/step - loss: 12.5791 - mae: 12.5791\n",
            "Epoch 21/100\n",
            "1/1 [==============================] - 0s 10ms/step - loss: 12.4466 - mae: 12.4466\n",
            "Epoch 22/100\n",
            "1/1 [==============================] - 0s 10ms/step - loss: 12.3141 - mae: 12.3141\n",
            "Epoch 23/100\n",
            "1/1 [==============================] - 0s 12ms/step - loss: 12.1816 - mae: 12.1816\n",
            "Epoch 24/100\n",
            "1/1 [==============================] - 0s 10ms/step - loss: 12.0491 - mae: 12.0491\n",
            "Epoch 25/100\n",
            "1/1 [==============================] - 0s 10ms/step - loss: 11.9166 - mae: 11.9166\n",
            "Epoch 26/100\n",
            "1/1 [==============================] - 0s 10ms/step - loss: 11.7841 - mae: 11.7841\n",
            "Epoch 27/100\n",
            "1/1 [==============================] - 0s 9ms/step - loss: 11.6516 - mae: 11.6516\n",
            "Epoch 28/100\n",
            "1/1 [==============================] - 0s 15ms/step - loss: 11.5191 - mae: 11.5191\n",
            "Epoch 29/100\n",
            "1/1 [==============================] - 0s 12ms/step - loss: 11.3866 - mae: 11.3866\n",
            "Epoch 30/100\n",
            "1/1 [==============================] - 0s 10ms/step - loss: 11.2541 - mae: 11.2541\n",
            "Epoch 31/100\n",
            "1/1 [==============================] - 0s 11ms/step - loss: 11.1216 - mae: 11.1216\n",
            "Epoch 32/100\n",
            "1/1 [==============================] - 0s 9ms/step - loss: 10.9891 - mae: 10.9891\n",
            "Epoch 33/100\n",
            "1/1 [==============================] - 0s 9ms/step - loss: 10.8566 - mae: 10.8566\n",
            "Epoch 34/100\n",
            "1/1 [==============================] - 0s 10ms/step - loss: 10.7241 - mae: 10.7241\n",
            "Epoch 35/100\n",
            "1/1 [==============================] - 0s 10ms/step - loss: 10.5916 - mae: 10.5916\n",
            "Epoch 36/100\n",
            "1/1 [==============================] - 0s 10ms/step - loss: 10.4591 - mae: 10.4591\n",
            "Epoch 37/100\n",
            "1/1 [==============================] - 0s 10ms/step - loss: 10.3266 - mae: 10.3266\n",
            "Epoch 38/100\n",
            "1/1 [==============================] - 0s 10ms/step - loss: 10.1941 - mae: 10.1941\n",
            "Epoch 39/100\n",
            "1/1 [==============================] - 0s 10ms/step - loss: 10.0616 - mae: 10.0616\n",
            "Epoch 40/100\n",
            "1/1 [==============================] - 0s 16ms/step - loss: 9.9291 - mae: 9.9291\n",
            "Epoch 41/100\n",
            "1/1 [==============================] - 0s 10ms/step - loss: 9.7966 - mae: 9.7966\n",
            "Epoch 42/100\n",
            "1/1 [==============================] - 0s 10ms/step - loss: 9.6641 - mae: 9.6641\n",
            "Epoch 43/100\n",
            "1/1 [==============================] - 0s 11ms/step - loss: 9.5316 - mae: 9.5316\n",
            "Epoch 44/100\n",
            "1/1 [==============================] - 0s 18ms/step - loss: 9.3991 - mae: 9.3991\n",
            "Epoch 45/100\n",
            "1/1 [==============================] - 0s 9ms/step - loss: 9.2666 - mae: 9.2666\n",
            "Epoch 46/100\n",
            "1/1 [==============================] - 0s 10ms/step - loss: 9.1341 - mae: 9.1341\n",
            "Epoch 47/100\n",
            "1/1 [==============================] - 0s 11ms/step - loss: 9.0016 - mae: 9.0016\n",
            "Epoch 48/100\n",
            "1/1 [==============================] - 0s 9ms/step - loss: 8.8691 - mae: 8.8691\n",
            "Epoch 49/100\n",
            "1/1 [==============================] - 0s 10ms/step - loss: 8.7366 - mae: 8.7366\n",
            "Epoch 50/100\n",
            "1/1 [==============================] - 0s 10ms/step - loss: 8.6041 - mae: 8.6041\n",
            "Epoch 51/100\n",
            "1/1 [==============================] - 0s 10ms/step - loss: 8.4716 - mae: 8.4716\n",
            "Epoch 52/100\n",
            "1/1 [==============================] - 0s 10ms/step - loss: 8.3391 - mae: 8.3391\n",
            "Epoch 53/100\n",
            "1/1 [==============================] - 0s 10ms/step - loss: 8.2066 - mae: 8.2066\n",
            "Epoch 54/100\n",
            "1/1 [==============================] - 0s 10ms/step - loss: 8.0741 - mae: 8.0741\n",
            "Epoch 55/100\n",
            "1/1 [==============================] - 0s 10ms/step - loss: 7.9416 - mae: 7.9416\n",
            "Epoch 56/100\n",
            "1/1 [==============================] - 0s 10ms/step - loss: 7.8091 - mae: 7.8091\n",
            "Epoch 57/100\n",
            "1/1 [==============================] - 0s 10ms/step - loss: 7.6766 - mae: 7.6766\n",
            "Epoch 58/100\n",
            "1/1 [==============================] - 0s 11ms/step - loss: 7.5441 - mae: 7.5441\n",
            "Epoch 59/100\n",
            "1/1 [==============================] - 0s 10ms/step - loss: 7.4116 - mae: 7.4116\n",
            "Epoch 60/100\n",
            "1/1 [==============================] - 0s 10ms/step - loss: 7.2791 - mae: 7.2791\n",
            "Epoch 61/100\n",
            "1/1 [==============================] - 0s 10ms/step - loss: 7.1466 - mae: 7.1466\n",
            "Epoch 62/100\n",
            "1/1 [==============================] - 0s 10ms/step - loss: 7.0462 - mae: 7.0462\n",
            "Epoch 63/100\n",
            "1/1 [==============================] - 0s 9ms/step - loss: 7.0406 - mae: 7.0406\n",
            "Epoch 64/100\n",
            "1/1 [==============================] - 0s 12ms/step - loss: 7.0350 - mae: 7.0350\n",
            "Epoch 65/100\n",
            "1/1 [==============================] - 0s 11ms/step - loss: 7.0294 - mae: 7.0294\n",
            "Epoch 66/100\n",
            "1/1 [==============================] - 0s 10ms/step - loss: 7.0238 - mae: 7.0238\n",
            "Epoch 67/100\n",
            "1/1 [==============================] - 0s 11ms/step - loss: 7.0181 - mae: 7.0181\n",
            "Epoch 68/100\n",
            "1/1 [==============================] - 0s 10ms/step - loss: 7.0125 - mae: 7.0125\n",
            "Epoch 69/100\n",
            "1/1 [==============================] - 0s 11ms/step - loss: 7.0069 - mae: 7.0069\n",
            "Epoch 70/100\n",
            "1/1 [==============================] - 0s 9ms/step - loss: 7.0013 - mae: 7.0013\n",
            "Epoch 71/100\n",
            "1/1 [==============================] - 0s 10ms/step - loss: 6.9956 - mae: 6.9956\n",
            "Epoch 72/100\n",
            "1/1 [==============================] - 0s 11ms/step - loss: 6.9900 - mae: 6.9900\n",
            "Epoch 73/100\n",
            "1/1 [==============================] - 0s 10ms/step - loss: 6.9844 - mae: 6.9844\n",
            "Epoch 74/100\n",
            "1/1 [==============================] - 0s 9ms/step - loss: 6.9788 - mae: 6.9788\n",
            "Epoch 75/100\n",
            "1/1 [==============================] - 0s 10ms/step - loss: 6.9731 - mae: 6.9731\n",
            "Epoch 76/100\n",
            "1/1 [==============================] - 0s 10ms/step - loss: 6.9675 - mae: 6.9675\n",
            "Epoch 77/100\n",
            "1/1 [==============================] - 0s 11ms/step - loss: 6.9619 - mae: 6.9619\n",
            "Epoch 78/100\n",
            "1/1 [==============================] - 0s 11ms/step - loss: 6.9563 - mae: 6.9563\n",
            "Epoch 79/100\n",
            "1/1 [==============================] - 0s 11ms/step - loss: 6.9506 - mae: 6.9506\n",
            "Epoch 80/100\n",
            "1/1 [==============================] - 0s 10ms/step - loss: 6.9450 - mae: 6.9450\n",
            "Epoch 81/100\n",
            "1/1 [==============================] - 0s 10ms/step - loss: 6.9394 - mae: 6.9394\n",
            "Epoch 82/100\n",
            "1/1 [==============================] - 0s 11ms/step - loss: 6.9338 - mae: 6.9338\n",
            "Epoch 83/100\n",
            "1/1 [==============================] - 0s 11ms/step - loss: 6.9281 - mae: 6.9281\n",
            "Epoch 84/100\n",
            "1/1 [==============================] - 0s 12ms/step - loss: 6.9225 - mae: 6.9225\n",
            "Epoch 85/100\n",
            "1/1 [==============================] - 0s 10ms/step - loss: 6.9169 - mae: 6.9169\n",
            "Epoch 86/100\n",
            "1/1 [==============================] - 0s 13ms/step - loss: 6.9113 - mae: 6.9113\n",
            "Epoch 87/100\n",
            "1/1 [==============================] - 0s 10ms/step - loss: 6.9056 - mae: 6.9056\n",
            "Epoch 88/100\n",
            "1/1 [==============================] - 0s 10ms/step - loss: 6.9000 - mae: 6.9000\n",
            "Epoch 89/100\n",
            "1/1 [==============================] - 0s 12ms/step - loss: 6.8944 - mae: 6.8944\n",
            "Epoch 90/100\n",
            "1/1 [==============================] - 0s 11ms/step - loss: 6.8888 - mae: 6.8888\n",
            "Epoch 91/100\n",
            "1/1 [==============================] - 0s 10ms/step - loss: 6.8831 - mae: 6.8831\n",
            "Epoch 92/100\n",
            "1/1 [==============================] - 0s 10ms/step - loss: 6.8775 - mae: 6.8775\n",
            "Epoch 93/100\n",
            "1/1 [==============================] - 0s 10ms/step - loss: 6.8719 - mae: 6.8719\n",
            "Epoch 94/100\n",
            "1/1 [==============================] - 0s 11ms/step - loss: 6.8663 - mae: 6.8663\n",
            "Epoch 95/100\n",
            "1/1 [==============================] - 0s 10ms/step - loss: 6.8606 - mae: 6.8606\n",
            "Epoch 96/100\n",
            "1/1 [==============================] - 0s 11ms/step - loss: 6.8550 - mae: 6.8550\n",
            "Epoch 97/100\n",
            "1/1 [==============================] - 0s 11ms/step - loss: 6.8494 - mae: 6.8494\n",
            "Epoch 98/100\n",
            "1/1 [==============================] - 0s 14ms/step - loss: 6.8438 - mae: 6.8438\n",
            "Epoch 99/100\n",
            "1/1 [==============================] - 0s 9ms/step - loss: 6.8381 - mae: 6.8381\n",
            "Epoch 100/100\n",
            "1/1 [==============================] - 0s 11ms/step - loss: 6.8325 - mae: 6.8325\n"
          ]
        },
        {
          "output_type": "execute_result",
          "data": {
            "text/plain": [
              "<keras.callbacks.History at 0x7f584c425c30>"
            ]
          },
          "metadata": {},
          "execution_count": 27
        }
      ]
    },
    {
      "cell_type": "code",
      "source": [
        "# Remind ourselves of the data\n",
        "X, y"
      ],
      "metadata": {
        "colab": {
          "base_uri": "https://localhost:8080/"
        },
        "id": "uT0UcjzQPRsr",
        "outputId": "beffbdda-2100-4010-c3a6-8e6759f939e8"
      },
      "execution_count": 25,
      "outputs": [
        {
          "output_type": "execute_result",
          "data": {
            "text/plain": [
              "(<tf.Tensor: shape=(8,), dtype=float32, numpy=array([-7., -4., -1.,  2.,  5.,  8., 11., 14.], dtype=float32)>,\n",
              " <tf.Tensor: shape=(8,), dtype=float32, numpy=array([ 3.,  6.,  9., 12., 15., 18., 21., 24.], dtype=float32)>)"
            ]
          },
          "metadata": {},
          "execution_count": 25
        }
      ]
    },
    {
      "cell_type": "code",
      "source": [
        "y_pred = model.predict([17.0])\n",
        "y_pred"
      ],
      "metadata": {
        "colab": {
          "base_uri": "https://localhost:8080/"
        },
        "id": "mnlrlpyHOyHz",
        "outputId": "e00aff0b-cb19-48f2-e828-0b76325e494e"
      },
      "execution_count": 28,
      "outputs": [
        {
          "output_type": "stream",
          "name": "stdout",
          "text": [
            "1/1 [==============================] - 0s 51ms/step\n"
          ]
        },
        {
          "output_type": "execute_result",
          "data": {
            "text/plain": [
              "array([[29.462069]], dtype=float32)"
            ]
          },
          "metadata": {},
          "execution_count": 28
        }
      ]
    },
    {
      "cell_type": "code",
      "source": [
        "from keras import optimizers\n",
        "# Let's see if we can make another to improve model\n",
        "\n",
        "# 1. Create the model ()\n",
        "model = tf.keras.Sequential([\n",
        "    tf.keras.layers.Dense(50, activation=None),\n",
        "    tf.keras.layers.Dense(1)\n",
        "])\n",
        "\n",
        "# 2. Compile the model\n",
        "model.compile(loss=tf.keras.losses.mae,\n",
        "              optimizer=tf.keras.optimizers.Adam(learning_rate=0.01),\n",
        "              metrics=[\"mae\"])\n",
        "\n",
        "# 3. Fit the model\n",
        "model.fit(tf.expand_dims(X, axis=-1), y, epochs=100)"
      ],
      "metadata": {
        "colab": {
          "base_uri": "https://localhost:8080/"
        },
        "id": "JN8xmx2sPDfq",
        "outputId": "bd1ae126-75cb-4019-ddc8-a98d7edfc1fe"
      },
      "execution_count": 72,
      "outputs": [
        {
          "output_type": "stream",
          "name": "stdout",
          "text": [
            "Epoch 1/100\n",
            "1/1 [==============================] - 1s 1s/step - loss: 13.5841 - mae: 13.5841\n",
            "Epoch 2/100\n",
            "1/1 [==============================] - 0s 14ms/step - loss: 13.0074 - mae: 13.0074\n",
            "Epoch 3/100\n",
            "1/1 [==============================] - 0s 13ms/step - loss: 12.4339 - mae: 12.4339\n",
            "Epoch 4/100\n",
            "1/1 [==============================] - 0s 10ms/step - loss: 11.8603 - mae: 11.8603\n",
            "Epoch 5/100\n",
            "1/1 [==============================] - 0s 10ms/step - loss: 11.2846 - mae: 11.2846\n",
            "Epoch 6/100\n",
            "1/1 [==============================] - 0s 10ms/step - loss: 10.7041 - mae: 10.7041\n",
            "Epoch 7/100\n",
            "1/1 [==============================] - 0s 10ms/step - loss: 10.1149 - mae: 10.1149\n",
            "Epoch 8/100\n",
            "1/1 [==============================] - 0s 9ms/step - loss: 9.5125 - mae: 9.5125\n",
            "Epoch 9/100\n",
            "1/1 [==============================] - 0s 14ms/step - loss: 8.8924 - mae: 8.8924\n",
            "Epoch 10/100\n",
            "1/1 [==============================] - 0s 12ms/step - loss: 8.2504 - mae: 8.2504\n",
            "Epoch 11/100\n",
            "1/1 [==============================] - 0s 11ms/step - loss: 7.5824 - mae: 7.5824\n",
            "Epoch 12/100\n",
            "1/1 [==============================] - 0s 12ms/step - loss: 6.8846 - mae: 6.8846\n",
            "Epoch 13/100\n",
            "1/1 [==============================] - 0s 11ms/step - loss: 6.6258 - mae: 6.6258\n",
            "Epoch 14/100\n",
            "1/1 [==============================] - 0s 11ms/step - loss: 6.9032 - mae: 6.9032\n",
            "Epoch 15/100\n",
            "1/1 [==============================] - 0s 10ms/step - loss: 7.1734 - mae: 7.1734\n",
            "Epoch 16/100\n",
            "1/1 [==============================] - 0s 10ms/step - loss: 7.4941 - mae: 7.4941\n",
            "Epoch 17/100\n",
            "1/1 [==============================] - 0s 9ms/step - loss: 7.6075 - mae: 7.6075\n",
            "Epoch 18/100\n",
            "1/1 [==============================] - 0s 10ms/step - loss: 7.5279 - mae: 7.5279\n",
            "Epoch 19/100\n",
            "1/1 [==============================] - 0s 10ms/step - loss: 7.3012 - mae: 7.3012\n",
            "Epoch 20/100\n",
            "1/1 [==============================] - 0s 10ms/step - loss: 6.9632 - mae: 6.9632\n",
            "Epoch 21/100\n",
            "1/1 [==============================] - 0s 11ms/step - loss: 6.6667 - mae: 6.6667\n",
            "Epoch 22/100\n",
            "1/1 [==============================] - 0s 10ms/step - loss: 6.3974 - mae: 6.3974\n",
            "Epoch 23/100\n",
            "1/1 [==============================] - 0s 10ms/step - loss: 6.1219 - mae: 6.1219\n",
            "Epoch 24/100\n",
            "1/1 [==============================] - 0s 10ms/step - loss: 5.9933 - mae: 5.9933\n",
            "Epoch 25/100\n",
            "1/1 [==============================] - 0s 10ms/step - loss: 5.9618 - mae: 5.9618\n",
            "Epoch 26/100\n",
            "1/1 [==============================] - 0s 10ms/step - loss: 6.0866 - mae: 6.0866\n",
            "Epoch 27/100\n",
            "1/1 [==============================] - 0s 10ms/step - loss: 6.1684 - mae: 6.1684\n",
            "Epoch 28/100\n",
            "1/1 [==============================] - 0s 10ms/step - loss: 6.1494 - mae: 6.1494\n",
            "Epoch 29/100\n",
            "1/1 [==============================] - 0s 11ms/step - loss: 6.0425 - mae: 6.0425\n",
            "Epoch 30/100\n",
            "1/1 [==============================] - 0s 10ms/step - loss: 5.8569 - mae: 5.8569\n",
            "Epoch 31/100\n",
            "1/1 [==============================] - 0s 10ms/step - loss: 5.5992 - mae: 5.5992\n",
            "Epoch 32/100\n",
            "1/1 [==============================] - 0s 10ms/step - loss: 5.4187 - mae: 5.4187\n",
            "Epoch 33/100\n",
            "1/1 [==============================] - 0s 10ms/step - loss: 5.3020 - mae: 5.3020\n",
            "Epoch 34/100\n",
            "1/1 [==============================] - 0s 9ms/step - loss: 5.2455 - mae: 5.2455\n",
            "Epoch 35/100\n",
            "1/1 [==============================] - 0s 10ms/step - loss: 5.2517 - mae: 5.2517\n",
            "Epoch 36/100\n",
            "1/1 [==============================] - 0s 10ms/step - loss: 5.2196 - mae: 5.2196\n",
            "Epoch 37/100\n",
            "1/1 [==============================] - 0s 12ms/step - loss: 5.1519 - mae: 5.1519\n",
            "Epoch 38/100\n",
            "1/1 [==============================] - 0s 10ms/step - loss: 5.0513 - mae: 5.0513\n",
            "Epoch 39/100\n",
            "1/1 [==============================] - 0s 10ms/step - loss: 4.9208 - mae: 4.9208\n",
            "Epoch 40/100\n",
            "1/1 [==============================] - 0s 10ms/step - loss: 4.7631 - mae: 4.7631\n",
            "Epoch 41/100\n",
            "1/1 [==============================] - 0s 11ms/step - loss: 4.5810 - mae: 4.5810\n",
            "Epoch 42/100\n",
            "1/1 [==============================] - 0s 11ms/step - loss: 4.4328 - mae: 4.4328\n",
            "Epoch 43/100\n",
            "1/1 [==============================] - 0s 10ms/step - loss: 4.3453 - mae: 4.3453\n",
            "Epoch 44/100\n",
            "1/1 [==============================] - 0s 11ms/step - loss: 4.2486 - mae: 4.2486\n",
            "Epoch 45/100\n",
            "1/1 [==============================] - 0s 12ms/step - loss: 4.1590 - mae: 4.1590\n",
            "Epoch 46/100\n",
            "1/1 [==============================] - 0s 11ms/step - loss: 4.0282 - mae: 4.0282\n",
            "Epoch 47/100\n",
            "1/1 [==============================] - 0s 13ms/step - loss: 3.8674 - mae: 3.8674\n",
            "Epoch 48/100\n",
            "1/1 [==============================] - 0s 12ms/step - loss: 3.7120 - mae: 3.7120\n",
            "Epoch 49/100\n",
            "1/1 [==============================] - 0s 12ms/step - loss: 3.5487 - mae: 3.5487\n",
            "Epoch 50/100\n",
            "1/1 [==============================] - 0s 11ms/step - loss: 3.4424 - mae: 3.4424\n",
            "Epoch 51/100\n",
            "1/1 [==============================] - 0s 12ms/step - loss: 3.3243 - mae: 3.3243\n",
            "Epoch 52/100\n",
            "1/1 [==============================] - 0s 13ms/step - loss: 3.1623 - mae: 3.1623\n",
            "Epoch 53/100\n",
            "1/1 [==============================] - 0s 12ms/step - loss: 2.9583 - mae: 2.9583\n",
            "Epoch 54/100\n",
            "1/1 [==============================] - 0s 13ms/step - loss: 2.7318 - mae: 2.7318\n",
            "Epoch 55/100\n",
            "1/1 [==============================] - 0s 11ms/step - loss: 2.5618 - mae: 2.5618\n",
            "Epoch 56/100\n",
            "1/1 [==============================] - 0s 12ms/step - loss: 2.3790 - mae: 2.3790\n",
            "Epoch 57/100\n",
            "1/1 [==============================] - 0s 14ms/step - loss: 2.2052 - mae: 2.2052\n",
            "Epoch 58/100\n",
            "1/1 [==============================] - 0s 13ms/step - loss: 1.9610 - mae: 1.9610\n",
            "Epoch 59/100\n",
            "1/1 [==============================] - 0s 11ms/step - loss: 1.7268 - mae: 1.7268\n",
            "Epoch 60/100\n",
            "1/1 [==============================] - 0s 11ms/step - loss: 1.5274 - mae: 1.5274\n",
            "Epoch 61/100\n",
            "1/1 [==============================] - 0s 12ms/step - loss: 1.2993 - mae: 1.2993\n",
            "Epoch 62/100\n",
            "1/1 [==============================] - 0s 12ms/step - loss: 1.0099 - mae: 1.0099\n",
            "Epoch 63/100\n",
            "1/1 [==============================] - 0s 12ms/step - loss: 0.8011 - mae: 0.8011\n",
            "Epoch 64/100\n",
            "1/1 [==============================] - 0s 10ms/step - loss: 0.5304 - mae: 0.5304\n",
            "Epoch 65/100\n",
            "1/1 [==============================] - 0s 10ms/step - loss: 0.2644 - mae: 0.2644\n",
            "Epoch 66/100\n",
            "1/1 [==============================] - 0s 11ms/step - loss: 0.1681 - mae: 0.1681\n",
            "Epoch 67/100\n",
            "1/1 [==============================] - 0s 11ms/step - loss: 0.3856 - mae: 0.3856\n",
            "Epoch 68/100\n",
            "1/1 [==============================] - 0s 12ms/step - loss: 0.5184 - mae: 0.5184\n",
            "Epoch 69/100\n",
            "1/1 [==============================] - 0s 12ms/step - loss: 0.5970 - mae: 0.5970\n",
            "Epoch 70/100\n",
            "1/1 [==============================] - 0s 11ms/step - loss: 0.7112 - mae: 0.7112\n",
            "Epoch 71/100\n",
            "1/1 [==============================] - 0s 14ms/step - loss: 0.6706 - mae: 0.6706\n",
            "Epoch 72/100\n",
            "1/1 [==============================] - 0s 11ms/step - loss: 0.7020 - mae: 0.7020\n",
            "Epoch 73/100\n",
            "1/1 [==============================] - 0s 10ms/step - loss: 0.6598 - mae: 0.6598\n",
            "Epoch 74/100\n",
            "1/1 [==============================] - 0s 11ms/step - loss: 0.5076 - mae: 0.5076\n",
            "Epoch 75/100\n",
            "1/1 [==============================] - 0s 11ms/step - loss: 0.5033 - mae: 0.5033\n",
            "Epoch 76/100\n",
            "1/1 [==============================] - 0s 10ms/step - loss: 0.3217 - mae: 0.3217\n",
            "Epoch 77/100\n",
            "1/1 [==============================] - 0s 11ms/step - loss: 0.2492 - mae: 0.2492\n",
            "Epoch 78/100\n",
            "1/1 [==============================] - 0s 11ms/step - loss: 0.1615 - mae: 0.1615\n",
            "Epoch 79/100\n",
            "1/1 [==============================] - 0s 10ms/step - loss: 0.2439 - mae: 0.2439\n",
            "Epoch 80/100\n",
            "1/1 [==============================] - 0s 10ms/step - loss: 0.3102 - mae: 0.3102\n",
            "Epoch 81/100\n",
            "1/1 [==============================] - 0s 13ms/step - loss: 0.3450 - mae: 0.3450\n",
            "Epoch 82/100\n",
            "1/1 [==============================] - 0s 10ms/step - loss: 0.3572 - mae: 0.3572\n",
            "Epoch 83/100\n",
            "1/1 [==============================] - 0s 12ms/step - loss: 0.3560 - mae: 0.3560\n",
            "Epoch 84/100\n",
            "1/1 [==============================] - 0s 11ms/step - loss: 0.3140 - mae: 0.3140\n",
            "Epoch 85/100\n",
            "1/1 [==============================] - 0s 11ms/step - loss: 0.2661 - mae: 0.2661\n",
            "Epoch 86/100\n",
            "1/1 [==============================] - 0s 12ms/step - loss: 0.1830 - mae: 0.1830\n",
            "Epoch 87/100\n",
            "1/1 [==============================] - 0s 10ms/step - loss: 0.1296 - mae: 0.1296\n",
            "Epoch 88/100\n",
            "1/1 [==============================] - 0s 14ms/step - loss: 0.0763 - mae: 0.0763\n",
            "Epoch 89/100\n",
            "1/1 [==============================] - 0s 16ms/step - loss: 0.2079 - mae: 0.2079\n",
            "Epoch 90/100\n",
            "1/1 [==============================] - 0s 13ms/step - loss: 0.1766 - mae: 0.1766\n",
            "Epoch 91/100\n",
            "1/1 [==============================] - 0s 17ms/step - loss: 0.2366 - mae: 0.2366\n",
            "Epoch 92/100\n",
            "1/1 [==============================] - 0s 13ms/step - loss: 0.1452 - mae: 0.1452\n",
            "Epoch 93/100\n",
            "1/1 [==============================] - 0s 11ms/step - loss: 0.1839 - mae: 0.1839\n",
            "Epoch 94/100\n",
            "1/1 [==============================] - 0s 11ms/step - loss: 0.0176 - mae: 0.0176\n",
            "Epoch 95/100\n",
            "1/1 [==============================] - 0s 13ms/step - loss: 0.3278 - mae: 0.3278\n",
            "Epoch 96/100\n",
            "1/1 [==============================] - 0s 10ms/step - loss: 0.3537 - mae: 0.3537\n",
            "Epoch 97/100\n",
            "1/1 [==============================] - 0s 10ms/step - loss: 0.1999 - mae: 0.1999\n",
            "Epoch 98/100\n",
            "1/1 [==============================] - 0s 10ms/step - loss: 0.3721 - mae: 0.3721\n",
            "Epoch 99/100\n",
            "1/1 [==============================] - 0s 9ms/step - loss: 0.4206 - mae: 0.4206\n",
            "Epoch 100/100\n",
            "1/1 [==============================] - 0s 8ms/step - loss: 0.3183 - mae: 0.3183\n"
          ]
        },
        {
          "output_type": "execute_result",
          "data": {
            "text/plain": [
              "<keras.callbacks.History at 0x7f5836279480>"
            ]
          },
          "metadata": {},
          "execution_count": 72
        }
      ]
    },
    {
      "cell_type": "code",
      "source": [
        "y_pred = model.predict([17.0])\n",
        "y_pred"
      ],
      "metadata": {
        "colab": {
          "base_uri": "https://localhost:8080/"
        },
        "id": "iaqFlVgIQ8Qh",
        "outputId": "0ffacc7d-ba94-4a7e-e629-fff5e72a6a25"
      },
      "execution_count": 73,
      "outputs": [
        {
          "output_type": "stream",
          "name": "stdout",
          "text": [
            "1/1 [==============================] - 0s 59ms/step\n"
          ]
        },
        {
          "output_type": "execute_result",
          "data": {
            "text/plain": [
              "array([[27.007]], dtype=float32)"
            ]
          },
          "metadata": {},
          "execution_count": 73
        }
      ]
    },
    {
      "cell_type": "markdown",
      "source": [
        "## Evaluating a model \n",
        "\n",
        "A typical workflow you'll go through when building neural networks is:\n",
        "\n",
        "```\n",
        "Build a model -> evaluate it -> build (tweak) a model -> evaulate it -> build (tweak) a model -> evaluate it...\n",
        "```\n",
        "\n",
        "The tweaking comes from maybe not building a model from scratch but adjusting an existing one.\n",
        "\n",
        "### Visualize, visualize, visualize\n",
        "\n",
        "When it comes to evaluation, you'll want to remember the words: \"visualize, visualize, visualize.\" \n",
        "\n",
        "This is because you're probably better looking at something (doing) than you are thinking about something.\n",
        "\n",
        "It's a good idea to visualize:\n",
        "* **The data** - what data are you working with? What does it look like?\n",
        "* **The model itself** - what does the architecture look like? What are the different shapes?\n",
        "* **The training of a model** - how does a model perform while it learns?\n",
        "* **The predictions of a model** - how do the predictions of a model line up against the ground truth (the original labels)?\n",
        "\n",
        "Let's start by visualizing the model.\n",
        "\n",
        "But first, we'll create a little bit of a bigger dataset and a new model we can use (it'll be the same as before, but the more practice the better).\n"
      ],
      "metadata": {
        "id": "T2Th54AtRK0B"
      }
    }
  ]
}