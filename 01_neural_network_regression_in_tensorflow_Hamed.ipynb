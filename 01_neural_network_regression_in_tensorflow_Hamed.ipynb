{
  "nbformat": 4,
  "nbformat_minor": 0,
  "metadata": {
    "colab": {
      "provenance": []
    },
    "kernelspec": {
      "name": "python3",
      "display_name": "Python 3"
    },
    "language_info": {
      "name": "python"
    },
    "accelerator": "GPU",
    "gpuClass": "standard"
  },
  "cells": [
    {
      "cell_type": "markdown",
      "source": [
        "# 01. Neural Network Regression with TensorFlow\n",
        "\n",
        "There are many definitions for a [regression problem](https://en.wikipedia.org/wiki/Regression_analysis) but in our case, we're going to simplify it to be: predicting a number.\n",
        "\n",
        "For example, you might want to:\n",
        "- Predict the selling price of houses given information about them (such as number of rooms, size, number of bathrooms).\n",
        "- Predict the coordinates of a bounding box of an item in an image.\n",
        "- Predict the cost of medical insurance for an individual given their demographics (age, sex, gender, race).\n",
        "\n",
        "In this notebook, we're going to set the foundations for how you can take a sample of inputs (this is your data), build a neural network to discover patterns in those inputs and then make a prediction (in the form of a number) based on those inputs.\n",
        "\n",
        "## What we're going to cover\n",
        "\n",
        "Specifically, we're going to go through doing the following with TensorFlow:\n",
        "- Architecture of a regression model\n",
        "- Input shapes and output shapes\n",
        "  - `X`: features/data (inputs)\n",
        "  - `y`: labels (outputs)\n",
        "- Creating custom data to view and fit\n",
        "- Steps in modelling\n",
        "  - Creating a model\n",
        "  - Compiling a model\n",
        "    - Defining a loss function\n",
        "    - Setting up an optimizer\n",
        "    - Creating evaluation metrics\n",
        "  - Fitting a model (getting it to find patterns in our data)\n",
        "- Evaluating a model\n",
        "  - Visualizng the model (\"visualize, visualize, visualize\")\n",
        "  - Looking at training curves\n",
        "  - Compare predictions to ground truth (using our evaluation metrics)\n",
        "- Saving a model (so we can use it later)\n",
        "- Loading a model\n",
        "\n",
        "Don't worry if none of these make sense now, we're going to go through each.\n",
        "\n",
        "## How you can use this notebook\n",
        "\n",
        "You can read through the descriptions and the code (it should all run), but there's a better option.\n",
        "\n",
        "Write all of the code yourself.\n",
        "\n",
        "Yes. I'm serious. Create a new notebook, and rewrite each line by yourself. Investigate it, see if you can break it, why does it break?\n",
        "\n",
        "You don't have to write the text descriptions but writing the code yourself is a great way to get hands-on experience.\n",
        "\n",
        "Don't worry if you make mistakes, we all do. The way to get better and make less mistakes is to **write more code**."
      ],
      "metadata": {
        "id": "A2gk85emVKRE"
      }
    },
    {
      "cell_type": "markdown",
      "source": [
        "## Typical architecture of a regresison neural network\n",
        "\n",
        "The word *typical* is on purpose.\n",
        "\n",
        "Why?\n",
        "\n",
        "Because there are many different ways (actually, there's almost an infinite number of ways) to write neural networks.\n",
        "\n",
        "But the following is a generic setup for ingesting a collection of numbers, finding patterns in them and then outputing some kind of target number.\n",
        "\n",
        "Yes, the previous sentence is vague but we'll see this in action shortly.\n",
        "\n",
        "| **Hyperparameter** | **Typical value** |\n",
        "| --- | --- |\n",
        "| Input layer shape | Same shape as number of features (e.g. 3 for # bedrooms, # bathrooms, # car spaces in housing price prediction) |\n",
        "| Hidden layer(s) | Problem specific, minimum = 1, maximum = unlimited |\n",
        "| Neurons per hidden layer | Problem specific, generally 10 to 100 |\n",
        "| Output layer shape | Same shape as desired prediction shape (e.g. 1 for house price) |\n",
        "| Hidden activation | Usually [ReLU](https://www.kaggle.com/dansbecker/rectified-linear-units-relu-in-deep-learning) (rectified linear unit) |\n",
        "| Output activation | None, ReLU, logistic/tanh |\n",
        "| Loss function | [MSE](https://en.wikipedia.org/wiki/Mean_squared_error) (mean square error) or [MAE](https://en.wikipedia.org/wiki/Mean_absolute_error) (mean absolute error)/Huber (combination of MAE/MSE) if outliers |\n",
        "| Optimizer | [SGD](https://www.tensorflow.org/api_docs/python/tf/keras/optimizers/SGD) (stochastic gradient descent), [Adam](https://www.tensorflow.org/api_docs/python/tf/keras/optimizers/Adam) |\n",
        "\n",
        "***Table 1:*** *Typical architecture of a regression network.* ***Source:*** *Adapted from page 293 of [Hands-On Machine Learning with Scikit-Learn, Keras & TensorFlow Book by Aurélien Géron](https://www.oreilly.com/library/view/hands-on-machine-learning/9781492032632/)*\n",
        "\n",
        "Again, if you're new to neural networks and deep learning in general, much of the above table won't make sense. But don't worry, we'll be getting hands-on with all of it soon.\n",
        "\n",
        "> 🔑 **Note:** A **hyperparameter** in machine learning is something a data analyst or developer can set themselves, where as a **parameter** usually describes something a model learns on its own (a value not explicitly set by an analyst).\n",
        "\n",
        "Okay, enough talk, let's get started writing code.\n",
        "\n",
        "To use TensorFlow, we'll import it as the common alias `tf` (short for TensorFlow)."
      ],
      "metadata": {
        "id": "RP4CtyFAhcID"
      }
    },
    {
      "cell_type": "code",
      "source": [
        "# Import Tensorflow\n",
        "import tensorflow as tf\n",
        "print(tf.__version__)"
      ],
      "metadata": {
        "colab": {
          "base_uri": "https://localhost:8080/"
        },
        "id": "3ZwRpuRSh2lS",
        "outputId": "ad86eb34-0508-4c17-805c-8abe5a11028d"
      },
      "execution_count": null,
      "outputs": [
        {
          "output_type": "stream",
          "name": "stdout",
          "text": [
            "2.12.0\n"
          ]
        }
      ]
    },
    {
      "cell_type": "markdown",
      "source": [
        "## Create data to view and fit"
      ],
      "metadata": {
        "id": "_-lEkZ8AiALE"
      }
    },
    {
      "cell_type": "code",
      "source": [
        "import numpy as np\n",
        "import matplotlib.pyplot as plt \n",
        "\n",
        "# Create features\n",
        "X = np.array([-7.0, -4.0, -1.0, 2.0, 5.0, 8.0, 11.0, 14.0])\n",
        "\n",
        "# Create labels\n",
        "y = np.array([3.0, 6.0, 9.0, 12.0, 15.0, 18.0, 21.0, 24.0])\n",
        "\n",
        "# Visualize it\n",
        "plt.scatter(X, y)"
      ],
      "metadata": {
        "id": "zZcu4Lf1iT0r",
        "colab": {
          "base_uri": "https://localhost:8080/",
          "height": 453
        },
        "outputId": "ecc21a0e-d2ce-4206-c572-3f77b8fef281"
      },
      "execution_count": null,
      "outputs": [
        {
          "output_type": "execute_result",
          "data": {
            "text/plain": [
              "<matplotlib.collections.PathCollection at 0x7fc4c6d4a0b0>"
            ]
          },
          "metadata": {},
          "execution_count": 27
        },
        {
          "output_type": "display_data",
          "data": {
            "text/plain": [
              "<Figure size 640x480 with 1 Axes>"
            ],
            "image/png": "[encoded data removed]"
          },
          "metadata": {}
        }
      ]
    },
    {
      "cell_type": "code",
      "source": [
        "y == X +10"
      ],
      "metadata": {
        "colab": {
          "base_uri": "https://localhost:8080/"
        },
        "id": "UIv9C4_jBW52",
        "outputId": "5cb414e6-440b-4e17-ee2f-e8818fbe7b02"
      },
      "execution_count": null,
      "outputs": [
        {
          "output_type": "execute_result",
          "data": {
            "text/plain": [
              "array([ True,  True,  True,  True,  True,  True,  True,  True])"
            ]
          },
          "metadata": {},
          "execution_count": 28
        }
      ]
    },
    {
      "cell_type": "markdown",
      "source": [
        "## Input and output shapes"
      ],
      "metadata": {
        "id": "JfObIkVCBplk"
      }
    },
    {
      "cell_type": "code",
      "source": [
        "# Create a demo tensor for a housing price prediction problem\n",
        "house_info = tf.constant([\"bedroom\", \"bathroom\", \"garage\"])\n",
        "house_price = tf.constant([939700])\n",
        "house_info, house_price"
      ],
      "metadata": {
        "colab": {
          "base_uri": "https://localhost:8080/"
        },
        "id": "HEDd0Z3pB0v2",
        "outputId": "81e2eafe-65f9-415f-e7c9-e4bc4f588b31"
      },
      "execution_count": null,
      "outputs": [
        {
          "output_type": "execute_result",
          "data": {
            "text/plain": [
              "(<tf.Tensor: shape=(3,), dtype=string, numpy=array([b'bedroom', b'bathroom', b'garage'], dtype=object)>,\n",
              " <tf.Tensor: shape=(1,), dtype=int32, numpy=array([939700], dtype=int32)>)"
            ]
          },
          "metadata": {},
          "execution_count": 29
        }
      ]
    },
    {
      "cell_type": "code",
      "source": [
        "X[0], y[0]"
      ],
      "metadata": {
        "colab": {
          "base_uri": "https://localhost:8080/"
        },
        "id": "S7ldOlv0Dd5T",
        "outputId": "889fb31a-2eac-42ee-93f1-c44a28c74da6"
      },
      "execution_count": null,
      "outputs": [
        {
          "output_type": "execute_result",
          "data": {
            "text/plain": [
              "(-7.0, 3.0)"
            ]
          },
          "metadata": {},
          "execution_count": 30
        }
      ]
    },
    {
      "cell_type": "code",
      "source": [
        "input_shape = X[0].shape\n",
        "output_shape = y[0].shape\n",
        "input_shape, output_shape"
      ],
      "metadata": {
        "colab": {
          "base_uri": "https://localhost:8080/"
        },
        "id": "-ZS3iNtqC5ht",
        "outputId": "65ded409-88ce-44a3-c09f-9f71a3bfd37d"
      },
      "execution_count": null,
      "outputs": [
        {
          "output_type": "execute_result",
          "data": {
            "text/plain": [
              "((), ())"
            ]
          },
          "metadata": {},
          "execution_count": 31
        }
      ]
    },
    {
      "cell_type": "code",
      "source": [
        "X[0].ndim"
      ],
      "metadata": {
        "colab": {
          "base_uri": "https://localhost:8080/"
        },
        "id": "Tctvq9J4DTis",
        "outputId": "247f5a3b-ee4f-46ab-f7c6-5033061f6916"
      },
      "execution_count": null,
      "outputs": [
        {
          "output_type": "execute_result",
          "data": {
            "text/plain": [
              "0"
            ]
          },
          "metadata": {},
          "execution_count": 32
        }
      ]
    },
    {
      "cell_type": "code",
      "source": [
        "# Turn our NumPy array into Tensors with dtype float32\n",
        "X = tf.cast(tf.constant(X), dtype=tf.float32)\n",
        "y = tf.cast(tf.constant(y), dtype=tf.float32)\n",
        "X, y"
      ],
      "metadata": {
        "colab": {
          "base_uri": "https://localhost:8080/"
        },
        "id": "OZ2UyUrtDTAU",
        "outputId": "a801edfd-9a9e-47ef-c5b6-d6ecc82dd251"
      },
      "execution_count": null,
      "outputs": [
        {
          "output_type": "execute_result",
          "data": {
            "text/plain": [
              "(<tf.Tensor: shape=(8,), dtype=float32, numpy=array([-7., -4., -1.,  2.,  5.,  8., 11., 14.], dtype=float32)>,\n",
              " <tf.Tensor: shape=(8,), dtype=float32, numpy=array([ 3.,  6.,  9., 12., 15., 18., 21., 24.], dtype=float32)>)"
            ]
          },
          "metadata": {},
          "execution_count": 33
        }
      ]
    },
    {
      "cell_type": "code",
      "source": [
        "input_shape = X[0].shape\n",
        "out_shape = y[0].shape\n",
        "input_shape, out_shape"
      ],
      "metadata": {
        "colab": {
          "base_uri": "https://localhost:8080/"
        },
        "id": "gLlUw-ZUErCD",
        "outputId": "be563f7e-bd2d-4c8d-c1a8-0210e01dc912"
      },
      "execution_count": null,
      "outputs": [
        {
          "output_type": "execute_result",
          "data": {
            "text/plain": [
              "(TensorShape([]), TensorShape([]))"
            ]
          },
          "metadata": {},
          "execution_count": 34
        }
      ]
    },
    {
      "cell_type": "markdown",
      "source": [
        "## Steps in modelling with TensorFlow\n",
        "\n",
        "Now we know what data we have as well as the input and output shapes, let's see how we'd build a neural network to model it.\n",
        "\n",
        "In TensorFlow, there are typically 3 fundamental steps to creating and training a model.\n",
        "\n",
        "1. **Creating a model** - Define the input and output layes, as well as the hidden layers of a deep learning model. piece together the layers of a neural network yourself (using the [Functional](https://www.tensorflow.org/guide/keras/functional) or [Sequential API](https://www.tensorflow.org/api_docs/python/tf/keras/Sequential)) or import a previously built model (known as transfer learning).\n",
        "2. **Compiling a model** - defining how a models performance should be measured (**loss**(the function which tells our model how wrong it is)/**metrics**(what we can use to interpret the performance of our model)) as well as defining how it should improve (**optimizer**(tell our model how to improve the patterns its learning)). \n",
        "3. **Fitting a model** - letting the model try to find patterns in the data (how does `X` get to `y`). \n",
        "\n",
        "Let's see these in action using the [Keras Sequential API](https://www.tensorflow.org/api_docs/python/tf/keras/Sequential) to build a model for our regression data. And then we'll step through each.\n",
        "\n",
        "> **Note:** If you're using [TensorFlow 2.7.0](https://github.com/tensorflow/tensorflow/releases/tag/v2.7.0)+, the `fit()` function no longer upscales input data to go from `(batch_size, )` to `(batch_size, 1)`. To fix this, you'll need to expand the dimension of input data using `tf.expand_dims(input_data, axis=-1)`.\n",
        ">\n",
        "> In our case, this means instead of using `model.fit(X, y, epochs=5)`, use `model.fit(tf.expand_dims(X, axis=-1), y, epochs=5)`. "
      ],
      "metadata": {
        "id": "QY9WOSsUEvOz"
      }
    },
    {
      "cell_type": "code",
      "source": [
        "# Set random seed\n",
        "tf.random.set_seed(42)\n",
        "\n",
        "# 1- Create a model using the sequential API\n",
        "model = tf.keras.Sequential([\n",
        "    tf.keras.layers.Dense(1)\n",
        "])\n",
        "\n",
        "# 2- Compile the model\n",
        "model.compile(loss=tf.keras.losses.mae,\n",
        "              optimizer=tf.keras.optimizers.SGD(),\n",
        "              metrics=[\"mae\"])\n",
        "\n",
        "# model.fit(X, y, epochs=5) # this will break with TensorFlow 2.7.0+\n",
        "model.fit(tf.expand_dims(X, axis=-1), y, epochs=5)"
      ],
      "metadata": {
        "colab": {
          "base_uri": "https://localhost:8080/"
        },
        "id": "98NPoV-4E5jM",
        "outputId": "b4ecd5d1-8fa9-462c-cd33-e143df167c6d"
      },
      "execution_count": null,
      "outputs": [
        {
          "output_type": "stream",
          "name": "stdout",
          "text": [
            "Epoch 1/5\n",
            "1/1 [==============================] - 0s 373ms/step - loss: 16.7750 - mae: 16.7750\n",
            "Epoch 2/5\n",
            "1/1 [==============================] - 0s 10ms/step - loss: 16.4937 - mae: 16.4937\n",
            "Epoch 3/5\n",
            "1/1 [==============================] - 0s 10ms/step - loss: 16.2125 - mae: 16.2125\n",
            "Epoch 4/5\n",
            "1/1 [==============================] - 0s 13ms/step - loss: 15.9312 - mae: 15.9312\n",
            "Epoch 5/5\n",
            "1/1 [==============================] - 0s 9ms/step - loss: 15.6500 - mae: 15.6500\n"
          ]
        },
        {
          "output_type": "execute_result",
          "data": {
            "text/plain": [
              "<keras.callbacks.History at 0x7fc4c6d7f610>"
            ]
          },
          "metadata": {},
          "execution_count": 35
        }
      ]
    },
    {
      "cell_type": "markdown",
      "source": [
        "**epochs-- how many times the model will go through all of the training examples**"
      ],
      "metadata": {
        "id": "aKlmIDcxLOV1"
      }
    },
    {
      "cell_type": "code",
      "source": [
        "# Check out X and  y\n",
        "X, y"
      ],
      "metadata": {
        "colab": {
          "base_uri": "https://localhost:8080/"
        },
        "id": "N90kI3AqIvGV",
        "outputId": "fdf68733-8978-4154-e8c8-d0c683aa8515"
      },
      "execution_count": null,
      "outputs": [
        {
          "output_type": "execute_result",
          "data": {
            "text/plain": [
              "(<tf.Tensor: shape=(8,), dtype=float32, numpy=array([-7., -4., -1.,  2.,  5.,  8., 11., 14.], dtype=float32)>,\n",
              " <tf.Tensor: shape=(8,), dtype=float32, numpy=array([ 3.,  6.,  9., 12., 15., 18., 21., 24.], dtype=float32)>)"
            ]
          },
          "metadata": {},
          "execution_count": 36
        }
      ]
    },
    {
      "cell_type": "code",
      "source": [
        "# Try and make a prediction using our model\n",
        "y_pred = model.predict([17.0])\n",
        "y_pred"
      ],
      "metadata": {
        "colab": {
          "base_uri": "https://localhost:8080/"
        },
        "id": "p-JTXn56KVKj",
        "outputId": "0609cc6a-d967-48e1-b67a-3c8509fa8f41"
      },
      "execution_count": null,
      "outputs": [
        {
          "output_type": "stream",
          "name": "stdout",
          "text": [
            "1/1 [==============================] - 0s 55ms/step\n"
          ]
        },
        {
          "output_type": "execute_result",
          "data": {
            "text/plain": [
              "array([[-8.53323]], dtype=float32)"
            ]
          },
          "metadata": {},
          "execution_count": 37
        }
      ]
    },
    {
      "cell_type": "markdown",
      "source": [
        "## Improving a model\n",
        "\n",
        "How do you think you'd improve upon our current model?\n",
        "\n",
        "If you guessed by tweaking some of the things we did above, you'd be correct.\n",
        "\n",
        "To improve our model, we alter almost every part of the 3 steps we went through before.\n",
        "\n",
        "1. **Creating a model**:\n",
        "\n",
        "  1-1- here you might want to add more layers, \n",
        "\n",
        "  1-2- increase the number of hidden units (also called neurons) within each layer, \n",
        "\n",
        "  1-3- change the activation functions of each layer.\n",
        "2. **Compiling a model**:\n",
        "\n",
        " 2-1- you might want to choose optimization function \n",
        "\n",
        " 2-2- perhaps change the **learning rate** of the optimization function.\n",
        "3. **Fitting a model**:\n",
        "\n",
        " 3-1- perhaps you could fit a model for more **epochs** (leave it training for longer) \n",
        " \n",
        "  3-2- or on more data (give the model more examples to learn from).\n",
        "\n",
        "![various options you can use to improve a neural network model](https://raw.githubusercontent.com/mrdbourke/tensorflow-deep-learning/main/images/02-improving-a-model-from-model-perspective.png)\n",
        "*There are many different ways to potentially improve a neural network. Some of the most common include: increasing the number of layers (making the network deeper), increasing the number of hidden units (making the network wider) and changing the learning rate. Because these values are all human-changeable, they're referred to as [hyperparameters](https://en.wikipedia.org/wiki/Hyperparameter_(machine_learning)) and the practice of trying to find the best hyperparameters is referred to as [hyperparameter tuning](https://en.wikipedia.org/wiki/Hyperparameter_optimization).*\n",
        "\n",
        "Woah. We just introduced a bunch of possible steps. The important thing to remember is how you alter each of these will depend on the problem you're working on.\n",
        "\n",
        "And the good thing is, over the next few problems, we'll get hands-on with all of them.\n",
        "\n",
        "For now, let's keep it simple, all we'll do is train our model for longer (everything else will stay the same)."
      ],
      "metadata": {
        "id": "schJWD3bKiSi"
      }
    },
    {
      "cell_type": "code",
      "source": [
        "# Let's rebuild our model\n",
        "\n",
        "# 1. Create the model\n",
        "model = tf.keras.Sequential([\n",
        "    tf.keras.layers.Dense(1)\n",
        "])\n",
        "\n",
        "# Compile the model\n",
        "model.compile(loss=tf.keras.losses.mae,\n",
        "              optimizer=tf.keras.optimizers.SGD(),\n",
        "              metrics=[\"mae\"])\n",
        "\n",
        "# 3. Fit the model\n",
        "model.fit(tf.expand_dims(X, axis=-1), y, epochs=100)"
      ],
      "metadata": {
        "colab": {
          "base_uri": "https://localhost:8080/"
        },
        "id": "s291L5pBK2k0",
        "outputId": "811bb27c-2c18-4c18-fe4b-ce0c9a8ba346"
      },
      "execution_count": null,
      "outputs": [
        {
          "output_type": "stream",
          "name": "stdout",
          "text": [
            "Epoch 1/100\n",
            "1/1 [==============================] - 0s 352ms/step - loss: 11.4569 - mae: 11.4569\n",
            "Epoch 2/100\n",
            "1/1 [==============================] - 0s 8ms/step - loss: 11.3244 - mae: 11.3244\n",
            "Epoch 3/100\n",
            "1/1 [==============================] - 0s 8ms/step - loss: 11.1919 - mae: 11.1919\n",
            "Epoch 4/100\n",
            "1/1 [==============================] - 0s 15ms/step - loss: 11.0594 - mae: 11.0594\n",
            "Epoch 5/100\n",
            "1/1 [==============================] - 0s 10ms/step - loss: 10.9269 - mae: 10.9269\n",
            "Epoch 6/100\n",
            "1/1 [==============================] - 0s 11ms/step - loss: 10.7944 - mae: 10.7944\n",
            "Epoch 7/100\n",
            "1/1 [==============================] - 0s 10ms/step - loss: 10.6619 - mae: 10.6619\n",
            "Epoch 8/100\n",
            "1/1 [==============================] - 0s 10ms/step - loss: 10.5294 - mae: 10.5294\n",
            "Epoch 9/100\n",
            "1/1 [==============================] - 0s 10ms/step - loss: 10.3969 - mae: 10.3969\n",
            "Epoch 10/100\n",
            "1/1 [==============================] - 0s 10ms/step - loss: 10.2644 - mae: 10.2644\n",
            "Epoch 11/100\n",
            "1/1 [==============================] - 0s 11ms/step - loss: 10.1319 - mae: 10.1319\n",
            "Epoch 12/100\n",
            "1/1 [==============================] - 0s 10ms/step - loss: 9.9994 - mae: 9.9994\n",
            "Epoch 13/100\n",
            "1/1 [==============================] - 0s 14ms/step - loss: 9.8669 - mae: 9.8669\n",
            "Epoch 14/100\n",
            "1/1 [==============================] - 0s 13ms/step - loss: 9.7344 - mae: 9.7344\n",
            "Epoch 15/100\n",
            "1/1 [==============================] - 0s 12ms/step - loss: 9.6019 - mae: 9.6019\n",
            "Epoch 16/100\n",
            "1/1 [==============================] - 0s 11ms/step - loss: 9.4694 - mae: 9.4694\n",
            "Epoch 17/100\n",
            "1/1 [==============================] - 0s 23ms/step - loss: 9.3369 - mae: 9.3369\n",
            "Epoch 18/100\n",
            "1/1 [==============================] - 0s 11ms/step - loss: 9.2044 - mae: 9.2044\n",
            "Epoch 19/100\n",
            "1/1 [==============================] - 0s 13ms/step - loss: 9.0719 - mae: 9.0719\n",
            "Epoch 20/100\n",
            "1/1 [==============================] - 0s 13ms/step - loss: 8.9394 - mae: 8.9394\n",
            "Epoch 21/100\n",
            "1/1 [==============================] - 0s 10ms/step - loss: 8.8069 - mae: 8.8069\n",
            "Epoch 22/100\n",
            "1/1 [==============================] - 0s 11ms/step - loss: 8.6744 - mae: 8.6744\n",
            "Epoch 23/100\n",
            "1/1 [==============================] - 0s 10ms/step - loss: 8.5419 - mae: 8.5419\n",
            "Epoch 24/100\n",
            "1/1 [==============================] - 0s 10ms/step - loss: 8.4094 - mae: 8.4094\n",
            "Epoch 25/100\n",
            "1/1 [==============================] - 0s 10ms/step - loss: 8.2769 - mae: 8.2769\n",
            "Epoch 26/100\n",
            "1/1 [==============================] - 0s 10ms/step - loss: 8.1444 - mae: 8.1444\n",
            "Epoch 27/100\n",
            "1/1 [==============================] - 0s 10ms/step - loss: 8.0119 - mae: 8.0119\n",
            "Epoch 28/100\n",
            "1/1 [==============================] - 0s 12ms/step - loss: 7.8794 - mae: 7.8794\n",
            "Epoch 29/100\n",
            "1/1 [==============================] - 0s 10ms/step - loss: 7.7469 - mae: 7.7469\n",
            "Epoch 30/100\n",
            "1/1 [==============================] - 0s 10ms/step - loss: 7.6144 - mae: 7.6144\n",
            "Epoch 31/100\n",
            "1/1 [==============================] - 0s 12ms/step - loss: 7.4819 - mae: 7.4819\n",
            "Epoch 32/100\n",
            "1/1 [==============================] - 0s 11ms/step - loss: 7.3494 - mae: 7.3494\n",
            "Epoch 33/100\n",
            "1/1 [==============================] - 0s 11ms/step - loss: 7.2600 - mae: 7.2600\n",
            "Epoch 34/100\n",
            "1/1 [==============================] - 0s 11ms/step - loss: 7.2544 - mae: 7.2544\n",
            "Epoch 35/100\n",
            "1/1 [==============================] - 0s 11ms/step - loss: 7.2487 - mae: 7.2487\n",
            "Epoch 36/100\n",
            "1/1 [==============================] - 0s 10ms/step - loss: 7.2431 - mae: 7.2431\n",
            "Epoch 37/100\n",
            "1/1 [==============================] - 0s 11ms/step - loss: 7.2375 - mae: 7.2375\n",
            "Epoch 38/100\n",
            "1/1 [==============================] - 0s 11ms/step - loss: 7.2319 - mae: 7.2319\n",
            "Epoch 39/100\n",
            "1/1 [==============================] - 0s 11ms/step - loss: 7.2262 - mae: 7.2262\n",
            "Epoch 40/100\n",
            "1/1 [==============================] - 0s 11ms/step - loss: 7.2206 - mae: 7.2206\n",
            "Epoch 41/100\n",
            "1/1 [==============================] - 0s 10ms/step - loss: 7.2150 - mae: 7.2150\n",
            "Epoch 42/100\n",
            "1/1 [==============================] - 0s 11ms/step - loss: 7.2094 - mae: 7.2094\n",
            "Epoch 43/100\n",
            "1/1 [==============================] - 0s 12ms/step - loss: 7.2038 - mae: 7.2038\n",
            "Epoch 44/100\n",
            "1/1 [==============================] - 0s 14ms/step - loss: 7.1981 - mae: 7.1981\n",
            "Epoch 45/100\n",
            "1/1 [==============================] - 0s 10ms/step - loss: 7.1925 - mae: 7.1925\n",
            "Epoch 46/100\n",
            "1/1 [==============================] - 0s 9ms/step - loss: 7.1869 - mae: 7.1869\n",
            "Epoch 47/100\n",
            "1/1 [==============================] - 0s 10ms/step - loss: 7.1812 - mae: 7.1812\n",
            "Epoch 48/100\n",
            "1/1 [==============================] - 0s 10ms/step - loss: 7.1756 - mae: 7.1756\n",
            "Epoch 49/100\n",
            "1/1 [==============================] - 0s 10ms/step - loss: 7.1700 - mae: 7.1700\n",
            "Epoch 50/100\n",
            "1/1 [==============================] - 0s 15ms/step - loss: 7.1644 - mae: 7.1644\n",
            "Epoch 51/100\n",
            "1/1 [==============================] - 0s 11ms/step - loss: 7.1587 - mae: 7.1587\n",
            "Epoch 52/100\n",
            "1/1 [==============================] - 0s 11ms/step - loss: 7.1531 - mae: 7.1531\n",
            "Epoch 53/100\n",
            "1/1 [==============================] - 0s 10ms/step - loss: 7.1475 - mae: 7.1475\n",
            "Epoch 54/100\n",
            "1/1 [==============================] - 0s 10ms/step - loss: 7.1419 - mae: 7.1419\n",
            "Epoch 55/100\n",
            "1/1 [==============================] - 0s 10ms/step - loss: 7.1363 - mae: 7.1363\n",
            "Epoch 56/100\n",
            "1/1 [==============================] - 0s 10ms/step - loss: 7.1306 - mae: 7.1306\n",
            "Epoch 57/100\n",
            "1/1 [==============================] - 0s 10ms/step - loss: 7.1250 - mae: 7.1250\n",
            "Epoch 58/100\n",
            "1/1 [==============================] - 0s 11ms/step - loss: 7.1194 - mae: 7.1194\n",
            "Epoch 59/100\n",
            "1/1 [==============================] - 0s 11ms/step - loss: 7.1137 - mae: 7.1137\n",
            "Epoch 60/100\n",
            "1/1 [==============================] - 0s 11ms/step - loss: 7.1081 - mae: 7.1081\n",
            "Epoch 61/100\n",
            "1/1 [==============================] - 0s 11ms/step - loss: 7.1025 - mae: 7.1025\n",
            "Epoch 62/100\n",
            "1/1 [==============================] - 0s 11ms/step - loss: 7.0969 - mae: 7.0969\n",
            "Epoch 63/100\n",
            "1/1 [==============================] - 0s 14ms/step - loss: 7.0912 - mae: 7.0912\n",
            "Epoch 64/100\n",
            "1/1 [==============================] - 0s 12ms/step - loss: 7.0856 - mae: 7.0856\n",
            "Epoch 65/100\n",
            "1/1 [==============================] - 0s 12ms/step - loss: 7.0800 - mae: 7.0800\n",
            "Epoch 66/100\n",
            "1/1 [==============================] - 0s 13ms/step - loss: 7.0744 - mae: 7.0744\n",
            "Epoch 67/100\n",
            "1/1 [==============================] - 0s 11ms/step - loss: 7.0688 - mae: 7.0688\n",
            "Epoch 68/100\n",
            "1/1 [==============================] - 0s 10ms/step - loss: 7.0631 - mae: 7.0631\n",
            "Epoch 69/100\n",
            "1/1 [==============================] - 0s 14ms/step - loss: 7.0575 - mae: 7.0575\n",
            "Epoch 70/100\n",
            "1/1 [==============================] - 0s 11ms/step - loss: 7.0519 - mae: 7.0519\n",
            "Epoch 71/100\n",
            "1/1 [==============================] - 0s 11ms/step - loss: 7.0463 - mae: 7.0463\n",
            "Epoch 72/100\n",
            "1/1 [==============================] - 0s 10ms/step - loss: 7.0406 - mae: 7.0406\n",
            "Epoch 73/100\n",
            "1/1 [==============================] - 0s 10ms/step - loss: 7.0350 - mae: 7.0350\n",
            "Epoch 74/100\n",
            "1/1 [==============================] - 0s 11ms/step - loss: 7.0294 - mae: 7.0294\n",
            "Epoch 75/100\n",
            "1/1 [==============================] - 0s 12ms/step - loss: 7.0238 - mae: 7.0238\n",
            "Epoch 76/100\n",
            "1/1 [==============================] - 0s 14ms/step - loss: 7.0181 - mae: 7.0181\n",
            "Epoch 77/100\n",
            "1/1 [==============================] - 0s 10ms/step - loss: 7.0125 - mae: 7.0125\n",
            "Epoch 78/100\n",
            "1/1 [==============================] - 0s 11ms/step - loss: 7.0069 - mae: 7.0069\n",
            "Epoch 79/100\n",
            "1/1 [==============================] - 0s 11ms/step - loss: 7.0013 - mae: 7.0013\n",
            "Epoch 80/100\n",
            "1/1 [==============================] - 0s 10ms/step - loss: 6.9956 - mae: 6.9956\n",
            "Epoch 81/100\n",
            "1/1 [==============================] - 0s 10ms/step - loss: 6.9900 - mae: 6.9900\n",
            "Epoch 82/100\n",
            "1/1 [==============================] - 0s 10ms/step - loss: 6.9844 - mae: 6.9844\n",
            "Epoch 83/100\n",
            "1/1 [==============================] - 0s 10ms/step - loss: 6.9788 - mae: 6.9788\n",
            "Epoch 84/100\n",
            "1/1 [==============================] - 0s 10ms/step - loss: 6.9731 - mae: 6.9731\n",
            "Epoch 85/100\n",
            "1/1 [==============================] - 0s 10ms/step - loss: 6.9675 - mae: 6.9675\n",
            "Epoch 86/100\n",
            "1/1 [==============================] - 0s 11ms/step - loss: 6.9619 - mae: 6.9619\n",
            "Epoch 87/100\n",
            "1/1 [==============================] - 0s 11ms/step - loss: 6.9563 - mae: 6.9563\n",
            "Epoch 88/100\n",
            "1/1 [==============================] - 0s 12ms/step - loss: 6.9506 - mae: 6.9506\n",
            "Epoch 89/100\n",
            "1/1 [==============================] - 0s 10ms/step - loss: 6.9450 - mae: 6.9450\n",
            "Epoch 90/100\n",
            "1/1 [==============================] - 0s 11ms/step - loss: 6.9394 - mae: 6.9394\n",
            "Epoch 91/100\n",
            "1/1 [==============================] - 0s 12ms/step - loss: 6.9338 - mae: 6.9338\n",
            "Epoch 92/100\n",
            "1/1 [==============================] - 0s 10ms/step - loss: 6.9281 - mae: 6.9281\n",
            "Epoch 93/100\n",
            "1/1 [==============================] - 0s 11ms/step - loss: 6.9225 - mae: 6.9225\n",
            "Epoch 94/100\n",
            "1/1 [==============================] - 0s 11ms/step - loss: 6.9169 - mae: 6.9169\n",
            "Epoch 95/100\n",
            "1/1 [==============================] - 0s 11ms/step - loss: 6.9113 - mae: 6.9113\n",
            "Epoch 96/100\n",
            "1/1 [==============================] - 0s 11ms/step - loss: 6.9056 - mae: 6.9056\n",
            "Epoch 97/100\n",
            "1/1 [==============================] - 0s 12ms/step - loss: 6.9000 - mae: 6.9000\n",
            "Epoch 98/100\n",
            "1/1 [==============================] - 0s 11ms/step - loss: 6.8944 - mae: 6.8944\n",
            "Epoch 99/100\n",
            "1/1 [==============================] - 0s 11ms/step - loss: 6.8888 - mae: 6.8888\n",
            "Epoch 100/100\n",
            "1/1 [==============================] - 0s 10ms/step - loss: 6.8831 - mae: 6.8831\n"
          ]
        },
        {
          "output_type": "execute_result",
          "data": {
            "text/plain": [
              "<keras.callbacks.History at 0x7fc4c412fa60>"
            ]
          },
          "metadata": {},
          "execution_count": 38
        }
      ]
    },
    {
      "cell_type": "code",
      "source": [
        "# Remind ourselves of the data\n",
        "X, y"
      ],
      "metadata": {
        "colab": {
          "base_uri": "https://localhost:8080/"
        },
        "id": "uT0UcjzQPRsr",
        "outputId": "c8c4137a-e598-4044-a9df-210401b0612c"
      },
      "execution_count": null,
      "outputs": [
        {
          "output_type": "execute_result",
          "data": {
            "text/plain": [
              "(<tf.Tensor: shape=(8,), dtype=float32, numpy=array([-7., -4., -1.,  2.,  5.,  8., 11., 14.], dtype=float32)>,\n",
              " <tf.Tensor: shape=(8,), dtype=float32, numpy=array([ 3.,  6.,  9., 12., 15., 18., 21., 24.], dtype=float32)>)"
            ]
          },
          "metadata": {},
          "execution_count": 39
        }
      ]
    },
    {
      "cell_type": "code",
      "source": [
        "y_pred = model.predict([17.0])\n",
        "y_pred"
      ],
      "metadata": {
        "colab": {
          "base_uri": "https://localhost:8080/"
        },
        "id": "mnlrlpyHOyHz",
        "outputId": "939da06c-f579-43da-a939-df95fb273230"
      },
      "execution_count": null,
      "outputs": [
        {
          "output_type": "stream",
          "name": "stderr",
          "text": [
            "WARNING:tensorflow:5 out of the last 5 calls to <function Model.make_predict_function.<locals>.predict_function at 0x7fc4c412a950> triggered tf.function retracing. Tracing is expensive and the excessive number of tracings could be due to (1) creating @tf.function repeatedly in a loop, (2) passing tensors with different shapes, (3) passing Python objects instead of tensors. For (1), please define your @tf.function outside of the loop. For (2), @tf.function has reduce_retracing=True option that can avoid unnecessary retracing. For (3), please refer to https://www.tensorflow.org/guide/function#controlling_retracing and https://www.tensorflow.org/api_docs/python/tf/function for  more details.\n"
          ]
        },
        {
          "output_type": "stream",
          "name": "stdout",
          "text": [
            "1/1 [==============================] - 0s 58ms/step\n"
          ]
        },
        {
          "output_type": "execute_result",
          "data": {
            "text/plain": [
              "array([[29.793592]], dtype=float32)"
            ]
          },
          "metadata": {},
          "execution_count": 40
        }
      ]
    },
    {
      "cell_type": "code",
      "source": [
        "from keras import optimizers\n",
        "# Let's see if we can make another to improve model\n",
        "\n",
        "# 1. Create the model ()\n",
        "model = tf.keras.Sequential([\n",
        "    tf.keras.layers.Dense(50, activation=None),\n",
        "    tf.keras.layers.Dense(1)\n",
        "])\n",
        "\n",
        "# 2. Compile the model\n",
        "model.compile(loss=tf.keras.losses.mae,\n",
        "              optimizer=tf.keras.optimizers.Adam(learning_rate=0.01),\n",
        "              metrics=[\"mae\"])\n",
        "\n",
        "# 3. Fit the model\n",
        "model.fit(tf.expand_dims(X, axis=-1), y, epochs=100)"
      ],
      "metadata": {
        "colab": {
          "base_uri": "https://localhost:8080/"
        },
        "id": "JN8xmx2sPDfq",
        "outputId": "1a1faa63-fea4-43db-b90e-c6a475140655"
      },
      "execution_count": null,
      "outputs": [
        {
          "output_type": "stream",
          "name": "stdout",
          "text": [
            "Epoch 1/100\n",
            "1/1 [==============================] - 1s 836ms/step - loss: 13.0529 - mae: 13.0529\n",
            "Epoch 2/100\n",
            "1/1 [==============================] - 0s 10ms/step - loss: 12.3338 - mae: 12.3338\n",
            "Epoch 3/100\n",
            "1/1 [==============================] - 0s 10ms/step - loss: 11.6131 - mae: 11.6131\n",
            "Epoch 4/100\n",
            "1/1 [==============================] - 0s 10ms/step - loss: 10.8900 - mae: 10.8900\n",
            "Epoch 5/100\n",
            "1/1 [==============================] - 0s 10ms/step - loss: 10.1632 - mae: 10.1632\n",
            "Epoch 6/100\n",
            "1/1 [==============================] - 0s 10ms/step - loss: 9.4310 - mae: 9.4310\n",
            "Epoch 7/100\n",
            "1/1 [==============================] - 0s 10ms/step - loss: 8.6913 - mae: 8.6913\n",
            "Epoch 8/100\n",
            "1/1 [==============================] - 0s 10ms/step - loss: 7.9411 - mae: 7.9411\n",
            "Epoch 9/100\n",
            "1/1 [==============================] - 0s 10ms/step - loss: 7.1774 - mae: 7.1774\n",
            "Epoch 10/100\n",
            "1/1 [==============================] - 0s 10ms/step - loss: 6.7652 - mae: 6.7652\n",
            "Epoch 11/100\n",
            "1/1 [==============================] - 0s 11ms/step - loss: 6.9823 - mae: 6.9823\n",
            "Epoch 12/100\n",
            "1/1 [==============================] - 0s 11ms/step - loss: 7.2630 - mae: 7.2630\n",
            "Epoch 13/100\n",
            "1/1 [==============================] - 0s 12ms/step - loss: 7.5151 - mae: 7.5151\n",
            "Epoch 14/100\n",
            "1/1 [==============================] - 0s 14ms/step - loss: 7.6069 - mae: 7.6069\n",
            "Epoch 15/100\n",
            "1/1 [==============================] - 0s 10ms/step - loss: 7.5029 - mae: 7.5029\n",
            "Epoch 16/100\n",
            "1/1 [==============================] - 0s 11ms/step - loss: 7.2527 - mae: 7.2527\n",
            "Epoch 17/100\n",
            "1/1 [==============================] - 0s 11ms/step - loss: 6.9595 - mae: 6.9595\n",
            "Epoch 18/100\n",
            "1/1 [==============================] - 0s 12ms/step - loss: 6.7086 - mae: 6.7086\n",
            "Epoch 19/100\n",
            "1/1 [==============================] - 0s 10ms/step - loss: 6.4416 - mae: 6.4416\n",
            "Epoch 20/100\n",
            "1/1 [==============================] - 0s 14ms/step - loss: 6.1625 - mae: 6.1625\n",
            "Epoch 21/100\n",
            "1/1 [==============================] - 0s 8ms/step - loss: 6.0990 - mae: 6.0990\n",
            "Epoch 22/100\n",
            "1/1 [==============================] - 0s 9ms/step - loss: 6.0639 - mae: 6.0639\n",
            "Epoch 23/100\n",
            "1/1 [==============================] - 0s 8ms/step - loss: 6.1731 - mae: 6.1731\n",
            "Epoch 24/100\n",
            "1/1 [==============================] - 0s 8ms/step - loss: 6.1770 - mae: 6.1770\n",
            "Epoch 25/100\n",
            "1/1 [==============================] - 0s 8ms/step - loss: 6.0894 - mae: 6.0894\n",
            "Epoch 26/100\n",
            "1/1 [==============================] - 0s 8ms/step - loss: 5.9200 - mae: 5.9200\n",
            "Epoch 27/100\n",
            "1/1 [==============================] - 0s 13ms/step - loss: 5.6762 - mae: 5.6762\n",
            "Epoch 28/100\n",
            "1/1 [==============================] - 0s 10ms/step - loss: 5.5567 - mae: 5.5567\n",
            "Epoch 29/100\n",
            "1/1 [==============================] - 0s 10ms/step - loss: 5.4459 - mae: 5.4459\n",
            "Epoch 30/100\n",
            "1/1 [==============================] - 0s 10ms/step - loss: 5.4102 - mae: 5.4102\n",
            "Epoch 31/100\n",
            "1/1 [==============================] - 0s 15ms/step - loss: 5.4086 - mae: 5.4086\n",
            "Epoch 32/100\n",
            "1/1 [==============================] - 0s 12ms/step - loss: 5.3632 - mae: 5.3632\n",
            "Epoch 33/100\n",
            "1/1 [==============================] - 0s 11ms/step - loss: 5.2772 - mae: 5.2772\n",
            "Epoch 34/100\n",
            "1/1 [==============================] - 0s 12ms/step - loss: 5.1537 - mae: 5.1537\n",
            "Epoch 35/100\n",
            "1/1 [==============================] - 0s 11ms/step - loss: 4.9955 - mae: 4.9955\n",
            "Epoch 36/100\n",
            "1/1 [==============================] - 0s 11ms/step - loss: 4.8054 - mae: 4.8054\n",
            "Epoch 37/100\n",
            "1/1 [==============================] - 0s 11ms/step - loss: 4.6386 - mae: 4.6386\n",
            "Epoch 38/100\n",
            "1/1 [==============================] - 0s 11ms/step - loss: 4.5399 - mae: 4.5399\n",
            "Epoch 39/100\n",
            "1/1 [==============================] - 0s 15ms/step - loss: 4.4330 - mae: 4.4330\n",
            "Epoch 40/100\n",
            "1/1 [==============================] - 0s 10ms/step - loss: 4.3432 - mae: 4.3432\n",
            "Epoch 41/100\n",
            "1/1 [==============================] - 0s 11ms/step - loss: 4.2120 - mae: 4.2120\n",
            "Epoch 42/100\n",
            "1/1 [==============================] - 0s 10ms/step - loss: 4.0336 - mae: 4.0336\n",
            "Epoch 43/100\n",
            "1/1 [==============================] - 0s 10ms/step - loss: 3.8754 - mae: 3.8754\n",
            "Epoch 44/100\n",
            "1/1 [==============================] - 0s 10ms/step - loss: 3.7095 - mae: 3.7095\n",
            "Epoch 45/100\n",
            "1/1 [==============================] - 0s 11ms/step - loss: 3.5753 - mae: 3.5753\n",
            "Epoch 46/100\n",
            "1/1 [==============================] - 0s 17ms/step - loss: 3.4422 - mae: 3.4422\n",
            "Epoch 47/100\n",
            "1/1 [==============================] - 0s 10ms/step - loss: 3.2558 - mae: 3.2558\n",
            "Epoch 48/100\n",
            "1/1 [==============================] - 0s 10ms/step - loss: 3.0286 - mae: 3.0286\n",
            "Epoch 49/100\n",
            "1/1 [==============================] - 0s 9ms/step - loss: 2.8500 - mae: 2.8500\n",
            "Epoch 50/100\n",
            "1/1 [==============================] - 0s 9ms/step - loss: 2.6599 - mae: 2.6599\n",
            "Epoch 51/100\n",
            "1/1 [==============================] - 0s 10ms/step - loss: 2.4584 - mae: 2.4584\n",
            "Epoch 52/100\n",
            "1/1 [==============================] - 0s 14ms/step - loss: 2.2451 - mae: 2.2451\n",
            "Epoch 53/100\n",
            "1/1 [==============================] - 0s 11ms/step - loss: 2.0252 - mae: 2.0252\n",
            "Epoch 54/100\n",
            "1/1 [==============================] - 0s 10ms/step - loss: 1.7711 - mae: 1.7711\n",
            "Epoch 55/100\n",
            "1/1 [==============================] - 0s 10ms/step - loss: 1.5941 - mae: 1.5941\n",
            "Epoch 56/100\n",
            "1/1 [==============================] - 0s 11ms/step - loss: 1.3715 - mae: 1.3715\n",
            "Epoch 57/100\n",
            "1/1 [==============================] - 0s 10ms/step - loss: 1.0723 - mae: 1.0723\n",
            "Epoch 58/100\n",
            "1/1 [==============================] - 0s 10ms/step - loss: 0.7367 - mae: 0.7367\n",
            "Epoch 59/100\n",
            "1/1 [==============================] - 0s 10ms/step - loss: 0.5893 - mae: 0.5893\n",
            "Epoch 60/100\n",
            "1/1 [==============================] - 0s 10ms/step - loss: 0.2538 - mae: 0.2538\n",
            "Epoch 61/100\n",
            "1/1 [==============================] - 0s 10ms/step - loss: 0.2714 - mae: 0.2714\n",
            "Epoch 62/100\n",
            "1/1 [==============================] - 0s 11ms/step - loss: 0.5154 - mae: 0.5154\n",
            "Epoch 63/100\n",
            "1/1 [==============================] - 0s 10ms/step - loss: 0.5532 - mae: 0.5532\n",
            "Epoch 64/100\n",
            "1/1 [==============================] - 0s 10ms/step - loss: 0.7971 - mae: 0.7971\n",
            "Epoch 65/100\n",
            "1/1 [==============================] - 0s 10ms/step - loss: 0.7979 - mae: 0.7979\n",
            "Epoch 66/100\n",
            "1/1 [==============================] - 0s 10ms/step - loss: 0.7604 - mae: 0.7604\n",
            "Epoch 67/100\n",
            "1/1 [==============================] - 0s 11ms/step - loss: 0.8534 - mae: 0.8534\n",
            "Epoch 68/100\n",
            "1/1 [==============================] - 0s 14ms/step - loss: 0.7299 - mae: 0.7299\n",
            "Epoch 69/100\n",
            "1/1 [==============================] - 0s 11ms/step - loss: 0.6801 - mae: 0.6801\n",
            "Epoch 70/100\n",
            "1/1 [==============================] - 0s 12ms/step - loss: 0.6066 - mae: 0.6066\n",
            "Epoch 71/100\n",
            "1/1 [==============================] - 0s 11ms/step - loss: 0.3565 - mae: 0.3565\n",
            "Epoch 72/100\n",
            "1/1 [==============================] - 0s 11ms/step - loss: 0.3180 - mae: 0.3180\n",
            "Epoch 73/100\n",
            "1/1 [==============================] - 0s 11ms/step - loss: 0.1188 - mae: 0.1188\n",
            "Epoch 74/100\n",
            "1/1 [==============================] - 0s 11ms/step - loss: 0.2984 - mae: 0.2984\n",
            "Epoch 75/100\n",
            "1/1 [==============================] - 0s 11ms/step - loss: 0.4320 - mae: 0.4320\n",
            "Epoch 76/100\n",
            "1/1 [==============================] - 0s 10ms/step - loss: 0.3858 - mae: 0.3858\n",
            "Epoch 77/100\n",
            "1/1 [==============================] - 0s 10ms/step - loss: 0.5108 - mae: 0.5108\n",
            "Epoch 78/100\n",
            "1/1 [==============================] - 0s 13ms/step - loss: 0.6092 - mae: 0.6092\n",
            "Epoch 79/100\n",
            "1/1 [==============================] - 0s 12ms/step - loss: 0.4519 - mae: 0.4519\n",
            "Epoch 80/100\n",
            "1/1 [==============================] - 0s 12ms/step - loss: 0.4782 - mae: 0.4782\n",
            "Epoch 81/100\n",
            "1/1 [==============================] - 0s 11ms/step - loss: 0.5260 - mae: 0.5260\n",
            "Epoch 82/100\n",
            "1/1 [==============================] - 0s 11ms/step - loss: 0.4080 - mae: 0.4080\n",
            "Epoch 83/100\n",
            "1/1 [==============================] - 0s 11ms/step - loss: 0.1396 - mae: 0.1396\n",
            "Epoch 84/100\n",
            "1/1 [==============================] - 0s 10ms/step - loss: 0.4064 - mae: 0.4064\n",
            "Epoch 85/100\n",
            "1/1 [==============================] - 0s 10ms/step - loss: 0.4762 - mae: 0.4762\n",
            "Epoch 86/100\n",
            "1/1 [==============================] - 0s 10ms/step - loss: 0.3643 - mae: 0.3643\n",
            "Epoch 87/100\n",
            "1/1 [==============================] - 0s 10ms/step - loss: 0.4250 - mae: 0.4250\n",
            "Epoch 88/100\n",
            "1/1 [==============================] - 0s 12ms/step - loss: 0.5970 - mae: 0.5970\n",
            "Epoch 89/100\n",
            "1/1 [==============================] - 0s 11ms/step - loss: 0.4866 - mae: 0.4866\n",
            "Epoch 90/100\n",
            "1/1 [==============================] - 0s 11ms/step - loss: 0.3498 - mae: 0.3498\n",
            "Epoch 91/100\n",
            "1/1 [==============================] - 0s 10ms/step - loss: 0.3663 - mae: 0.3663\n",
            "Epoch 92/100\n",
            "1/1 [==============================] - 0s 11ms/step - loss: 0.2221 - mae: 0.2221\n",
            "Epoch 93/100\n",
            "1/1 [==============================] - 0s 10ms/step - loss: 0.2898 - mae: 0.2898\n",
            "Epoch 94/100\n",
            "1/1 [==============================] - 0s 10ms/step - loss: 0.2378 - mae: 0.2378\n",
            "Epoch 95/100\n",
            "1/1 [==============================] - 0s 11ms/step - loss: 0.1390 - mae: 0.1390\n",
            "Epoch 96/100\n",
            "1/1 [==============================] - 0s 11ms/step - loss: 0.2459 - mae: 0.2459\n",
            "Epoch 97/100\n",
            "1/1 [==============================] - 0s 14ms/step - loss: 0.2221 - mae: 0.2221\n",
            "Epoch 98/100\n",
            "1/1 [==============================] - 0s 11ms/step - loss: 0.2801 - mae: 0.2801\n",
            "Epoch 99/100\n",
            "1/1 [==============================] - 0s 10ms/step - loss: 0.2035 - mae: 0.2035\n",
            "Epoch 100/100\n",
            "1/1 [==============================] - 0s 11ms/step - loss: 0.2084 - mae: 0.2084\n"
          ]
        },
        {
          "output_type": "execute_result",
          "data": {
            "text/plain": [
              "<keras.callbacks.History at 0x7fc4c6d7e7a0>"
            ]
          },
          "metadata": {},
          "execution_count": 41
        }
      ]
    },
    {
      "cell_type": "code",
      "source": [
        "y_pred = model.predict([17.0])\n",
        "y_pred"
      ],
      "metadata": {
        "colab": {
          "base_uri": "https://localhost:8080/"
        },
        "id": "iaqFlVgIQ8Qh",
        "outputId": "c34d9354-2d69-4b85-b3c6-4a906ed48337"
      },
      "execution_count": null,
      "outputs": [
        {
          "output_type": "stream",
          "name": "stderr",
          "text": [
            "WARNING:tensorflow:6 out of the last 6 calls to <function Model.make_predict_function.<locals>.predict_function at 0x7fc4bc718c10> triggered tf.function retracing. Tracing is expensive and the excessive number of tracings could be due to (1) creating @tf.function repeatedly in a loop, (2) passing tensors with different shapes, (3) passing Python objects instead of tensors. For (1), please define your @tf.function outside of the loop. For (2), @tf.function has reduce_retracing=True option that can avoid unnecessary retracing. For (3), please refer to https://www.tensorflow.org/guide/function#controlling_retracing and https://www.tensorflow.org/api_docs/python/tf/function for  more details.\n"
          ]
        },
        {
          "output_type": "stream",
          "name": "stdout",
          "text": [
            "1/1 [==============================] - 0s 66ms/step\n"
          ]
        },
        {
          "output_type": "execute_result",
          "data": {
            "text/plain": [
              "array([[27.099442]], dtype=float32)"
            ]
          },
          "metadata": {},
          "execution_count": 42
        }
      ]
    },
    {
      "cell_type": "markdown",
      "source": [
        "## Evaluating a model \n",
        "\n",
        "A typical workflow you'll go through when building neural networks is:\n",
        "\n",
        "```\n",
        "Build a model -> evaluate it -> build (tweak) a model -> evaulate it -> build (tweak) a model -> evaluate it...\n",
        "```\n",
        "\n",
        "The tweaking comes from maybe not building a model from scratch but adjusting an existing one.\n",
        "\n",
        "### Visualize, visualize, visualize\n",
        "\n",
        "When it comes to evaluation, you'll want to remember the words: \"visualize, visualize, visualize.\" \n",
        "\n",
        "This is because you're probably better looking at something (doing) than you are thinking about something.\n",
        "\n",
        "It's a good idea to visualize:\n",
        "* **The data** - what data are you working with? What does it look like?\n",
        "* **The model itself** - what does the architecture look like? What are the different shapes?\n",
        "* **The training of a model** - how does a model perform while it learns?\n",
        "* **The predictions of a model** - how do the predictions of a model line up against the ground truth (the original labels)?\n",
        "\n",
        "Let's start by visualizing the model.\n",
        "\n",
        "But first, we'll create a little bit of a bigger dataset and a new model we can use (it'll be the same as before, but the more practice the better).\n"
      ],
      "metadata": {
        "id": "T2Th54AtRK0B"
      }
    },
    {
      "cell_type": "code",
      "source": [
        "# Make a bigger data\n",
        "X = tf.range(-100, 100, 4)\n",
        "X"
      ],
      "metadata": {
        "colab": {
          "base_uri": "https://localhost:8080/"
        },
        "id": "J00iy01w09KA",
        "outputId": "613e238e-e17d-49a2-c941-6da1b86c0a35"
      },
      "execution_count": null,
      "outputs": [
        {
          "output_type": "execute_result",
          "data": {
            "text/plain": [
              "<tf.Tensor: shape=(50,), dtype=int32, numpy=\n",
              "array([-100,  -96,  -92,  -88,  -84,  -80,  -76,  -72,  -68,  -64,  -60,\n",
              "        -56,  -52,  -48,  -44,  -40,  -36,  -32,  -28,  -24,  -20,  -16,\n",
              "        -12,   -8,   -4,    0,    4,    8,   12,   16,   20,   24,   28,\n",
              "         32,   36,   40,   44,   48,   52,   56,   60,   64,   68,   72,\n",
              "         76,   80,   84,   88,   92,   96], dtype=int32)>"
            ]
          },
          "metadata": {},
          "execution_count": 43
        }
      ]
    },
    {
      "cell_type": "code",
      "source": [
        "# Make labels for the dataset\n",
        "y = X + 10\n",
        "y"
      ],
      "metadata": {
        "colab": {
          "base_uri": "https://localhost:8080/"
        },
        "id": "YA-r62sm1HXo",
        "outputId": "98e83cfb-c1bd-4554-dbb0-542f27710daf"
      },
      "execution_count": null,
      "outputs": [
        {
          "output_type": "execute_result",
          "data": {
            "text/plain": [
              "<tf.Tensor: shape=(50,), dtype=int32, numpy=\n",
              "array([-90, -86, -82, -78, -74, -70, -66, -62, -58, -54, -50, -46, -42,\n",
              "       -38, -34, -30, -26, -22, -18, -14, -10,  -6,  -2,   2,   6,  10,\n",
              "        14,  18,  22,  26,  30,  34,  38,  42,  46,  50,  54,  58,  62,\n",
              "        66,  70,  74,  78,  82,  86,  90,  94,  98, 102, 106], dtype=int32)>"
            ]
          },
          "metadata": {},
          "execution_count": 44
        }
      ]
    },
    {
      "cell_type": "code",
      "source": [
        "# Visualize the data\n",
        "import matplotlib.pyplot as plt\n",
        "plt.scatter(X, y)"
      ],
      "metadata": {
        "colab": {
          "base_uri": "https://localhost:8080/",
          "height": 448
        },
        "id": "PeWq91X21PGQ",
        "outputId": "ea8df141-6480-4b61-ad61-138fdac28fc1"
      },
      "execution_count": null,
      "outputs": [
        {
          "output_type": "execute_result",
          "data": {
            "text/plain": [
              "<matplotlib.collections.PathCollection at 0x7fc4bc7e25c0>"
            ]
          },
          "metadata": {},
          "execution_count": 45
        },
        {
          "output_type": "display_data",
          "data": {
            "text/plain": [
              "<Figure size 640x480 with 1 Axes>"
            ],
            "image/png": "[encoded data removed]"
          },
          "metadata": {}
        }
      ]
    },
    {
      "cell_type": "markdown",
      "source": [
        "## Split data into training/test set\n",
        "\n",
        "One of the other most common and important steps in a machine learning project is creating a training and test set (and when required, a validation set).\n",
        "\n",
        "Each set serves a specific purpose:\n",
        "* **Training set** - the model learns from this data, which is typically 70-80% of the total data available (like the course materials you study during the semester).\n",
        "* **Validation set** - the model gets tuned on this data, which is typically 10-15% of the total data available (like the practice exam you take before the final exam).\n",
        "* **Test set** - the model gets evaluated on this data to test what it has learned, it's typically 10-15% of the total data available (like the final exam you take at the end of the semester).\n",
        "\n",
        "For now, we'll just use a training and test set, this means we'll have a dataset for our model to learn on as well as be evaluated on.\n",
        "\n",
        "We can create them by splitting our `X` and `y` arrays.\n",
        "\n",
        "> 🔑 **Note:** When dealing with real-world data, this step is typically done right at the start of a project (the test set should always be kept separate from all other data). We want our model to learn on training data and then evaluate it on test data to get an indication of how well it **generalizes** to unseen examples."
      ],
      "metadata": {
        "id": "0VKVKhdb1ZgY"
      }
    },
    {
      "cell_type": "code",
      "source": [
        "# Check how many samples we have\n",
        "len(X)"
      ],
      "metadata": {
        "colab": {
          "base_uri": "https://localhost:8080/"
        },
        "id": "qOPdfXvN2DR4",
        "outputId": "6be592ac-bd28-4e82-ae5e-9b5c0d0e0ec8"
      },
      "execution_count": null,
      "outputs": [
        {
          "output_type": "execute_result",
          "data": {
            "text/plain": [
              "50"
            ]
          },
          "metadata": {},
          "execution_count": 46
        }
      ]
    },
    {
      "cell_type": "code",
      "source": [
        "# Split the data into train and test sets\n",
        "X_train = X[:40] # first 40 are trainingsamples (80% of the data)\n",
        "y_train = y[:40]\n",
        "\n",
        "X_test = X[40:] # Last 10 are testing samples (20% of the data)\n",
        "y_test = y[40:]\n",
        "\n",
        "len(X_train), len(X_test), len(y_train), len(y_test)"
      ],
      "metadata": {
        "colab": {
          "base_uri": "https://localhost:8080/"
        },
        "id": "YyvuHeS32o1Y",
        "outputId": "7850eb00-80f8-44d4-af02-3fc19218243b"
      },
      "execution_count": null,
      "outputs": [
        {
          "output_type": "execute_result",
          "data": {
            "text/plain": [
              "(40, 10, 40, 10)"
            ]
          },
          "metadata": {},
          "execution_count": 47
        }
      ]
    },
    {
      "cell_type": "markdown",
      "source": [
        "## Visualizing the data\n",
        "\n",
        "Now we've got our training and test data, it's a good idea to visualize it.\n",
        "\n",
        "Let's plot it with some nice colours to differentiate what's what."
      ],
      "metadata": {
        "id": "w5WtOLjp3eVx"
      }
    },
    {
      "cell_type": "code",
      "source": [
        "plt.figure(figsize=(6, 4))\n",
        "# Plot training data in blue\n",
        "plt.scatter(X_train, y_train, c=\"b\", label=\"Training data\")\n",
        "# Plot testing data in red\n",
        "plt.scatter(X_test, y_test, c=\"r\", label=\"Testing data\")\n",
        "plt.legend();"
      ],
      "metadata": {
        "colab": {
          "base_uri": "https://localhost:8080/",
          "height": 368
        },
        "id": "xCV5K_8y3vEf",
        "outputId": "1f8e1a8a-f242-42ad-be83-13d7236b6b11"
      },
      "execution_count": null,
      "outputs": [
        {
          "output_type": "display_data",
          "data": {
            "text/plain": [
              "<Figure size 600x400 with 1 Axes>"
            ],
            "image/png": "[encoded data removed]"
          },
          "metadata": {}
        }
      ]
    },
    {
      "cell_type": "markdown",
      "source": [
        "Beautiful! Any time you can visualize your data, your model, your anything, it's a good idea. \n",
        "\n",
        "With this graph in mind, what we'll be trying to do is build a model which learns the pattern in the blue dots (`X_train`) to draw the green dots (`X_test`).\n",
        "\n",
        "Time to build a model. We'll make the exact same one from before (the one we trained for longer)."
      ],
      "metadata": {
        "id": "26VxvK114KyW"
      }
    },
    {
      "cell_type": "code",
      "source": [
        "# Let's have a look at how to build a neural network for our data\n",
        "\n",
        "# 1. Create a model\n",
        "model = tf.keras.Sequential([\n",
        "    tf.keras.layers.Dense(1)\n",
        "])\n",
        "\n",
        "# 2. Compile the model\n",
        "model.compile(loss=tf.keras.losses.mae,\n",
        "              optimizer=tf.keras.optimizers.SGD(),\n",
        "              metrics=[\"mae\"])\n",
        "\n",
        "# # 3. Fit the model\n",
        "# model.fit(X_train, y_train, epochs=100)"
      ],
      "metadata": {
        "id": "SsfV-dy242xL"
      },
      "execution_count": null,
      "outputs": []
    },
    {
      "cell_type": "markdown",
      "source": [
        "## Visualizing the model\n",
        "\n",
        "After you've built a model, you might want to take a look at it (especially if you haven't built many before).\n",
        "\n",
        "You can take a look at the layers and shapes of your model by calling [`summary()`](https://www.tensorflow.org/api_docs/python/tf/keras/Model#summary) on it.\n",
        "\n",
        "> 🔑 **Note:** Visualizing a model is particularly helpful when you run into input and output shape mismatches."
      ],
      "metadata": {
        "id": "glP3zHE05vdp"
      }
    },
    {
      "cell_type": "code",
      "source": [
        "model.summary()"
      ],
      "metadata": {
        "colab": {
          "base_uri": "https://localhost:8080/",
          "height": 354
        },
        "id": "nfAt-cdR53HZ",
        "outputId": "499cad2a-135c-44d7-bb22-ae5677510580"
      },
      "execution_count": null,
      "outputs": [
        {
          "output_type": "error",
          "ename": "ValueError",
          "evalue": "ignored",
          "traceback": [
            "\u001b[0;31m---------------------------------------------------------------------------\u001b[0m",
            "\u001b[0;31mValueError\u001b[0m                                Traceback (most recent call last)",
            "\u001b[0;32m<ipython-input-51-5f15418b3570>\u001b[0m in \u001b[0;36m<cell line: 1>\u001b[0;34m()\u001b[0m\n\u001b[0;32m----> 1\u001b[0;31m \u001b[0mmodel\u001b[0m\u001b[0;34m.\u001b[0m\u001b[0msummary\u001b[0m\u001b[0;34m(\u001b[0m\u001b[0;34m)\u001b[0m\u001b[0;34m\u001b[0m\u001b[0;34m\u001b[0m\u001b[0m\n\u001b[0m",
            "\u001b[0;32m/usr/local/lib/python3.10/dist-packages/keras/engine/training.py\u001b[0m in \u001b[0;36msummary\u001b[0;34m(self, line_length, positions, print_fn, expand_nested, show_trainable, layer_range)\u001b[0m\n\u001b[1;32m   3227\u001b[0m         \"\"\"\n\u001b[1;32m   3228\u001b[0m         \u001b[0;32mif\u001b[0m \u001b[0;32mnot\u001b[0m \u001b[0mself\u001b[0m\u001b[0;34m.\u001b[0m\u001b[0mbuilt\u001b[0m\u001b[0;34m:\u001b[0m\u001b[0;34m\u001b[0m\u001b[0;34m\u001b[0m\u001b[0m\n\u001b[0;32m-> 3229\u001b[0;31m             raise ValueError(\n\u001b[0m\u001b[1;32m   3230\u001b[0m                 \u001b[0;34m\"This model has not yet been built. \"\u001b[0m\u001b[0;34m\u001b[0m\u001b[0;34m\u001b[0m\u001b[0m\n\u001b[1;32m   3231\u001b[0m                 \u001b[0;34m\"Build the model first by calling `build()` or by calling \"\u001b[0m\u001b[0;34m\u001b[0m\u001b[0;34m\u001b[0m\u001b[0m\n",
            "\u001b[0;31mValueError\u001b[0m: This model has not yet been built. Build the model first by calling `build()` or by calling the model on a batch of data."
          ]
        }
      ]
    },
    {
      "cell_type": "markdown",
      "source": [
        "Ahh, the cell above errors because we haven't fit our built our model.\n",
        "\n",
        "We also haven't told it what input shape it should be expecting.\n",
        "\n",
        "Remember above, how we discussed the input shape was just one number?\n",
        "\n",
        "We can let our model know the input shape of our data using the `input_shape` parameter to the first layer (usually if `input_shape` isn't defined, Keras tries to figure it out automatically)."
      ],
      "metadata": {
        "id": "UZvJDFQs55aA"
      }
    },
    {
      "cell_type": "code",
      "source": [
        "# Let's create a model which builds automatically by defining the input shape atgument\n",
        "tf.random.set_seed(42)\n",
        "\n",
        "# 1. Create a model (same as above)\n",
        "model = tf.keras.Sequential([\n",
        "    tf.keras.layers.Dense(10, input_shape=[1], name=\"input_layer\"),\n",
        "    tf.keras.layers.Dense(1, name=\"output_layer\")\n",
        "], name=\"model_1\")\n",
        "\n",
        "# 2. Compile the model\n",
        "model.compile(loss=tf.keras.losses.mae,\n",
        "             optimizer=tf.keras.optimizers.SGD(),\n",
        "             metrics=[\"mae\"])"
      ],
      "metadata": {
        "id": "hyvaaqsJ6SP4"
      },
      "execution_count": null,
      "outputs": []
    },
    {
      "cell_type": "code",
      "source": [
        "model.summary()"
      ],
      "metadata": {
        "colab": {
          "base_uri": "https://localhost:8080/"
        },
        "id": "4PaKSnll7E-h",
        "outputId": "fcfb892b-2d07-4afa-da67-20780d4e3afc"
      },
      "execution_count": null,
      "outputs": [
        {
          "output_type": "stream",
          "name": "stdout",
          "text": [
            "Model: \"model_1\"\n",
            "_________________________________________________________________\n",
            " Layer (type)                Output Shape              Param #   \n",
            "=================================================================\n",
            " input_layer (Dense)         (None, 10)                20        \n",
            "                                                                 \n",
            " output_layer (Dense)        (None, 1)                 11        \n",
            "                                                                 \n",
            "=================================================================\n",
            "Total params: 31\n",
            "Trainable params: 31\n",
            "Non-trainable params: 0\n",
            "_________________________________________________________________\n"
          ]
        }
      ]
    },
    {
      "cell_type": "markdown",
      "source": [
        "Calling `summary()` on our model shows us the layers it contains, the output shape and the number of parameters.\n",
        "* **Total params** - total number of parameters in the model.\n",
        "* **Trainable parameters** - these are the parameters (patterns) the model can update as it trains.\n",
        "* **Non-trainable parameters** - these parameters aren't updated during training (this is typical when you bring in the already learned patterns from other models during transfer learning).\n",
        "\n",
        "> 📖 **Resource:** For a more in-depth overview of the trainable parameters within a layer, check out [MIT's introduction to deep learning video](https://youtu.be/njKP3FqW3Sk).\n",
        "\n",
        "> 🛠 **Exercise:** Try playing around with the number of hidden units in the `Dense` layer (e.g. `Dense(2)`, `Dense(3)`). How does this change the Total/Trainable params? Investigate what's causing the change.\n",
        "\n",
        "For now, all you need to think about these parameters is that their learnable patterns in the data.\n",
        "\n",
        "Let's fit our model to the training data."
      ],
      "metadata": {
        "id": "4QIPodii7IVQ"
      }
    },
    {
      "cell_type": "code",
      "source": [
        "# Let's fit the model to the training data\n",
        "\n",
        "# 3. Fit the model\n",
        "model.fit(X_train, y_train, epochs=100, verbose=0)"
      ],
      "metadata": {
        "colab": {
          "base_uri": "https://localhost:8080/"
        },
        "id": "WtfCsnQI7hA6",
        "outputId": "716797aa-52a5-4502-a6dc-cbebc5e79898"
      },
      "execution_count": null,
      "outputs": [
        {
          "output_type": "execute_result",
          "data": {
            "text/plain": [
              "<keras.callbacks.History at 0x7fc4bc51a7d0>"
            ]
          },
          "metadata": {},
          "execution_count": 54
        }
      ]
    },
    {
      "cell_type": "code",
      "source": [
        "# Get a summary of our model\n",
        "model.summary()"
      ],
      "metadata": {
        "colab": {
          "base_uri": "https://localhost:8080/"
        },
        "id": "ePU-ZS5d-eMK",
        "outputId": "2fbf23e0-e4d2-439b-f3c0-a36f076243a5"
      },
      "execution_count": null,
      "outputs": [
        {
          "output_type": "stream",
          "name": "stdout",
          "text": [
            "Model: \"model_1\"\n",
            "_________________________________________________________________\n",
            " Layer (type)                Output Shape              Param #   \n",
            "=================================================================\n",
            " input_layer (Dense)         (None, 10)                20        \n",
            "                                                                 \n",
            " output_layer (Dense)        (None, 1)                 11        \n",
            "                                                                 \n",
            "=================================================================\n",
            "Total params: 31\n",
            "Trainable params: 31\n",
            "Non-trainable params: 0\n",
            "_________________________________________________________________\n"
          ]
        }
      ]
    },
    {
      "cell_type": "code",
      "source": [
        "from tensorflow.keras.utils import plot_model\n",
        "\n",
        "plot_model(model=model, show_shapes=True)"
      ],
      "metadata": {
        "colab": {
          "base_uri": "https://localhost:8080/",
          "height": 312
        },
        "id": "4TA0YG2j_Ay5",
        "outputId": "766b3452-7ace-4185-de99-46af07ba1adf"
      },
      "execution_count": null,
      "outputs": [
        {
          "output_type": "execute_result",
          "data": {
            "image/png": "[encoded data removed]",
            "text/plain": [
              "<IPython.core.display.Image object>"
            ]
          },
          "metadata": {},
          "execution_count": 56
        }
      ]
    },
    {
      "cell_type": "markdown",
      "source": [
        "## Visualizing the predictions\n",
        "\n",
        "Now we've got a trained model, let's visualize some predictions.\n",
        "\n",
        "To visualize predictions, it's always a good idea to plot them against the ground truth labels.\n",
        "\n",
        "Often you'll see this in the form of `y_test` vs. `y_pred` (ground truth vs. predictions).\n",
        "\n",
        "First, we'll make some predictions on the test data (`X_test`), remember the model has never seen the test data."
      ],
      "metadata": {
        "id": "bmAUulQH_dgn"
      }
    },
    {
      "cell_type": "code",
      "source": [
        "# Make some predictions \n",
        "y_pred = model.predict(X_test)\n",
        "y_pred"
      ],
      "metadata": {
        "id": "5aIfvVpNBOqA",
        "colab": {
          "base_uri": "https://localhost:8080/"
        },
        "outputId": "37eb5610-89d2-4bc1-e528-4eea4d5c5326"
      },
      "execution_count": null,
      "outputs": [
        {
          "output_type": "stream",
          "name": "stdout",
          "text": [
            "1/1 [==============================] - 0s 95ms/step\n"
          ]
        },
        {
          "output_type": "execute_result",
          "data": {
            "text/plain": [
              "array([[ 76.27902 ],\n",
              "       [ 81.25001 ],\n",
              "       [ 86.22098 ],\n",
              "       [ 91.191956],\n",
              "       [ 96.16294 ],\n",
              "       [101.13391 ],\n",
              "       [106.10489 ],\n",
              "       [111.07587 ],\n",
              "       [116.04684 ],\n",
              "       [121.017815]], dtype=float32)"
            ]
          },
          "metadata": {},
          "execution_count": 57
        }
      ]
    },
    {
      "cell_type": "code",
      "source": [
        "y_test"
      ],
      "metadata": {
        "colab": {
          "base_uri": "https://localhost:8080/"
        },
        "id": "dbM9r2KT45m9",
        "outputId": "8e43f6af-79fa-492d-d087-f39e93826732"
      },
      "execution_count": null,
      "outputs": [
        {
          "output_type": "execute_result",
          "data": {
            "text/plain": [
              "<tf.Tensor: shape=(10,), dtype=int32, numpy=array([ 70,  74,  78,  82,  86,  90,  94,  98, 102, 106], dtype=int32)>"
            ]
          },
          "metadata": {},
          "execution_count": 58
        }
      ]
    },
    {
      "cell_type": "markdown",
      "source": [
        "**Note:** If you feel like you're going to reuse some kind of functionality in the future, it's a good idea to turn into a function."
      ],
      "metadata": {
        "id": "CruRFFbC5Z2V"
      }
    },
    {
      "cell_type": "code",
      "source": [
        "# Let's create a plotting function\n",
        "def plot_predictions(train_data=X_train, \n",
        "                     train_labels=y_train,\n",
        "                     test_data=X_test,\n",
        "                     test_labels=y_test,\n",
        "                     predictions=y_pred):\n",
        "  \"\"\"\n",
        "  Plots training data, test data and compares predictions to ground truth.\n",
        "  \"\"\"\n",
        "  plt.figure(figsize=(10, 7))\n",
        "  # Plot trainingdata in blue\n",
        "  plt.scatter(train_data, train_labels, c=\"b\", label=\"Training data\")\n",
        "  # Plot testing data in green\n",
        "  plt.scatter(test_data, test_labels, c=\"g\", label=\"Testing data\")\n",
        "  # Plot models predictions in red\n",
        "  plt.scatter(test_data, predictions, c=\"r\", label=\"Predictions\")\n",
        "  # Show the legend\n",
        "  plt.legend();"
      ],
      "metadata": {
        "id": "sWgskbY-5N8F"
      },
      "execution_count": null,
      "outputs": []
    },
    {
      "cell_type": "code",
      "source": [
        "plot_predictions(train_data=X_train,\n",
        "                 train_labels=y_train,\n",
        "                 test_data=X_test,\n",
        "                 test_labels=y_test,\n",
        "                 predictions=y_pred)"
      ],
      "metadata": {
        "colab": {
          "base_uri": "https://localhost:8080/",
          "height": 452
        },
        "id": "FRsQL2c26-j3",
        "outputId": "e0045a86-a3e5-4867-d2dc-922ecb47551c"
      },
      "execution_count": null,
      "outputs": [
        {
          "output_type": "display_data",
          "data": {
            "text/plain": [
              "<Figure size 1000x700 with 1 Axes>"
            ],
            "image/png": "[encoded data removed]"
          },
          "metadata": {}
        }
      ]
    },
    {
      "cell_type": "markdown",
      "source": [
        "## Evaluating predictions\n",
        "\n",
        "Alongisde visualizations, evaulation metrics are your alternative best option for evaluating your model.\n",
        "\n",
        "Depending on the problem you're working on, different models have different evaluation metrics. \n",
        "\n",
        "Two of the main metrics used for regression problems are:\n",
        "* **Mean absolute error (MAE)** - the mean difference between each of the predictions.\n",
        "* **Mean squared error (MSE)** - the squared mean difference between of the predictions (use if larger errors are more detrimental than smaller errors).\n",
        "\n",
        "The lower each of these values, the better.\n",
        "\n",
        "You can also use [`model.evaluate()`](https://www.tensorflow.org/api_docs/python/tf/keras/Model#evaluate) which will return the loss of the model as well as any metrics setup during the compile step."
      ],
      "metadata": {
        "id": "jYiw6U5Z7DD2"
      }
    },
    {
      "cell_type": "code",
      "source": [
        "# Evaluate the model pd the test\n",
        "model.evaluate(X_test, y_test)"
      ],
      "metadata": {
        "colab": {
          "base_uri": "https://localhost:8080/"
        },
        "id": "3CB3RAGO79dv",
        "outputId": "58b8183c-a623-4ed7-e4f1-af6eb71adc85"
      },
      "execution_count": null,
      "outputs": [
        {
          "output_type": "stream",
          "name": "stdout",
          "text": [
            "1/1 [==============================] - 0s 129ms/step - loss: 10.6484 - mae: 10.6484\n"
          ]
        },
        {
          "output_type": "execute_result",
          "data": {
            "text/plain": [
              "[10.648422241210938, 10.648422241210938]"
            ]
          },
          "metadata": {},
          "execution_count": 61
        }
      ]
    },
    {
      "cell_type": "code",
      "source": [
        "y_pred"
      ],
      "metadata": {
        "colab": {
          "base_uri": "https://localhost:8080/"
        },
        "id": "0ju3nTtD9o7H",
        "outputId": "48110f51-9063-4338-bd5d-384ca0ee0b26"
      },
      "execution_count": null,
      "outputs": [
        {
          "output_type": "execute_result",
          "data": {
            "text/plain": [
              "array([[ 76.27902 ],\n",
              "       [ 81.25001 ],\n",
              "       [ 86.22098 ],\n",
              "       [ 91.191956],\n",
              "       [ 96.16294 ],\n",
              "       [101.13391 ],\n",
              "       [106.10489 ],\n",
              "       [111.07587 ],\n",
              "       [116.04684 ],\n",
              "       [121.017815]], dtype=float32)"
            ]
          },
          "metadata": {},
          "execution_count": 62
        }
      ]
    },
    {
      "cell_type": "code",
      "source": [
        "y_test"
      ],
      "metadata": {
        "colab": {
          "base_uri": "https://localhost:8080/"
        },
        "id": "RchvS0Rf93A2",
        "outputId": "fc3fa7b6-f66f-4a4f-ffc3-d8c572cd9bf8"
      },
      "execution_count": null,
      "outputs": [
        {
          "output_type": "execute_result",
          "data": {
            "text/plain": [
              "<tf.Tensor: shape=(10,), dtype=int32, numpy=array([ 70,  74,  78,  82,  86,  90,  94,  98, 102, 106], dtype=int32)>"
            ]
          },
          "metadata": {},
          "execution_count": 63
        }
      ]
    },
    {
      "cell_type": "code",
      "source": [
        "# Calculate the mean absolute error\n",
        "mae = tf.metrics.mean_absolute_error(y_true=y_test,\n",
        "                                     y_pred=tf.constant(y_pred)) \n",
        "mae"
      ],
      "metadata": {
        "colab": {
          "base_uri": "https://localhost:8080/"
        },
        "id": "ZF-T7Wvs94fe",
        "outputId": "69c53bfc-3424-43c1-ee36-7a563223b2a2"
      },
      "execution_count": null,
      "outputs": [
        {
          "output_type": "execute_result",
          "data": {
            "text/plain": [
              "<tf.Tensor: shape=(10,), dtype=float32, numpy=\n",
              "array([13.432587, 11.099997, 10.      , 10.238391, 11.665176, 14.280347,\n",
              "       18.104889, 23.075867, 28.046839, 33.017815], dtype=float32)>"
            ]
          },
          "metadata": {},
          "execution_count": 64
        }
      ]
    },
    {
      "cell_type": "code",
      "source": [
        "tf.constant(y_pred)"
      ],
      "metadata": {
        "colab": {
          "base_uri": "https://localhost:8080/"
        },
        "id": "QoydYbAv-fhm",
        "outputId": "e36b16f3-d0de-428c-a9e3-bf9ad5f44837"
      },
      "execution_count": null,
      "outputs": [
        {
          "output_type": "execute_result",
          "data": {
            "text/plain": [
              "<tf.Tensor: shape=(10, 1), dtype=float32, numpy=\n",
              "array([[ 76.27902 ],\n",
              "       [ 81.25001 ],\n",
              "       [ 86.22098 ],\n",
              "       [ 91.191956],\n",
              "       [ 96.16294 ],\n",
              "       [101.13391 ],\n",
              "       [106.10489 ],\n",
              "       [111.07587 ],\n",
              "       [116.04684 ],\n",
              "       [121.017815]], dtype=float32)>"
            ]
          },
          "metadata": {},
          "execution_count": 65
        }
      ]
    },
    {
      "cell_type": "markdown",
      "source": [
        "Remember how we discussed dealing with different input and output shapes is one the most common issues you'll come across, this is one of those times.\n",
        "\n",
        "But not to worry.\n",
        "\n",
        "We can fix it using [`squeeze()`](https://www.tensorflow.org/api_docs/python/tf/squeeze), it'll remove the the `1` dimension from our `y_preds` tensor, making it the same shape as `y_test`.\n",
        "\n",
        "> 🔑 **Note:** If you're comparing two tensors, it's important to make sure they're the right shape(s) (you won't always have to manipulate the shapes, but always be on the look out, *many* errors are the result of mismatched tensors, especially mismatched input and output shapes)."
      ],
      "metadata": {
        "id": "wo73a1Lz__-_"
      }
    },
    {
      "cell_type": "code",
      "source": [
        "tf.squeeze(y_pred)"
      ],
      "metadata": {
        "colab": {
          "base_uri": "https://localhost:8080/"
        },
        "id": "NsSbBi3y-nSn",
        "outputId": "6df76051-0df8-4b36-8e74-866cd39e931c"
      },
      "execution_count": null,
      "outputs": [
        {
          "output_type": "execute_result",
          "data": {
            "text/plain": [
              "<tf.Tensor: shape=(10,), dtype=float32, numpy=\n",
              "array([ 76.27902 ,  81.25001 ,  86.22098 ,  91.191956,  96.16294 ,\n",
              "       101.13391 , 106.10489 , 111.07587 , 116.04684 , 121.017815],\n",
              "      dtype=float32)>"
            ]
          },
          "metadata": {},
          "execution_count": 66
        }
      ]
    },
    {
      "cell_type": "code",
      "source": [
        "# Calculate the mean absolute error \n",
        "mae = tf.metrics.mean_absolute_error(y_true=y_test,\n",
        "                                     y_pred=tf.squeeze(y_pred))\n",
        "mae"
      ],
      "metadata": {
        "colab": {
          "base_uri": "https://localhost:8080/"
        },
        "id": "HaypMSZi_CH1",
        "outputId": "0a6c067a-0862-4b8d-baeb-d590c31fa936"
      },
      "execution_count": null,
      "outputs": [
        {
          "output_type": "execute_result",
          "data": {
            "text/plain": [
              "<tf.Tensor: shape=(), dtype=float32, numpy=10.648422>"
            ]
          },
          "metadata": {},
          "execution_count": 67
        }
      ]
    },
    {
      "cell_type": "code",
      "source": [
        "# Calculate the MSE\n",
        "mse = tf.metrics.mean_squared_error(y_true=y_test,\n",
        "                                    y_pred=tf.squeeze(y_pred))\n",
        "mse"
      ],
      "metadata": {
        "colab": {
          "base_uri": "https://localhost:8080/"
        },
        "id": "ywSW78or_2K3",
        "outputId": "e8c83d20-0db1-474f-cace-ecf3695e0d0b"
      },
      "execution_count": null,
      "outputs": [
        {
          "output_type": "execute_result",
          "data": {
            "text/plain": [
              "<tf.Tensor: shape=(), dtype=float32, numpy=121.16697>"
            ]
          },
          "metadata": {},
          "execution_count": 68
        }
      ]
    },
    {
      "cell_type": "code",
      "source": [
        "# Make some functions to use MAE and MSE\n",
        "def mae(y_true, y_pred):\n",
        "  \"\"\"\n",
        "  calculate the MAE of y_true and y_pred.\n",
        "  \"\"\"\n",
        "  return tf.metrics.mean_absolute_error(y_true=y_true, \n",
        "                                        y_pred=tf.squeeze(y_pred))\n",
        "\n",
        "def mse(y_true, y_pred):\n",
        "  \"\"\"\n",
        "  calculate the MSE of y_true and y_pred.\n",
        "  \"\"\"\n",
        "  return tf.metrics.mean_squared_error(y_true=y_true, \n",
        "                                       y_pred=tf.squeeze(y_pred))"
      ],
      "metadata": {
        "id": "G0_v0YivASB_"
      },
      "execution_count": null,
      "outputs": []
    },
    {
      "cell_type": "code",
      "source": [
        "mae(y_test, y_pred).numpy(), mse(y_test, y_pred).numpy()"
      ],
      "metadata": {
        "colab": {
          "base_uri": "https://localhost:8080/"
        },
        "id": "zKlr7nJHBhoQ",
        "outputId": "ff573203-0860-4b28-e688-90d6796ead36"
      },
      "execution_count": null,
      "outputs": [
        {
          "output_type": "execute_result",
          "data": {
            "text/plain": [
              "(10.648422, 121.16697)"
            ]
          },
          "metadata": {},
          "execution_count": 70
        }
      ]
    },
    {
      "cell_type": "markdown",
      "source": [
        "## Running experiments to improve a model\n",
        "\n",
        "After seeing the evaluation metrics and the predictions your model makes, it's likely you'll want to improve it.\n",
        "\n",
        "Again, there are many different ways you can do this, but 3 of the main ones are:\n",
        "1. **Get more data** - get more examples for your model to train on (more opportunities to learn patterns).\n",
        "2. **Make your model larger (use a more complex model)** - this might come in the form of more layers or more hidden units in each layer.\n",
        "3. **Train for longer** - give your model more of a chance to find the patterns in the data.\n",
        "\n",
        "Since we created our dataset, we could easily make more data but this isn't always the case when you're working with real-world datasets.\n",
        "\n",
        "So let's take a look at how we can improve our model using 2 and 3.\n",
        "\n",
        "To do so, we'll build 3 models and compare their results:\n",
        "1. `model_1` - same as original model, 1 layer, trained for 100 epochs.\n",
        "2. `model_2` - 2 layers, trained for 100 epochs.\n",
        "3. `model_3` - 2 layers, trained for 500 epochs.\n",
        "\n",
        "**Build `model_1`**"
      ],
      "metadata": {
        "id": "tbm92QobB01_"
      }
    },
    {
      "cell_type": "code",
      "source": [
        "X_train.shape, y_train.shape"
      ],
      "metadata": {
        "colab": {
          "base_uri": "https://localhost:8080/"
        },
        "id": "tN3gVByLJ1bV",
        "outputId": "92f8a16d-5591-480b-d235-ad93edf1985d"
      },
      "execution_count": null,
      "outputs": [
        {
          "output_type": "execute_result",
          "data": {
            "text/plain": [
              "(TensorShape([40]), TensorShape([40]))"
            ]
          },
          "metadata": {},
          "execution_count": 75
        }
      ]
    },
    {
      "cell_type": "code",
      "source": [
        "X_train.ndim, y_train.ndim"
      ],
      "metadata": {
        "colab": {
          "base_uri": "https://localhost:8080/"
        },
        "id": "SxavOpexJ0so",
        "outputId": "1a609678-1a5b-4e23-aab1-e8e7020e8e8b"
      },
      "execution_count": null,
      "outputs": [
        {
          "output_type": "execute_result",
          "data": {
            "text/plain": [
              "(1, 1)"
            ]
          },
          "metadata": {},
          "execution_count": 80
        }
      ]
    },
    {
      "cell_type": "code",
      "source": [
        "# Set random seed\n",
        "tf.random.set_seed(42)\n",
        "\n",
        "# 1. Create the model\n",
        "model_1 = tf.keras.Sequential([\n",
        "    tf.keras.layers.Dense(1)\n",
        "])\n",
        "\n",
        "# 2. Compile the model\n",
        "model_1.compile(loss=tf.keras.losses.mae,\n",
        "                optimizer=tf.keras.optimizers.SGD(),\n",
        "                metrics=[\"mae\"])\n",
        "\n",
        "# 3. Fit the model_1\n",
        "model_1.fit(tf.expand_dims(X_train, axis=-1), y_train, epochs=100)"
      ],
      "metadata": {
        "colab": {
          "base_uri": "https://localhost:8080/"
        },
        "id": "De4gwd4MEh9Z",
        "outputId": "1c412ae1-5ed5-4d01-90e2-a3acfea8f2b7"
      },
      "execution_count": null,
      "outputs": [
        {
          "output_type": "stream",
          "name": "stdout",
          "text": [
            "Epoch 1/100\n",
            "2/2 [==============================] - 0s 13ms/step - loss: 30.2671 - mae: 30.2671\n",
            "Epoch 2/100\n",
            "2/2 [==============================] - 0s 8ms/step - loss: 8.4025 - mae: 8.4025\n",
            "Epoch 3/100\n",
            "2/2 [==============================] - 0s 8ms/step - loss: 10.5473 - mae: 10.5473\n",
            "Epoch 4/100\n",
            "2/2 [==============================] - 0s 8ms/step - loss: 13.0611 - mae: 13.0611\n",
            "Epoch 5/100\n",
            "2/2 [==============================] - 0s 7ms/step - loss: 12.1186 - mae: 12.1186\n",
            "Epoch 6/100\n",
            "2/2 [==============================] - 0s 8ms/step - loss: 9.3755 - mae: 9.3755\n",
            "Epoch 7/100\n",
            "2/2 [==============================] - 0s 7ms/step - loss: 8.5251 - mae: 8.5251\n",
            "Epoch 8/100\n",
            "2/2 [==============================] - 0s 12ms/step - loss: 9.0443 - mae: 9.0443\n",
            "Epoch 9/100\n",
            "2/2 [==============================] - 0s 8ms/step - loss: 18.6306 - mae: 18.6306\n",
            "Epoch 10/100\n",
            "2/2 [==============================] - 0s 6ms/step - loss: 10.0498 - mae: 10.0498\n",
            "Epoch 11/100\n",
            "2/2 [==============================] - 0s 8ms/step - loss: 8.3754 - mae: 8.3754\n",
            "Epoch 12/100\n",
            "2/2 [==============================] - 0s 7ms/step - loss: 10.6131 - mae: 10.6131\n",
            "Epoch 13/100\n",
            "2/2 [==============================] - 0s 7ms/step - loss: 9.7800 - mae: 9.7800\n",
            "Epoch 14/100\n",
            "2/2 [==============================] - 0s 7ms/step - loss: 15.8807 - mae: 15.8807\n",
            "Epoch 15/100\n",
            "2/2 [==============================] - 0s 7ms/step - loss: 11.5136 - mae: 11.5136\n",
            "Epoch 16/100\n",
            "2/2 [==============================] - 0s 8ms/step - loss: 8.5124 - mae: 8.5124\n",
            "Epoch 17/100\n",
            "2/2 [==============================] - 0s 7ms/step - loss: 13.5679 - mae: 13.5679\n",
            "Epoch 18/100\n",
            "2/2 [==============================] - 0s 8ms/step - loss: 11.3783 - mae: 11.3783\n",
            "Epoch 19/100\n",
            "2/2 [==============================] - 0s 7ms/step - loss: 18.0251 - mae: 18.0251\n",
            "Epoch 20/100\n",
            "2/2 [==============================] - 0s 8ms/step - loss: 15.1589 - mae: 15.1589\n",
            "Epoch 21/100\n",
            "2/2 [==============================] - 0s 8ms/step - loss: 11.1138 - mae: 11.1138\n",
            "Epoch 22/100\n",
            "2/2 [==============================] - 0s 8ms/step - loss: 8.2404 - mae: 8.2404\n",
            "Epoch 23/100\n",
            "2/2 [==============================] - 0s 7ms/step - loss: 9.4589 - mae: 9.4589\n",
            "Epoch 24/100\n",
            "2/2 [==============================] - 0s 11ms/step - loss: 7.6853 - mae: 7.6853\n",
            "Epoch 25/100\n",
            "2/2 [==============================] - 0s 7ms/step - loss: 13.0506 - mae: 13.0506\n",
            "Epoch 26/100\n",
            "2/2 [==============================] - 0s 7ms/step - loss: 16.5289 - mae: 16.5289\n",
            "Epoch 27/100\n",
            "2/2 [==============================] - 0s 7ms/step - loss: 13.2563 - mae: 13.2563\n",
            "Epoch 28/100\n",
            "2/2 [==============================] - 0s 7ms/step - loss: 14.3706 - mae: 14.3706\n",
            "Epoch 29/100\n",
            "2/2 [==============================] - 0s 7ms/step - loss: 10.1024 - mae: 10.1024\n",
            "Epoch 30/100\n",
            "2/2 [==============================] - 0s 7ms/step - loss: 16.5089 - mae: 16.5089\n",
            "Epoch 31/100\n",
            "2/2 [==============================] - 0s 9ms/step - loss: 23.4951 - mae: 23.4951\n",
            "Epoch 32/100\n",
            "2/2 [==============================] - 0s 7ms/step - loss: 7.3706 - mae: 7.3706\n",
            "Epoch 33/100\n",
            "2/2 [==============================] - 0s 7ms/step - loss: 9.8101 - mae: 9.8101\n",
            "Epoch 34/100\n",
            "2/2 [==============================] - 0s 7ms/step - loss: 12.2664 - mae: 12.2664\n",
            "Epoch 35/100\n",
            "2/2 [==============================] - 0s 7ms/step - loss: 11.1552 - mae: 11.1552\n",
            "Epoch 36/100\n",
            "2/2 [==============================] - 0s 7ms/step - loss: 13.3739 - mae: 13.3739\n",
            "Epoch 37/100\n",
            "2/2 [==============================] - 0s 7ms/step - loss: 9.4591 - mae: 9.4591\n",
            "Epoch 38/100\n",
            "2/2 [==============================] - 0s 7ms/step - loss: 10.1126 - mae: 10.1126\n",
            "Epoch 39/100\n",
            "2/2 [==============================] - 0s 9ms/step - loss: 10.2072 - mae: 10.2072\n",
            "Epoch 40/100\n",
            "2/2 [==============================] - 0s 7ms/step - loss: 10.9505 - mae: 10.9505\n",
            "Epoch 41/100\n",
            "2/2 [==============================] - 0s 7ms/step - loss: 7.9269 - mae: 7.9269\n",
            "Epoch 42/100\n",
            "2/2 [==============================] - 0s 8ms/step - loss: 10.5906 - mae: 10.5906\n",
            "Epoch 43/100\n",
            "2/2 [==============================] - 0s 7ms/step - loss: 7.2141 - mae: 7.2141\n",
            "Epoch 44/100\n",
            "2/2 [==============================] - 0s 6ms/step - loss: 8.0025 - mae: 8.0025\n",
            "Epoch 45/100\n",
            "2/2 [==============================] - 0s 7ms/step - loss: 9.7967 - mae: 9.7967\n",
            "Epoch 46/100\n",
            "2/2 [==============================] - 0s 8ms/step - loss: 8.8731 - mae: 8.8731\n",
            "Epoch 47/100\n",
            "2/2 [==============================] - 0s 8ms/step - loss: 7.5760 - mae: 7.5760\n",
            "Epoch 48/100\n",
            "2/2 [==============================] - 0s 8ms/step - loss: 8.5736 - mae: 8.5736\n",
            "Epoch 49/100\n",
            "2/2 [==============================] - 0s 9ms/step - loss: 10.0026 - mae: 10.0026\n",
            "Epoch 50/100\n",
            "2/2 [==============================] - 0s 7ms/step - loss: 9.0248 - mae: 9.0248\n",
            "Epoch 51/100\n",
            "2/2 [==============================] - 0s 8ms/step - loss: 10.6728 - mae: 10.6728\n",
            "Epoch 52/100\n",
            "2/2 [==============================] - 0s 7ms/step - loss: 15.2974 - mae: 15.2974\n",
            "Epoch 53/100\n",
            "2/2 [==============================] - 0s 7ms/step - loss: 14.3186 - mae: 14.3186\n",
            "Epoch 54/100\n",
            "2/2 [==============================] - 0s 7ms/step - loss: 21.6109 - mae: 21.6109\n",
            "Epoch 55/100\n",
            "2/2 [==============================] - 0s 7ms/step - loss: 15.9955 - mae: 15.9955\n",
            "Epoch 56/100\n",
            "2/2 [==============================] - 0s 7ms/step - loss: 10.2888 - mae: 10.2888\n",
            "Epoch 57/100\n",
            "2/2 [==============================] - 0s 7ms/step - loss: 9.7718 - mae: 9.7718\n",
            "Epoch 58/100\n",
            "2/2 [==============================] - 0s 8ms/step - loss: 9.0576 - mae: 9.0576\n",
            "Epoch 59/100\n",
            "2/2 [==============================] - 0s 7ms/step - loss: 8.2617 - mae: 8.2617\n",
            "Epoch 60/100\n",
            "2/2 [==============================] - 0s 7ms/step - loss: 9.3590 - mae: 9.3590\n",
            "Epoch 61/100\n",
            "2/2 [==============================] - 0s 7ms/step - loss: 11.1689 - mae: 11.1689\n",
            "Epoch 62/100\n",
            "2/2 [==============================] - 0s 7ms/step - loss: 12.0775 - mae: 12.0775\n",
            "Epoch 63/100\n",
            "2/2 [==============================] - 0s 7ms/step - loss: 7.2722 - mae: 7.2722\n",
            "Epoch 64/100\n",
            "2/2 [==============================] - 0s 13ms/step - loss: 12.4337 - mae: 12.4337\n",
            "Epoch 65/100\n",
            "2/2 [==============================] - 0s 7ms/step - loss: 10.5048 - mae: 10.5048\n",
            "Epoch 66/100\n",
            "2/2 [==============================] - 0s 7ms/step - loss: 15.6100 - mae: 15.6100\n",
            "Epoch 67/100\n",
            "2/2 [==============================] - 0s 7ms/step - loss: 10.0126 - mae: 10.0126\n",
            "Epoch 68/100\n",
            "2/2 [==============================] - 0s 7ms/step - loss: 8.7239 - mae: 8.7239\n",
            "Epoch 69/100\n",
            "2/2 [==============================] - 0s 7ms/step - loss: 13.4870 - mae: 13.4870\n",
            "Epoch 70/100\n",
            "2/2 [==============================] - 0s 7ms/step - loss: 7.4718 - mae: 7.4718\n",
            "Epoch 71/100\n",
            "2/2 [==============================] - 0s 7ms/step - loss: 12.2317 - mae: 12.2317\n",
            "Epoch 72/100\n",
            "2/2 [==============================] - 0s 7ms/step - loss: 8.5340 - mae: 8.5340\n",
            "Epoch 73/100\n",
            "2/2 [==============================] - 0s 7ms/step - loss: 7.0419 - mae: 7.0419\n",
            "Epoch 74/100\n",
            "2/2 [==============================] - 0s 8ms/step - loss: 9.9303 - mae: 9.9303\n",
            "Epoch 75/100\n",
            "2/2 [==============================] - 0s 7ms/step - loss: 9.9411 - mae: 9.9411\n",
            "Epoch 76/100\n",
            "2/2 [==============================] - 0s 8ms/step - loss: 10.1073 - mae: 10.1073\n",
            "Epoch 77/100\n",
            "2/2 [==============================] - 0s 7ms/step - loss: 12.9570 - mae: 12.9570\n",
            "Epoch 78/100\n",
            "2/2 [==============================] - 0s 7ms/step - loss: 11.1495 - mae: 11.1495\n",
            "Epoch 79/100\n",
            "2/2 [==============================] - 0s 7ms/step - loss: 14.7002 - mae: 14.7002\n",
            "Epoch 80/100\n",
            "2/2 [==============================] - 0s 8ms/step - loss: 8.9290 - mae: 8.9290\n",
            "Epoch 81/100\n",
            "2/2 [==============================] - 0s 8ms/step - loss: 10.7733 - mae: 10.7733\n",
            "Epoch 82/100\n",
            "2/2 [==============================] - 0s 7ms/step - loss: 8.3893 - mae: 8.3893\n",
            "Epoch 83/100\n",
            "2/2 [==============================] - 0s 9ms/step - loss: 9.2289 - mae: 9.2289\n",
            "Epoch 84/100\n",
            "2/2 [==============================] - 0s 8ms/step - loss: 8.9457 - mae: 8.9457\n",
            "Epoch 85/100\n",
            "2/2 [==============================] - 0s 7ms/step - loss: 13.2032 - mae: 13.2032\n",
            "Epoch 86/100\n",
            "2/2 [==============================] - 0s 7ms/step - loss: 13.7037 - mae: 13.7037\n",
            "Epoch 87/100\n",
            "2/2 [==============================] - 0s 7ms/step - loss: 13.1879 - mae: 13.1879\n",
            "Epoch 88/100\n",
            "2/2 [==============================] - 0s 8ms/step - loss: 11.5139 - mae: 11.5139\n",
            "Epoch 89/100\n",
            "2/2 [==============================] - 0s 7ms/step - loss: 7.8055 - mae: 7.8055\n",
            "Epoch 90/100\n",
            "2/2 [==============================] - 0s 7ms/step - loss: 10.9291 - mae: 10.9291\n",
            "Epoch 91/100\n",
            "2/2 [==============================] - 0s 8ms/step - loss: 6.7524 - mae: 6.7524\n",
            "Epoch 92/100\n",
            "2/2 [==============================] - 0s 7ms/step - loss: 10.1216 - mae: 10.1216\n",
            "Epoch 93/100\n",
            "2/2 [==============================] - 0s 9ms/step - loss: 7.6112 - mae: 7.6112\n",
            "Epoch 94/100\n",
            "2/2 [==============================] - 0s 7ms/step - loss: 9.2439 - mae: 9.2439\n",
            "Epoch 95/100\n",
            "2/2 [==============================] - 0s 8ms/step - loss: 10.8348 - mae: 10.8348\n",
            "Epoch 96/100\n",
            "2/2 [==============================] - 0s 7ms/step - loss: 10.2940 - mae: 10.2940\n",
            "Epoch 97/100\n",
            "2/2 [==============================] - 0s 7ms/step - loss: 7.6836 - mae: 7.6836\n",
            "Epoch 98/100\n",
            "2/2 [==============================] - 0s 9ms/step - loss: 8.6188 - mae: 8.6188\n",
            "Epoch 99/100\n",
            "2/2 [==============================] - 0s 8ms/step - loss: 9.3976 - mae: 9.3976\n",
            "Epoch 100/100\n",
            "2/2 [==============================] - 0s 9ms/step - loss: 8.8427 - mae: 8.8427\n"
          ]
        },
        {
          "output_type": "execute_result",
          "data": {
            "text/plain": [
              "<keras.callbacks.History at 0x7fc498e2dc60>"
            ]
          },
          "metadata": {},
          "execution_count": 73
        }
      ]
    },
    {
      "cell_type": "code",
      "source": [
        "# Make and plot predictions for model 1\n",
        "y_preds_1 = model_1.predict(X_test)\n",
        "plot_predictions(predictions=y_preds_1)"
      ],
      "metadata": {
        "colab": {
          "base_uri": "https://localhost:8080/",
          "height": 470
        },
        "id": "Oy1-1JRNIA4k",
        "outputId": "4a8a43f4-2d75-4144-ac8e-429bb51ac3c5"
      },
      "execution_count": null,
      "outputs": [
        {
          "output_type": "stream",
          "name": "stdout",
          "text": [
            "1/1 [==============================] - 0s 20ms/step\n"
          ]
        },
        {
          "output_type": "display_data",
          "data": {
            "text/plain": [
              "<Figure size 1000x700 with 1 Axes>"
            ],
            "image/png": "[encoded data removed]"
          },
          "metadata": {}
        }
      ]
    },
    {
      "cell_type": "code",
      "source": [
        "tf.constant(y_preds_1), tf.squeeze(y_preds_1)"
      ],
      "metadata": {
        "colab": {
          "base_uri": "https://localhost:8080/"
        },
        "id": "4nn31P5oLavo",
        "outputId": "a82ceb96-02ce-41fd-8ac6-4f3cadc3c641"
      },
      "execution_count": null,
      "outputs": [
        {
          "output_type": "execute_result",
          "data": {
            "text/plain": [
              "(<tf.Tensor: shape=(10, 1), dtype=float32, numpy=\n",
              " array([[ 74.62985 ],\n",
              "        [ 79.51868 ],\n",
              "        [ 84.4075  ],\n",
              "        [ 89.296326],\n",
              "        [ 94.18515 ],\n",
              "        [ 99.073975],\n",
              "        [103.96279 ],\n",
              "        [108.851616],\n",
              "        [113.74044 ],\n",
              "        [118.629265]], dtype=float32)>,\n",
              " <tf.Tensor: shape=(10,), dtype=float32, numpy=\n",
              " array([ 74.62985 ,  79.51868 ,  84.4075  ,  89.296326,  94.18515 ,\n",
              "         99.073975, 103.96279 , 108.851616, 113.74044 , 118.629265],\n",
              "       dtype=float32)>)"
            ]
          },
          "metadata": {},
          "execution_count": 86
        }
      ]
    },
    {
      "cell_type": "code",
      "source": [
        "# Calculate model_1 evaluation metrics\n",
        "mae_1 = mae(y_test, y_preds_1)\n",
        "mse_1 = mse(y_test, y_preds_1)\n",
        "mae_1, mse_1"
      ],
      "metadata": {
        "colab": {
          "base_uri": "https://localhost:8080/"
        },
        "id": "9MeZPmOcKwMj",
        "outputId": "55c4b1f4-4818-48fe-8a0b-14f86731a90b"
      },
      "execution_count": null,
      "outputs": [
        {
          "output_type": "execute_result",
          "data": {
            "text/plain": [
              "(<tf.Tensor: shape=(), dtype=float32, numpy=8.6295595>,\n",
              " <tf.Tensor: shape=(), dtype=float32, numpy=80.986855>)"
            ]
          },
          "metadata": {},
          "execution_count": 84
        }
      ]
    },
    {
      "cell_type": "markdown",
      "source": [
        "**Build `model_2`**\n",
        "\n",
        "This time we'll add an extra dense layer (so now our model will have 2 layers) whilst keeping everything else the same."
      ],
      "metadata": {
        "id": "ii3S9vMWLHzh"
      }
    },
    {
      "cell_type": "code",
      "source": [
        "# Set the random seed\n",
        "tf.random.set_seed(42)\n",
        "\n",
        "# 1. Create the model\n",
        "model_2 = tf.keras.Sequential([\n",
        "    tf.keras.layers.Dense(20),\n",
        "    tf.keras.layers.Dense(1)\n",
        "])\n",
        "\n",
        "# 2. Compile the model\n",
        "model_2.compile(loss=tf.keras.losses.mae,\n",
        "                optimizer=tf.keras.optimizers.SGD(),\n",
        "                metrics=[\"mse\"])\n",
        "\n",
        "# 3. Fit the model\n",
        "model_2.fit(tf.expand_dims(X_train, axis=-1), y_train, epochs=100)"
      ],
      "metadata": {
        "colab": {
          "base_uri": "https://localhost:8080/"
        },
        "id": "LSe9Flx1L98K",
        "outputId": "1a9e3fda-20ad-453b-ffe7-635d17a8afc0"
      },
      "execution_count": null,
      "outputs": [
        {
          "output_type": "stream",
          "name": "stdout",
          "text": [
            "Epoch 1/100\n",
            "2/2 [==============================] - 1s 13ms/step - loss: 53.7668 - mse: 4501.5283\n",
            "Epoch 2/100\n",
            "2/2 [==============================] - 0s 7ms/step - loss: 29.2542 - mse: 1114.1432\n",
            "Epoch 3/100\n",
            "2/2 [==============================] - 0s 8ms/step - loss: 33.8471 - mse: 1738.5150\n",
            "Epoch 4/100\n",
            "2/2 [==============================] - 0s 7ms/step - loss: 29.8863 - mse: 1323.0515\n",
            "Epoch 5/100\n",
            "2/2 [==============================] - 0s 7ms/step - loss: 15.2572 - mse: 296.2934\n",
            "Epoch 6/100\n",
            "2/2 [==============================] - 0s 7ms/step - loss: 12.1211 - mse: 180.3565\n",
            "Epoch 7/100\n",
            "2/2 [==============================] - 0s 8ms/step - loss: 11.4292 - mse: 158.7036\n",
            "Epoch 8/100\n",
            "2/2 [==============================] - 0s 8ms/step - loss: 11.1920 - mse: 172.6015\n",
            "Epoch 9/100\n",
            "2/2 [==============================] - 0s 8ms/step - loss: 41.6534 - mse: 2762.1289\n",
            "Epoch 10/100\n",
            "2/2 [==============================] - 0s 8ms/step - loss: 28.8962 - mse: 1179.8665\n",
            "Epoch 11/100\n",
            "2/2 [==============================] - 0s 8ms/step - loss: 8.5363 - mse: 96.3587\n",
            "Epoch 12/100\n",
            "2/2 [==============================] - 0s 11ms/step - loss: 27.4476 - mse: 1035.6438\n",
            "Epoch 13/100\n",
            "2/2 [==============================] - 0s 8ms/step - loss: 12.1162 - mse: 174.5309\n",
            "Epoch 14/100\n",
            "2/2 [==============================] - 0s 10ms/step - loss: 34.8383 - mse: 1995.3890\n",
            "Epoch 15/100\n",
            "2/2 [==============================] - 0s 8ms/step - loss: 22.6717 - mse: 730.2930\n",
            "Epoch 16/100\n",
            "2/2 [==============================] - 0s 8ms/step - loss: 9.9393 - mse: 125.0921\n",
            "Epoch 17/100\n",
            "2/2 [==============================] - 0s 7ms/step - loss: 17.9039 - mse: 425.8051\n",
            "Epoch 18/100\n",
            "2/2 [==============================] - 0s 7ms/step - loss: 14.3809 - mse: 328.4527\n",
            "Epoch 19/100\n",
            "2/2 [==============================] - 0s 7ms/step - loss: 14.4924 - mse: 330.8789\n",
            "Epoch 20/100\n",
            "2/2 [==============================] - 0s 8ms/step - loss: 10.4847 - mse: 148.3451\n",
            "Epoch 21/100\n",
            "2/2 [==============================] - 0s 7ms/step - loss: 15.2639 - mse: 316.4097\n",
            "Epoch 22/100\n",
            "2/2 [==============================] - 0s 7ms/step - loss: 15.6110 - mse: 336.2204\n",
            "Epoch 23/100\n",
            "2/2 [==============================] - 0s 8ms/step - loss: 9.2306 - mse: 118.6711\n",
            "Epoch 24/100\n",
            "2/2 [==============================] - 0s 7ms/step - loss: 17.2253 - mse: 406.1336\n",
            "Epoch 25/100\n",
            "2/2 [==============================] - 0s 8ms/step - loss: 15.9102 - mse: 332.3341\n",
            "Epoch 26/100\n",
            "2/2 [==============================] - 0s 7ms/step - loss: 20.8649 - mse: 646.1715\n",
            "Epoch 27/100\n",
            "2/2 [==============================] - 0s 7ms/step - loss: 26.1096 - mse: 1065.0688\n",
            "Epoch 28/100\n",
            "2/2 [==============================] - 0s 7ms/step - loss: 18.5880 - mse: 547.1557\n",
            "Epoch 29/100\n",
            "2/2 [==============================] - 0s 7ms/step - loss: 9.2448 - mse: 97.0035\n",
            "Epoch 30/100\n",
            "2/2 [==============================] - 0s 7ms/step - loss: 29.2138 - mse: 1528.4381\n",
            "Epoch 31/100\n",
            "2/2 [==============================] - 0s 8ms/step - loss: 52.9258 - mse: 5011.0654\n",
            "Epoch 32/100\n",
            "2/2 [==============================] - 0s 8ms/step - loss: 11.9755 - mse: 210.3656\n",
            "Epoch 33/100\n",
            "2/2 [==============================] - 0s 7ms/step - loss: 15.6031 - mse: 335.8223\n",
            "Epoch 34/100\n",
            "2/2 [==============================] - 0s 7ms/step - loss: 12.6701 - mse: 213.2168\n",
            "Epoch 35/100\n",
            "2/2 [==============================] - 0s 9ms/step - loss: 9.2297 - mse: 92.5909\n",
            "Epoch 36/100\n",
            "2/2 [==============================] - 0s 7ms/step - loss: 16.6107 - mse: 401.5888\n",
            "Epoch 37/100\n",
            "2/2 [==============================] - 0s 8ms/step - loss: 11.0485 - mse: 192.3429\n",
            "Epoch 38/100\n",
            "2/2 [==============================] - 0s 7ms/step - loss: 18.1745 - mse: 434.4310\n",
            "Epoch 39/100\n",
            "2/2 [==============================] - 0s 7ms/step - loss: 19.1110 - mse: 530.5582\n",
            "Epoch 40/100\n",
            "2/2 [==============================] - 0s 7ms/step - loss: 20.4498 - mse: 611.1029\n",
            "Epoch 41/100\n",
            "2/2 [==============================] - 0s 7ms/step - loss: 14.8880 - mse: 278.4669\n",
            "Epoch 42/100\n",
            "2/2 [==============================] - 0s 8ms/step - loss: 12.2644 - mse: 185.6666\n",
            "Epoch 43/100\n",
            "2/2 [==============================] - 0s 8ms/step - loss: 10.7242 - mse: 166.2620\n",
            "Epoch 44/100\n",
            "2/2 [==============================] - 0s 7ms/step - loss: 22.9820 - mse: 827.0373\n",
            "Epoch 45/100\n",
            "2/2 [==============================] - 0s 8ms/step - loss: 10.3767 - mse: 128.8387\n",
            "Epoch 46/100\n",
            "2/2 [==============================] - 0s 7ms/step - loss: 11.7714 - mse: 180.8871\n",
            "Epoch 47/100\n",
            "2/2 [==============================] - 0s 7ms/step - loss: 9.6509 - mse: 153.7752\n",
            "Epoch 48/100\n",
            "2/2 [==============================] - 0s 7ms/step - loss: 17.2491 - mse: 403.6173\n",
            "Epoch 49/100\n",
            "2/2 [==============================] - 0s 8ms/step - loss: 9.5623 - mse: 99.5989\n",
            "Epoch 50/100\n",
            "2/2 [==============================] - 0s 7ms/step - loss: 13.7999 - mse: 259.3130\n",
            "Epoch 51/100\n",
            "2/2 [==============================] - 0s 7ms/step - loss: 11.5886 - mse: 154.4935\n",
            "Epoch 52/100\n",
            "2/2 [==============================] - 0s 7ms/step - loss: 30.5096 - mse: 1607.9690\n",
            "Epoch 53/100\n",
            "2/2 [==============================] - 0s 7ms/step - loss: 14.3345 - mse: 301.5902\n",
            "Epoch 54/100\n",
            "2/2 [==============================] - 0s 7ms/step - loss: 23.9373 - mse: 856.7054\n",
            "Epoch 55/100\n",
            "2/2 [==============================] - 0s 7ms/step - loss: 23.1568 - mse: 802.8196\n",
            "Epoch 56/100\n",
            "2/2 [==============================] - 0s 7ms/step - loss: 10.8718 - mse: 171.0144\n",
            "Epoch 57/100\n",
            "2/2 [==============================] - 0s 7ms/step - loss: 12.7288 - mse: 198.0958\n",
            "Epoch 58/100\n",
            "2/2 [==============================] - 0s 7ms/step - loss: 9.5910 - mse: 102.4732\n",
            "Epoch 59/100\n",
            "2/2 [==============================] - 0s 9ms/step - loss: 12.5035 - mse: 215.4980\n",
            "Epoch 60/100\n",
            "2/2 [==============================] - 0s 7ms/step - loss: 12.3076 - mse: 207.9626\n",
            "Epoch 61/100\n",
            "2/2 [==============================] - 0s 8ms/step - loss: 17.4370 - mse: 427.4084\n",
            "Epoch 62/100\n",
            "2/2 [==============================] - 0s 7ms/step - loss: 10.5952 - mse: 136.6749\n",
            "Epoch 63/100\n",
            "2/2 [==============================] - 0s 8ms/step - loss: 10.4827 - mse: 151.8617\n",
            "Epoch 64/100\n",
            "2/2 [==============================] - 0s 8ms/step - loss: 24.8155 - mse: 909.4331\n",
            "Epoch 65/100\n",
            "2/2 [==============================] - 0s 8ms/step - loss: 10.6693 - mse: 142.3159\n",
            "Epoch 66/100\n",
            "2/2 [==============================] - 0s 8ms/step - loss: 21.7558 - mse: 702.6154\n",
            "Epoch 67/100\n",
            "2/2 [==============================] - 0s 18ms/step - loss: 10.7050 - mse: 135.6992\n",
            "Epoch 68/100\n",
            "2/2 [==============================] - 0s 8ms/step - loss: 10.6335 - mse: 148.7579\n",
            "Epoch 69/100\n",
            "2/2 [==============================] - 0s 11ms/step - loss: 22.6641 - mse: 740.2993\n",
            "Epoch 70/100\n",
            "2/2 [==============================] - 0s 12ms/step - loss: 9.3368 - mse: 166.0218\n",
            "Epoch 71/100\n",
            "2/2 [==============================] - 0s 9ms/step - loss: 15.4440 - mse: 323.4475\n",
            "Epoch 72/100\n",
            "2/2 [==============================] - 0s 8ms/step - loss: 7.0156 - mse: 67.4397\n",
            "Epoch 73/100\n",
            "2/2 [==============================] - 0s 7ms/step - loss: 12.2087 - mse: 215.9980\n",
            "Epoch 74/100\n",
            "2/2 [==============================] - 0s 8ms/step - loss: 17.3467 - mse: 407.4882\n",
            "Epoch 75/100\n",
            "2/2 [==============================] - 0s 7ms/step - loss: 7.2146 - mse: 71.3642\n",
            "Epoch 76/100\n",
            "2/2 [==============================] - 0s 8ms/step - loss: 9.4534 - mse: 148.9809\n",
            "Epoch 77/100\n",
            "2/2 [==============================] - 0s 8ms/step - loss: 22.1730 - mse: 733.9730\n",
            "Epoch 78/100\n",
            "2/2 [==============================] - 0s 8ms/step - loss: 17.4794 - mse: 464.4085\n",
            "Epoch 79/100\n",
            "2/2 [==============================] - 0s 8ms/step - loss: 14.7118 - mse: 316.7049\n",
            "Epoch 80/100\n",
            "2/2 [==============================] - 0s 7ms/step - loss: 24.8918 - mse: 943.7820\n",
            "Epoch 81/100\n",
            "2/2 [==============================] - 0s 8ms/step - loss: 10.7858 - mse: 136.6918\n",
            "Epoch 82/100\n",
            "2/2 [==============================] - 0s 8ms/step - loss: 12.8187 - mse: 233.7465\n",
            "Epoch 83/100\n",
            "2/2 [==============================] - 0s 8ms/step - loss: 17.6132 - mse: 404.8323\n",
            "Epoch 84/100\n",
            "2/2 [==============================] - 0s 8ms/step - loss: 7.2914 - mse: 73.0240\n",
            "Epoch 85/100\n",
            "2/2 [==============================] - 0s 7ms/step - loss: 15.1059 - mse: 318.4769\n",
            "Epoch 86/100\n",
            "2/2 [==============================] - 0s 8ms/step - loss: 15.3971 - mse: 318.2752\n",
            "Epoch 87/100\n",
            "2/2 [==============================] - 0s 8ms/step - loss: 19.3339 - mse: 531.6288\n",
            "Epoch 88/100\n",
            "2/2 [==============================] - 0s 10ms/step - loss: 29.2310 - mse: 1233.1307\n",
            "Epoch 89/100\n",
            "2/2 [==============================] - 0s 8ms/step - loss: 10.0807 - mse: 123.9645\n",
            "Epoch 90/100\n",
            "2/2 [==============================] - 0s 8ms/step - loss: 21.0454 - mse: 634.0117\n",
            "Epoch 91/100\n",
            "2/2 [==============================] - 0s 8ms/step - loss: 10.4506 - mse: 163.6864\n",
            "Epoch 92/100\n",
            "2/2 [==============================] - 0s 8ms/step - loss: 17.9729 - mse: 441.9188\n",
            "Epoch 93/100\n",
            "2/2 [==============================] - 0s 18ms/step - loss: 6.5434 - mse: 61.1945\n",
            "Epoch 94/100\n",
            "2/2 [==============================] - 0s 7ms/step - loss: 11.1113 - mse: 152.6142\n",
            "Epoch 95/100\n",
            "2/2 [==============================] - 0s 7ms/step - loss: 24.3802 - mse: 891.4841\n",
            "Epoch 96/100\n",
            "2/2 [==============================] - 0s 7ms/step - loss: 10.7185 - mse: 172.2567\n",
            "Epoch 97/100\n",
            "2/2 [==============================] - 0s 7ms/step - loss: 15.3637 - mse: 357.8455\n",
            "Epoch 98/100\n",
            "2/2 [==============================] - 0s 7ms/step - loss: 8.2366 - mse: 110.6849\n",
            "Epoch 99/100\n",
            "2/2 [==============================] - 0s 8ms/step - loss: 16.5467 - mse: 384.4703\n",
            "Epoch 100/100\n",
            "2/2 [==============================] - 0s 8ms/step - loss: 14.3154 - mse: 296.1799\n"
          ]
        },
        {
          "output_type": "execute_result",
          "data": {
            "text/plain": [
              "<keras.callbacks.History at 0x7fc4bdce7850>"
            ]
          },
          "metadata": {},
          "execution_count": 94
        }
      ]
    },
    {
      "cell_type": "code",
      "source": [
        "# Make and plot predictions of model 2\n",
        "y_preds_2 = model_2.predict(X_test)\n",
        "plot_predictions(predictions=y_preds_2)"
      ],
      "metadata": {
        "colab": {
          "base_uri": "https://localhost:8080/",
          "height": 470
        },
        "id": "ESaX6mOOM-V7",
        "outputId": "68008f1f-b74e-4b65-e710-56c708e2e763"
      },
      "execution_count": null,
      "outputs": [
        {
          "output_type": "stream",
          "name": "stdout",
          "text": [
            "1/1 [==============================] - 0s 44ms/step\n"
          ]
        },
        {
          "output_type": "display_data",
          "data": {
            "text/plain": [
              "<Figure size 1000x700 with 1 Axes>"
            ],
            "image/png": "[encoded data removed]"
          },
          "metadata": {}
        }
      ]
    },
    {
      "cell_type": "code",
      "source": [
        "# Calculate model_2 evaluation metrics\n",
        "mae_2 = mae(y_test, y_preds_2)\n",
        "mse_2 = mse(y_test, y_preds_2)\n",
        "mae_2, mse_2"
      ],
      "metadata": {
        "colab": {
          "base_uri": "https://localhost:8080/"
        },
        "id": "kvGaQPYqNdDg",
        "outputId": "ebaf687e-642a-4e08-dbb2-840fe36a565f"
      },
      "execution_count": null,
      "outputs": [
        {
          "output_type": "execute_result",
          "data": {
            "text/plain": [
              "(<tf.Tensor: shape=(), dtype=float32, numpy=10.944049>,\n",
              " <tf.Tensor: shape=(), dtype=float32, numpy=127.75991>)"
            ]
          },
          "metadata": {},
          "execution_count": 96
        }
      ]
    },
    {
      "cell_type": "code",
      "source": [
        "# Calculate model_1 evaluation metrics\n",
        "mae_1 = mae(y_test, y_preds_1)\n",
        "mse_1 = mse(y_test, y_preds_1)\n",
        "mae_1, mse_1"
      ],
      "metadata": {
        "colab": {
          "base_uri": "https://localhost:8080/"
        },
        "id": "DYyomq2_N2ch",
        "outputId": "41fe5150-b0da-427d-ee6e-622fd0a9e997"
      },
      "execution_count": null,
      "outputs": [
        {
          "output_type": "execute_result",
          "data": {
            "text/plain": [
              "(<tf.Tensor: shape=(), dtype=float32, numpy=8.6295595>,\n",
              " <tf.Tensor: shape=(), dtype=float32, numpy=80.986855>)"
            ]
          },
          "metadata": {},
          "execution_count": 93
        }
      ]
    },
    {
      "cell_type": "markdown",
      "source": [
        "**Build `model_3`**\n",
        "\n",
        "For our 3rd model, we'll keep everything the same as `model_2` except this time we'll train for longer (500 epochs instead of 100).\n",
        "\n",
        "This will give our model more of a chance to learn the patterns in the data."
      ],
      "metadata": {
        "id": "4cF57-tHN3og"
      }
    },
    {
      "cell_type": "code",
      "source": [
        "# Set the random seed\n",
        "tf.random.set_seed(42)\n",
        "\n",
        "# 1. Create the model\n",
        "model_3 = tf.keras.Sequential([\n",
        "    tf.keras.layers.Dense(20),\n",
        "    tf.keras.layers.Dense(1)\n",
        "])\n",
        "\n",
        "# 2. Compile the model\n",
        "model_3.compile(loss=tf.keras.losses.mae,\n",
        "                optimizer=tf.keras.optimizers.SGD(),\n",
        "                metrics=[\"mae\"]\n",
        "                )\n",
        "\n",
        "# 3. Fit the model\n",
        "model_3.fit(tf.expand_dims(X_train, axis=-1), y_train, epochs=500)"
      ],
      "metadata": {
        "colab": {
          "base_uri": "https://localhost:8080/"
        },
        "id": "BLW0iRiROH9L",
        "outputId": "19a6e450-a847-4e06-aa40-7b8e228602b1"
      },
      "execution_count": null,
      "outputs": [
        {
          "output_type": "stream",
          "name": "stdout",
          "text": [
            "Epoch 1/500\n",
            "2/2 [==============================] - 1s 20ms/step - loss: 34.8051 - mae: 34.8051\n",
            "Epoch 2/500\n",
            "2/2 [==============================] - 0s 12ms/step - loss: 28.6215 - mae: 28.6215\n",
            "Epoch 3/500\n",
            "2/2 [==============================] - 0s 11ms/step - loss: 32.0998 - mae: 32.0998\n",
            "Epoch 4/500\n",
            "2/2 [==============================] - 0s 11ms/step - loss: 17.2588 - mae: 17.2588\n",
            "Epoch 5/500\n",
            "2/2 [==============================] - 0s 8ms/step - loss: 23.4011 - mae: 23.4011\n",
            "Epoch 6/500\n",
            "2/2 [==============================] - 0s 17ms/step - loss: 10.8349 - mae: 10.8349\n",
            "Epoch 7/500\n",
            "2/2 [==============================] - 0s 9ms/step - loss: 11.8767 - mae: 11.8767\n",
            "Epoch 8/500\n",
            "2/2 [==============================] - 0s 9ms/step - loss: 12.9657 - mae: 12.9657\n",
            "Epoch 9/500\n",
            "2/2 [==============================] - 0s 9ms/step - loss: 34.1467 - mae: 34.1467\n",
            "Epoch 10/500\n",
            "2/2 [==============================] - 0s 9ms/step - loss: 23.5832 - mae: 23.5832\n",
            "Epoch 11/500\n",
            "2/2 [==============================] - 0s 12ms/step - loss: 11.8848 - mae: 11.8848\n",
            "Epoch 12/500\n",
            "2/2 [==============================] - 0s 12ms/step - loss: 23.9244 - mae: 23.9244\n",
            "Epoch 13/500\n",
            "2/2 [==============================] - 0s 20ms/step - loss: 20.6377 - mae: 20.6377\n",
            "Epoch 14/500\n",
            "2/2 [==============================] - 0s 11ms/step - loss: 22.9733 - mae: 22.9733\n",
            "Epoch 15/500\n",
            "2/2 [==============================] - 0s 15ms/step - loss: 14.5754 - mae: 14.5754\n",
            "Epoch 16/500\n",
            "2/2 [==============================] - 0s 9ms/step - loss: 12.3386 - mae: 12.3386\n",
            "Epoch 17/500\n",
            "2/2 [==============================] - 0s 9ms/step - loss: 21.0976 - mae: 21.0976\n",
            "Epoch 18/500\n",
            "2/2 [==============================] - 0s 9ms/step - loss: 11.8856 - mae: 11.8856\n",
            "Epoch 19/500\n",
            "2/2 [==============================] - 0s 9ms/step - loss: 16.7011 - mae: 16.7011\n",
            "Epoch 20/500\n",
            "2/2 [==============================] - 0s 9ms/step - loss: 7.8523 - mae: 7.8523\n",
            "Epoch 21/500\n",
            "2/2 [==============================] - 0s 10ms/step - loss: 15.5200 - mae: 15.5200\n",
            "Epoch 22/500\n",
            "2/2 [==============================] - 0s 10ms/step - loss: 13.6981 - mae: 13.6981\n",
            "Epoch 23/500\n",
            "2/2 [==============================] - 0s 16ms/step - loss: 13.2163 - mae: 13.2163\n",
            "Epoch 24/500\n",
            "2/2 [==============================] - 0s 13ms/step - loss: 14.2853 - mae: 14.2853\n",
            "Epoch 25/500\n",
            "2/2 [==============================] - 0s 10ms/step - loss: 17.7898 - mae: 17.7898\n",
            "Epoch 26/500\n",
            "2/2 [==============================] - 0s 9ms/step - loss: 24.5150 - mae: 24.5150\n",
            "Epoch 27/500\n",
            "2/2 [==============================] - 0s 10ms/step - loss: 17.4871 - mae: 17.4871\n",
            "Epoch 28/500\n",
            "2/2 [==============================] - 0s 10ms/step - loss: 16.0531 - mae: 16.0531\n",
            "Epoch 29/500\n",
            "2/2 [==============================] - 0s 10ms/step - loss: 9.2442 - mae: 9.2442\n",
            "Epoch 30/500\n",
            "2/2 [==============================] - 0s 12ms/step - loss: 28.6404 - mae: 28.6404\n",
            "Epoch 31/500\n",
            "2/2 [==============================] - 0s 11ms/step - loss: 51.8253 - mae: 51.8253\n",
            "Epoch 32/500\n",
            "2/2 [==============================] - 0s 11ms/step - loss: 11.4156 - mae: 11.4156\n",
            "Epoch 33/500\n",
            "2/2 [==============================] - 0s 8ms/step - loss: 12.1636 - mae: 12.1636\n",
            "Epoch 34/500\n",
            "2/2 [==============================] - 0s 10ms/step - loss: 23.8352 - mae: 23.8352\n",
            "Epoch 35/500\n",
            "2/2 [==============================] - 0s 8ms/step - loss: 12.6450 - mae: 12.6450\n",
            "Epoch 36/500\n",
            "2/2 [==============================] - 0s 9ms/step - loss: 21.5648 - mae: 21.5648\n",
            "Epoch 37/500\n",
            "2/2 [==============================] - 0s 7ms/step - loss: 11.3658 - mae: 11.3658\n",
            "Epoch 38/500\n",
            "2/2 [==============================] - 0s 7ms/step - loss: 13.4238 - mae: 13.4238\n",
            "Epoch 39/500\n",
            "2/2 [==============================] - 0s 10ms/step - loss: 10.7793 - mae: 10.7793\n",
            "Epoch 40/500\n",
            "2/2 [==============================] - 0s 8ms/step - loss: 16.5234 - mae: 16.5234\n",
            "Epoch 41/500\n",
            "2/2 [==============================] - 0s 7ms/step - loss: 10.9470 - mae: 10.9470\n",
            "Epoch 42/500\n",
            "2/2 [==============================] - 0s 7ms/step - loss: 9.2818 - mae: 9.2818\n",
            "Epoch 43/500\n",
            "2/2 [==============================] - 0s 7ms/step - loss: 9.5960 - mae: 9.5960\n",
            "Epoch 44/500\n",
            "2/2 [==============================] - 0s 7ms/step - loss: 27.8462 - mae: 27.8462\n",
            "Epoch 45/500\n",
            "2/2 [==============================] - 0s 8ms/step - loss: 11.2598 - mae: 11.2598\n",
            "Epoch 46/500\n",
            "2/2 [==============================] - 0s 7ms/step - loss: 13.8260 - mae: 13.8260\n",
            "Epoch 47/500\n",
            "2/2 [==============================] - 0s 7ms/step - loss: 11.9438 - mae: 11.9438\n",
            "Epoch 48/500\n",
            "2/2 [==============================] - 0s 7ms/step - loss: 16.9892 - mae: 16.9892\n",
            "Epoch 49/500\n",
            "2/2 [==============================] - 0s 8ms/step - loss: 9.7679 - mae: 9.7679\n",
            "Epoch 50/500\n",
            "2/2 [==============================] - 0s 7ms/step - loss: 14.1436 - mae: 14.1436\n",
            "Epoch 51/500\n",
            "2/2 [==============================] - 0s 8ms/step - loss: 11.7354 - mae: 11.7354\n",
            "Epoch 52/500\n",
            "2/2 [==============================] - 0s 8ms/step - loss: 31.2743 - mae: 31.2743\n",
            "Epoch 53/500\n",
            "2/2 [==============================] - 0s 7ms/step - loss: 14.6820 - mae: 14.6820\n",
            "Epoch 54/500\n",
            "2/2 [==============================] - 0s 7ms/step - loss: 24.5293 - mae: 24.5293\n",
            "Epoch 55/500\n",
            "2/2 [==============================] - 0s 7ms/step - loss: 23.8077 - mae: 23.8077\n",
            "Epoch 56/500\n",
            "2/2 [==============================] - 0s 7ms/step - loss: 11.1054 - mae: 11.1054\n",
            "Epoch 57/500\n",
            "2/2 [==============================] - 0s 8ms/step - loss: 13.0314 - mae: 13.0314\n",
            "Epoch 58/500\n",
            "2/2 [==============================] - 0s 9ms/step - loss: 9.7687 - mae: 9.7687\n",
            "Epoch 59/500\n",
            "2/2 [==============================] - 0s 7ms/step - loss: 13.1971 - mae: 13.1971\n",
            "Epoch 60/500\n",
            "2/2 [==============================] - 0s 7ms/step - loss: 10.8156 - mae: 10.8156\n",
            "Epoch 61/500\n",
            "2/2 [==============================] - 0s 8ms/step - loss: 13.3790 - mae: 13.3790\n",
            "Epoch 62/500\n",
            "2/2 [==============================] - 0s 7ms/step - loss: 17.2932 - mae: 17.2932\n",
            "Epoch 63/500\n",
            "2/2 [==============================] - 0s 7ms/step - loss: 9.1286 - mae: 9.1286\n",
            "Epoch 64/500\n",
            "2/2 [==============================] - 0s 7ms/step - loss: 17.9176 - mae: 17.9176\n",
            "Epoch 65/500\n",
            "2/2 [==============================] - 0s 7ms/step - loss: 10.6106 - mae: 10.6106\n",
            "Epoch 66/500\n",
            "2/2 [==============================] - 0s 7ms/step - loss: 21.4216 - mae: 21.4216\n",
            "Epoch 67/500\n",
            "2/2 [==============================] - 0s 7ms/step - loss: 10.6158 - mae: 10.6158\n",
            "Epoch 68/500\n",
            "2/2 [==============================] - 0s 8ms/step - loss: 14.8162 - mae: 14.8162\n",
            "Epoch 69/500\n",
            "2/2 [==============================] - 0s 7ms/step - loss: 10.7550 - mae: 10.7550\n",
            "Epoch 70/500\n",
            "2/2 [==============================] - 0s 8ms/step - loss: 12.8530 - mae: 12.8530\n",
            "Epoch 71/500\n",
            "2/2 [==============================] - 0s 8ms/step - loss: 13.2712 - mae: 13.2712\n",
            "Epoch 72/500\n",
            "2/2 [==============================] - 0s 8ms/step - loss: 19.8850 - mae: 19.8850\n",
            "Epoch 73/500\n",
            "2/2 [==============================] - 0s 8ms/step - loss: 11.2903 - mae: 11.2903\n",
            "Epoch 74/500\n",
            "2/2 [==============================] - 0s 8ms/step - loss: 22.1766 - mae: 22.1766\n",
            "Epoch 75/500\n",
            "2/2 [==============================] - 0s 8ms/step - loss: 6.9632 - mae: 6.9632\n",
            "Epoch 76/500\n",
            "2/2 [==============================] - 0s 8ms/step - loss: 11.4249 - mae: 11.4249\n",
            "Epoch 77/500\n",
            "2/2 [==============================] - 0s 8ms/step - loss: 21.5632 - mae: 21.5632\n",
            "Epoch 78/500\n",
            "2/2 [==============================] - 0s 8ms/step - loss: 18.6460 - mae: 18.6460\n",
            "Epoch 79/500\n",
            "2/2 [==============================] - 0s 8ms/step - loss: 15.9678 - mae: 15.9678\n",
            "Epoch 80/500\n",
            "2/2 [==============================] - 0s 8ms/step - loss: 23.6020 - mae: 23.6020\n",
            "Epoch 81/500\n",
            "2/2 [==============================] - 0s 8ms/step - loss: 11.0049 - mae: 11.0049\n",
            "Epoch 82/500\n",
            "2/2 [==============================] - 0s 8ms/step - loss: 12.7317 - mae: 12.7317\n",
            "Epoch 83/500\n",
            "2/2 [==============================] - 0s 9ms/step - loss: 17.5031 - mae: 17.5031\n",
            "Epoch 84/500\n",
            "2/2 [==============================] - 0s 8ms/step - loss: 7.3151 - mae: 7.3151\n",
            "Epoch 85/500\n",
            "2/2 [==============================] - 0s 8ms/step - loss: 15.0393 - mae: 15.0393\n",
            "Epoch 86/500\n",
            "2/2 [==============================] - 0s 7ms/step - loss: 15.3506 - mae: 15.3506\n",
            "Epoch 87/500\n",
            "2/2 [==============================] - 0s 9ms/step - loss: 19.2212 - mae: 19.2212\n",
            "Epoch 88/500\n",
            "2/2 [==============================] - 0s 7ms/step - loss: 29.5425 - mae: 29.5425\n",
            "Epoch 89/500\n",
            "2/2 [==============================] - 0s 15ms/step - loss: 10.1724 - mae: 10.1724\n",
            "Epoch 90/500\n",
            "2/2 [==============================] - 0s 7ms/step - loss: 21.2783 - mae: 21.2783\n",
            "Epoch 91/500\n",
            "2/2 [==============================] - 0s 8ms/step - loss: 10.5483 - mae: 10.5483\n",
            "Epoch 92/500\n",
            "2/2 [==============================] - 0s 11ms/step - loss: 18.1676 - mae: 18.1676\n",
            "Epoch 93/500\n",
            "2/2 [==============================] - 0s 8ms/step - loss: 6.5773 - mae: 6.5773\n",
            "Epoch 94/500\n",
            "2/2 [==============================] - 0s 9ms/step - loss: 11.1981 - mae: 11.1981\n",
            "Epoch 95/500\n",
            "2/2 [==============================] - 0s 9ms/step - loss: 24.5710 - mae: 24.5710\n",
            "Epoch 96/500\n",
            "2/2 [==============================] - 0s 8ms/step - loss: 10.8066 - mae: 10.8066\n",
            "Epoch 97/500\n",
            "2/2 [==============================] - 0s 8ms/step - loss: 15.4965 - mae: 15.4965\n",
            "Epoch 98/500\n",
            "2/2 [==============================] - 0s 8ms/step - loss: 9.0674 - mae: 9.0674\n",
            "Epoch 99/500\n",
            "2/2 [==============================] - 0s 8ms/step - loss: 10.8855 - mae: 10.8855\n",
            "Epoch 100/500\n",
            "2/2 [==============================] - 0s 8ms/step - loss: 27.0469 - mae: 27.0469\n",
            "Epoch 101/500\n",
            "2/2 [==============================] - 0s 9ms/step - loss: 15.0419 - mae: 15.0419\n",
            "Epoch 102/500\n",
            "2/2 [==============================] - 0s 9ms/step - loss: 10.6440 - mae: 10.6440\n",
            "Epoch 103/500\n",
            "2/2 [==============================] - 0s 9ms/step - loss: 9.1451 - mae: 9.1451\n",
            "Epoch 104/500\n",
            "2/2 [==============================] - 0s 7ms/step - loss: 23.4577 - mae: 23.4577\n",
            "Epoch 105/500\n",
            "2/2 [==============================] - 0s 8ms/step - loss: 10.7420 - mae: 10.7420\n",
            "Epoch 106/500\n",
            "2/2 [==============================] - 0s 8ms/step - loss: 11.2015 - mae: 11.2015\n",
            "Epoch 107/500\n",
            "2/2 [==============================] - 0s 8ms/step - loss: 20.9955 - mae: 20.9955\n",
            "Epoch 108/500\n",
            "2/2 [==============================] - 0s 7ms/step - loss: 6.3479 - mae: 6.3479\n",
            "Epoch 109/500\n",
            "2/2 [==============================] - 0s 8ms/step - loss: 10.5097 - mae: 10.5097\n",
            "Epoch 110/500\n",
            "2/2 [==============================] - 0s 8ms/step - loss: 10.4692 - mae: 10.4692\n",
            "Epoch 111/500\n",
            "2/2 [==============================] - 0s 7ms/step - loss: 16.5228 - mae: 16.5228\n",
            "Epoch 112/500\n",
            "2/2 [==============================] - 0s 8ms/step - loss: 9.4731 - mae: 9.4731\n",
            "Epoch 113/500\n",
            "2/2 [==============================] - 0s 8ms/step - loss: 17.3725 - mae: 17.3725\n",
            "Epoch 114/500\n",
            "2/2 [==============================] - 0s 8ms/step - loss: 16.7443 - mae: 16.7443\n",
            "Epoch 115/500\n",
            "2/2 [==============================] - 0s 7ms/step - loss: 10.9932 - mae: 10.9932\n",
            "Epoch 116/500\n",
            "2/2 [==============================] - 0s 8ms/step - loss: 22.7133 - mae: 22.7133\n",
            "Epoch 117/500\n",
            "2/2 [==============================] - 0s 8ms/step - loss: 9.4539 - mae: 9.4539\n",
            "Epoch 118/500\n",
            "2/2 [==============================] - 0s 8ms/step - loss: 10.4934 - mae: 10.4934\n",
            "Epoch 119/500\n",
            "2/2 [==============================] - 0s 8ms/step - loss: 8.0403 - mae: 8.0403\n",
            "Epoch 120/500\n",
            "2/2 [==============================] - 0s 8ms/step - loss: 38.2144 - mae: 38.2144\n",
            "Epoch 121/500\n",
            "2/2 [==============================] - 0s 18ms/step - loss: 11.3658 - mae: 11.3658\n",
            "Epoch 122/500\n",
            "2/2 [==============================] - 0s 8ms/step - loss: 25.4821 - mae: 25.4821\n",
            "Epoch 123/500\n",
            "2/2 [==============================] - 0s 8ms/step - loss: 29.4093 - mae: 29.4093\n",
            "Epoch 124/500\n",
            "2/2 [==============================] - 0s 9ms/step - loss: 16.8810 - mae: 16.8810\n",
            "Epoch 125/500\n",
            "2/2 [==============================] - 0s 9ms/step - loss: 9.4266 - mae: 9.4266\n",
            "Epoch 126/500\n",
            "2/2 [==============================] - 0s 8ms/step - loss: 9.5174 - mae: 9.5174\n",
            "Epoch 127/500\n",
            "2/2 [==============================] - 0s 9ms/step - loss: 12.1611 - mae: 12.1611\n",
            "Epoch 128/500\n",
            "2/2 [==============================] - 0s 17ms/step - loss: 15.1509 - mae: 15.1509\n",
            "Epoch 129/500\n",
            "2/2 [==============================] - 0s 6ms/step - loss: 9.5957 - mae: 9.5957\n",
            "Epoch 130/500\n",
            "2/2 [==============================] - 0s 7ms/step - loss: 20.4916 - mae: 20.4916\n",
            "Epoch 131/500\n",
            "2/2 [==============================] - 0s 11ms/step - loss: 9.3035 - mae: 9.3035\n",
            "Epoch 132/500\n",
            "2/2 [==============================] - 0s 8ms/step - loss: 16.5598 - mae: 16.5598\n",
            "Epoch 133/500\n",
            "2/2 [==============================] - 0s 8ms/step - loss: 7.6900 - mae: 7.6900\n",
            "Epoch 134/500\n",
            "2/2 [==============================] - 0s 8ms/step - loss: 18.9239 - mae: 18.9239\n",
            "Epoch 135/500\n",
            "2/2 [==============================] - 0s 9ms/step - loss: 10.6981 - mae: 10.6981\n",
            "Epoch 136/500\n",
            "2/2 [==============================] - 0s 8ms/step - loss: 18.5397 - mae: 18.5397\n",
            "Epoch 137/500\n",
            "2/2 [==============================] - 0s 10ms/step - loss: 23.5313 - mae: 23.5313\n",
            "Epoch 138/500\n",
            "2/2 [==============================] - 0s 9ms/step - loss: 9.3132 - mae: 9.3132\n",
            "Epoch 139/500\n",
            "2/2 [==============================] - 0s 11ms/step - loss: 9.0399 - mae: 9.0399\n",
            "Epoch 140/500\n",
            "2/2 [==============================] - 0s 10ms/step - loss: 16.7000 - mae: 16.7000\n",
            "Epoch 141/500\n",
            "2/2 [==============================] - 0s 10ms/step - loss: 8.4879 - mae: 8.4879\n",
            "Epoch 142/500\n",
            "2/2 [==============================] - 0s 13ms/step - loss: 37.2736 - mae: 37.2736\n",
            "Epoch 143/500\n",
            "2/2 [==============================] - 0s 8ms/step - loss: 25.8795 - mae: 25.8795\n",
            "Epoch 144/500\n",
            "2/2 [==============================] - 0s 8ms/step - loss: 9.5725 - mae: 9.5725\n",
            "Epoch 145/500\n",
            "2/2 [==============================] - 0s 8ms/step - loss: 26.5459 - mae: 26.5459\n",
            "Epoch 146/500\n",
            "2/2 [==============================] - 0s 7ms/step - loss: 8.8763 - mae: 8.8763\n",
            "Epoch 147/500\n",
            "2/2 [==============================] - 0s 8ms/step - loss: 15.5993 - mae: 15.5993\n",
            "Epoch 148/500\n",
            "2/2 [==============================] - 0s 8ms/step - loss: 18.2645 - mae: 18.2645\n",
            "Epoch 149/500\n",
            "2/2 [==============================] - 0s 8ms/step - loss: 8.2937 - mae: 8.2937\n",
            "Epoch 150/500\n",
            "2/2 [==============================] - 0s 9ms/step - loss: 7.5631 - mae: 7.5631\n",
            "Epoch 151/500\n",
            "2/2 [==============================] - 0s 8ms/step - loss: 18.4366 - mae: 18.4366\n",
            "Epoch 152/500\n",
            "2/2 [==============================] - 0s 9ms/step - loss: 10.3611 - mae: 10.3611\n",
            "Epoch 153/500\n",
            "2/2 [==============================] - 0s 8ms/step - loss: 29.7491 - mae: 29.7491\n",
            "Epoch 154/500\n",
            "2/2 [==============================] - 0s 8ms/step - loss: 10.5668 - mae: 10.5668\n",
            "Epoch 155/500\n",
            "2/2 [==============================] - 0s 8ms/step - loss: 15.4618 - mae: 15.4618\n",
            "Epoch 156/500\n",
            "2/2 [==============================] - 0s 8ms/step - loss: 17.0143 - mae: 17.0143\n",
            "Epoch 157/500\n",
            "2/2 [==============================] - 0s 9ms/step - loss: 32.8486 - mae: 32.8486\n",
            "Epoch 158/500\n",
            "2/2 [==============================] - 0s 8ms/step - loss: 10.7678 - mae: 10.7678\n",
            "Epoch 159/500\n",
            "2/2 [==============================] - 0s 8ms/step - loss: 8.9556 - mae: 8.9556\n",
            "Epoch 160/500\n",
            "2/2 [==============================] - 0s 8ms/step - loss: 22.1233 - mae: 22.1233\n",
            "Epoch 161/500\n",
            "2/2 [==============================] - 0s 8ms/step - loss: 11.7431 - mae: 11.7431\n",
            "Epoch 162/500\n",
            "2/2 [==============================] - 0s 8ms/step - loss: 21.5475 - mae: 21.5475\n",
            "Epoch 163/500\n",
            "2/2 [==============================] - 0s 8ms/step - loss: 19.2307 - mae: 19.2307\n",
            "Epoch 164/500\n",
            "2/2 [==============================] - 0s 9ms/step - loss: 11.0368 - mae: 11.0368\n",
            "Epoch 165/500\n",
            "2/2 [==============================] - 0s 12ms/step - loss: 9.6489 - mae: 9.6489\n",
            "Epoch 166/500\n",
            "2/2 [==============================] - 0s 9ms/step - loss: 21.6300 - mae: 21.6300\n",
            "Epoch 167/500\n",
            "2/2 [==============================] - 0s 10ms/step - loss: 26.1992 - mae: 26.1992\n",
            "Epoch 168/500\n",
            "2/2 [==============================] - 0s 10ms/step - loss: 9.8859 - mae: 9.8859\n",
            "Epoch 169/500\n",
            "2/2 [==============================] - 0s 11ms/step - loss: 22.4432 - mae: 22.4432\n",
            "Epoch 170/500\n",
            "2/2 [==============================] - 0s 9ms/step - loss: 10.1953 - mae: 10.1953\n",
            "Epoch 171/500\n",
            "2/2 [==============================] - 0s 9ms/step - loss: 18.1113 - mae: 18.1113\n",
            "Epoch 172/500\n",
            "2/2 [==============================] - 0s 9ms/step - loss: 28.6868 - mae: 28.6868\n",
            "Epoch 173/500\n",
            "2/2 [==============================] - 0s 9ms/step - loss: 16.4244 - mae: 16.4244\n",
            "Epoch 174/500\n",
            "2/2 [==============================] - 0s 9ms/step - loss: 11.2482 - mae: 11.2482\n",
            "Epoch 175/500\n",
            "2/2 [==============================] - 0s 9ms/step - loss: 27.6267 - mae: 27.6267\n",
            "Epoch 176/500\n",
            "2/2 [==============================] - 0s 9ms/step - loss: 8.2685 - mae: 8.2685\n",
            "Epoch 177/500\n",
            "2/2 [==============================] - 0s 9ms/step - loss: 9.2712 - mae: 9.2712\n",
            "Epoch 178/500\n",
            "2/2 [==============================] - 0s 9ms/step - loss: 17.9954 - mae: 17.9954\n",
            "Epoch 179/500\n",
            "2/2 [==============================] - 0s 9ms/step - loss: 10.6809 - mae: 10.6809\n",
            "Epoch 180/500\n",
            "2/2 [==============================] - 0s 16ms/step - loss: 7.9170 - mae: 7.9170\n",
            "Epoch 181/500\n",
            "2/2 [==============================] - 0s 9ms/step - loss: 17.2541 - mae: 17.2541\n",
            "Epoch 182/500\n",
            "2/2 [==============================] - 0s 9ms/step - loss: 10.9859 - mae: 10.9859\n",
            "Epoch 183/500\n",
            "2/2 [==============================] - 0s 8ms/step - loss: 11.6407 - mae: 11.6407\n",
            "Epoch 184/500\n",
            "2/2 [==============================] - 0s 11ms/step - loss: 30.1209 - mae: 30.1209\n",
            "Epoch 185/500\n",
            "2/2 [==============================] - 0s 9ms/step - loss: 8.2272 - mae: 8.2272\n",
            "Epoch 186/500\n",
            "2/2 [==============================] - 0s 8ms/step - loss: 18.7382 - mae: 18.7382\n",
            "Epoch 187/500\n",
            "2/2 [==============================] - 0s 9ms/step - loss: 8.8107 - mae: 8.8107\n",
            "Epoch 188/500\n",
            "2/2 [==============================] - 0s 9ms/step - loss: 23.7261 - mae: 23.7261\n",
            "Epoch 189/500\n",
            "2/2 [==============================] - 0s 10ms/step - loss: 9.3932 - mae: 9.3932\n",
            "Epoch 190/500\n",
            "2/2 [==============================] - 0s 8ms/step - loss: 17.0340 - mae: 17.0340\n",
            "Epoch 191/500\n",
            "2/2 [==============================] - 0s 8ms/step - loss: 8.6240 - mae: 8.6240\n",
            "Epoch 192/500\n",
            "2/2 [==============================] - 0s 8ms/step - loss: 15.1961 - mae: 15.1961\n",
            "Epoch 193/500\n",
            "2/2 [==============================] - 0s 8ms/step - loss: 30.0421 - mae: 30.0421\n",
            "Epoch 194/500\n",
            "2/2 [==============================] - 0s 8ms/step - loss: 9.6845 - mae: 9.6845\n",
            "Epoch 195/500\n",
            "2/2 [==============================] - 0s 10ms/step - loss: 12.0425 - mae: 12.0425\n",
            "Epoch 196/500\n",
            "2/2 [==============================] - 0s 8ms/step - loss: 23.4200 - mae: 23.4200\n",
            "Epoch 197/500\n",
            "2/2 [==============================] - 0s 8ms/step - loss: 17.8002 - mae: 17.8002\n",
            "Epoch 198/500\n",
            "2/2 [==============================] - 0s 8ms/step - loss: 12.5993 - mae: 12.5993\n",
            "Epoch 199/500\n",
            "2/2 [==============================] - 0s 8ms/step - loss: 18.0594 - mae: 18.0594\n",
            "Epoch 200/500\n",
            "2/2 [==============================] - 0s 9ms/step - loss: 13.8920 - mae: 13.8920\n",
            "Epoch 201/500\n",
            "2/2 [==============================] - 0s 9ms/step - loss: 6.1042 - mae: 6.1042\n",
            "Epoch 202/500\n",
            "2/2 [==============================] - 0s 8ms/step - loss: 22.8606 - mae: 22.8606\n",
            "Epoch 203/500\n",
            "2/2 [==============================] - 0s 8ms/step - loss: 9.0197 - mae: 9.0197\n",
            "Epoch 204/500\n",
            "2/2 [==============================] - 0s 8ms/step - loss: 18.8122 - mae: 18.8122\n",
            "Epoch 205/500\n",
            "2/2 [==============================] - 0s 8ms/step - loss: 9.4103 - mae: 9.4103\n",
            "Epoch 206/500\n",
            "2/2 [==============================] - 0s 8ms/step - loss: 10.4734 - mae: 10.4734\n",
            "Epoch 207/500\n",
            "2/2 [==============================] - 0s 8ms/step - loss: 21.0125 - mae: 21.0125\n",
            "Epoch 208/500\n",
            "2/2 [==============================] - 0s 9ms/step - loss: 16.4391 - mae: 16.4391\n",
            "Epoch 209/500\n",
            "2/2 [==============================] - 0s 9ms/step - loss: 14.3101 - mae: 14.3101\n",
            "Epoch 210/500\n",
            "2/2 [==============================] - 0s 8ms/step - loss: 17.2632 - mae: 17.2632\n",
            "Epoch 211/500\n",
            "2/2 [==============================] - 0s 9ms/step - loss: 10.2841 - mae: 10.2841\n",
            "Epoch 212/500\n",
            "2/2 [==============================] - 0s 9ms/step - loss: 19.7232 - mae: 19.7232\n",
            "Epoch 213/500\n",
            "2/2 [==============================] - 0s 16ms/step - loss: 14.6960 - mae: 14.6960\n",
            "Epoch 214/500\n",
            "2/2 [==============================] - 0s 8ms/step - loss: 14.3735 - mae: 14.3735\n",
            "Epoch 215/500\n",
            "2/2 [==============================] - 0s 9ms/step - loss: 22.8767 - mae: 22.8767\n",
            "Epoch 216/500\n",
            "2/2 [==============================] - 0s 8ms/step - loss: 13.9024 - mae: 13.9024\n",
            "Epoch 217/500\n",
            "2/2 [==============================] - 0s 9ms/step - loss: 10.3433 - mae: 10.3433\n",
            "Epoch 218/500\n",
            "2/2 [==============================] - 0s 8ms/step - loss: 12.2626 - mae: 12.2626\n",
            "Epoch 219/500\n",
            "2/2 [==============================] - 0s 8ms/step - loss: 6.5921 - mae: 6.5921\n",
            "Epoch 220/500\n",
            "2/2 [==============================] - 0s 8ms/step - loss: 7.1685 - mae: 7.1685\n",
            "Epoch 221/500\n",
            "2/2 [==============================] - 0s 8ms/step - loss: 37.4727 - mae: 37.4727\n",
            "Epoch 222/500\n",
            "2/2 [==============================] - 0s 8ms/step - loss: 37.2798 - mae: 37.2798\n",
            "Epoch 223/500\n",
            "2/2 [==============================] - 0s 8ms/step - loss: 6.1506 - mae: 6.1506\n",
            "Epoch 224/500\n",
            "2/2 [==============================] - 0s 8ms/step - loss: 14.5306 - mae: 14.5306\n",
            "Epoch 225/500\n",
            "2/2 [==============================] - 0s 8ms/step - loss: 16.5431 - mae: 16.5431\n",
            "Epoch 226/500\n",
            "2/2 [==============================] - 0s 9ms/step - loss: 15.6960 - mae: 15.6960\n",
            "Epoch 227/500\n",
            "2/2 [==============================] - 0s 8ms/step - loss: 16.1579 - mae: 16.1579\n",
            "Epoch 228/500\n",
            "2/2 [==============================] - 0s 9ms/step - loss: 9.3260 - mae: 9.3260\n",
            "Epoch 229/500\n",
            "2/2 [==============================] - 0s 8ms/step - loss: 17.9913 - mae: 17.9913\n",
            "Epoch 230/500\n",
            "2/2 [==============================] - 0s 15ms/step - loss: 15.5891 - mae: 15.5891\n",
            "Epoch 231/500\n",
            "2/2 [==============================] - 0s 8ms/step - loss: 21.1061 - mae: 21.1061\n",
            "Epoch 232/500\n",
            "2/2 [==============================] - 0s 8ms/step - loss: 25.5183 - mae: 25.5183\n",
            "Epoch 233/500\n",
            "2/2 [==============================] - 0s 10ms/step - loss: 16.5217 - mae: 16.5217\n",
            "Epoch 234/500\n",
            "2/2 [==============================] - 0s 14ms/step - loss: 7.3872 - mae: 7.3872\n",
            "Epoch 235/500\n",
            "2/2 [==============================] - 0s 9ms/step - loss: 17.1546 - mae: 17.1546\n",
            "Epoch 236/500\n",
            "2/2 [==============================] - 0s 10ms/step - loss: 7.2435 - mae: 7.2435\n",
            "Epoch 237/500\n",
            "2/2 [==============================] - 0s 9ms/step - loss: 9.3371 - mae: 9.3371\n",
            "Epoch 238/500\n",
            "2/2 [==============================] - 0s 11ms/step - loss: 8.1970 - mae: 8.1970\n",
            "Epoch 239/500\n",
            "2/2 [==============================] - 0s 9ms/step - loss: 17.1328 - mae: 17.1328\n",
            "Epoch 240/500\n",
            "2/2 [==============================] - 0s 9ms/step - loss: 8.9589 - mae: 8.9589\n",
            "Epoch 241/500\n",
            "2/2 [==============================] - 0s 8ms/step - loss: 13.2413 - mae: 13.2413\n",
            "Epoch 242/500\n",
            "2/2 [==============================] - 0s 9ms/step - loss: 8.8704 - mae: 8.8704\n",
            "Epoch 243/500\n",
            "2/2 [==============================] - 0s 8ms/step - loss: 18.8245 - mae: 18.8245\n",
            "Epoch 244/500\n",
            "2/2 [==============================] - 0s 8ms/step - loss: 14.0872 - mae: 14.0872\n",
            "Epoch 245/500\n",
            "2/2 [==============================] - 0s 8ms/step - loss: 14.7101 - mae: 14.7101\n",
            "Epoch 246/500\n",
            "2/2 [==============================] - 0s 10ms/step - loss: 15.8471 - mae: 15.8471\n",
            "Epoch 247/500\n",
            "2/2 [==============================] - 0s 8ms/step - loss: 17.7358 - mae: 17.7358\n",
            "Epoch 248/500\n",
            "2/2 [==============================] - 0s 9ms/step - loss: 13.2912 - mae: 13.2912\n",
            "Epoch 249/500\n",
            "2/2 [==============================] - 0s 8ms/step - loss: 14.5557 - mae: 14.5557\n",
            "Epoch 250/500\n",
            "2/2 [==============================] - 0s 9ms/step - loss: 23.2964 - mae: 23.2964\n",
            "Epoch 251/500\n",
            "2/2 [==============================] - 0s 8ms/step - loss: 9.3340 - mae: 9.3340\n",
            "Epoch 252/500\n",
            "2/2 [==============================] - 0s 9ms/step - loss: 36.4326 - mae: 36.4326\n",
            "Epoch 253/500\n",
            "2/2 [==============================] - 0s 9ms/step - loss: 21.6711 - mae: 21.6711\n",
            "Epoch 254/500\n",
            "2/2 [==============================] - 0s 9ms/step - loss: 7.3257 - mae: 7.3257\n",
            "Epoch 255/500\n",
            "2/2 [==============================] - 0s 8ms/step - loss: 24.5195 - mae: 24.5195\n",
            "Epoch 256/500\n",
            "2/2 [==============================] - 0s 8ms/step - loss: 11.9731 - mae: 11.9731\n",
            "Epoch 257/500\n",
            "2/2 [==============================] - 0s 8ms/step - loss: 14.4770 - mae: 14.4770\n",
            "Epoch 258/500\n",
            "2/2 [==============================] - 0s 9ms/step - loss: 5.8689 - mae: 5.8689\n",
            "Epoch 259/500\n",
            "2/2 [==============================] - 0s 8ms/step - loss: 14.8616 - mae: 14.8616\n",
            "Epoch 260/500\n",
            "2/2 [==============================] - 0s 8ms/step - loss: 15.0075 - mae: 15.0075\n",
            "Epoch 261/500\n",
            "2/2 [==============================] - 0s 9ms/step - loss: 17.5062 - mae: 17.5062\n",
            "Epoch 262/500\n",
            "2/2 [==============================] - 0s 9ms/step - loss: 15.5248 - mae: 15.5248\n",
            "Epoch 263/500\n",
            "2/2 [==============================] - 0s 10ms/step - loss: 10.1233 - mae: 10.1233\n",
            "Epoch 264/500\n",
            "2/2 [==============================] - 0s 10ms/step - loss: 18.1636 - mae: 18.1636\n",
            "Epoch 265/500\n",
            "2/2 [==============================] - 0s 9ms/step - loss: 14.3782 - mae: 14.3782\n",
            "Epoch 266/500\n",
            "2/2 [==============================] - 0s 9ms/step - loss: 11.0750 - mae: 11.0750\n",
            "Epoch 267/500\n",
            "2/2 [==============================] - 0s 9ms/step - loss: 6.0371 - mae: 6.0371\n",
            "Epoch 268/500\n",
            "2/2 [==============================] - 0s 7ms/step - loss: 18.6987 - mae: 18.6987\n",
            "Epoch 269/500\n",
            "2/2 [==============================] - 0s 9ms/step - loss: 42.3150 - mae: 42.3150\n",
            "Epoch 270/500\n",
            "2/2 [==============================] - 0s 8ms/step - loss: 14.1181 - mae: 14.1181\n",
            "Epoch 271/500\n",
            "2/2 [==============================] - 0s 9ms/step - loss: 15.4596 - mae: 15.4596\n",
            "Epoch 272/500\n",
            "2/2 [==============================] - 0s 9ms/step - loss: 22.2829 - mae: 22.2829\n",
            "Epoch 273/500\n",
            "2/2 [==============================] - 0s 8ms/step - loss: 22.4795 - mae: 22.4795\n",
            "Epoch 274/500\n",
            "2/2 [==============================] - 0s 9ms/step - loss: 13.3720 - mae: 13.3720\n",
            "Epoch 275/500\n",
            "2/2 [==============================] - 0s 9ms/step - loss: 29.4428 - mae: 29.4428\n",
            "Epoch 276/500\n",
            "2/2 [==============================] - 0s 9ms/step - loss: 8.1345 - mae: 8.1345\n",
            "Epoch 277/500\n",
            "2/2 [==============================] - 0s 9ms/step - loss: 30.6456 - mae: 30.6456\n",
            "Epoch 278/500\n",
            "2/2 [==============================] - 0s 8ms/step - loss: 11.4922 - mae: 11.4922\n",
            "Epoch 279/500\n",
            "2/2 [==============================] - 0s 9ms/step - loss: 16.2300 - mae: 16.2300\n",
            "Epoch 280/500\n",
            "2/2 [==============================] - 0s 8ms/step - loss: 21.5003 - mae: 21.5003\n",
            "Epoch 281/500\n",
            "2/2 [==============================] - 0s 9ms/step - loss: 23.1325 - mae: 23.1325\n",
            "Epoch 282/500\n",
            "2/2 [==============================] - 0s 10ms/step - loss: 8.0722 - mae: 8.0722\n",
            "Epoch 283/500\n",
            "2/2 [==============================] - 0s 9ms/step - loss: 8.3392 - mae: 8.3392\n",
            "Epoch 284/500\n",
            "2/2 [==============================] - 0s 9ms/step - loss: 25.8818 - mae: 25.8818\n",
            "Epoch 285/500\n",
            "2/2 [==============================] - 0s 9ms/step - loss: 14.4165 - mae: 14.4165\n",
            "Epoch 286/500\n",
            "2/2 [==============================] - 0s 9ms/step - loss: 4.5535 - mae: 4.5535\n",
            "Epoch 287/500\n",
            "2/2 [==============================] - 0s 11ms/step - loss: 12.9643 - mae: 12.9643\n",
            "Epoch 288/500\n",
            "2/2 [==============================] - 0s 9ms/step - loss: 24.7297 - mae: 24.7297\n",
            "Epoch 289/500\n",
            "2/2 [==============================] - 0s 9ms/step - loss: 9.7233 - mae: 9.7233\n",
            "Epoch 290/500\n",
            "2/2 [==============================] - 0s 8ms/step - loss: 11.8033 - mae: 11.8033\n",
            "Epoch 291/500\n",
            "2/2 [==============================] - 0s 14ms/step - loss: 10.1126 - mae: 10.1126\n",
            "Epoch 292/500\n",
            "2/2 [==============================] - 0s 7ms/step - loss: 16.7249 - mae: 16.7249\n",
            "Epoch 293/500\n",
            "2/2 [==============================] - 0s 9ms/step - loss: 17.5440 - mae: 17.5440\n",
            "Epoch 294/500\n",
            "2/2 [==============================] - 0s 9ms/step - loss: 30.0371 - mae: 30.0371\n",
            "Epoch 295/500\n",
            "2/2 [==============================] - 0s 10ms/step - loss: 8.0667 - mae: 8.0667\n",
            "Epoch 296/500\n",
            "2/2 [==============================] - 0s 9ms/step - loss: 16.2544 - mae: 16.2544\n",
            "Epoch 297/500\n",
            "2/2 [==============================] - 0s 9ms/step - loss: 14.4816 - mae: 14.4816\n",
            "Epoch 298/500\n",
            "2/2 [==============================] - 0s 8ms/step - loss: 27.0033 - mae: 27.0033\n",
            "Epoch 299/500\n",
            "2/2 [==============================] - 0s 9ms/step - loss: 11.0677 - mae: 11.0677\n",
            "Epoch 300/500\n",
            "2/2 [==============================] - 0s 9ms/step - loss: 7.6903 - mae: 7.6903\n",
            "Epoch 301/500\n",
            "2/2 [==============================] - 0s 8ms/step - loss: 21.9697 - mae: 21.9697\n",
            "Epoch 302/500\n",
            "2/2 [==============================] - 0s 8ms/step - loss: 7.5704 - mae: 7.5704\n",
            "Epoch 303/500\n",
            "2/2 [==============================] - 0s 9ms/step - loss: 18.5820 - mae: 18.5820\n",
            "Epoch 304/500\n",
            "2/2 [==============================] - 0s 9ms/step - loss: 12.3817 - mae: 12.3817\n",
            "Epoch 305/500\n",
            "2/2 [==============================] - 0s 9ms/step - loss: 7.5855 - mae: 7.5855\n",
            "Epoch 306/500\n",
            "2/2 [==============================] - 0s 9ms/step - loss: 21.7380 - mae: 21.7380\n",
            "Epoch 307/500\n",
            "2/2 [==============================] - 0s 9ms/step - loss: 8.2872 - mae: 8.2872\n",
            "Epoch 308/500\n",
            "2/2 [==============================] - 0s 9ms/step - loss: 20.9415 - mae: 20.9415\n",
            "Epoch 309/500\n",
            "2/2 [==============================] - 0s 8ms/step - loss: 19.2420 - mae: 19.2420\n",
            "Epoch 310/500\n",
            "2/2 [==============================] - 0s 9ms/step - loss: 6.0377 - mae: 6.0377\n",
            "Epoch 311/500\n",
            "2/2 [==============================] - 0s 9ms/step - loss: 7.9040 - mae: 7.9040\n",
            "Epoch 312/500\n",
            "2/2 [==============================] - 0s 8ms/step - loss: 30.5686 - mae: 30.5686\n",
            "Epoch 313/500\n",
            "2/2 [==============================] - 0s 8ms/step - loss: 5.2233 - mae: 5.2233\n",
            "Epoch 314/500\n",
            "2/2 [==============================] - 0s 7ms/step - loss: 12.7092 - mae: 12.7092\n",
            "Epoch 315/500\n",
            "2/2 [==============================] - 0s 8ms/step - loss: 13.0513 - mae: 13.0513\n",
            "Epoch 316/500\n",
            "2/2 [==============================] - 0s 9ms/step - loss: 4.8010 - mae: 4.8010\n",
            "Epoch 317/500\n",
            "2/2 [==============================] - 0s 9ms/step - loss: 27.7282 - mae: 27.7282\n",
            "Epoch 318/500\n",
            "2/2 [==============================] - 0s 9ms/step - loss: 11.3832 - mae: 11.3832\n",
            "Epoch 319/500\n",
            "2/2 [==============================] - 0s 8ms/step - loss: 6.4147 - mae: 6.4147\n",
            "Epoch 320/500\n",
            "2/2 [==============================] - 0s 8ms/step - loss: 22.8657 - mae: 22.8657\n",
            "Epoch 321/500\n",
            "2/2 [==============================] - 0s 9ms/step - loss: 4.5666 - mae: 4.5666\n",
            "Epoch 322/500\n",
            "2/2 [==============================] - 0s 9ms/step - loss: 18.2079 - mae: 18.2079\n",
            "Epoch 323/500\n",
            "2/2 [==============================] - 0s 10ms/step - loss: 6.6845 - mae: 6.6845\n",
            "Epoch 324/500\n",
            "2/2 [==============================] - 0s 8ms/step - loss: 12.7817 - mae: 12.7817\n",
            "Epoch 325/500\n",
            "2/2 [==============================] - 0s 10ms/step - loss: 9.4795 - mae: 9.4795\n",
            "Epoch 326/500\n",
            "2/2 [==============================] - 0s 10ms/step - loss: 20.3774 - mae: 20.3774\n",
            "Epoch 327/500\n",
            "2/2 [==============================] - 0s 10ms/step - loss: 26.8713 - mae: 26.8713\n",
            "Epoch 328/500\n",
            "2/2 [==============================] - 0s 11ms/step - loss: 11.9836 - mae: 11.9836\n",
            "Epoch 329/500\n",
            "2/2 [==============================] - 0s 9ms/step - loss: 16.7686 - mae: 16.7686\n",
            "Epoch 330/500\n",
            "2/2 [==============================] - 0s 9ms/step - loss: 7.1707 - mae: 7.1707\n",
            "Epoch 331/500\n",
            "2/2 [==============================] - 0s 9ms/step - loss: 21.6080 - mae: 21.6080\n",
            "Epoch 332/500\n",
            "2/2 [==============================] - 0s 9ms/step - loss: 12.4278 - mae: 12.4278\n",
            "Epoch 333/500\n",
            "2/2 [==============================] - 0s 10ms/step - loss: 11.9394 - mae: 11.9394\n",
            "Epoch 334/500\n",
            "2/2 [==============================] - 0s 12ms/step - loss: 8.3558 - mae: 8.3558\n",
            "Epoch 335/500\n",
            "2/2 [==============================] - 0s 11ms/step - loss: 12.5119 - mae: 12.5119\n",
            "Epoch 336/500\n",
            "2/2 [==============================] - 0s 8ms/step - loss: 32.1994 - mae: 32.1994\n",
            "Epoch 337/500\n",
            "2/2 [==============================] - 0s 7ms/step - loss: 10.4389 - mae: 10.4389\n",
            "Epoch 338/500\n",
            "2/2 [==============================] - 0s 6ms/step - loss: 19.6582 - mae: 19.6582\n",
            "Epoch 339/500\n",
            "2/2 [==============================] - 0s 7ms/step - loss: 35.1547 - mae: 35.1547\n",
            "Epoch 340/500\n",
            "2/2 [==============================] - 0s 7ms/step - loss: 10.0595 - mae: 10.0595\n",
            "Epoch 341/500\n",
            "2/2 [==============================] - 0s 7ms/step - loss: 13.7265 - mae: 13.7265\n",
            "Epoch 342/500\n",
            "2/2 [==============================] - 0s 9ms/step - loss: 15.3862 - mae: 15.3862\n",
            "Epoch 343/500\n",
            "2/2 [==============================] - 0s 9ms/step - loss: 11.0279 - mae: 11.0279\n",
            "Epoch 344/500\n",
            "2/2 [==============================] - 0s 9ms/step - loss: 9.9840 - mae: 9.9840\n",
            "Epoch 345/500\n",
            "2/2 [==============================] - 0s 9ms/step - loss: 30.9947 - mae: 30.9947\n",
            "Epoch 346/500\n",
            "2/2 [==============================] - 0s 9ms/step - loss: 10.7037 - mae: 10.7037\n",
            "Epoch 347/500\n",
            "2/2 [==============================] - 0s 9ms/step - loss: 25.6909 - mae: 25.6909\n",
            "Epoch 348/500\n",
            "2/2 [==============================] - 0s 9ms/step - loss: 13.0006 - mae: 13.0006\n",
            "Epoch 349/500\n",
            "2/2 [==============================] - 0s 8ms/step - loss: 13.1556 - mae: 13.1556\n",
            "Epoch 350/500\n",
            "2/2 [==============================] - 0s 8ms/step - loss: 15.4520 - mae: 15.4520\n",
            "Epoch 351/500\n",
            "2/2 [==============================] - 0s 8ms/step - loss: 32.9438 - mae: 32.9438\n",
            "Epoch 352/500\n",
            "2/2 [==============================] - 0s 10ms/step - loss: 14.2004 - mae: 14.2004\n",
            "Epoch 353/500\n",
            "2/2 [==============================] - 0s 9ms/step - loss: 15.9174 - mae: 15.9174\n",
            "Epoch 354/500\n",
            "2/2 [==============================] - 0s 10ms/step - loss: 19.0774 - mae: 19.0774\n",
            "Epoch 355/500\n",
            "2/2 [==============================] - 0s 10ms/step - loss: 34.1601 - mae: 34.1601\n",
            "Epoch 356/500\n",
            "2/2 [==============================] - 0s 10ms/step - loss: 7.7448 - mae: 7.7448\n",
            "Epoch 357/500\n",
            "2/2 [==============================] - 0s 8ms/step - loss: 25.2202 - mae: 25.2202\n",
            "Epoch 358/500\n",
            "2/2 [==============================] - 0s 8ms/step - loss: 22.6962 - mae: 22.6962\n",
            "Epoch 359/500\n",
            "2/2 [==============================] - 0s 10ms/step - loss: 8.9320 - mae: 8.9320\n",
            "Epoch 360/500\n",
            "2/2 [==============================] - 0s 9ms/step - loss: 21.4923 - mae: 21.4923\n",
            "Epoch 361/500\n",
            "2/2 [==============================] - 0s 10ms/step - loss: 20.5704 - mae: 20.5704\n",
            "Epoch 362/500\n",
            "2/2 [==============================] - 0s 9ms/step - loss: 7.1315 - mae: 7.1315\n",
            "Epoch 363/500\n",
            "2/2 [==============================] - 0s 10ms/step - loss: 25.7426 - mae: 25.7426\n",
            "Epoch 364/500\n",
            "2/2 [==============================] - 0s 9ms/step - loss: 32.1419 - mae: 32.1419\n",
            "Epoch 365/500\n",
            "2/2 [==============================] - 0s 10ms/step - loss: 10.0275 - mae: 10.0275\n",
            "Epoch 366/500\n",
            "2/2 [==============================] - 0s 13ms/step - loss: 9.7240 - mae: 9.7240\n",
            "Epoch 367/500\n",
            "2/2 [==============================] - 0s 10ms/step - loss: 30.4476 - mae: 30.4476\n",
            "Epoch 368/500\n",
            "2/2 [==============================] - 0s 10ms/step - loss: 10.5583 - mae: 10.5583\n",
            "Epoch 369/500\n",
            "2/2 [==============================] - 0s 8ms/step - loss: 15.0478 - mae: 15.0478\n",
            "Epoch 370/500\n",
            "2/2 [==============================] - 0s 10ms/step - loss: 14.6983 - mae: 14.6983\n",
            "Epoch 371/500\n",
            "2/2 [==============================] - 0s 10ms/step - loss: 23.4431 - mae: 23.4431\n",
            "Epoch 372/500\n",
            "2/2 [==============================] - 0s 11ms/step - loss: 12.9970 - mae: 12.9970\n",
            "Epoch 373/500\n",
            "2/2 [==============================] - 0s 10ms/step - loss: 8.9243 - mae: 8.9243\n",
            "Epoch 374/500\n",
            "2/2 [==============================] - 0s 9ms/step - loss: 5.9078 - mae: 5.9078\n",
            "Epoch 375/500\n",
            "2/2 [==============================] - 0s 7ms/step - loss: 14.7977 - mae: 14.7977\n",
            "Epoch 376/500\n",
            "2/2 [==============================] - 0s 8ms/step - loss: 16.5474 - mae: 16.5474\n",
            "Epoch 377/500\n",
            "2/2 [==============================] - 0s 8ms/step - loss: 5.3864 - mae: 5.3864\n",
            "Epoch 378/500\n",
            "2/2 [==============================] - 0s 6ms/step - loss: 20.0176 - mae: 20.0176\n",
            "Epoch 379/500\n",
            "2/2 [==============================] - 0s 11ms/step - loss: 30.7613 - mae: 30.7613\n",
            "Epoch 380/500\n",
            "2/2 [==============================] - 0s 11ms/step - loss: 26.7689 - mae: 26.7689\n",
            "Epoch 381/500\n",
            "2/2 [==============================] - 0s 9ms/step - loss: 6.5683 - mae: 6.5683\n",
            "Epoch 382/500\n",
            "2/2 [==============================] - 0s 9ms/step - loss: 7.5967 - mae: 7.5967\n",
            "Epoch 383/500\n",
            "2/2 [==============================] - 0s 12ms/step - loss: 15.4285 - mae: 15.4285\n",
            "Epoch 384/500\n",
            "2/2 [==============================] - 0s 8ms/step - loss: 15.9642 - mae: 15.9642\n",
            "Epoch 385/500\n",
            "2/2 [==============================] - 0s 9ms/step - loss: 11.6009 - mae: 11.6009\n",
            "Epoch 386/500\n",
            "2/2 [==============================] - 0s 9ms/step - loss: 19.8733 - mae: 19.8733\n",
            "Epoch 387/500\n",
            "2/2 [==============================] - 0s 8ms/step - loss: 24.5621 - mae: 24.5621\n",
            "Epoch 388/500\n",
            "2/2 [==============================] - 0s 10ms/step - loss: 8.2651 - mae: 8.2651\n",
            "Epoch 389/500\n",
            "2/2 [==============================] - 0s 10ms/step - loss: 10.7712 - mae: 10.7712\n",
            "Epoch 390/500\n",
            "2/2 [==============================] - 0s 10ms/step - loss: 4.8396 - mae: 4.8396\n",
            "Epoch 391/500\n",
            "2/2 [==============================] - 0s 12ms/step - loss: 18.8565 - mae: 18.8565\n",
            "Epoch 392/500\n",
            "2/2 [==============================] - 0s 8ms/step - loss: 26.9292 - mae: 26.9292\n",
            "Epoch 393/500\n",
            "2/2 [==============================] - 0s 8ms/step - loss: 12.2853 - mae: 12.2853\n",
            "Epoch 394/500\n",
            "2/2 [==============================] - 0s 9ms/step - loss: 11.8650 - mae: 11.8650\n",
            "Epoch 395/500\n",
            "2/2 [==============================] - 0s 8ms/step - loss: 25.3284 - mae: 25.3284\n",
            "Epoch 396/500\n",
            "2/2 [==============================] - 0s 9ms/step - loss: 18.1918 - mae: 18.1918\n",
            "Epoch 397/500\n",
            "2/2 [==============================] - 0s 10ms/step - loss: 11.8406 - mae: 11.8406\n",
            "Epoch 398/500\n",
            "2/2 [==============================] - 0s 9ms/step - loss: 19.7072 - mae: 19.7072\n",
            "Epoch 399/500\n",
            "2/2 [==============================] - 0s 10ms/step - loss: 24.8470 - mae: 24.8470\n",
            "Epoch 400/500\n",
            "2/2 [==============================] - 0s 9ms/step - loss: 14.5407 - mae: 14.5407\n",
            "Epoch 401/500\n",
            "2/2 [==============================] - 0s 9ms/step - loss: 14.5697 - mae: 14.5697\n",
            "Epoch 402/500\n",
            "2/2 [==============================] - 0s 10ms/step - loss: 24.0316 - mae: 24.0316\n",
            "Epoch 403/500\n",
            "2/2 [==============================] - 0s 8ms/step - loss: 16.9338 - mae: 16.9338\n",
            "Epoch 404/500\n",
            "2/2 [==============================] - 0s 8ms/step - loss: 9.8450 - mae: 9.8450\n",
            "Epoch 405/500\n",
            "2/2 [==============================] - 0s 9ms/step - loss: 6.9990 - mae: 6.9990\n",
            "Epoch 406/500\n",
            "2/2 [==============================] - 0s 10ms/step - loss: 20.2083 - mae: 20.2083\n",
            "Epoch 407/500\n",
            "2/2 [==============================] - 0s 6ms/step - loss: 9.1540 - mae: 9.1540\n",
            "Epoch 408/500\n",
            "2/2 [==============================] - 0s 7ms/step - loss: 21.9557 - mae: 21.9557\n",
            "Epoch 409/500\n",
            "2/2 [==============================] - 0s 7ms/step - loss: 27.6897 - mae: 27.6897\n",
            "Epoch 410/500\n",
            "2/2 [==============================] - 0s 8ms/step - loss: 10.8156 - mae: 10.8156\n",
            "Epoch 411/500\n",
            "2/2 [==============================] - 0s 7ms/step - loss: 14.9057 - mae: 14.9057\n",
            "Epoch 412/500\n",
            "2/2 [==============================] - 0s 7ms/step - loss: 21.7692 - mae: 21.7692\n",
            "Epoch 413/500\n",
            "2/2 [==============================] - 0s 8ms/step - loss: 12.6064 - mae: 12.6064\n",
            "Epoch 414/500\n",
            "2/2 [==============================] - 0s 8ms/step - loss: 6.1496 - mae: 6.1496\n",
            "Epoch 415/500\n",
            "2/2 [==============================] - 0s 8ms/step - loss: 13.2433 - mae: 13.2433\n",
            "Epoch 416/500\n",
            "2/2 [==============================] - 0s 7ms/step - loss: 27.4684 - mae: 27.4684\n",
            "Epoch 417/500\n",
            "2/2 [==============================] - 0s 8ms/step - loss: 10.5408 - mae: 10.5408\n",
            "Epoch 418/500\n",
            "2/2 [==============================] - 0s 8ms/step - loss: 12.8778 - mae: 12.8778\n",
            "Epoch 419/500\n",
            "2/2 [==============================] - 0s 6ms/step - loss: 15.9369 - mae: 15.9369\n",
            "Epoch 420/500\n",
            "2/2 [==============================] - 0s 8ms/step - loss: 24.8254 - mae: 24.8254\n",
            "Epoch 421/500\n",
            "2/2 [==============================] - 0s 7ms/step - loss: 17.2127 - mae: 17.2127\n",
            "Epoch 422/500\n",
            "2/2 [==============================] - 0s 9ms/step - loss: 7.8979 - mae: 7.8979\n",
            "Epoch 423/500\n",
            "2/2 [==============================] - 0s 9ms/step - loss: 25.4676 - mae: 25.4676\n",
            "Epoch 424/500\n",
            "2/2 [==============================] - 0s 9ms/step - loss: 14.9071 - mae: 14.9071\n",
            "Epoch 425/500\n",
            "2/2 [==============================] - 0s 9ms/step - loss: 7.1835 - mae: 7.1835\n",
            "Epoch 426/500\n",
            "2/2 [==============================] - 0s 9ms/step - loss: 20.0826 - mae: 20.0826\n",
            "Epoch 427/500\n",
            "2/2 [==============================] - 0s 7ms/step - loss: 6.3270 - mae: 6.3270\n",
            "Epoch 428/500\n",
            "2/2 [==============================] - 0s 7ms/step - loss: 12.5874 - mae: 12.5874\n",
            "Epoch 429/500\n",
            "2/2 [==============================] - 0s 7ms/step - loss: 12.0068 - mae: 12.0068\n",
            "Epoch 430/500\n",
            "2/2 [==============================] - 0s 7ms/step - loss: 10.7423 - mae: 10.7423\n",
            "Epoch 431/500\n",
            "2/2 [==============================] - 0s 7ms/step - loss: 12.3029 - mae: 12.3029\n",
            "Epoch 432/500\n",
            "2/2 [==============================] - 0s 7ms/step - loss: 7.8091 - mae: 7.8091\n",
            "Epoch 433/500\n",
            "2/2 [==============================] - 0s 8ms/step - loss: 15.0224 - mae: 15.0224\n",
            "Epoch 434/500\n",
            "2/2 [==============================] - 0s 8ms/step - loss: 18.2229 - mae: 18.2229\n",
            "Epoch 435/500\n",
            "2/2 [==============================] - 0s 12ms/step - loss: 9.0309 - mae: 9.0309\n",
            "Epoch 436/500\n",
            "2/2 [==============================] - 0s 8ms/step - loss: 28.2576 - mae: 28.2576\n",
            "Epoch 437/500\n",
            "2/2 [==============================] - 0s 8ms/step - loss: 4.6305 - mae: 4.6305\n",
            "Epoch 438/500\n",
            "2/2 [==============================] - 0s 7ms/step - loss: 14.2069 - mae: 14.2069\n",
            "Epoch 439/500\n",
            "2/2 [==============================] - 0s 8ms/step - loss: 32.5211 - mae: 32.5211\n",
            "Epoch 440/500\n",
            "2/2 [==============================] - 0s 7ms/step - loss: 13.2533 - mae: 13.2533\n",
            "Epoch 441/500\n",
            "2/2 [==============================] - 0s 7ms/step - loss: 16.3335 - mae: 16.3335\n",
            "Epoch 442/500\n",
            "2/2 [==============================] - 0s 8ms/step - loss: 19.8236 - mae: 19.8236\n",
            "Epoch 443/500\n",
            "2/2 [==============================] - 0s 7ms/step - loss: 24.1819 - mae: 24.1819\n",
            "Epoch 444/500\n",
            "2/2 [==============================] - 0s 7ms/step - loss: 11.4990 - mae: 11.4990\n",
            "Epoch 445/500\n",
            "2/2 [==============================] - 0s 7ms/step - loss: 14.8053 - mae: 14.8053\n",
            "Epoch 446/500\n",
            "2/2 [==============================] - 0s 7ms/step - loss: 17.8324 - mae: 17.8324\n",
            "Epoch 447/500\n",
            "2/2 [==============================] - 0s 8ms/step - loss: 5.7042 - mae: 5.7042\n",
            "Epoch 448/500\n",
            "2/2 [==============================] - 0s 10ms/step - loss: 9.5943 - mae: 9.5943\n",
            "Epoch 449/500\n",
            "2/2 [==============================] - 0s 8ms/step - loss: 14.2387 - mae: 14.2387\n",
            "Epoch 450/500\n",
            "2/2 [==============================] - 0s 7ms/step - loss: 17.0118 - mae: 17.0118\n",
            "Epoch 451/500\n",
            "2/2 [==============================] - 0s 8ms/step - loss: 14.4092 - mae: 14.4092\n",
            "Epoch 452/500\n",
            "2/2 [==============================] - 0s 7ms/step - loss: 30.8169 - mae: 30.8169\n",
            "Epoch 453/500\n",
            "2/2 [==============================] - 0s 8ms/step - loss: 9.1583 - mae: 9.1583\n",
            "Epoch 454/500\n",
            "2/2 [==============================] - 0s 8ms/step - loss: 27.1824 - mae: 27.1824\n",
            "Epoch 455/500\n",
            "2/2 [==============================] - 0s 7ms/step - loss: 11.4527 - mae: 11.4527\n",
            "Epoch 456/500\n",
            "2/2 [==============================] - 0s 8ms/step - loss: 15.5796 - mae: 15.5796\n",
            "Epoch 457/500\n",
            "2/2 [==============================] - 0s 8ms/step - loss: 19.4963 - mae: 19.4963\n",
            "Epoch 458/500\n",
            "2/2 [==============================] - 0s 8ms/step - loss: 22.5525 - mae: 22.5525\n",
            "Epoch 459/500\n",
            "2/2 [==============================] - 0s 8ms/step - loss: 16.0284 - mae: 16.0284\n",
            "Epoch 460/500\n",
            "2/2 [==============================] - 0s 7ms/step - loss: 5.4284 - mae: 5.4284\n",
            "Epoch 461/500\n",
            "2/2 [==============================] - 0s 9ms/step - loss: 17.5909 - mae: 17.5909\n",
            "Epoch 462/500\n",
            "2/2 [==============================] - 0s 8ms/step - loss: 14.2622 - mae: 14.2622\n",
            "Epoch 463/500\n",
            "2/2 [==============================] - 0s 8ms/step - loss: 21.3805 - mae: 21.3805\n",
            "Epoch 464/500\n",
            "2/2 [==============================] - 0s 8ms/step - loss: 22.9644 - mae: 22.9644\n",
            "Epoch 465/500\n",
            "2/2 [==============================] - 0s 9ms/step - loss: 12.4536 - mae: 12.4536\n",
            "Epoch 466/500\n",
            "2/2 [==============================] - 0s 11ms/step - loss: 9.4122 - mae: 9.4122\n",
            "Epoch 467/500\n",
            "2/2 [==============================] - 0s 9ms/step - loss: 21.5499 - mae: 21.5499\n",
            "Epoch 468/500\n",
            "2/2 [==============================] - 0s 8ms/step - loss: 23.8235 - mae: 23.8235\n",
            "Epoch 469/500\n",
            "2/2 [==============================] - 0s 8ms/step - loss: 21.2374 - mae: 21.2374\n",
            "Epoch 470/500\n",
            "2/2 [==============================] - 0s 9ms/step - loss: 9.7198 - mae: 9.7198\n",
            "Epoch 471/500\n",
            "2/2 [==============================] - 0s 8ms/step - loss: 15.9426 - mae: 15.9426\n",
            "Epoch 472/500\n",
            "2/2 [==============================] - 0s 9ms/step - loss: 14.9378 - mae: 14.9378\n",
            "Epoch 473/500\n",
            "2/2 [==============================] - 0s 12ms/step - loss: 18.3032 - mae: 18.3032\n",
            "Epoch 474/500\n",
            "2/2 [==============================] - 0s 8ms/step - loss: 41.9273 - mae: 41.9273\n",
            "Epoch 475/500\n",
            "2/2 [==============================] - 0s 10ms/step - loss: 17.8592 - mae: 17.8592\n",
            "Epoch 476/500\n",
            "2/2 [==============================] - 0s 7ms/step - loss: 13.2414 - mae: 13.2414\n",
            "Epoch 477/500\n",
            "2/2 [==============================] - 0s 10ms/step - loss: 29.3027 - mae: 29.3027\n",
            "Epoch 478/500\n",
            "2/2 [==============================] - 0s 10ms/step - loss: 5.8188 - mae: 5.8188\n",
            "Epoch 479/500\n",
            "2/2 [==============================] - 0s 12ms/step - loss: 7.1896 - mae: 7.1896\n",
            "Epoch 480/500\n",
            "2/2 [==============================] - 0s 9ms/step - loss: 19.1861 - mae: 19.1861\n",
            "Epoch 481/500\n",
            "2/2 [==============================] - 0s 8ms/step - loss: 13.1700 - mae: 13.1700\n",
            "Epoch 482/500\n",
            "2/2 [==============================] - 0s 7ms/step - loss: 6.9252 - mae: 6.9252\n",
            "Epoch 483/500\n",
            "2/2 [==============================] - 0s 8ms/step - loss: 13.2912 - mae: 13.2912\n",
            "Epoch 484/500\n",
            "2/2 [==============================] - 0s 8ms/step - loss: 14.2019 - mae: 14.2019\n",
            "Epoch 485/500\n",
            "2/2 [==============================] - 0s 8ms/step - loss: 9.3135 - mae: 9.3135\n",
            "Epoch 486/500\n",
            "2/2 [==============================] - 0s 12ms/step - loss: 18.4605 - mae: 18.4605\n",
            "Epoch 487/500\n",
            "2/2 [==============================] - 0s 7ms/step - loss: 6.3122 - mae: 6.3122\n",
            "Epoch 488/500\n",
            "2/2 [==============================] - 0s 8ms/step - loss: 29.6268 - mae: 29.6268\n",
            "Epoch 489/500\n",
            "2/2 [==============================] - 0s 7ms/step - loss: 12.7350 - mae: 12.7350\n",
            "Epoch 490/500\n",
            "2/2 [==============================] - 0s 11ms/step - loss: 13.1472 - mae: 13.1472\n",
            "Epoch 491/500\n",
            "2/2 [==============================] - 0s 8ms/step - loss: 24.4333 - mae: 24.4333\n",
            "Epoch 492/500\n",
            "2/2 [==============================] - 0s 8ms/step - loss: 18.4720 - mae: 18.4720\n",
            "Epoch 493/500\n",
            "2/2 [==============================] - 0s 8ms/step - loss: 4.8037 - mae: 4.8037\n",
            "Epoch 494/500\n",
            "2/2 [==============================] - 0s 8ms/step - loss: 11.8506 - mae: 11.8506\n",
            "Epoch 495/500\n",
            "2/2 [==============================] - 0s 7ms/step - loss: 13.7984 - mae: 13.7984\n",
            "Epoch 496/500\n",
            "2/2 [==============================] - 0s 11ms/step - loss: 12.0832 - mae: 12.0832\n",
            "Epoch 497/500\n",
            "2/2 [==============================] - 0s 9ms/step - loss: 17.1140 - mae: 17.1140\n",
            "Epoch 498/500\n",
            "2/2 [==============================] - 0s 9ms/step - loss: 9.1369 - mae: 9.1369\n",
            "Epoch 499/500\n",
            "2/2 [==============================] - 0s 11ms/step - loss: 20.6967 - mae: 20.6967\n",
            "Epoch 500/500\n",
            "2/2 [==============================] - 0s 10ms/step - loss: 14.3743 - mae: 14.3743\n"
          ]
        },
        {
          "output_type": "execute_result",
          "data": {
            "text/plain": [
              "<keras.callbacks.History at 0x7fc4bdce78b0>"
            ]
          },
          "metadata": {},
          "execution_count": 98
        }
      ]
    },
    {
      "cell_type": "code",
      "source": [
        "# Make and plot some predictions\n",
        "y_preds_3 = model_3.predict(X_test)\n",
        "plot_predictions(predictions=y_preds_3)"
      ],
      "metadata": {
        "colab": {
          "base_uri": "https://localhost:8080/",
          "height": 474
        },
        "id": "Af2yPYYwPIwS",
        "outputId": "9ed9c740-3925-4f15-ea43-797eed7eb9fa"
      },
      "execution_count": null,
      "outputs": [
        {
          "output_type": "stream",
          "name": "stdout",
          "text": [
            "1/1 [==============================] - 0s 76ms/step\n"
          ]
        },
        {
          "output_type": "display_data",
          "data": {
            "text/plain": [
              "<Figure size 1000x700 with 1 Axes>"
            ],
            "image/png": "[encoded data removed]"
          },
          "metadata": {}
        }
      ]
    },
    {
      "cell_type": "code",
      "source": [
        "# Calculate mode_3 evaluation metrics\n",
        "mae_3 = mae(y_test, y_preds_3)\n",
        "mse_3 = mse(y_test, y_preds_3)\n",
        "mae_3, mse_3"
      ],
      "metadata": {
        "colab": {
          "base_uri": "https://localhost:8080/"
        },
        "id": "UGudbUC_PkaU",
        "outputId": "5a5e44cc-0350-4acd-a5e0-9dc7921290ce"
      },
      "execution_count": null,
      "outputs": [
        {
          "output_type": "execute_result",
          "data": {
            "text/plain": [
              "(<tf.Tensor: shape=(), dtype=float32, numpy=67.90511>,\n",
              " <tf.Tensor: shape=(), dtype=float32, numpy=4695.7007>)"
            ]
          },
          "metadata": {},
          "execution_count": 100
        }
      ]
    },
    {
      "cell_type": "markdown",
      "source": [
        "## Comparing results\n",
        "\n",
        "Now we've got results for 3 similar but slightly different results, let's compare them."
      ],
      "metadata": {
        "id": "4Q3P-pDpQLmj"
      }
    },
    {
      "cell_type": "code",
      "source": [],
      "metadata": {
        "id": "aSXNTBOHx3-O"
      },
      "execution_count": null,
      "outputs": []
    },
    {
      "cell_type": "code",
      "source": [],
      "metadata": {
        "id": "QW5D9HUNQa18"
      },
      "execution_count": null,
      "outputs": []
    }
  ]
}