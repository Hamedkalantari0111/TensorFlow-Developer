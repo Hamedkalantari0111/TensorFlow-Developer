{
  "nbformat": 4,
  "nbformat_minor": 0,
  "metadata": {
    "colab": {
      "provenance": []
    },
    "kernelspec": {
      "name": "python3",
      "display_name": "Python 3"
    },
    "language_info": {
      "name": "python"
    },
    "accelerator": "GPU",
    "gpuClass": "standard"
  },
  "cells": [
    {
      "cell_type": "markdown",
      "source": [
        "# 01. Neural Network Regression with TensorFlow\n",
        "\n",
        "There are many definitions for a [regression problem](https://en.wikipedia.org/wiki/Regression_analysis) but in our case, we're going to simplify it to be: predicting a number.\n",
        "\n",
        "For example, you might want to:\n",
        "- Predict the selling price of houses given information about them (such as number of rooms, size, number of bathrooms).\n",
        "- Predict the coordinates of a bounding box of an item in an image.\n",
        "- Predict the cost of medical insurance for an individual given their demographics (age, sex, gender, race).\n",
        "\n",
        "In this notebook, we're going to set the foundations for how you can take a sample of inputs (this is your data), build a neural network to discover patterns in those inputs and then make a prediction (in the form of a number) based on those inputs.\n",
        "\n",
        "## What we're going to cover\n",
        "\n",
        "Specifically, we're going to go through doing the following with TensorFlow:\n",
        "- Architecture of a regression model\n",
        "- Input shapes and output shapes\n",
        "  - `X`: features/data (inputs)\n",
        "  - `y`: labels (outputs)\n",
        "- Creating custom data to view and fit\n",
        "- Steps in modelling\n",
        "  - Creating a model\n",
        "  - Compiling a model\n",
        "    - Defining a loss function\n",
        "    - Setting up an optimizer\n",
        "    - Creating evaluation metrics\n",
        "  - Fitting a model (getting it to find patterns in our data)\n",
        "- Evaluating a model\n",
        "  - Visualizng the model (\"visualize, visualize, visualize\")\n",
        "  - Looking at training curves\n",
        "  - Compare predictions to ground truth (using our evaluation metrics)\n",
        "- Saving a model (so we can use it later)\n",
        "- Loading a model\n",
        "\n",
        "Don't worry if none of these make sense now, we're going to go through each.\n",
        "\n",
        "## How you can use this notebook\n",
        "\n",
        "You can read through the descriptions and the code (it should all run), but there's a better option.\n",
        "\n",
        "Write all of the code yourself.\n",
        "\n",
        "Yes. I'm serious. Create a new notebook, and rewrite each line by yourself. Investigate it, see if you can break it, why does it break?\n",
        "\n",
        "You don't have to write the text descriptions but writing the code yourself is a great way to get hands-on experience.\n",
        "\n",
        "Don't worry if you make mistakes, we all do. The way to get better and make less mistakes is to **write more code**."
      ],
      "metadata": {
        "id": "A2gk85emVKRE"
      }
    },
    {
      "cell_type": "markdown",
      "source": [
        "## Typical architecture of a regresison neural network\n",
        "\n",
        "The word *typical* is on purpose.\n",
        "\n",
        "Why?\n",
        "\n",
        "Because there are many different ways (actually, there's almost an infinite number of ways) to write neural networks.\n",
        "\n",
        "But the following is a generic setup for ingesting a collection of numbers, finding patterns in them and then outputing some kind of target number.\n",
        "\n",
        "Yes, the previous sentence is vague but we'll see this in action shortly.\n",
        "\n",
        "| **Hyperparameter** | **Typical value** |\n",
        "| --- | --- |\n",
        "| Input layer shape | Same shape as number of features (e.g. 3 for # bedrooms, # bathrooms, # car spaces in housing price prediction) |\n",
        "| Hidden layer(s) | Problem specific, minimum = 1, maximum = unlimited |\n",
        "| Neurons per hidden layer | Problem specific, generally 10 to 100 |\n",
        "| Output layer shape | Same shape as desired prediction shape (e.g. 1 for house price) |\n",
        "| Hidden activation | Usually [ReLU](https://www.kaggle.com/dansbecker/rectified-linear-units-relu-in-deep-learning) (rectified linear unit) |\n",
        "| Output activation | None, ReLU, logistic/tanh |\n",
        "| Loss function | [MSE](https://en.wikipedia.org/wiki/Mean_squared_error) (mean square error) or [MAE](https://en.wikipedia.org/wiki/Mean_absolute_error) (mean absolute error)/Huber (combination of MAE/MSE) if outliers |\n",
        "| Optimizer | [SGD](https://www.tensorflow.org/api_docs/python/tf/keras/optimizers/SGD) (stochastic gradient descent), [Adam](https://www.tensorflow.org/api_docs/python/tf/keras/optimizers/Adam) |\n",
        "\n",
        "***Table 1:*** *Typical architecture of a regression network.* ***Source:*** *Adapted from page 293 of [Hands-On Machine Learning with Scikit-Learn, Keras & TensorFlow Book by Aurélien Géron](https://www.oreilly.com/library/view/hands-on-machine-learning/9781492032632/)*\n",
        "\n",
        "Again, if you're new to neural networks and deep learning in general, much of the above table won't make sense. But don't worry, we'll be getting hands-on with all of it soon.\n",
        "\n",
        "> 🔑 **Note:** A **hyperparameter** in machine learning is something a data analyst or developer can set themselves, where as a **parameter** usually describes something a model learns on its own (a value not explicitly set by an analyst).\n",
        "\n",
        "Okay, enough talk, let's get started writing code.\n",
        "\n",
        "To use TensorFlow, we'll import it as the common alias `tf` (short for TensorFlow)."
      ],
      "metadata": {
        "id": "RP4CtyFAhcID"
      }
    },
    {
      "cell_type": "code",
      "source": [
        "# Import Tensorflow\n",
        "import tensorflow as tf\n",
        "print(tf.__version__)"
      ],
      "metadata": {
        "colab": {
          "base_uri": "https://localhost:8080/"
        },
        "id": "3ZwRpuRSh2lS",
        "outputId": "5eab4e25-64e8-4c0f-d179-9c7cd974d673"
      },
      "execution_count": 1,
      "outputs": [
        {
          "output_type": "stream",
          "name": "stdout",
          "text": [
            "2.12.0\n"
          ]
        }
      ]
    },
    {
      "cell_type": "markdown",
      "source": [
        "## Create data to view and fit"
      ],
      "metadata": {
        "id": "_-lEkZ8AiALE"
      }
    },
    {
      "cell_type": "code",
      "source": [
        "import numpy as np\n",
        "import matplotlib.pyplot as plt \n",
        "\n",
        "# Create features\n",
        "X = np.array([-7.0, -4.0, -1.0, 2.0, 5.0, 8.0, 11.0, 14.0])\n",
        "\n",
        "# Create labels\n",
        "y = np.array([3.0, 6.0, 9.0, 12.0, 15.0, 18.0, 21.0, 24.0])\n",
        "\n",
        "# Visualize it\n",
        "plt.scatter(X, y)"
      ],
      "metadata": {
        "id": "zZcu4Lf1iT0r",
        "colab": {
          "base_uri": "https://localhost:8080/",
          "height": 453
        },
        "outputId": "1111efbc-7357-4034-ab1e-88500a359903"
      },
      "execution_count": 2,
      "outputs": [
        {
          "output_type": "execute_result",
          "data": {
            "text/plain": [
              "<matplotlib.collections.PathCollection at 0x7ff1c008cbb0>"
            ]
          },
          "metadata": {},
          "execution_count": 2
        },
        {
          "output_type": "display_data",
          "data": {
            "text/plain": [
              "<Figure size 640x480 with 1 Axes>"
            ],
            "image/png": "[encoded data removed]"
          },
          "metadata": {}
        }
      ]
    },
    {
      "cell_type": "code",
      "source": [
        "y == X +10"
      ],
      "metadata": {
        "colab": {
          "base_uri": "https://localhost:8080/"
        },
        "id": "UIv9C4_jBW52",
        "outputId": "198c58de-0121-4c58-b890-719f1f7a87f6"
      },
      "execution_count": 3,
      "outputs": [
        {
          "output_type": "execute_result",
          "data": {
            "text/plain": [
              "array([ True,  True,  True,  True,  True,  True,  True,  True])"
            ]
          },
          "metadata": {},
          "execution_count": 3
        }
      ]
    },
    {
      "cell_type": "markdown",
      "source": [
        "## Input and output shapes"
      ],
      "metadata": {
        "id": "JfObIkVCBplk"
      }
    },
    {
      "cell_type": "code",
      "source": [
        "# Create a demo tensor for a housing price prediction problem\n",
        "house_info = tf.constant([\"bedroom\", \"bathroom\", \"garage\"])\n",
        "house_price = tf.constant([939700])\n",
        "house_info, house_price"
      ],
      "metadata": {
        "colab": {
          "base_uri": "https://localhost:8080/"
        },
        "id": "HEDd0Z3pB0v2",
        "outputId": "e76e9f69-f77e-4953-9fdb-8cab2a3a70c8"
      },
      "execution_count": 4,
      "outputs": [
        {
          "output_type": "execute_result",
          "data": {
            "text/plain": [
              "(<tf.Tensor: shape=(3,), dtype=string, numpy=array([b'bedroom', b'bathroom', b'garage'], dtype=object)>,\n",
              " <tf.Tensor: shape=(1,), dtype=int32, numpy=array([939700], dtype=int32)>)"
            ]
          },
          "metadata": {},
          "execution_count": 4
        }
      ]
    },
    {
      "cell_type": "code",
      "source": [
        "X[0], y[0]"
      ],
      "metadata": {
        "colab": {
          "base_uri": "https://localhost:8080/"
        },
        "id": "S7ldOlv0Dd5T",
        "outputId": "8ba40528-2c7e-4ba6-a4ab-85225759377a"
      },
      "execution_count": 5,
      "outputs": [
        {
          "output_type": "execute_result",
          "data": {
            "text/plain": [
              "(-7.0, 3.0)"
            ]
          },
          "metadata": {},
          "execution_count": 5
        }
      ]
    },
    {
      "cell_type": "code",
      "source": [
        "input_shape = X[0].shape\n",
        "output_shape = y[0].shape\n",
        "input_shape, output_shape"
      ],
      "metadata": {
        "colab": {
          "base_uri": "https://localhost:8080/"
        },
        "id": "-ZS3iNtqC5ht",
        "outputId": "16a19032-6e51-491c-df06-1c054002ac46"
      },
      "execution_count": 6,
      "outputs": [
        {
          "output_type": "execute_result",
          "data": {
            "text/plain": [
              "((), ())"
            ]
          },
          "metadata": {},
          "execution_count": 6
        }
      ]
    },
    {
      "cell_type": "code",
      "source": [
        "X[0].ndim"
      ],
      "metadata": {
        "colab": {
          "base_uri": "https://localhost:8080/"
        },
        "id": "Tctvq9J4DTis",
        "outputId": "f4b9ea73-830d-47d2-bc41-9b060369df88"
      },
      "execution_count": 7,
      "outputs": [
        {
          "output_type": "execute_result",
          "data": {
            "text/plain": [
              "0"
            ]
          },
          "metadata": {},
          "execution_count": 7
        }
      ]
    },
    {
      "cell_type": "code",
      "source": [
        "# Turn our NumPy array into Tensors with dtype float32\n",
        "X = tf.cast(tf.constant(X), dtype=tf.float32)\n",
        "y = tf.cast(tf.constant(y), dtype=tf.float32)\n",
        "X, y"
      ],
      "metadata": {
        "colab": {
          "base_uri": "https://localhost:8080/"
        },
        "id": "OZ2UyUrtDTAU",
        "outputId": "55447d36-9dae-42ec-e8eb-56aabb6b6819"
      },
      "execution_count": 8,
      "outputs": [
        {
          "output_type": "execute_result",
          "data": {
            "text/plain": [
              "(<tf.Tensor: shape=(8,), dtype=float32, numpy=array([-7., -4., -1.,  2.,  5.,  8., 11., 14.], dtype=float32)>,\n",
              " <tf.Tensor: shape=(8,), dtype=float32, numpy=array([ 3.,  6.,  9., 12., 15., 18., 21., 24.], dtype=float32)>)"
            ]
          },
          "metadata": {},
          "execution_count": 8
        }
      ]
    },
    {
      "cell_type": "code",
      "source": [
        "input_shape = X[0].shape\n",
        "out_shape = y[0].shape\n",
        "input_shape, out_shape"
      ],
      "metadata": {
        "colab": {
          "base_uri": "https://localhost:8080/"
        },
        "id": "gLlUw-ZUErCD",
        "outputId": "77cfb0e8-c12f-43b0-c094-daebbe31ff70"
      },
      "execution_count": 9,
      "outputs": [
        {
          "output_type": "execute_result",
          "data": {
            "text/plain": [
              "(TensorShape([]), TensorShape([]))"
            ]
          },
          "metadata": {},
          "execution_count": 9
        }
      ]
    },
    {
      "cell_type": "markdown",
      "source": [
        "## Steps in modelling with TensorFlow\n",
        "\n",
        "Now we know what data we have as well as the input and output shapes, let's see how we'd build a neural network to model it.\n",
        "\n",
        "In TensorFlow, there are typically 3 fundamental steps to creating and training a model.\n",
        "\n",
        "1. **Creating a model** - Define the input and output layes, as well as the hidden layers of a deep learning model. piece together the layers of a neural network yourself (using the [Functional](https://www.tensorflow.org/guide/keras/functional) or [Sequential API](https://www.tensorflow.org/api_docs/python/tf/keras/Sequential)) or import a previously built model (known as transfer learning).\n",
        "2. **Compiling a model** - defining how a models performance should be measured (**loss**(the function which tells our model how wrong it is)/**metrics**(what we can use to interpret the performance of our model)) as well as defining how it should improve (**optimizer**(tell our model how to improve the patterns its learning)). \n",
        "3. **Fitting a model** - letting the model try to find patterns in the data (how does `X` get to `y`). \n",
        "\n",
        "Let's see these in action using the [Keras Sequential API](https://www.tensorflow.org/api_docs/python/tf/keras/Sequential) to build a model for our regression data. And then we'll step through each.\n",
        "\n",
        "> **Note:** If you're using [TensorFlow 2.7.0](https://github.com/tensorflow/tensorflow/releases/tag/v2.7.0)+, the `fit()` function no longer upscales input data to go from `(batch_size, )` to `(batch_size, 1)`. To fix this, you'll need to expand the dimension of input data using `tf.expand_dims(input_data, axis=-1)`.\n",
        ">\n",
        "> In our case, this means instead of using `model.fit(X, y, epochs=5)`, use `model.fit(tf.expand_dims(X, axis=-1), y, epochs=5)`. "
      ],
      "metadata": {
        "id": "QY9WOSsUEvOz"
      }
    },
    {
      "cell_type": "code",
      "source": [
        "# Set random seed\n",
        "tf.random.set_seed(42)\n",
        "\n",
        "# 1- Create a model using the sequential API\n",
        "model = tf.keras.Sequential([\n",
        "    tf.keras.layers.Dense(1)\n",
        "])\n",
        "\n",
        "# 2- Compile the model\n",
        "model.compile(loss=tf.keras.losses.mae,\n",
        "              optimizer=tf.keras.optimizers.SGD(),\n",
        "              metrics=[\"mae\"])\n",
        "\n",
        "# model.fit(X, y, epochs=5) # this will break with TensorFlow 2.7.0+\n",
        "model.fit(tf.expand_dims(X, axis=-1), y, epochs=5)"
      ],
      "metadata": {
        "colab": {
          "base_uri": "https://localhost:8080/"
        },
        "id": "98NPoV-4E5jM",
        "outputId": "c6f65cf5-3fa2-449e-9cf3-2fcfdc71a54e"
      },
      "execution_count": 10,
      "outputs": [
        {
          "output_type": "stream",
          "name": "stdout",
          "text": [
            "Epoch 1/5\n",
            "1/1 [==============================] - 7s 7s/step - loss: 8.5180 - mae: 8.5180\n",
            "Epoch 2/5\n",
            "1/1 [==============================] - 0s 20ms/step - loss: 8.3855 - mae: 8.3855\n",
            "Epoch 3/5\n",
            "1/1 [==============================] - 0s 14ms/step - loss: 8.2530 - mae: 8.2530\n",
            "Epoch 4/5\n",
            "1/1 [==============================] - 0s 10ms/step - loss: 8.1205 - mae: 8.1205\n",
            "Epoch 5/5\n",
            "1/1 [==============================] - 0s 10ms/step - loss: 7.9880 - mae: 7.9880\n"
          ]
        },
        {
          "output_type": "execute_result",
          "data": {
            "text/plain": [
              "<keras.callbacks.History at 0x7ff139cc5c30>"
            ]
          },
          "metadata": {},
          "execution_count": 10
        }
      ]
    },
    {
      "cell_type": "markdown",
      "source": [
        "**epochs-- how many times the model will go through all of the training examples**"
      ],
      "metadata": {
        "id": "aKlmIDcxLOV1"
      }
    },
    {
      "cell_type": "code",
      "source": [
        "# Check out X and  y\n",
        "X, y"
      ],
      "metadata": {
        "colab": {
          "base_uri": "https://localhost:8080/"
        },
        "id": "N90kI3AqIvGV",
        "outputId": "c68d3d0e-e932-4e94-c6a9-eb332b096044"
      },
      "execution_count": 11,
      "outputs": [
        {
          "output_type": "execute_result",
          "data": {
            "text/plain": [
              "(<tf.Tensor: shape=(8,), dtype=float32, numpy=array([-7., -4., -1.,  2.,  5.,  8., 11., 14.], dtype=float32)>,\n",
              " <tf.Tensor: shape=(8,), dtype=float32, numpy=array([ 3.,  6.,  9., 12., 15., 18., 21., 24.], dtype=float32)>)"
            ]
          },
          "metadata": {},
          "execution_count": 11
        }
      ]
    },
    {
      "cell_type": "code",
      "source": [
        "# Try and make a prediction using our model\n",
        "y_pred = model.predict([17.0])\n",
        "y_pred"
      ],
      "metadata": {
        "colab": {
          "base_uri": "https://localhost:8080/"
        },
        "id": "p-JTXn56KVKj",
        "outputId": "480ac3bd-297f-432f-8cc5-0dcd8aee4f32"
      },
      "execution_count": 12,
      "outputs": [
        {
          "output_type": "stream",
          "name": "stdout",
          "text": [
            "1/1 [==============================] - 0s 141ms/step\n"
          ]
        },
        {
          "output_type": "execute_result",
          "data": {
            "text/plain": [
              "array([[27.223507]], dtype=float32)"
            ]
          },
          "metadata": {},
          "execution_count": 12
        }
      ]
    },
    {
      "cell_type": "markdown",
      "source": [
        "## Improving a model\n",
        "\n",
        "How do you think you'd improve upon our current model?\n",
        "\n",
        "If you guessed by tweaking some of the things we did above, you'd be correct.\n",
        "\n",
        "To improve our model, we alter almost every part of the 3 steps we went through before.\n",
        "\n",
        "1. **Creating a model**:\n",
        "\n",
        "  1-1- here you might want to add more layers, \n",
        "\n",
        "  1-2- increase the number of hidden units (also called neurons) within each layer, \n",
        "\n",
        "  1-3- change the activation functions of each layer.\n",
        "2. **Compiling a model**:\n",
        "\n",
        " 2-1- you might want to choose optimization function \n",
        "\n",
        " 2-2- perhaps change the **learning rate** of the optimization function.\n",
        "3. **Fitting a model**:\n",
        "\n",
        " 3-1- perhaps you could fit a model for more **epochs** (leave it training for longer) \n",
        " \n",
        "  3-2- or on more data (give the model more examples to learn from).\n",
        "\n",
        "![various options you can use to improve a neural network model](https://raw.githubusercontent.com/mrdbourke/tensorflow-deep-learning/main/images/02-improving-a-model-from-model-perspective.png)\n",
        "*There are many different ways to potentially improve a neural network. Some of the most common include: increasing the number of layers (making the network deeper), increasing the number of hidden units (making the network wider) and changing the learning rate. Because these values are all human-changeable, they're referred to as [hyperparameters](https://en.wikipedia.org/wiki/Hyperparameter_(machine_learning)) and the practice of trying to find the best hyperparameters is referred to as [hyperparameter tuning](https://en.wikipedia.org/wiki/Hyperparameter_optimization).*\n",
        "\n",
        "Woah. We just introduced a bunch of possible steps. The important thing to remember is how you alter each of these will depend on the problem you're working on.\n",
        "\n",
        "And the good thing is, over the next few problems, we'll get hands-on with all of them.\n",
        "\n",
        "For now, let's keep it simple, all we'll do is train our model for longer (everything else will stay the same)."
      ],
      "metadata": {
        "id": "schJWD3bKiSi"
      }
    },
    {
      "cell_type": "code",
      "source": [
        "# Let's rebuild our model\n",
        "\n",
        "# 1. Create the model\n",
        "model = tf.keras.Sequential([\n",
        "    tf.keras.layers.Dense(1)\n",
        "])\n",
        "\n",
        "# Compile the model\n",
        "model.compile(loss=tf.keras.losses.mae,\n",
        "              optimizer=tf.keras.optimizers.SGD(),\n",
        "              metrics=[\"mae\"])\n",
        "\n",
        "# 3. Fit the model\n",
        "model.fit(tf.expand_dims(X, axis=-1), y, epochs=100)"
      ],
      "metadata": {
        "colab": {
          "base_uri": "https://localhost:8080/"
        },
        "id": "s291L5pBK2k0",
        "outputId": "95d91636-ba4e-46ea-8c9f-d32e6d62b1e8"
      },
      "execution_count": 13,
      "outputs": [
        {
          "output_type": "stream",
          "name": "stdout",
          "text": [
            "Epoch 1/100\n",
            "1/1 [==============================] - 1s 874ms/step - loss: 18.8762 - mae: 18.8762\n",
            "Epoch 2/100\n",
            "1/1 [==============================] - 0s 23ms/step - loss: 18.5949 - mae: 18.5949\n",
            "Epoch 3/100\n",
            "1/1 [==============================] - 0s 20ms/step - loss: 18.3137 - mae: 18.3137\n",
            "Epoch 4/100\n",
            "1/1 [==============================] - 0s 23ms/step - loss: 18.0324 - mae: 18.0324\n",
            "Epoch 5/100\n",
            "1/1 [==============================] - 0s 20ms/step - loss: 17.7512 - mae: 17.7512\n",
            "Epoch 6/100\n",
            "1/1 [==============================] - 0s 14ms/step - loss: 17.4699 - mae: 17.4699\n",
            "Epoch 7/100\n",
            "1/1 [==============================] - 0s 27ms/step - loss: 17.1887 - mae: 17.1887\n",
            "Epoch 8/100\n",
            "1/1 [==============================] - 0s 14ms/step - loss: 16.9074 - mae: 16.9074\n",
            "Epoch 9/100\n",
            "1/1 [==============================] - 0s 12ms/step - loss: 16.6262 - mae: 16.6262\n",
            "Epoch 10/100\n",
            "1/1 [==============================] - 0s 15ms/step - loss: 16.3449 - mae: 16.3449\n",
            "Epoch 11/100\n",
            "1/1 [==============================] - 0s 26ms/step - loss: 16.0637 - mae: 16.0637\n",
            "Epoch 12/100\n",
            "1/1 [==============================] - 0s 15ms/step - loss: 15.7824 - mae: 15.7824\n",
            "Epoch 13/100\n",
            "1/1 [==============================] - 0s 18ms/step - loss: 15.5012 - mae: 15.5012\n",
            "Epoch 14/100\n",
            "1/1 [==============================] - 0s 21ms/step - loss: 15.2199 - mae: 15.2199\n",
            "Epoch 15/100\n",
            "1/1 [==============================] - 0s 30ms/step - loss: 14.9387 - mae: 14.9387\n",
            "Epoch 16/100\n",
            "1/1 [==============================] - 0s 23ms/step - loss: 14.7154 - mae: 14.7154\n",
            "Epoch 17/100\n",
            "1/1 [==============================] - 0s 22ms/step - loss: 14.5829 - mae: 14.5829\n",
            "Epoch 18/100\n",
            "1/1 [==============================] - 0s 28ms/step - loss: 14.4504 - mae: 14.4504\n",
            "Epoch 19/100\n",
            "1/1 [==============================] - 0s 12ms/step - loss: 14.3179 - mae: 14.3179\n",
            "Epoch 20/100\n",
            "1/1 [==============================] - 0s 14ms/step - loss: 14.1854 - mae: 14.1854\n",
            "Epoch 21/100\n",
            "1/1 [==============================] - 0s 10ms/step - loss: 14.0529 - mae: 14.0529\n",
            "Epoch 22/100\n",
            "1/1 [==============================] - 0s 16ms/step - loss: 13.9204 - mae: 13.9204\n",
            "Epoch 23/100\n",
            "1/1 [==============================] - 0s 13ms/step - loss: 13.7879 - mae: 13.7879\n",
            "Epoch 24/100\n",
            "1/1 [==============================] - 0s 31ms/step - loss: 13.6554 - mae: 13.6554\n",
            "Epoch 25/100\n",
            "1/1 [==============================] - 0s 25ms/step - loss: 13.5229 - mae: 13.5229\n",
            "Epoch 26/100\n",
            "1/1 [==============================] - 0s 10ms/step - loss: 13.3904 - mae: 13.3904\n",
            "Epoch 27/100\n",
            "1/1 [==============================] - 0s 13ms/step - loss: 13.2579 - mae: 13.2579\n",
            "Epoch 28/100\n",
            "1/1 [==============================] - 0s 12ms/step - loss: 13.1254 - mae: 13.1254\n",
            "Epoch 29/100\n",
            "1/1 [==============================] - 0s 12ms/step - loss: 12.9929 - mae: 12.9929\n",
            "Epoch 30/100\n",
            "1/1 [==============================] - 0s 14ms/step - loss: 12.8604 - mae: 12.8604\n",
            "Epoch 31/100\n",
            "1/1 [==============================] - 0s 13ms/step - loss: 12.7279 - mae: 12.7279\n",
            "Epoch 32/100\n",
            "1/1 [==============================] - 0s 20ms/step - loss: 12.5954 - mae: 12.5954\n",
            "Epoch 33/100\n",
            "1/1 [==============================] - 0s 11ms/step - loss: 12.4629 - mae: 12.4629\n",
            "Epoch 34/100\n",
            "1/1 [==============================] - 0s 10ms/step - loss: 12.3304 - mae: 12.3304\n",
            "Epoch 35/100\n",
            "1/1 [==============================] - 0s 9ms/step - loss: 12.1979 - mae: 12.1979\n",
            "Epoch 36/100\n",
            "1/1 [==============================] - 0s 13ms/step - loss: 12.0654 - mae: 12.0654\n",
            "Epoch 37/100\n",
            "1/1 [==============================] - 0s 24ms/step - loss: 11.9329 - mae: 11.9329\n",
            "Epoch 38/100\n",
            "1/1 [==============================] - 0s 13ms/step - loss: 11.8004 - mae: 11.8004\n",
            "Epoch 39/100\n",
            "1/1 [==============================] - 0s 14ms/step - loss: 11.6679 - mae: 11.6679\n",
            "Epoch 40/100\n",
            "1/1 [==============================] - 0s 13ms/step - loss: 11.5354 - mae: 11.5354\n",
            "Epoch 41/100\n",
            "1/1 [==============================] - 0s 17ms/step - loss: 11.4029 - mae: 11.4029\n",
            "Epoch 42/100\n",
            "1/1 [==============================] - 0s 12ms/step - loss: 11.2704 - mae: 11.2704\n",
            "Epoch 43/100\n",
            "1/1 [==============================] - 0s 10ms/step - loss: 11.1379 - mae: 11.1379\n",
            "Epoch 44/100\n",
            "1/1 [==============================] - 0s 13ms/step - loss: 11.0054 - mae: 11.0054\n",
            "Epoch 45/100\n",
            "1/1 [==============================] - 0s 13ms/step - loss: 10.8729 - mae: 10.8729\n",
            "Epoch 46/100\n",
            "1/1 [==============================] - 0s 14ms/step - loss: 10.7404 - mae: 10.7404\n",
            "Epoch 47/100\n",
            "1/1 [==============================] - 0s 13ms/step - loss: 10.6079 - mae: 10.6079\n",
            "Epoch 48/100\n",
            "1/1 [==============================] - 0s 10ms/step - loss: 10.4754 - mae: 10.4754\n",
            "Epoch 49/100\n",
            "1/1 [==============================] - 0s 11ms/step - loss: 10.3429 - mae: 10.3429\n",
            "Epoch 50/100\n",
            "1/1 [==============================] - 0s 11ms/step - loss: 10.2104 - mae: 10.2104\n",
            "Epoch 51/100\n",
            "1/1 [==============================] - 0s 13ms/step - loss: 10.0779 - mae: 10.0779\n",
            "Epoch 52/100\n",
            "1/1 [==============================] - 0s 25ms/step - loss: 9.9454 - mae: 9.9454\n",
            "Epoch 53/100\n",
            "1/1 [==============================] - 0s 19ms/step - loss: 9.8129 - mae: 9.8129\n",
            "Epoch 54/100\n",
            "1/1 [==============================] - 0s 12ms/step - loss: 9.6804 - mae: 9.6804\n",
            "Epoch 55/100\n",
            "1/1 [==============================] - 0s 13ms/step - loss: 9.5479 - mae: 9.5479\n",
            "Epoch 56/100\n",
            "1/1 [==============================] - 0s 14ms/step - loss: 9.4154 - mae: 9.4154\n",
            "Epoch 57/100\n",
            "1/1 [==============================] - 0s 17ms/step - loss: 9.2829 - mae: 9.2829\n",
            "Epoch 58/100\n",
            "1/1 [==============================] - 0s 14ms/step - loss: 9.1504 - mae: 9.1504\n",
            "Epoch 59/100\n",
            "1/1 [==============================] - 0s 15ms/step - loss: 9.0179 - mae: 9.0179\n",
            "Epoch 60/100\n",
            "1/1 [==============================] - 0s 22ms/step - loss: 8.8854 - mae: 8.8854\n",
            "Epoch 61/100\n",
            "1/1 [==============================] - 0s 13ms/step - loss: 8.7529 - mae: 8.7529\n",
            "Epoch 62/100\n",
            "1/1 [==============================] - 0s 14ms/step - loss: 8.6204 - mae: 8.6204\n",
            "Epoch 63/100\n",
            "1/1 [==============================] - 0s 13ms/step - loss: 8.4879 - mae: 8.4879\n",
            "Epoch 64/100\n",
            "1/1 [==============================] - 0s 16ms/step - loss: 8.3554 - mae: 8.3554\n",
            "Epoch 65/100\n",
            "1/1 [==============================] - 0s 15ms/step - loss: 8.2229 - mae: 8.2229\n",
            "Epoch 66/100\n",
            "1/1 [==============================] - 0s 12ms/step - loss: 8.0904 - mae: 8.0904\n",
            "Epoch 67/100\n",
            "1/1 [==============================] - 0s 9ms/step - loss: 7.9579 - mae: 7.9579\n",
            "Epoch 68/100\n",
            "1/1 [==============================] - 0s 10ms/step - loss: 7.8254 - mae: 7.8254\n",
            "Epoch 69/100\n",
            "1/1 [==============================] - 0s 10ms/step - loss: 7.6929 - mae: 7.6929\n",
            "Epoch 70/100\n",
            "1/1 [==============================] - 0s 10ms/step - loss: 7.5604 - mae: 7.5604\n",
            "Epoch 71/100\n",
            "1/1 [==============================] - 0s 9ms/step - loss: 7.4279 - mae: 7.4279\n",
            "Epoch 72/100\n",
            "1/1 [==============================] - 0s 10ms/step - loss: 7.2954 - mae: 7.2954\n",
            "Epoch 73/100\n",
            "1/1 [==============================] - 0s 10ms/step - loss: 7.1629 - mae: 7.1629\n",
            "Epoch 74/100\n",
            "1/1 [==============================] - 0s 9ms/step - loss: 7.0304 - mae: 7.0304\n",
            "Epoch 75/100\n",
            "1/1 [==============================] - 0s 10ms/step - loss: 6.9731 - mae: 6.9731\n",
            "Epoch 76/100\n",
            "1/1 [==============================] - 0s 10ms/step - loss: 6.9675 - mae: 6.9675\n",
            "Epoch 77/100\n",
            "1/1 [==============================] - 0s 10ms/step - loss: 6.9619 - mae: 6.9619\n",
            "Epoch 78/100\n",
            "1/1 [==============================] - 0s 10ms/step - loss: 6.9563 - mae: 6.9563\n",
            "Epoch 79/100\n",
            "1/1 [==============================] - 0s 10ms/step - loss: 6.9506 - mae: 6.9506\n",
            "Epoch 80/100\n",
            "1/1 [==============================] - 0s 10ms/step - loss: 6.9450 - mae: 6.9450\n",
            "Epoch 81/100\n",
            "1/1 [==============================] - 0s 9ms/step - loss: 6.9394 - mae: 6.9394\n",
            "Epoch 82/100\n",
            "1/1 [==============================] - 0s 9ms/step - loss: 6.9338 - mae: 6.9338\n",
            "Epoch 83/100\n",
            "1/1 [==============================] - 0s 10ms/step - loss: 6.9281 - mae: 6.9281\n",
            "Epoch 84/100\n",
            "1/1 [==============================] - 0s 10ms/step - loss: 6.9225 - mae: 6.9225\n",
            "Epoch 85/100\n",
            "1/1 [==============================] - 0s 10ms/step - loss: 6.9169 - mae: 6.9169\n",
            "Epoch 86/100\n",
            "1/1 [==============================] - 0s 10ms/step - loss: 6.9113 - mae: 6.9113\n",
            "Epoch 87/100\n",
            "1/1 [==============================] - 0s 12ms/step - loss: 6.9056 - mae: 6.9056\n",
            "Epoch 88/100\n",
            "1/1 [==============================] - 0s 9ms/step - loss: 6.9000 - mae: 6.9000\n",
            "Epoch 89/100\n",
            "1/1 [==============================] - 0s 10ms/step - loss: 6.8944 - mae: 6.8944\n",
            "Epoch 90/100\n",
            "1/1 [==============================] - 0s 10ms/step - loss: 6.8888 - mae: 6.8888\n",
            "Epoch 91/100\n",
            "1/1 [==============================] - 0s 10ms/step - loss: 6.8831 - mae: 6.8831\n",
            "Epoch 92/100\n",
            "1/1 [==============================] - 0s 10ms/step - loss: 6.8775 - mae: 6.8775\n",
            "Epoch 93/100\n",
            "1/1 [==============================] - 0s 9ms/step - loss: 6.8719 - mae: 6.8719\n",
            "Epoch 94/100\n",
            "1/1 [==============================] - 0s 10ms/step - loss: 6.8663 - mae: 6.8663\n",
            "Epoch 95/100\n",
            "1/1 [==============================] - 0s 10ms/step - loss: 6.8606 - mae: 6.8606\n",
            "Epoch 96/100\n",
            "1/1 [==============================] - 0s 10ms/step - loss: 6.8550 - mae: 6.8550\n",
            "Epoch 97/100\n",
            "1/1 [==============================] - 0s 10ms/step - loss: 6.8494 - mae: 6.8494\n",
            "Epoch 98/100\n",
            "1/1 [==============================] - 0s 10ms/step - loss: 6.8438 - mae: 6.8438\n",
            "Epoch 99/100\n",
            "1/1 [==============================] - 0s 12ms/step - loss: 6.8381 - mae: 6.8381\n",
            "Epoch 100/100\n",
            "1/1 [==============================] - 0s 15ms/step - loss: 6.8325 - mae: 6.8325\n"
          ]
        },
        {
          "output_type": "execute_result",
          "data": {
            "text/plain": [
              "<keras.callbacks.History at 0x7ff13076f8e0>"
            ]
          },
          "metadata": {},
          "execution_count": 13
        }
      ]
    },
    {
      "cell_type": "code",
      "source": [
        "# Remind ourselves of the data\n",
        "X, y"
      ],
      "metadata": {
        "colab": {
          "base_uri": "https://localhost:8080/"
        },
        "id": "uT0UcjzQPRsr",
        "outputId": "c9b1c5ef-9bb1-40e7-c6bd-10359703779d"
      },
      "execution_count": 14,
      "outputs": [
        {
          "output_type": "execute_result",
          "data": {
            "text/plain": [
              "(<tf.Tensor: shape=(8,), dtype=float32, numpy=array([-7., -4., -1.,  2.,  5.,  8., 11., 14.], dtype=float32)>,\n",
              " <tf.Tensor: shape=(8,), dtype=float32, numpy=array([ 3.,  6.,  9., 12., 15., 18., 21., 24.], dtype=float32)>)"
            ]
          },
          "metadata": {},
          "execution_count": 14
        }
      ]
    },
    {
      "cell_type": "code",
      "source": [
        "y_pred = model.predict([17.0])\n",
        "y_pred"
      ],
      "metadata": {
        "colab": {
          "base_uri": "https://localhost:8080/"
        },
        "id": "mnlrlpyHOyHz",
        "outputId": "d4c3bd38-c8a0-451f-dfbf-b66d3b6b2770"
      },
      "execution_count": 15,
      "outputs": [
        {
          "output_type": "stream",
          "name": "stdout",
          "text": [
            "1/1 [==============================] - 0s 73ms/step\n"
          ]
        },
        {
          "output_type": "execute_result",
          "data": {
            "text/plain": [
              "array([[29.552864]], dtype=float32)"
            ]
          },
          "metadata": {},
          "execution_count": 15
        }
      ]
    },
    {
      "cell_type": "code",
      "source": [
        "from keras import optimizers\n",
        "# Let's see if we can make another to improve model\n",
        "\n",
        "# 1. Create the model ()\n",
        "model = tf.keras.Sequential([\n",
        "    tf.keras.layers.Dense(50, activation=None),\n",
        "    tf.keras.layers.Dense(1)\n",
        "])\n",
        "\n",
        "# 2. Compile the model\n",
        "model.compile(loss=tf.keras.losses.mae,\n",
        "              optimizer=tf.keras.optimizers.Adam(learning_rate=0.01),\n",
        "              metrics=[\"mae\"])\n",
        "\n",
        "# 3. Fit the model\n",
        "model.fit(tf.expand_dims(X, axis=-1), y, epochs=100)"
      ],
      "metadata": {
        "colab": {
          "base_uri": "https://localhost:8080/"
        },
        "id": "JN8xmx2sPDfq",
        "outputId": "8e01b53a-c5a1-4833-c124-096e7fa49a5f"
      },
      "execution_count": 16,
      "outputs": [
        {
          "output_type": "stream",
          "name": "stdout",
          "text": [
            "Epoch 1/100\n",
            "1/1 [==============================] - 2s 2s/step - loss: 13.5623 - mae: 13.5623\n",
            "Epoch 2/100\n",
            "1/1 [==============================] - 0s 11ms/step - loss: 12.8876 - mae: 12.8876\n",
            "Epoch 3/100\n",
            "1/1 [==============================] - 0s 28ms/step - loss: 12.2096 - mae: 12.2096\n",
            "Epoch 4/100\n",
            "1/1 [==============================] - 0s 26ms/step - loss: 11.5269 - mae: 11.5269\n",
            "Epoch 5/100\n",
            "1/1 [==============================] - 0s 20ms/step - loss: 10.8376 - mae: 10.8376\n",
            "Epoch 6/100\n",
            "1/1 [==============================] - 0s 22ms/step - loss: 10.1394 - mae: 10.1394\n",
            "Epoch 7/100\n",
            "1/1 [==============================] - 0s 10ms/step - loss: 9.4299 - mae: 9.4299\n",
            "Epoch 8/100\n",
            "1/1 [==============================] - 0s 33ms/step - loss: 8.7067 - mae: 8.7067\n",
            "Epoch 9/100\n",
            "1/1 [==============================] - 0s 10ms/step - loss: 7.9674 - mae: 7.9674\n",
            "Epoch 10/100\n",
            "1/1 [==============================] - 0s 15ms/step - loss: 7.2093 - mae: 7.2093\n",
            "Epoch 11/100\n",
            "1/1 [==============================] - 0s 21ms/step - loss: 6.7316 - mae: 6.7316\n",
            "Epoch 12/100\n",
            "1/1 [==============================] - 0s 12ms/step - loss: 6.9035 - mae: 6.9035\n",
            "Epoch 13/100\n",
            "1/1 [==============================] - 0s 15ms/step - loss: 7.1925 - mae: 7.1925\n",
            "Epoch 14/100\n",
            "1/1 [==============================] - 0s 25ms/step - loss: 7.4370 - mae: 7.4370\n",
            "Epoch 15/100\n",
            "1/1 [==============================] - 0s 28ms/step - loss: 7.5445 - mae: 7.5445\n",
            "Epoch 16/100\n",
            "1/1 [==============================] - 0s 24ms/step - loss: 7.4536 - mae: 7.4536\n",
            "Epoch 17/100\n",
            "1/1 [==============================] - 0s 28ms/step - loss: 7.2135 - mae: 7.2135\n",
            "Epoch 18/100\n",
            "1/1 [==============================] - 0s 21ms/step - loss: 6.9250 - mae: 6.9250\n",
            "Epoch 19/100\n",
            "1/1 [==============================] - 0s 45ms/step - loss: 6.6776 - mae: 6.6776\n",
            "Epoch 20/100\n",
            "1/1 [==============================] - 0s 31ms/step - loss: 6.4137 - mae: 6.4137\n",
            "Epoch 21/100\n",
            "1/1 [==============================] - 0s 19ms/step - loss: 6.1373 - mae: 6.1373\n",
            "Epoch 22/100\n",
            "1/1 [==============================] - 0s 21ms/step - loss: 6.0678 - mae: 6.0678\n",
            "Epoch 23/100\n",
            "1/1 [==============================] - 0s 22ms/step - loss: 6.0249 - mae: 6.0249\n",
            "Epoch 24/100\n",
            "1/1 [==============================] - 0s 24ms/step - loss: 6.2154 - mae: 6.2154\n",
            "Epoch 25/100\n",
            "1/1 [==============================] - 0s 25ms/step - loss: 6.2900 - mae: 6.2900\n",
            "Epoch 26/100\n",
            "1/1 [==============================] - 0s 21ms/step - loss: 6.2646 - mae: 6.2646\n",
            "Epoch 27/100\n",
            "1/1 [==============================] - 0s 15ms/step - loss: 6.1514 - mae: 6.1514\n",
            "Epoch 28/100\n",
            "1/1 [==============================] - 0s 11ms/step - loss: 5.9595 - mae: 5.9595\n",
            "Epoch 29/100\n",
            "1/1 [==============================] - 0s 14ms/step - loss: 5.6953 - mae: 5.6953\n",
            "Epoch 30/100\n",
            "1/1 [==============================] - 0s 23ms/step - loss: 5.4735 - mae: 5.4735\n",
            "Epoch 31/100\n",
            "1/1 [==============================] - 0s 35ms/step - loss: 5.3626 - mae: 5.3626\n",
            "Epoch 32/100\n",
            "1/1 [==============================] - 0s 35ms/step - loss: 5.2921 - mae: 5.2921\n",
            "Epoch 33/100\n",
            "1/1 [==============================] - 0s 20ms/step - loss: 5.3022 - mae: 5.3022\n",
            "Epoch 34/100\n",
            "1/1 [==============================] - 0s 28ms/step - loss: 5.2681 - mae: 5.2681\n",
            "Epoch 35/100\n",
            "1/1 [==============================] - 0s 17ms/step - loss: 5.1931 - mae: 5.1931\n",
            "Epoch 36/100\n",
            "1/1 [==============================] - 0s 15ms/step - loss: 5.0805 - mae: 5.0805\n",
            "Epoch 37/100\n",
            "1/1 [==============================] - 0s 53ms/step - loss: 4.9334 - mae: 4.9334\n",
            "Epoch 38/100\n",
            "1/1 [==============================] - 0s 22ms/step - loss: 4.7548 - mae: 4.7548\n",
            "Epoch 39/100\n",
            "1/1 [==============================] - 0s 14ms/step - loss: 4.5696 - mae: 4.5696\n",
            "Epoch 40/100\n",
            "1/1 [==============================] - 0s 17ms/step - loss: 4.4749 - mae: 4.4749\n",
            "Epoch 41/100\n",
            "1/1 [==============================] - 0s 23ms/step - loss: 4.3723 - mae: 4.3723\n",
            "Epoch 42/100\n",
            "1/1 [==============================] - 0s 17ms/step - loss: 4.2618 - mae: 4.2618\n",
            "Epoch 43/100\n",
            "1/1 [==============================] - 0s 16ms/step - loss: 4.1800 - mae: 4.1800\n",
            "Epoch 44/100\n",
            "1/1 [==============================] - 0s 19ms/step - loss: 4.0183 - mae: 4.0183\n",
            "Epoch 45/100\n",
            "1/1 [==============================] - 0s 19ms/step - loss: 3.8524 - mae: 3.8524\n",
            "Epoch 46/100\n",
            "1/1 [==============================] - 0s 17ms/step - loss: 3.6913 - mae: 3.6913\n",
            "Epoch 47/100\n",
            "1/1 [==============================] - 0s 20ms/step - loss: 3.5480 - mae: 3.5480\n",
            "Epoch 48/100\n",
            "1/1 [==============================] - 0s 16ms/step - loss: 3.4365 - mae: 3.4365\n",
            "Epoch 49/100\n",
            "1/1 [==============================] - 0s 14ms/step - loss: 3.2746 - mae: 3.2746\n",
            "Epoch 50/100\n",
            "1/1 [==============================] - 0s 11ms/step - loss: 3.0648 - mae: 3.0648\n",
            "Epoch 51/100\n",
            "1/1 [==============================] - 0s 16ms/step - loss: 2.8809 - mae: 2.8809\n",
            "Epoch 52/100\n",
            "1/1 [==============================] - 0s 14ms/step - loss: 2.7121 - mae: 2.7121\n",
            "Epoch 53/100\n",
            "1/1 [==============================] - 0s 11ms/step - loss: 2.5751 - mae: 2.5751\n",
            "Epoch 54/100\n",
            "1/1 [==============================] - 0s 12ms/step - loss: 2.3392 - mae: 2.3392\n",
            "Epoch 55/100\n",
            "1/1 [==============================] - 0s 13ms/step - loss: 2.1028 - mae: 2.1028\n",
            "Epoch 56/100\n",
            "1/1 [==============================] - 0s 19ms/step - loss: 1.9655 - mae: 1.9655\n",
            "Epoch 57/100\n",
            "1/1 [==============================] - 0s 18ms/step - loss: 1.7994 - mae: 1.7994\n",
            "Epoch 58/100\n",
            "1/1 [==============================] - 0s 19ms/step - loss: 1.5675 - mae: 1.5675\n",
            "Epoch 59/100\n",
            "1/1 [==============================] - 0s 24ms/step - loss: 1.2728 - mae: 1.2728\n",
            "Epoch 60/100\n",
            "1/1 [==============================] - 0s 17ms/step - loss: 0.9443 - mae: 0.9443\n",
            "Epoch 61/100\n",
            "1/1 [==============================] - 0s 20ms/step - loss: 0.8035 - mae: 0.8035\n",
            "Epoch 62/100\n",
            "1/1 [==============================] - 0s 23ms/step - loss: 0.5266 - mae: 0.5266\n",
            "Epoch 63/100\n",
            "1/1 [==============================] - 0s 17ms/step - loss: 0.1739 - mae: 0.1739\n",
            "Epoch 64/100\n",
            "1/1 [==============================] - 0s 19ms/step - loss: 0.1767 - mae: 0.1767\n",
            "Epoch 65/100\n",
            "1/1 [==============================] - 0s 21ms/step - loss: 0.4876 - mae: 0.4876\n",
            "Epoch 66/100\n",
            "1/1 [==============================] - 0s 17ms/step - loss: 0.6060 - mae: 0.6060\n",
            "Epoch 67/100\n",
            "1/1 [==============================] - 0s 16ms/step - loss: 0.6949 - mae: 0.6949\n",
            "Epoch 68/100\n",
            "1/1 [==============================] - 0s 18ms/step - loss: 0.7752 - mae: 0.7752\n",
            "Epoch 69/100\n",
            "1/1 [==============================] - 0s 20ms/step - loss: 0.7590 - mae: 0.7590\n",
            "Epoch 70/100\n",
            "1/1 [==============================] - 0s 24ms/step - loss: 0.7668 - mae: 0.7668\n",
            "Epoch 71/100\n",
            "1/1 [==============================] - 0s 16ms/step - loss: 0.6842 - mae: 0.6842\n",
            "Epoch 72/100\n",
            "1/1 [==============================] - 0s 16ms/step - loss: 0.6632 - mae: 0.6632\n",
            "Epoch 73/100\n",
            "1/1 [==============================] - 0s 14ms/step - loss: 0.5284 - mae: 0.5284\n",
            "Epoch 74/100\n",
            "1/1 [==============================] - 0s 18ms/step - loss: 0.4402 - mae: 0.4402\n",
            "Epoch 75/100\n",
            "1/1 [==============================] - 0s 18ms/step - loss: 0.3181 - mae: 0.3181\n",
            "Epoch 76/100\n",
            "1/1 [==============================] - 0s 28ms/step - loss: 0.0933 - mae: 0.0933\n",
            "Epoch 77/100\n",
            "1/1 [==============================] - 0s 32ms/step - loss: 0.1160 - mae: 0.1160\n",
            "Epoch 78/100\n",
            "1/1 [==============================] - 0s 14ms/step - loss: 0.3479 - mae: 0.3479\n",
            "Epoch 79/100\n",
            "1/1 [==============================] - 0s 24ms/step - loss: 0.4256 - mae: 0.4256\n",
            "Epoch 80/100\n",
            "1/1 [==============================] - 0s 22ms/step - loss: 0.3480 - mae: 0.3480\n",
            "Epoch 81/100\n",
            "1/1 [==============================] - 0s 39ms/step - loss: 0.4467 - mae: 0.4467\n",
            "Epoch 82/100\n",
            "1/1 [==============================] - 0s 28ms/step - loss: 0.4101 - mae: 0.4101\n",
            "Epoch 83/100\n",
            "1/1 [==============================] - 0s 29ms/step - loss: 0.3237 - mae: 0.3237\n",
            "Epoch 84/100\n",
            "1/1 [==============================] - 0s 24ms/step - loss: 0.2709 - mae: 0.2709\n",
            "Epoch 85/100\n",
            "1/1 [==============================] - 0s 24ms/step - loss: 0.1966 - mae: 0.1966\n",
            "Epoch 86/100\n",
            "1/1 [==============================] - 0s 23ms/step - loss: 0.0821 - mae: 0.0821\n",
            "Epoch 87/100\n",
            "1/1 [==============================] - 0s 16ms/step - loss: 0.2936 - mae: 0.2936\n",
            "Epoch 88/100\n",
            "1/1 [==============================] - 0s 15ms/step - loss: 0.3246 - mae: 0.3246\n",
            "Epoch 89/100\n",
            "1/1 [==============================] - 0s 12ms/step - loss: 0.2689 - mae: 0.2689\n",
            "Epoch 90/100\n",
            "1/1 [==============================] - 0s 15ms/step - loss: 0.3397 - mae: 0.3397\n",
            "Epoch 91/100\n",
            "1/1 [==============================] - 0s 14ms/step - loss: 0.2538 - mae: 0.2538\n",
            "Epoch 92/100\n",
            "1/1 [==============================] - 0s 19ms/step - loss: 0.2855 - mae: 0.2855\n",
            "Epoch 93/100\n",
            "1/1 [==============================] - 0s 18ms/step - loss: 0.1839 - mae: 0.1839\n",
            "Epoch 94/100\n",
            "1/1 [==============================] - 0s 10ms/step - loss: 0.2012 - mae: 0.2012\n",
            "Epoch 95/100\n",
            "1/1 [==============================] - 0s 12ms/step - loss: 0.1735 - mae: 0.1735\n",
            "Epoch 96/100\n",
            "1/1 [==============================] - 0s 12ms/step - loss: 0.1699 - mae: 0.1699\n",
            "Epoch 97/100\n",
            "1/1 [==============================] - 0s 11ms/step - loss: 0.2594 - mae: 0.2594\n",
            "Epoch 98/100\n",
            "1/1 [==============================] - 0s 35ms/step - loss: 0.1925 - mae: 0.1925\n",
            "Epoch 99/100\n",
            "1/1 [==============================] - 0s 24ms/step - loss: 0.1777 - mae: 0.1777\n",
            "Epoch 100/100\n",
            "1/1 [==============================] - 0s 18ms/step - loss: 0.1469 - mae: 0.1469\n"
          ]
        },
        {
          "output_type": "execute_result",
          "data": {
            "text/plain": [
              "<keras.callbacks.History at 0x7ff13066b5e0>"
            ]
          },
          "metadata": {},
          "execution_count": 16
        }
      ]
    },
    {
      "cell_type": "code",
      "source": [
        "y_pred = model.predict([17.0])\n",
        "y_pred"
      ],
      "metadata": {
        "colab": {
          "base_uri": "https://localhost:8080/"
        },
        "id": "iaqFlVgIQ8Qh",
        "outputId": "bb36f89f-5674-4418-8b77-182bd9334a13"
      },
      "execution_count": 17,
      "outputs": [
        {
          "output_type": "stream",
          "name": "stdout",
          "text": [
            "1/1 [==============================] - 0s 209ms/step\n"
          ]
        },
        {
          "output_type": "execute_result",
          "data": {
            "text/plain": [
              "array([[26.580597]], dtype=float32)"
            ]
          },
          "metadata": {},
          "execution_count": 17
        }
      ]
    },
    {
      "cell_type": "markdown",
      "source": [
        "## Evaluating a model \n",
        "\n",
        "A typical workflow you'll go through when building neural networks is:\n",
        "\n",
        "```\n",
        "Build a model -> evaluate it -> build (tweak) a model -> evaulate it -> build (tweak) a model -> evaluate it...\n",
        "```\n",
        "\n",
        "The tweaking comes from maybe not building a model from scratch but adjusting an existing one.\n",
        "\n",
        "### Visualize, visualize, visualize\n",
        "\n",
        "When it comes to evaluation, you'll want to remember the words: \"visualize, visualize, visualize.\" \n",
        "\n",
        "This is because you're probably better looking at something (doing) than you are thinking about something.\n",
        "\n",
        "It's a good idea to visualize:\n",
        "* **The data** - what data are you working with? What does it look like?\n",
        "* **The model itself** - what does the architecture look like? What are the different shapes?\n",
        "* **The training of a model** - how does a model perform while it learns?\n",
        "* **The predictions of a model** - how do the predictions of a model line up against the ground truth (the original labels)?\n",
        "\n",
        "Let's start by visualizing the model.\n",
        "\n",
        "But first, we'll create a little bit of a bigger dataset and a new model we can use (it'll be the same as before, but the more practice the better).\n"
      ],
      "metadata": {
        "id": "T2Th54AtRK0B"
      }
    },
    {
      "cell_type": "code",
      "source": [
        "# Make a bigger data\n",
        "X = tf.range(-100, 100, 4)\n",
        "X"
      ],
      "metadata": {
        "colab": {
          "base_uri": "https://localhost:8080/"
        },
        "id": "J00iy01w09KA",
        "outputId": "ae25220f-034f-4fde-dd84-c328ded377a1"
      },
      "execution_count": 18,
      "outputs": [
        {
          "output_type": "execute_result",
          "data": {
            "text/plain": [
              "<tf.Tensor: shape=(50,), dtype=int32, numpy=\n",
              "array([-100,  -96,  -92,  -88,  -84,  -80,  -76,  -72,  -68,  -64,  -60,\n",
              "        -56,  -52,  -48,  -44,  -40,  -36,  -32,  -28,  -24,  -20,  -16,\n",
              "        -12,   -8,   -4,    0,    4,    8,   12,   16,   20,   24,   28,\n",
              "         32,   36,   40,   44,   48,   52,   56,   60,   64,   68,   72,\n",
              "         76,   80,   84,   88,   92,   96], dtype=int32)>"
            ]
          },
          "metadata": {},
          "execution_count": 18
        }
      ]
    },
    {
      "cell_type": "code",
      "source": [
        "# Make labels for the dataset\n",
        "y = X + 10\n",
        "y"
      ],
      "metadata": {
        "colab": {
          "base_uri": "https://localhost:8080/"
        },
        "id": "YA-r62sm1HXo",
        "outputId": "980de29f-74cb-4ca3-e5e7-667ade1098e9"
      },
      "execution_count": 19,
      "outputs": [
        {
          "output_type": "execute_result",
          "data": {
            "text/plain": [
              "<tf.Tensor: shape=(50,), dtype=int32, numpy=\n",
              "array([-90, -86, -82, -78, -74, -70, -66, -62, -58, -54, -50, -46, -42,\n",
              "       -38, -34, -30, -26, -22, -18, -14, -10,  -6,  -2,   2,   6,  10,\n",
              "        14,  18,  22,  26,  30,  34,  38,  42,  46,  50,  54,  58,  62,\n",
              "        66,  70,  74,  78,  82,  86,  90,  94,  98, 102, 106], dtype=int32)>"
            ]
          },
          "metadata": {},
          "execution_count": 19
        }
      ]
    },
    {
      "cell_type": "code",
      "source": [
        "# Visualize the data\n",
        "import matplotlib.pyplot as plt\n",
        "plt.scatter(X, y)"
      ],
      "metadata": {
        "colab": {
          "base_uri": "https://localhost:8080/",
          "height": 448
        },
        "id": "PeWq91X21PGQ",
        "outputId": "07e31737-0412-4c96-ecc3-cd4a46e0871e"
      },
      "execution_count": 20,
      "outputs": [
        {
          "output_type": "execute_result",
          "data": {
            "text/plain": [
              "<matplotlib.collections.PathCollection at 0x7ff130597fd0>"
            ]
          },
          "metadata": {},
          "execution_count": 20
        },
        {
          "output_type": "display_data",
          "data": {
            "text/plain": [
              "<Figure size 640x480 with 1 Axes>"
            ],
            "image/png": "[encoded data removed]"
          },
          "metadata": {}
        }
      ]
    },
    {
      "cell_type": "markdown",
      "source": [
        "## Split data into training/test set\n",
        "\n",
        "One of the other most common and important steps in a machine learning project is creating a training and test set (and when required, a validation set).\n",
        "\n",
        "Each set serves a specific purpose:\n",
        "* **Training set** - the model learns from this data, which is typically 70-80% of the total data available (like the course materials you study during the semester).\n",
        "* **Validation set** - the model gets tuned on this data, which is typically 10-15% of the total data available (like the practice exam you take before the final exam).\n",
        "* **Test set** - the model gets evaluated on this data to test what it has learned, it's typically 10-15% of the total data available (like the final exam you take at the end of the semester).\n",
        "\n",
        "For now, we'll just use a training and test set, this means we'll have a dataset for our model to learn on as well as be evaluated on.\n",
        "\n",
        "We can create them by splitting our `X` and `y` arrays.\n",
        "\n",
        "> 🔑 **Note:** When dealing with real-world data, this step is typically done right at the start of a project (the test set should always be kept separate from all other data). We want our model to learn on training data and then evaluate it on test data to get an indication of how well it **generalizes** to unseen examples."
      ],
      "metadata": {
        "id": "0VKVKhdb1ZgY"
      }
    },
    {
      "cell_type": "code",
      "source": [
        "# Check how many samples we have\n",
        "len(X)"
      ],
      "metadata": {
        "colab": {
          "base_uri": "https://localhost:8080/"
        },
        "id": "qOPdfXvN2DR4",
        "outputId": "71febc21-9ca0-42c8-8e44-5dba6929a69e"
      },
      "execution_count": 21,
      "outputs": [
        {
          "output_type": "execute_result",
          "data": {
            "text/plain": [
              "50"
            ]
          },
          "metadata": {},
          "execution_count": 21
        }
      ]
    },
    {
      "cell_type": "code",
      "source": [
        "# Split the data into train and test sets\n",
        "X_train = X[:40] # first 40 are trainingsamples (80% of the data)\n",
        "y_train = y[:40]\n",
        "\n",
        "X_test = X[40:] # Last 10 are testing samples (20% of the data)\n",
        "y_test = y[40:]\n",
        "\n",
        "len(X_train), len(X_test), len(y_train), len(y_test)"
      ],
      "metadata": {
        "colab": {
          "base_uri": "https://localhost:8080/"
        },
        "id": "YyvuHeS32o1Y",
        "outputId": "25944465-48ec-46c9-a08b-50288b03419b"
      },
      "execution_count": 22,
      "outputs": [
        {
          "output_type": "execute_result",
          "data": {
            "text/plain": [
              "(40, 10, 40, 10)"
            ]
          },
          "metadata": {},
          "execution_count": 22
        }
      ]
    },
    {
      "cell_type": "markdown",
      "source": [
        "## Visualizing the data\n",
        "\n",
        "Now we've got our training and test data, it's a good idea to visualize it.\n",
        "\n",
        "Let's plot it with some nice colours to differentiate what's what."
      ],
      "metadata": {
        "id": "w5WtOLjp3eVx"
      }
    },
    {
      "cell_type": "code",
      "source": [
        "plt.figure(figsize=(6, 4))\n",
        "# Plot training data in blue\n",
        "plt.scatter(X_train, y_train, c=\"b\", label=\"Training data\")\n",
        "# Plot testing data in red\n",
        "plt.scatter(X_test, y_test, c=\"r\", label=\"Testing data\")\n",
        "plt.legend();"
      ],
      "metadata": {
        "colab": {
          "base_uri": "https://localhost:8080/",
          "height": 368
        },
        "id": "xCV5K_8y3vEf",
        "outputId": "75656144-a6e4-4d2f-b89b-9e86b5818aca"
      },
      "execution_count": 23,
      "outputs": [
        {
          "output_type": "display_data",
          "data": {
            "text/plain": [
              "<Figure size 600x400 with 1 Axes>"
            ],
            "image/png": "[encoded data removed]"
          },
          "metadata": {}
        }
      ]
    },
    {
      "cell_type": "markdown",
      "source": [
        "Beautiful! Any time you can visualize your data, your model, your anything, it's a good idea. \n",
        "\n",
        "With this graph in mind, what we'll be trying to do is build a model which learns the pattern in the blue dots (`X_train`) to draw the green dots (`X_test`).\n",
        "\n",
        "Time to build a model. We'll make the exact same one from before (the one we trained for longer)."
      ],
      "metadata": {
        "id": "26VxvK114KyW"
      }
    },
    {
      "cell_type": "code",
      "source": [
        "# Let's have a look at how to build a neural network for our data\n",
        "\n",
        "# 1. Create a model\n",
        "model = tf.keras.Sequential([\n",
        "    tf.keras.layers.Dense(1)\n",
        "])\n",
        "\n",
        "# 2. Compile the model\n",
        "model.compile(loss=tf.keras.losses.mae,\n",
        "              optimizer=tf.keras.optimizers.SGD(),\n",
        "              metrics=[\"mae\"])\n",
        "\n",
        "# # 3. Fit the model\n",
        "# model.fit(X_train, y_train, epochs=100)"
      ],
      "metadata": {
        "id": "SsfV-dy242xL"
      },
      "execution_count": 24,
      "outputs": []
    },
    {
      "cell_type": "markdown",
      "source": [
        "## Visualizing the model\n",
        "\n",
        "After you've built a model, you might want to take a look at it (especially if you haven't built many before).\n",
        "\n",
        "You can take a look at the layers and shapes of your model by calling [`summary()`](https://www.tensorflow.org/api_docs/python/tf/keras/Model#summary) on it.\n",
        "\n",
        "> 🔑 **Note:** Visualizing a model is particularly helpful when you run into input and output shape mismatches."
      ],
      "metadata": {
        "id": "glP3zHE05vdp"
      }
    },
    {
      "cell_type": "code",
      "source": [
        "model.summary()"
      ],
      "metadata": {
        "colab": {
          "base_uri": "https://localhost:8080/",
          "height": 317
        },
        "id": "nfAt-cdR53HZ",
        "outputId": "419ee59f-60c7-4554-a49a-44eea6eb58c8"
      },
      "execution_count": 26,
      "outputs": [
        {
          "output_type": "error",
          "ename": "ValueError",
          "evalue": "ignored",
          "traceback": [
            "\u001b[0;31m---------------------------------------------------------------------------\u001b[0m",
            "\u001b[0;31mValueError\u001b[0m                                Traceback (most recent call last)",
            "\u001b[0;32m<ipython-input-26-5f15418b3570>\u001b[0m in \u001b[0;36m<cell line: 1>\u001b[0;34m()\u001b[0m\n\u001b[0;32m----> 1\u001b[0;31m \u001b[0mmodel\u001b[0m\u001b[0;34m.\u001b[0m\u001b[0msummary\u001b[0m\u001b[0;34m(\u001b[0m\u001b[0;34m)\u001b[0m\u001b[0;34m\u001b[0m\u001b[0;34m\u001b[0m\u001b[0m\n\u001b[0m",
            "\u001b[0;32m/usr/local/lib/python3.10/dist-packages/keras/engine/training.py\u001b[0m in \u001b[0;36msummary\u001b[0;34m(self, line_length, positions, print_fn, expand_nested, show_trainable, layer_range)\u001b[0m\n\u001b[1;32m   3227\u001b[0m         \"\"\"\n\u001b[1;32m   3228\u001b[0m         \u001b[0;32mif\u001b[0m \u001b[0;32mnot\u001b[0m \u001b[0mself\u001b[0m\u001b[0;34m.\u001b[0m\u001b[0mbuilt\u001b[0m\u001b[0;34m:\u001b[0m\u001b[0;34m\u001b[0m\u001b[0;34m\u001b[0m\u001b[0m\n\u001b[0;32m-> 3229\u001b[0;31m             raise ValueError(\n\u001b[0m\u001b[1;32m   3230\u001b[0m                 \u001b[0;34m\"This model has not yet been built. \"\u001b[0m\u001b[0;34m\u001b[0m\u001b[0;34m\u001b[0m\u001b[0m\n\u001b[1;32m   3231\u001b[0m                 \u001b[0;34m\"Build the model first by calling `build()` or by calling \"\u001b[0m\u001b[0;34m\u001b[0m\u001b[0;34m\u001b[0m\u001b[0m\n",
            "\u001b[0;31mValueError\u001b[0m: This model has not yet been built. Build the model first by calling `build()` or by calling the model on a batch of data."
          ]
        }
      ]
    },
    {
      "cell_type": "markdown",
      "source": [
        "Ahh, the cell above errors because we haven't fit our built our model.\n",
        "\n",
        "We also haven't told it what input shape it should be expecting.\n",
        "\n",
        "Remember above, how we discussed the input shape was just one number?\n",
        "\n",
        "We can let our model know the input shape of our data using the `input_shape` parameter to the first layer (usually if `input_shape` isn't defined, Keras tries to figure it out automatically)."
      ],
      "metadata": {
        "id": "UZvJDFQs55aA"
      }
    },
    {
      "cell_type": "code",
      "source": [
        "# Let's create a model which builds automatically by defining the input shape atgument\n",
        "tf.random.set_seed(42)\n",
        "\n",
        "# 1. Create a model (same as above)\n",
        "model = tf.keras.Sequential([\n",
        "    tf.keras.layers.Dense(10, input_shape=[1], name=\"input_layer\"),\n",
        "    tf.keras.layers.Dense(1, name=\"output_layer\")\n",
        "], name=\"model_1\")\n",
        "\n",
        "# 2. Compile the model\n",
        "model.compile(loss=tf.keras.losses.mae,\n",
        "             optimizer=tf.keras.optimizers.SGD(),\n",
        "             metrics=[\"mae\"])"
      ],
      "metadata": {
        "id": "hyvaaqsJ6SP4"
      },
      "execution_count": 27,
      "outputs": []
    },
    {
      "cell_type": "code",
      "source": [
        "model.summary()"
      ],
      "metadata": {
        "colab": {
          "base_uri": "https://localhost:8080/"
        },
        "id": "4PaKSnll7E-h",
        "outputId": "dde8c78e-fc73-49d3-db1f-c918554d1ee8"
      },
      "execution_count": 28,
      "outputs": [
        {
          "output_type": "stream",
          "name": "stdout",
          "text": [
            "Model: \"model_1\"\n",
            "_________________________________________________________________\n",
            " Layer (type)                Output Shape              Param #   \n",
            "=================================================================\n",
            " input_layer (Dense)         (None, 10)                20        \n",
            "                                                                 \n",
            " output_layer (Dense)        (None, 1)                 11        \n",
            "                                                                 \n",
            "=================================================================\n",
            "Total params: 31\n",
            "Trainable params: 31\n",
            "Non-trainable params: 0\n",
            "_________________________________________________________________\n"
          ]
        }
      ]
    },
    {
      "cell_type": "markdown",
      "source": [
        "Calling `summary()` on our model shows us the layers it contains, the output shape and the number of parameters.\n",
        "* **Total params** - total number of parameters in the model.\n",
        "* **Trainable parameters** - these are the parameters (patterns) the model can update as it trains.\n",
        "* **Non-trainable parameters** - these parameters aren't updated during training (this is typical when you bring in the already learned patterns from other models during transfer learning).\n",
        "\n",
        "> 📖 **Resource:** For a more in-depth overview of the trainable parameters within a layer, check out [MIT's introduction to deep learning video](https://youtu.be/njKP3FqW3Sk).\n",
        "\n",
        "> 🛠 **Exercise:** Try playing around with the number of hidden units in the `Dense` layer (e.g. `Dense(2)`, `Dense(3)`). How does this change the Total/Trainable params? Investigate what's causing the change.\n",
        "\n",
        "For now, all you need to think about these parameters is that their learnable patterns in the data.\n",
        "\n",
        "Let's fit our model to the training data."
      ],
      "metadata": {
        "id": "4QIPodii7IVQ"
      }
    },
    {
      "cell_type": "code",
      "source": [
        "# Let's fit the model to the training data\n",
        "\n",
        "# 3. Fit the model\n",
        "model.fit(X_train, y_train, epochs=100, verbose=0)"
      ],
      "metadata": {
        "colab": {
          "base_uri": "https://localhost:8080/"
        },
        "id": "WtfCsnQI7hA6",
        "outputId": "e8e23a39-b80b-4806-f4ef-610babcde2a8"
      },
      "execution_count": 29,
      "outputs": [
        {
          "output_type": "execute_result",
          "data": {
            "text/plain": [
              "<keras.callbacks.History at 0x7ff1303e0520>"
            ]
          },
          "metadata": {},
          "execution_count": 29
        }
      ]
    },
    {
      "cell_type": "code",
      "source": [
        "# Get a summary of our model\n",
        "model.summary()"
      ],
      "metadata": {
        "colab": {
          "base_uri": "https://localhost:8080/"
        },
        "id": "ePU-ZS5d-eMK",
        "outputId": "a3334694-2dbf-4d49-ab25-363c16525d26"
      },
      "execution_count": 30,
      "outputs": [
        {
          "output_type": "stream",
          "name": "stdout",
          "text": [
            "Model: \"model_1\"\n",
            "_________________________________________________________________\n",
            " Layer (type)                Output Shape              Param #   \n",
            "=================================================================\n",
            " input_layer (Dense)         (None, 10)                20        \n",
            "                                                                 \n",
            " output_layer (Dense)        (None, 1)                 11        \n",
            "                                                                 \n",
            "=================================================================\n",
            "Total params: 31\n",
            "Trainable params: 31\n",
            "Non-trainable params: 0\n",
            "_________________________________________________________________\n"
          ]
        }
      ]
    },
    {
      "cell_type": "code",
      "source": [
        "from tensorflow.keras.utils import plot_model\n",
        "\n",
        "plot_model(model=model, show_shapes=True)"
      ],
      "metadata": {
        "colab": {
          "base_uri": "https://localhost:8080/",
          "height": 312
        },
        "id": "4TA0YG2j_Ay5",
        "outputId": "20f358d9-4d17-4fa5-b6f0-cd6924e6479e"
      },
      "execution_count": 31,
      "outputs": [
        {
          "output_type": "execute_result",
          "data": {
            "image/png": "[encoded data removed]",
            "text/plain": [
              "<IPython.core.display.Image object>"
            ]
          },
          "metadata": {},
          "execution_count": 31
        }
      ]
    },
    {
      "cell_type": "markdown",
      "source": [
        "## Visualizing the predictions\n",
        "\n",
        "Now we've got a trained model, let's visualize some predictions.\n",
        "\n",
        "To visualize predictions, it's always a good idea to plot them against the ground truth labels.\n",
        "\n",
        "Often you'll see this in the form of `y_test` vs. `y_pred` (ground truth vs. predictions).\n",
        "\n",
        "First, we'll make some predictions on the test data (`X_test`), remember the model has never seen the test data."
      ],
      "metadata": {
        "id": "bmAUulQH_dgn"
      }
    },
    {
      "cell_type": "code",
      "source": [
        "# Make some predictions \n",
        "y_pred = model.predict(X_test)\n",
        "y_pred"
      ],
      "metadata": {
        "id": "5aIfvVpNBOqA",
        "colab": {
          "base_uri": "https://localhost:8080/"
        },
        "outputId": "0862f607-9d9d-47b0-9f5a-90eb9006cfe9"
      },
      "execution_count": 32,
      "outputs": [
        {
          "output_type": "stream",
          "name": "stdout",
          "text": [
            "1/1 [==============================] - 0s 67ms/step\n"
          ]
        },
        {
          "output_type": "execute_result",
          "data": {
            "text/plain": [
              "array([[ 70.55078 ],\n",
              "       [ 75.138596],\n",
              "       [ 79.72641 ],\n",
              "       [ 84.314224],\n",
              "       [ 88.90204 ],\n",
              "       [ 93.489845],\n",
              "       [ 98.07766 ],\n",
              "       [102.66548 ],\n",
              "       [107.25329 ],\n",
              "       [111.841095]], dtype=float32)"
            ]
          },
          "metadata": {},
          "execution_count": 32
        }
      ]
    },
    {
      "cell_type": "code",
      "source": [
        "y_test"
      ],
      "metadata": {
        "colab": {
          "base_uri": "https://localhost:8080/"
        },
        "id": "dbM9r2KT45m9",
        "outputId": "4055faff-dfca-4c5f-aff4-d7a64d9af98d"
      },
      "execution_count": 33,
      "outputs": [
        {
          "output_type": "execute_result",
          "data": {
            "text/plain": [
              "<tf.Tensor: shape=(10,), dtype=int32, numpy=array([ 70,  74,  78,  82,  86,  90,  94,  98, 102, 106], dtype=int32)>"
            ]
          },
          "metadata": {},
          "execution_count": 33
        }
      ]
    },
    {
      "cell_type": "markdown",
      "source": [
        "**Note:** If you feel like you're going to reuse some kind of functionality in the future, it's a good idea to turn into a function."
      ],
      "metadata": {
        "id": "CruRFFbC5Z2V"
      }
    },
    {
      "cell_type": "code",
      "source": [
        "# Let's create a plotting function\n",
        "def plot_predictions(train_data=X_train, \n",
        "                     train_labels=y_train,\n",
        "                     test_data=X_test,\n",
        "                     test_labels=y_test,\n",
        "                     predictions=y_pred):\n",
        "  \"\"\"\n",
        "  Plots training data, test data and compares predictions to ground truth.\n",
        "  \"\"\"\n",
        "  plt.figure(figsize=(10, 7))\n",
        "  # Plot trainingdata in blue\n",
        "  plt.scatter(train_data, train_labels, c=\"b\", label=\"Training data\")\n",
        "  # Plot testing data in green\n",
        "  plt.scatter(test_data, test_labels, c=\"g\", label=\"Testing data\")\n",
        "  # Plot models predictions in red\n",
        "  plt.scatter(test_data, predictions, c=\"r\", label=\"Predictions\")\n",
        "  # Show the legend\n",
        "  plt.legend();"
      ],
      "metadata": {
        "id": "sWgskbY-5N8F"
      },
      "execution_count": 34,
      "outputs": []
    },
    {
      "cell_type": "code",
      "source": [
        "plot_predictions(train_data=X_train,\n",
        "                 train_labels=y_train,\n",
        "                 test_data=X_test,\n",
        "                 test_labels=y_test,\n",
        "                 predictions=y_pred)"
      ],
      "metadata": {
        "colab": {
          "base_uri": "https://localhost:8080/",
          "height": 599
        },
        "id": "FRsQL2c26-j3",
        "outputId": "ef8b3d8a-3bef-441e-87b3-3d8df50cfa0d"
      },
      "execution_count": 35,
      "outputs": [
        {
          "output_type": "display_data",
          "data": {
            "text/plain": [
              "<Figure size 1000x700 with 1 Axes>"
            ],
            "image/png": "[encoded data removed]"
          },
          "metadata": {}
        }
      ]
    },
    {
      "cell_type": "markdown",
      "source": [
        "## Evaluating predictions\n",
        "\n",
        "Alongisde visualizations, evaulation metrics are your alternative best option for evaluating your model.\n",
        "\n",
        "Depending on the problem you're working on, different models have different evaluation metrics. \n",
        "\n",
        "Two of the main metrics used for regression problems are:\n",
        "* **Mean absolute error (MAE)** - the mean difference between each of the predictions.\n",
        "* **Mean squared error (MSE)** - the squared mean difference between of the predictions (use if larger errors are more detrimental than smaller errors).\n",
        "\n",
        "The lower each of these values, the better.\n",
        "\n",
        "You can also use [`model.evaluate()`](https://www.tensorflow.org/api_docs/python/tf/keras/Model#evaluate) which will return the loss of the model as well as any metrics setup during the compile step."
      ],
      "metadata": {
        "id": "jYiw6U5Z7DD2"
      }
    },
    {
      "cell_type": "code",
      "source": [
        "# Evaluate the model pd the test\n",
        "model.evaluate(X_test, y_test)"
      ],
      "metadata": {
        "colab": {
          "base_uri": "https://localhost:8080/"
        },
        "id": "3CB3RAGO79dv",
        "outputId": "f422762f-19a4-4b26-d33e-6429c8720d8e"
      },
      "execution_count": 36,
      "outputs": [
        {
          "output_type": "stream",
          "name": "stdout",
          "text": [
            "1/1 [==============================] - 0s 176ms/step - loss: 3.1959 - mae: 3.1959\n"
          ]
        },
        {
          "output_type": "execute_result",
          "data": {
            "text/plain": [
              "[3.195941925048828, 3.195941925048828]"
            ]
          },
          "metadata": {},
          "execution_count": 36
        }
      ]
    },
    {
      "cell_type": "code",
      "source": [
        "y_pred"
      ],
      "metadata": {
        "colab": {
          "base_uri": "https://localhost:8080/"
        },
        "id": "0ju3nTtD9o7H",
        "outputId": "6ccbde4c-bb8e-4cb2-ecec-7559baa00616"
      },
      "execution_count": 37,
      "outputs": [
        {
          "output_type": "execute_result",
          "data": {
            "text/plain": [
              "array([[ 70.55078 ],\n",
              "       [ 75.138596],\n",
              "       [ 79.72641 ],\n",
              "       [ 84.314224],\n",
              "       [ 88.90204 ],\n",
              "       [ 93.489845],\n",
              "       [ 98.07766 ],\n",
              "       [102.66548 ],\n",
              "       [107.25329 ],\n",
              "       [111.841095]], dtype=float32)"
            ]
          },
          "metadata": {},
          "execution_count": 37
        }
      ]
    },
    {
      "cell_type": "code",
      "source": [
        "y_test"
      ],
      "metadata": {
        "colab": {
          "base_uri": "https://localhost:8080/"
        },
        "id": "RchvS0Rf93A2",
        "outputId": "83be8c62-d21d-48d5-f13f-94163e956ba8"
      },
      "execution_count": 38,
      "outputs": [
        {
          "output_type": "execute_result",
          "data": {
            "text/plain": [
              "<tf.Tensor: shape=(10,), dtype=int32, numpy=array([ 70,  74,  78,  82,  86,  90,  94,  98, 102, 106], dtype=int32)>"
            ]
          },
          "metadata": {},
          "execution_count": 38
        }
      ]
    },
    {
      "cell_type": "code",
      "source": [
        "# Calculate the mean absolute error\n",
        "mae = tf.metrics.mean_absolute_error(y_true=y_test,\n",
        "                                     y_pred=tf.constant(y_pred)) \n",
        "mae"
      ],
      "metadata": {
        "colab": {
          "base_uri": "https://localhost:8080/"
        },
        "id": "ZF-T7Wvs94fe",
        "outputId": "ece55bd1-23a9-44b5-e2a4-09a6e4abe457"
      },
      "execution_count": 39,
      "outputs": [
        {
          "output_type": "execute_result",
          "data": {
            "text/plain": [
              "<tf.Tensor: shape=(10,), dtype=float32, numpy=\n",
              "array([17.559376, 14.116842, 11.709436, 10.337155, 10.      , 10.697969,\n",
              "       12.446596, 15.332385, 19.253288, 23.841095], dtype=float32)>"
            ]
          },
          "metadata": {},
          "execution_count": 39
        }
      ]
    },
    {
      "cell_type": "code",
      "source": [
        "tf.constant(y_pred)"
      ],
      "metadata": {
        "colab": {
          "base_uri": "https://localhost:8080/"
        },
        "id": "QoydYbAv-fhm",
        "outputId": "e42eac94-c8d5-4d00-af98-47800d151c4b"
      },
      "execution_count": 40,
      "outputs": [
        {
          "output_type": "execute_result",
          "data": {
            "text/plain": [
              "<tf.Tensor: shape=(10, 1), dtype=float32, numpy=\n",
              "array([[ 70.55078 ],\n",
              "       [ 75.138596],\n",
              "       [ 79.72641 ],\n",
              "       [ 84.314224],\n",
              "       [ 88.90204 ],\n",
              "       [ 93.489845],\n",
              "       [ 98.07766 ],\n",
              "       [102.66548 ],\n",
              "       [107.25329 ],\n",
              "       [111.841095]], dtype=float32)>"
            ]
          },
          "metadata": {},
          "execution_count": 40
        }
      ]
    },
    {
      "cell_type": "markdown",
      "source": [
        "Remember how we discussed dealing with different input and output shapes is one the most common issues you'll come across, this is one of those times.\n",
        "\n",
        "But not to worry.\n",
        "\n",
        "We can fix it using [`squeeze()`](https://www.tensorflow.org/api_docs/python/tf/squeeze), it'll remove the the `1` dimension from our `y_preds` tensor, making it the same shape as `y_test`.\n",
        "\n",
        "> 🔑 **Note:** If you're comparing two tensors, it's important to make sure they're the right shape(s) (you won't always have to manipulate the shapes, but always be on the look out, *many* errors are the result of mismatched tensors, especially mismatched input and output shapes)."
      ],
      "metadata": {
        "id": "wo73a1Lz__-_"
      }
    },
    {
      "cell_type": "code",
      "source": [
        "tf.squeeze(y_pred)"
      ],
      "metadata": {
        "colab": {
          "base_uri": "https://localhost:8080/"
        },
        "id": "NsSbBi3y-nSn",
        "outputId": "0428aa12-132f-4fe2-cbe5-56a75e08aa09"
      },
      "execution_count": 41,
      "outputs": [
        {
          "output_type": "execute_result",
          "data": {
            "text/plain": [
              "<tf.Tensor: shape=(10,), dtype=float32, numpy=\n",
              "array([ 70.55078 ,  75.138596,  79.72641 ,  84.314224,  88.90204 ,\n",
              "        93.489845,  98.07766 , 102.66548 , 107.25329 , 111.841095],\n",
              "      dtype=float32)>"
            ]
          },
          "metadata": {},
          "execution_count": 41
        }
      ]
    },
    {
      "cell_type": "code",
      "source": [
        "# Calculate the mean absolute error \n",
        "mae = tf.metrics.mean_absolute_error(y_true=y_test,\n",
        "                                     y_pred=tf.squeeze(y_pred))\n",
        "mae"
      ],
      "metadata": {
        "colab": {
          "base_uri": "https://localhost:8080/"
        },
        "id": "HaypMSZi_CH1",
        "outputId": "2e9d6597-8d36-42ca-90e9-cba034ad2442"
      },
      "execution_count": 42,
      "outputs": [
        {
          "output_type": "execute_result",
          "data": {
            "text/plain": [
              "<tf.Tensor: shape=(), dtype=float32, numpy=3.195942>"
            ]
          },
          "metadata": {},
          "execution_count": 42
        }
      ]
    },
    {
      "cell_type": "code",
      "source": [
        "# Calculate the MSE\n",
        "mse = tf.metrics.mean_squared_error(y_true=y_test,\n",
        "                                    y_pred=tf.squeeze(y_pred))\n",
        "mse"
      ],
      "metadata": {
        "colab": {
          "base_uri": "https://localhost:8080/"
        },
        "id": "ywSW78or_2K3",
        "outputId": "29834177-a144-4134-eda7-5752bcd7a8f5"
      },
      "execution_count": 43,
      "outputs": [
        {
          "output_type": "execute_result",
          "data": {
            "text/plain": [
              "<tf.Tensor: shape=(), dtype=float32, numpy=13.064619>"
            ]
          },
          "metadata": {},
          "execution_count": 43
        }
      ]
    },
    {
      "cell_type": "code",
      "source": [
        "# Make some functions to use MAE and MSE\n",
        "def mae(y_true, y_pred):\n",
        "  \"\"\"\n",
        "  calculate the MAE of y_true and y_pred.\n",
        "  \"\"\"\n",
        "  return tf.metrics.mean_absolute_error(y_true=y_true, \n",
        "                                        y_pred=tf.squeeze(y_pred))\n",
        "\n",
        "def mse(y_true, y_pred):\n",
        "  \"\"\"\n",
        "  calculate the MSE of y_true and y_pred.\n",
        "  \"\"\"\n",
        "  return tf.metrics.mean_squared_error(y_true=y_true, \n",
        "                                       y_pred=tf.squeeze(y_pred))"
      ],
      "metadata": {
        "id": "G0_v0YivASB_"
      },
      "execution_count": 44,
      "outputs": []
    },
    {
      "cell_type": "code",
      "source": [
        "mae(y_test, y_pred).numpy(), mse(y_test, y_pred).numpy()"
      ],
      "metadata": {
        "colab": {
          "base_uri": "https://localhost:8080/"
        },
        "id": "zKlr7nJHBhoQ",
        "outputId": "b25a1ad2-f79a-4258-9c48-0638fb627196"
      },
      "execution_count": 45,
      "outputs": [
        {
          "output_type": "execute_result",
          "data": {
            "text/plain": [
              "(3.195942, 13.064619)"
            ]
          },
          "metadata": {},
          "execution_count": 45
        }
      ]
    },
    {
      "cell_type": "markdown",
      "source": [
        "## Running experiments to improve a model\n",
        "\n",
        "After seeing the evaluation metrics and the predictions your model makes, it's likely you'll want to improve it.\n",
        "\n",
        "Again, there are many different ways you can do this, but 3 of the main ones are:\n",
        "1. **Get more data** - get more examples for your model to train on (more opportunities to learn patterns).\n",
        "2. **Make your model larger (use a more complex model)** - this might come in the form of more layers or more hidden units in each layer.\n",
        "3. **Train for longer** - give your model more of a chance to find the patterns in the data.\n",
        "\n",
        "Since we created our dataset, we could easily make more data but this isn't always the case when you're working with real-world datasets.\n",
        "\n",
        "So let's take a look at how we can improve our model using 2 and 3.\n",
        "\n",
        "To do so, we'll build 3 models and compare their results:\n",
        "1. `model_1` - same as original model, 1 layer, trained for 100 epochs.\n",
        "2. `model_2` - 2 layers, trained for 100 epochs.\n",
        "3. `model_3` - 2 layers, trained for 500 epochs.\n",
        "\n",
        "**Build `model_1`**"
      ],
      "metadata": {
        "id": "tbm92QobB01_"
      }
    },
    {
      "cell_type": "code",
      "source": [
        "X_train.shape, y_train.shape"
      ],
      "metadata": {
        "colab": {
          "base_uri": "https://localhost:8080/"
        },
        "id": "tN3gVByLJ1bV",
        "outputId": "a030b3ed-e2f3-420e-870b-bcb2d2ff40d8"
      },
      "execution_count": 46,
      "outputs": [
        {
          "output_type": "execute_result",
          "data": {
            "text/plain": [
              "(TensorShape([40]), TensorShape([40]))"
            ]
          },
          "metadata": {},
          "execution_count": 46
        }
      ]
    },
    {
      "cell_type": "code",
      "source": [
        "X_train.ndim, y_train.ndim"
      ],
      "metadata": {
        "colab": {
          "base_uri": "https://localhost:8080/"
        },
        "id": "SxavOpexJ0so",
        "outputId": "9f73738b-6b77-4bba-9a7f-51a5e5ce0800"
      },
      "execution_count": 47,
      "outputs": [
        {
          "output_type": "execute_result",
          "data": {
            "text/plain": [
              "(1, 1)"
            ]
          },
          "metadata": {},
          "execution_count": 47
        }
      ]
    },
    {
      "cell_type": "code",
      "source": [
        "# Set random seed\n",
        "tf.random.set_seed(42)\n",
        "\n",
        "# 1. Create the model\n",
        "model_1 = tf.keras.Sequential([\n",
        "    tf.keras.layers.Dense(1)\n",
        "])\n",
        "\n",
        "# 2. Compile the model\n",
        "model_1.compile(loss=tf.keras.losses.mae,\n",
        "                optimizer=tf.keras.optimizers.SGD(),\n",
        "                metrics=[\"mae\"])\n",
        "\n",
        "# 3. Fit the model_1\n",
        "model_1.fit(tf.expand_dims(X_train, axis=-1), y_train, epochs=100)"
      ],
      "metadata": {
        "colab": {
          "base_uri": "https://localhost:8080/"
        },
        "id": "De4gwd4MEh9Z",
        "outputId": "871f932c-25c9-4e5b-c207-f26afb802d4f"
      },
      "execution_count": 48,
      "outputs": [
        {
          "output_type": "stream",
          "name": "stdout",
          "text": [
            "Epoch 1/100\n",
            "2/2 [==============================] - 1s 15ms/step - loss: 8.5200 - mae: 8.5200\n",
            "Epoch 2/100\n",
            "2/2 [==============================] - 0s 7ms/step - loss: 10.3390 - mae: 10.3390\n",
            "Epoch 3/100\n",
            "2/2 [==============================] - 0s 9ms/step - loss: 10.7143 - mae: 10.7143\n",
            "Epoch 4/100\n",
            "2/2 [==============================] - 0s 7ms/step - loss: 9.5300 - mae: 9.5300\n",
            "Epoch 5/100\n",
            "2/2 [==============================] - 0s 8ms/step - loss: 10.4347 - mae: 10.4347\n",
            "Epoch 6/100\n",
            "2/2 [==============================] - 0s 7ms/step - loss: 9.6645 - mae: 9.6645\n",
            "Epoch 7/100\n",
            "2/2 [==============================] - 0s 7ms/step - loss: 8.7655 - mae: 8.7655\n",
            "Epoch 8/100\n",
            "2/2 [==============================] - 0s 9ms/step - loss: 9.0559 - mae: 9.0559\n",
            "Epoch 9/100\n",
            "2/2 [==============================] - 0s 7ms/step - loss: 19.2493 - mae: 19.2493\n",
            "Epoch 10/100\n",
            "2/2 [==============================] - 0s 7ms/step - loss: 10.3875 - mae: 10.3875\n",
            "Epoch 11/100\n",
            "2/2 [==============================] - 0s 11ms/step - loss: 8.5014 - mae: 8.5014\n",
            "Epoch 12/100\n",
            "2/2 [==============================] - 0s 7ms/step - loss: 10.8816 - mae: 10.8816\n",
            "Epoch 13/100\n",
            "2/2 [==============================] - 0s 7ms/step - loss: 9.9221 - mae: 9.9221\n",
            "Epoch 14/100\n",
            "2/2 [==============================] - 0s 7ms/step - loss: 9.4778 - mae: 9.4778\n",
            "Epoch 15/100\n",
            "2/2 [==============================] - 0s 7ms/step - loss: 13.7052 - mae: 13.7052\n",
            "Epoch 16/100\n",
            "2/2 [==============================] - 0s 7ms/step - loss: 8.9432 - mae: 8.9432\n",
            "Epoch 17/100\n",
            "2/2 [==============================] - 0s 7ms/step - loss: 12.8572 - mae: 12.8572\n",
            "Epoch 18/100\n",
            "2/2 [==============================] - 0s 7ms/step - loss: 10.4931 - mae: 10.4931\n",
            "Epoch 19/100\n",
            "2/2 [==============================] - 0s 7ms/step - loss: 19.2017 - mae: 19.2017\n",
            "Epoch 20/100\n",
            "2/2 [==============================] - 0s 7ms/step - loss: 15.8677 - mae: 15.8677\n",
            "Epoch 21/100\n",
            "2/2 [==============================] - 0s 7ms/step - loss: 11.7015 - mae: 11.7015\n",
            "Epoch 22/100\n",
            "2/2 [==============================] - 0s 7ms/step - loss: 8.9001 - mae: 8.9001\n",
            "Epoch 23/100\n",
            "2/2 [==============================] - 0s 7ms/step - loss: 10.0749 - mae: 10.0749\n",
            "Epoch 24/100\n",
            "2/2 [==============================] - 0s 9ms/step - loss: 15.5943 - mae: 15.5943\n",
            "Epoch 25/100\n",
            "2/2 [==============================] - 0s 11ms/step - loss: 12.0709 - mae: 12.0709\n",
            "Epoch 26/100\n",
            "2/2 [==============================] - 0s 10ms/step - loss: 13.1765 - mae: 13.1765\n",
            "Epoch 27/100\n",
            "2/2 [==============================] - 0s 8ms/step - loss: 10.6507 - mae: 10.6507\n",
            "Epoch 28/100\n",
            "2/2 [==============================] - 0s 9ms/step - loss: 12.8668 - mae: 12.8668\n",
            "Epoch 29/100\n",
            "2/2 [==============================] - 0s 10ms/step - loss: 9.5003 - mae: 9.5003\n",
            "Epoch 30/100\n",
            "2/2 [==============================] - 0s 13ms/step - loss: 16.3856 - mae: 16.3856\n",
            "Epoch 31/100\n",
            "2/2 [==============================] - 0s 11ms/step - loss: 23.5969 - mae: 23.5969\n",
            "Epoch 32/100\n",
            "2/2 [==============================] - 0s 7ms/step - loss: 7.6055 - mae: 7.6055\n",
            "Epoch 33/100\n",
            "2/2 [==============================] - 0s 7ms/step - loss: 9.3039 - mae: 9.3039\n",
            "Epoch 34/100\n",
            "2/2 [==============================] - 0s 8ms/step - loss: 13.6908 - mae: 13.6908\n",
            "Epoch 35/100\n",
            "2/2 [==============================] - 0s 7ms/step - loss: 11.1390 - mae: 11.1390\n",
            "Epoch 36/100\n",
            "2/2 [==============================] - 0s 8ms/step - loss: 13.3547 - mae: 13.3547\n",
            "Epoch 37/100\n",
            "2/2 [==============================] - 0s 7ms/step - loss: 9.4527 - mae: 9.4527\n",
            "Epoch 38/100\n",
            "2/2 [==============================] - 0s 7ms/step - loss: 10.1076 - mae: 10.1076\n",
            "Epoch 39/100\n",
            "2/2 [==============================] - 0s 9ms/step - loss: 10.1909 - mae: 10.1909\n",
            "Epoch 40/100\n",
            "2/2 [==============================] - 0s 8ms/step - loss: 10.9334 - mae: 10.9334\n",
            "Epoch 41/100\n",
            "2/2 [==============================] - 0s 7ms/step - loss: 7.9192 - mae: 7.9192\n",
            "Epoch 42/100\n",
            "2/2 [==============================] - 0s 10ms/step - loss: 10.0644 - mae: 10.0644\n",
            "Epoch 43/100\n",
            "2/2 [==============================] - 0s 8ms/step - loss: 8.6844 - mae: 8.6844\n",
            "Epoch 44/100\n",
            "2/2 [==============================] - 0s 11ms/step - loss: 12.1640 - mae: 12.1640\n",
            "Epoch 45/100\n",
            "2/2 [==============================] - 0s 7ms/step - loss: 13.8233 - mae: 13.8233\n",
            "Epoch 46/100\n",
            "2/2 [==============================] - 0s 7ms/step - loss: 8.4826 - mae: 8.4826\n",
            "Epoch 47/100\n",
            "2/2 [==============================] - 0s 8ms/step - loss: 9.1091 - mae: 9.1091\n",
            "Epoch 48/100\n",
            "2/2 [==============================] - 0s 7ms/step - loss: 10.5871 - mae: 10.5871\n",
            "Epoch 49/100\n",
            "2/2 [==============================] - 0s 7ms/step - loss: 7.7287 - mae: 7.7287\n",
            "Epoch 50/100\n",
            "2/2 [==============================] - 0s 7ms/step - loss: 9.5112 - mae: 9.5112\n",
            "Epoch 51/100\n",
            "2/2 [==============================] - 0s 7ms/step - loss: 9.1452 - mae: 9.1452\n",
            "Epoch 52/100\n",
            "2/2 [==============================] - 0s 8ms/step - loss: 16.3147 - mae: 16.3147\n",
            "Epoch 53/100\n",
            "2/2 [==============================] - 0s 8ms/step - loss: 14.1433 - mae: 14.1433\n",
            "Epoch 54/100\n",
            "2/2 [==============================] - 0s 9ms/step - loss: 21.1708 - mae: 21.1708\n",
            "Epoch 55/100\n",
            "2/2 [==============================] - 0s 7ms/step - loss: 16.3504 - mae: 16.3504\n",
            "Epoch 56/100\n",
            "2/2 [==============================] - 0s 9ms/step - loss: 10.0062 - mae: 10.0062\n",
            "Epoch 57/100\n",
            "2/2 [==============================] - 0s 9ms/step - loss: 9.9328 - mae: 9.9328\n",
            "Epoch 58/100\n",
            "2/2 [==============================] - 0s 8ms/step - loss: 9.1954 - mae: 9.1954\n",
            "Epoch 59/100\n",
            "2/2 [==============================] - 0s 7ms/step - loss: 8.3997 - mae: 8.3997\n",
            "Epoch 60/100\n",
            "2/2 [==============================] - 0s 9ms/step - loss: 9.4653 - mae: 9.4653\n",
            "Epoch 61/100\n",
            "2/2 [==============================] - 0s 9ms/step - loss: 11.3993 - mae: 11.3993\n",
            "Epoch 62/100\n",
            "2/2 [==============================] - 0s 7ms/step - loss: 11.7133 - mae: 11.7133\n",
            "Epoch 63/100\n",
            "2/2 [==============================] - 0s 7ms/step - loss: 7.0650 - mae: 7.0650\n",
            "Epoch 64/100\n",
            "2/2 [==============================] - 0s 7ms/step - loss: 16.9955 - mae: 16.9955\n",
            "Epoch 65/100\n",
            "2/2 [==============================] - 0s 7ms/step - loss: 12.4777 - mae: 12.4777\n",
            "Epoch 66/100\n",
            "2/2 [==============================] - 0s 7ms/step - loss: 13.0443 - mae: 13.0443\n",
            "Epoch 67/100\n",
            "2/2 [==============================] - 0s 7ms/step - loss: 8.0637 - mae: 8.0637\n",
            "Epoch 68/100\n",
            "2/2 [==============================] - 0s 7ms/step - loss: 10.2013 - mae: 10.2013\n",
            "Epoch 69/100\n",
            "2/2 [==============================] - 0s 9ms/step - loss: 12.3911 - mae: 12.3911\n",
            "Epoch 70/100\n",
            "2/2 [==============================] - 0s 8ms/step - loss: 9.0266 - mae: 9.0266\n",
            "Epoch 71/100\n",
            "2/2 [==============================] - 0s 8ms/step - loss: 10.0111 - mae: 10.0111\n",
            "Epoch 72/100\n",
            "2/2 [==============================] - 0s 8ms/step - loss: 10.0293 - mae: 10.0293\n",
            "Epoch 73/100\n",
            "2/2 [==============================] - 0s 8ms/step - loss: 12.5768 - mae: 12.5768\n",
            "Epoch 74/100\n",
            "2/2 [==============================] - 0s 7ms/step - loss: 10.4085 - mae: 10.4085\n",
            "Epoch 75/100\n",
            "2/2 [==============================] - 0s 8ms/step - loss: 9.6987 - mae: 9.6987\n",
            "Epoch 76/100\n",
            "2/2 [==============================] - 0s 7ms/step - loss: 11.1942 - mae: 11.1942\n",
            "Epoch 77/100\n",
            "2/2 [==============================] - 0s 7ms/step - loss: 8.3417 - mae: 8.3417\n",
            "Epoch 78/100\n",
            "2/2 [==============================] - 0s 11ms/step - loss: 9.0913 - mae: 9.0913\n",
            "Epoch 79/100\n",
            "2/2 [==============================] - 0s 7ms/step - loss: 19.5472 - mae: 19.5472\n",
            "Epoch 80/100\n",
            "2/2 [==============================] - 0s 8ms/step - loss: 14.8510 - mae: 14.8510\n",
            "Epoch 81/100\n",
            "2/2 [==============================] - 0s 8ms/step - loss: 9.0347 - mae: 9.0347\n",
            "Epoch 82/100\n",
            "2/2 [==============================] - 0s 7ms/step - loss: 12.9829 - mae: 12.9829\n",
            "Epoch 83/100\n",
            "2/2 [==============================] - 0s 8ms/step - loss: 7.9006 - mae: 7.9006\n",
            "Epoch 84/100\n",
            "2/2 [==============================] - 0s 9ms/step - loss: 7.6892 - mae: 7.6892\n",
            "Epoch 85/100\n",
            "2/2 [==============================] - 0s 6ms/step - loss: 10.0489 - mae: 10.0489\n",
            "Epoch 86/100\n",
            "2/2 [==============================] - 0s 7ms/step - loss: 9.4767 - mae: 9.4767\n",
            "Epoch 87/100\n",
            "2/2 [==============================] - 0s 7ms/step - loss: 11.4154 - mae: 11.4154\n",
            "Epoch 88/100\n",
            "2/2 [==============================] - 0s 7ms/step - loss: 9.9141 - mae: 9.9141\n",
            "Epoch 89/100\n",
            "2/2 [==============================] - 0s 7ms/step - loss: 7.2477 - mae: 7.2477\n",
            "Epoch 90/100\n",
            "2/2 [==============================] - 0s 7ms/step - loss: 12.6703 - mae: 12.6703\n",
            "Epoch 91/100\n",
            "2/2 [==============================] - 0s 7ms/step - loss: 7.3006 - mae: 7.3006\n",
            "Epoch 92/100\n",
            "2/2 [==============================] - 0s 7ms/step - loss: 7.6621 - mae: 7.6621\n",
            "Epoch 93/100\n",
            "2/2 [==============================] - 0s 9ms/step - loss: 7.1153 - mae: 7.1153\n",
            "Epoch 94/100\n",
            "2/2 [==============================] - 0s 7ms/step - loss: 12.5202 - mae: 12.5202\n",
            "Epoch 95/100\n",
            "2/2 [==============================] - 0s 9ms/step - loss: 9.8964 - mae: 9.8964\n",
            "Epoch 96/100\n",
            "2/2 [==============================] - 0s 7ms/step - loss: 9.1465 - mae: 9.1465\n",
            "Epoch 97/100\n",
            "2/2 [==============================] - 0s 7ms/step - loss: 12.1063 - mae: 12.1063\n",
            "Epoch 98/100\n",
            "2/2 [==============================] - 0s 7ms/step - loss: 9.0427 - mae: 9.0427\n",
            "Epoch 99/100\n",
            "2/2 [==============================] - 0s 7ms/step - loss: 8.5007 - mae: 8.5007\n",
            "Epoch 100/100\n",
            "2/2 [==============================] - 0s 8ms/step - loss: 14.4902 - mae: 14.4902\n"
          ]
        },
        {
          "output_type": "execute_result",
          "data": {
            "text/plain": [
              "<keras.callbacks.History at 0x7ff130ffa1a0>"
            ]
          },
          "metadata": {},
          "execution_count": 48
        }
      ]
    },
    {
      "cell_type": "code",
      "source": [
        "# Make and plot predictions for model 1\n",
        "y_preds_1 = model_1.predict(X_test)\n",
        "plot_predictions(predictions=y_preds_1)"
      ],
      "metadata": {
        "colab": {
          "base_uri": "https://localhost:8080/",
          "height": 656
        },
        "id": "Oy1-1JRNIA4k",
        "outputId": "77f1b277-89b7-4236-ca14-62a4cd77a2cf"
      },
      "execution_count": 49,
      "outputs": [
        {
          "output_type": "stream",
          "name": "stderr",
          "text": [
            "WARNING:tensorflow:5 out of the last 5 calls to <function Model.make_predict_function.<locals>.predict_function at 0x7ff130fbcb80> triggered tf.function retracing. Tracing is expensive and the excessive number of tracings could be due to (1) creating @tf.function repeatedly in a loop, (2) passing tensors with different shapes, (3) passing Python objects instead of tensors. For (1), please define your @tf.function outside of the loop. For (2), @tf.function has reduce_retracing=True option that can avoid unnecessary retracing. For (3), please refer to https://www.tensorflow.org/guide/function#controlling_retracing and https://www.tensorflow.org/api_docs/python/tf/function for  more details.\n"
          ]
        },
        {
          "output_type": "stream",
          "name": "stdout",
          "text": [
            "1/1 [==============================] - 0s 42ms/step\n"
          ]
        },
        {
          "output_type": "display_data",
          "data": {
            "text/plain": [
              "<Figure size 1000x700 with 1 Axes>"
            ],
            "image/png": "[encoded data removed]"
          },
          "metadata": {}
        }
      ]
    },
    {
      "cell_type": "code",
      "source": [
        "tf.constant(y_preds_1), tf.squeeze(y_preds_1)"
      ],
      "metadata": {
        "colab": {
          "base_uri": "https://localhost:8080/"
        },
        "id": "4nn31P5oLavo",
        "outputId": "aaff7abd-d7da-41a1-a4b1-b17f26692bab"
      },
      "execution_count": 50,
      "outputs": [
        {
          "output_type": "execute_result",
          "data": {
            "text/plain": [
              "(<tf.Tensor: shape=(10, 1), dtype=float32, numpy=\n",
              " array([[44.51664 ],\n",
              "        [47.397583],\n",
              "        [50.278526],\n",
              "        [53.15947 ],\n",
              "        [56.040413],\n",
              "        [58.921356],\n",
              "        [61.802296],\n",
              "        [64.68324 ],\n",
              "        [67.564186],\n",
              "        [70.44512 ]], dtype=float32)>,\n",
              " <tf.Tensor: shape=(10,), dtype=float32, numpy=\n",
              " array([44.51664 , 47.397583, 50.278526, 53.15947 , 56.040413, 58.921356,\n",
              "        61.802296, 64.68324 , 67.564186, 70.44512 ], dtype=float32)>)"
            ]
          },
          "metadata": {},
          "execution_count": 50
        }
      ]
    },
    {
      "cell_type": "code",
      "source": [
        "# Calculate model_1 evaluation metrics\n",
        "mae_1 = mae(y_test, y_preds_1)\n",
        "mse_1 = mse(y_test, y_preds_1)\n",
        "mae_1, mse_1"
      ],
      "metadata": {
        "colab": {
          "base_uri": "https://localhost:8080/"
        },
        "id": "9MeZPmOcKwMj",
        "outputId": "b4057e65-c916-4939-b02a-abef21fdc4be"
      },
      "execution_count": 51,
      "outputs": [
        {
          "output_type": "execute_result",
          "data": {
            "text/plain": [
              "(<tf.Tensor: shape=(), dtype=float32, numpy=30.519115>,\n",
              " <tf.Tensor: shape=(), dtype=float32, numpy=941.74786>)"
            ]
          },
          "metadata": {},
          "execution_count": 51
        }
      ]
    },
    {
      "cell_type": "markdown",
      "source": [
        "**Build `model_2`**\n",
        "\n",
        "This time we'll add an extra dense layer (so now our model will have 2 layers) whilst keeping everything else the same."
      ],
      "metadata": {
        "id": "ii3S9vMWLHzh"
      }
    },
    {
      "cell_type": "code",
      "source": [
        "# Set the random seed\n",
        "tf.random.set_seed(42)\n",
        "\n",
        "# 1. Create the model\n",
        "model_2 = tf.keras.Sequential([\n",
        "    tf.keras.layers.Dense(20),\n",
        "    tf.keras.layers.Dense(1)\n",
        "])\n",
        "\n",
        "# 2. Compile the model\n",
        "model_2.compile(loss=tf.keras.losses.mae,\n",
        "                optimizer=tf.keras.optimizers.SGD(),\n",
        "                metrics=[\"mse\"])\n",
        "\n",
        "# 3. Fit the model\n",
        "model_2.fit(tf.expand_dims(X_train, axis=-1), y_train, epochs=100)"
      ],
      "metadata": {
        "colab": {
          "base_uri": "https://localhost:8080/"
        },
        "id": "LSe9Flx1L98K",
        "outputId": "d6483645-850e-43cb-e55a-4fc2b5265055"
      },
      "execution_count": 52,
      "outputs": [
        {
          "output_type": "stream",
          "name": "stdout",
          "text": [
            "Epoch 1/100\n",
            "2/2 [==============================] - 1s 12ms/step - loss: 49.7679 - mse: 3536.2161\n",
            "Epoch 2/100\n",
            "2/2 [==============================] - 0s 7ms/step - loss: 35.7290 - mse: 1780.4514\n",
            "Epoch 3/100\n",
            "2/2 [==============================] - 0s 7ms/step - loss: 39.7557 - mse: 2383.4912\n",
            "Epoch 4/100\n",
            "2/2 [==============================] - 0s 7ms/step - loss: 27.2240 - mse: 1076.8477\n",
            "Epoch 5/100\n",
            "2/2 [==============================] - 0s 6ms/step - loss: 14.8809 - mse: 276.7150\n",
            "Epoch 6/100\n",
            "2/2 [==============================] - 0s 7ms/step - loss: 11.8652 - mse: 166.5393\n",
            "Epoch 7/100\n",
            "2/2 [==============================] - 0s 7ms/step - loss: 12.9721 - mse: 233.6140\n",
            "Epoch 8/100\n",
            "2/2 [==============================] - 0s 6ms/step - loss: 11.1622 - mse: 162.7052\n",
            "Epoch 9/100\n",
            "2/2 [==============================] - 0s 6ms/step - loss: 41.0121 - mse: 2661.9402\n",
            "Epoch 10/100\n",
            "2/2 [==============================] - 0s 9ms/step - loss: 28.3358 - mse: 1132.5497\n",
            "Epoch 11/100\n",
            "2/2 [==============================] - 0s 9ms/step - loss: 10.2587 - mse: 150.1687\n",
            "Epoch 12/100\n",
            "2/2 [==============================] - 0s 7ms/step - loss: 25.1953 - mse: 885.6154\n",
            "Epoch 13/100\n",
            "2/2 [==============================] - 0s 8ms/step - loss: 17.6512 - mse: 432.1998\n",
            "Epoch 14/100\n",
            "2/2 [==============================] - 0s 6ms/step - loss: 23.8325 - mse: 872.1317\n",
            "Epoch 15/100\n",
            "2/2 [==============================] - 0s 7ms/step - loss: 15.8616 - mse: 342.8553\n",
            "Epoch 16/100\n",
            "2/2 [==============================] - 0s 11ms/step - loss: 10.4744 - mse: 125.2670\n",
            "Epoch 17/100\n",
            "2/2 [==============================] - 0s 7ms/step - loss: 19.7863 - mse: 533.8401\n",
            "Epoch 18/100\n",
            "2/2 [==============================] - 0s 6ms/step - loss: 13.3888 - mse: 281.7273\n",
            "Epoch 19/100\n",
            "2/2 [==============================] - 0s 7ms/step - loss: 16.4134 - mse: 432.1780\n",
            "Epoch 20/100\n",
            "2/2 [==============================] - 0s 7ms/step - loss: 8.2534 - mse: 93.5306\n",
            "Epoch 21/100\n",
            "2/2 [==============================] - 0s 8ms/step - loss: 14.4519 - mse: 289.4020\n",
            "Epoch 22/100\n",
            "2/2 [==============================] - 0s 6ms/step - loss: 12.8681 - mse: 246.5414\n",
            "Epoch 23/100\n",
            "2/2 [==============================] - 0s 7ms/step - loss: 15.5042 - mse: 315.5814\n",
            "Epoch 24/100\n",
            "2/2 [==============================] - 0s 7ms/step - loss: 15.2944 - mse: 316.7902\n",
            "Epoch 25/100\n",
            "2/2 [==============================] - 0s 7ms/step - loss: 14.3608 - mse: 273.1118\n",
            "Epoch 26/100\n",
            "2/2 [==============================] - 0s 7ms/step - loss: 19.3799 - mse: 569.8358\n",
            "Epoch 27/100\n",
            "2/2 [==============================] - 0s 7ms/step - loss: 11.4418 - mse: 167.7662\n",
            "Epoch 28/100\n",
            "2/2 [==============================] - 0s 8ms/step - loss: 28.9853 - mse: 1365.1699\n",
            "Epoch 29/100\n",
            "2/2 [==============================] - 0s 7ms/step - loss: 9.2567 - mse: 94.9243\n",
            "Epoch 30/100\n",
            "2/2 [==============================] - 0s 7ms/step - loss: 29.7414 - mse: 1599.6639\n",
            "Epoch 31/100\n",
            "2/2 [==============================] - 0s 7ms/step - loss: 53.9547 - mse: 5214.5498\n",
            "Epoch 32/100\n",
            "2/2 [==============================] - 0s 8ms/step - loss: 9.5544 - mse: 101.0775\n",
            "Epoch 33/100\n",
            "2/2 [==============================] - 0s 7ms/step - loss: 12.1420 - mse: 179.4457\n",
            "Epoch 34/100\n",
            "2/2 [==============================] - 0s 8ms/step - loss: 23.7833 - mse: 856.6182\n",
            "Epoch 35/100\n",
            "2/2 [==============================] - 0s 7ms/step - loss: 12.6455 - mse: 242.0793\n",
            "Epoch 36/100\n",
            "2/2 [==============================] - 0s 7ms/step - loss: 21.5784 - mse: 664.0265\n",
            "Epoch 37/100\n",
            "2/2 [==============================] - 0s 7ms/step - loss: 11.3451 - mse: 149.3237\n",
            "Epoch 38/100\n",
            "2/2 [==============================] - 0s 7ms/step - loss: 13.3985 - mse: 265.7697\n",
            "Epoch 39/100\n",
            "2/2 [==============================] - 0s 7ms/step - loss: 10.7617 - mse: 137.5535\n",
            "Epoch 40/100\n",
            "2/2 [==============================] - 0s 14ms/step - loss: 16.4953 - mse: 395.1458\n",
            "Epoch 41/100\n",
            "2/2 [==============================] - 0s 5ms/step - loss: 10.9266 - mse: 180.1949\n",
            "Epoch 42/100\n",
            "2/2 [==============================] - 0s 8ms/step - loss: 9.2657 - mse: 115.7280\n",
            "Epoch 43/100\n",
            "2/2 [==============================] - 0s 7ms/step - loss: 9.5861 - mse: 111.7606\n",
            "Epoch 44/100\n",
            "2/2 [==============================] - 0s 7ms/step - loss: 27.8223 - mse: 1240.3625\n",
            "Epoch 45/100\n",
            "2/2 [==============================] - 0s 7ms/step - loss: 11.2451 - mse: 145.6706\n",
            "Epoch 46/100\n",
            "2/2 [==============================] - 0s 7ms/step - loss: 13.8080 - mse: 278.3990\n",
            "Epoch 47/100\n",
            "2/2 [==============================] - 0s 7ms/step - loss: 11.9440 - mse: 212.3271\n",
            "Epoch 48/100\n",
            "2/2 [==============================] - 0s 7ms/step - loss: 16.9915 - mse: 390.9644\n",
            "Epoch 49/100\n",
            "2/2 [==============================] - 0s 7ms/step - loss: 9.7572 - mse: 104.3657\n",
            "Epoch 50/100\n",
            "2/2 [==============================] - 0s 7ms/step - loss: 14.1309 - mse: 278.3027\n",
            "Epoch 51/100\n",
            "2/2 [==============================] - 0s 7ms/step - loss: 11.7261 - mse: 160.4845\n",
            "Epoch 52/100\n",
            "2/2 [==============================] - 0s 11ms/step - loss: 31.2710 - mse: 1697.9948\n",
            "Epoch 53/100\n",
            "2/2 [==============================] - 0s 7ms/step - loss: 14.6769 - mse: 318.6124\n",
            "Epoch 54/100\n",
            "2/2 [==============================] - 0s 7ms/step - loss: 24.5260 - mse: 904.4613\n",
            "Epoch 55/100\n",
            "2/2 [==============================] - 0s 8ms/step - loss: 23.8025 - mse: 851.3270\n",
            "Epoch 56/100\n",
            "2/2 [==============================] - 0s 7ms/step - loss: 11.0963 - mse: 171.1787\n",
            "Epoch 57/100\n",
            "2/2 [==============================] - 0s 7ms/step - loss: 13.0232 - mse: 209.7437\n",
            "Epoch 58/100\n",
            "2/2 [==============================] - 0s 7ms/step - loss: 9.7617 - mse: 105.2438\n",
            "Epoch 59/100\n",
            "2/2 [==============================] - 0s 7ms/step - loss: 13.1936 - mse: 242.8296\n",
            "Epoch 60/100\n",
            "2/2 [==============================] - 0s 7ms/step - loss: 10.8098 - mse: 136.9869\n",
            "Epoch 61/100\n",
            "2/2 [==============================] - 0s 7ms/step - loss: 13.3769 - mse: 236.0444\n",
            "Epoch 62/100\n",
            "2/2 [==============================] - 0s 7ms/step - loss: 17.3023 - mse: 456.3083\n",
            "Epoch 63/100\n",
            "2/2 [==============================] - 0s 11ms/step - loss: 9.1237 - mse: 87.7364\n",
            "Epoch 64/100\n",
            "2/2 [==============================] - 0s 7ms/step - loss: 17.9269 - mse: 466.1401\n",
            "Epoch 65/100\n",
            "2/2 [==============================] - 0s 8ms/step - loss: 10.6066 - mse: 137.6424\n",
            "Epoch 66/100\n",
            "2/2 [==============================] - 0s 7ms/step - loss: 21.4383 - mse: 679.5863\n",
            "Epoch 67/100\n",
            "2/2 [==============================] - 0s 7ms/step - loss: 10.6145 - mse: 132.0096\n",
            "Epoch 68/100\n",
            "2/2 [==============================] - 0s 9ms/step - loss: 14.8310 - mse: 334.1464\n",
            "Epoch 69/100\n",
            "2/2 [==============================] - 0s 8ms/step - loss: 10.7566 - mse: 133.7605\n",
            "Epoch 70/100\n",
            "2/2 [==============================] - 0s 8ms/step - loss: 12.8559 - mse: 210.5512\n",
            "Epoch 71/100\n",
            "2/2 [==============================] - 0s 7ms/step - loss: 13.2760 - mse: 240.0238\n",
            "Epoch 72/100\n",
            "2/2 [==============================] - 0s 7ms/step - loss: 20.0980 - mse: 574.7036\n",
            "Epoch 73/100\n",
            "2/2 [==============================] - 0s 8ms/step - loss: 9.7332 - mse: 150.2508\n",
            "Epoch 74/100\n",
            "2/2 [==============================] - 0s 8ms/step - loss: 27.3905 - mse: 1194.0474\n",
            "Epoch 75/100\n",
            "2/2 [==============================] - 0s 8ms/step - loss: 10.0072 - mse: 146.0415\n",
            "Epoch 76/100\n",
            "2/2 [==============================] - 0s 8ms/step - loss: 12.9238 - mse: 207.9148\n",
            "Epoch 77/100\n",
            "2/2 [==============================] - 0s 8ms/step - loss: 17.8982 - mse: 499.2873\n",
            "Epoch 78/100\n",
            "2/2 [==============================] - 0s 7ms/step - loss: 8.9594 - mse: 87.8081\n",
            "Epoch 79/100\n",
            "2/2 [==============================] - 0s 7ms/step - loss: 28.7325 - mse: 1303.9319\n",
            "Epoch 80/100\n",
            "2/2 [==============================] - 0s 7ms/step - loss: 31.0722 - mse: 1533.2356\n",
            "Epoch 81/100\n",
            "2/2 [==============================] - 0s 7ms/step - loss: 13.4227 - mse: 252.1933\n",
            "Epoch 82/100\n",
            "2/2 [==============================] - 0s 9ms/step - loss: 14.3171 - mse: 284.1778\n",
            "Epoch 83/100\n",
            "2/2 [==============================] - 0s 8ms/step - loss: 18.8507 - mse: 471.4999\n",
            "Epoch 84/100\n",
            "2/2 [==============================] - 0s 9ms/step - loss: 9.4561 - mse: 149.1171\n",
            "Epoch 85/100\n",
            "2/2 [==============================] - 0s 8ms/step - loss: 25.2456 - mse: 892.2656\n",
            "Epoch 86/100\n",
            "2/2 [==============================] - 0s 7ms/step - loss: 16.4354 - mse: 397.2578\n",
            "Epoch 87/100\n",
            "2/2 [==============================] - 0s 7ms/step - loss: 11.4671 - mse: 156.3253\n",
            "Epoch 88/100\n",
            "2/2 [==============================] - 0s 7ms/step - loss: 27.0507 - mse: 1046.7084\n",
            "Epoch 89/100\n",
            "2/2 [==============================] - 0s 7ms/step - loss: 9.7395 - mse: 128.1487\n",
            "Epoch 90/100\n",
            "2/2 [==============================] - 0s 7ms/step - loss: 19.0918 - mse: 522.6995\n",
            "Epoch 91/100\n",
            "2/2 [==============================] - 0s 7ms/step - loss: 10.5990 - mse: 163.2191\n",
            "Epoch 92/100\n",
            "2/2 [==============================] - 0s 7ms/step - loss: 18.3083 - mse: 459.2314\n",
            "Epoch 93/100\n",
            "2/2 [==============================] - 0s 7ms/step - loss: 6.8589 - mse: 67.7119\n",
            "Epoch 94/100\n",
            "2/2 [==============================] - 0s 7ms/step - loss: 13.0750 - mse: 232.3877\n",
            "Epoch 95/100\n",
            "2/2 [==============================] - 0s 7ms/step - loss: 18.4603 - mse: 502.9173\n",
            "Epoch 96/100\n",
            "2/2 [==============================] - 0s 10ms/step - loss: 10.4090 - mse: 179.1013\n",
            "Epoch 97/100\n",
            "2/2 [==============================] - 0s 8ms/step - loss: 14.4633 - mse: 315.9376\n",
            "Epoch 98/100\n",
            "2/2 [==============================] - 0s 8ms/step - loss: 6.6181 - mse: 61.2530\n",
            "Epoch 99/100\n",
            "2/2 [==============================] - 0s 8ms/step - loss: 12.6188 - mse: 230.0076\n",
            "Epoch 100/100\n",
            "2/2 [==============================] - 0s 7ms/step - loss: 19.4304 - mse: 554.1669\n"
          ]
        },
        {
          "output_type": "execute_result",
          "data": {
            "text/plain": [
              "<keras.callbacks.History at 0x7ff130d607f0>"
            ]
          },
          "metadata": {},
          "execution_count": 52
        }
      ]
    },
    {
      "cell_type": "code",
      "source": [
        "# Make and plot predictions of model 2\n",
        "y_preds_2 = model_2.predict(X_test)\n",
        "plot_predictions(predictions=y_preds_2)"
      ],
      "metadata": {
        "colab": {
          "base_uri": "https://localhost:8080/",
          "height": 656
        },
        "id": "ESaX6mOOM-V7",
        "outputId": "17954a19-05be-48ba-d051-6f23f5ebc57d"
      },
      "execution_count": 53,
      "outputs": [
        {
          "output_type": "stream",
          "name": "stderr",
          "text": [
            "WARNING:tensorflow:6 out of the last 6 calls to <function Model.make_predict_function.<locals>.predict_function at 0x7ff1303b93f0> triggered tf.function retracing. Tracing is expensive and the excessive number of tracings could be due to (1) creating @tf.function repeatedly in a loop, (2) passing tensors with different shapes, (3) passing Python objects instead of tensors. For (1), please define your @tf.function outside of the loop. For (2), @tf.function has reduce_retracing=True option that can avoid unnecessary retracing. For (3), please refer to https://www.tensorflow.org/guide/function#controlling_retracing and https://www.tensorflow.org/api_docs/python/tf/function for  more details.\n"
          ]
        },
        {
          "output_type": "stream",
          "name": "stdout",
          "text": [
            "1/1 [==============================] - 0s 46ms/step\n"
          ]
        },
        {
          "output_type": "display_data",
          "data": {
            "text/plain": [
              "<Figure size 1000x700 with 1 Axes>"
            ],
            "image/png": "[encoded data removed]"
          },
          "metadata": {}
        }
      ]
    },
    {
      "cell_type": "code",
      "source": [
        "# Calculate model_2 evaluation metrics\n",
        "mae_2 = mae(y_test, y_preds_2)\n",
        "mse_2 = mse(y_test, y_preds_2)\n",
        "mae_2, mse_2"
      ],
      "metadata": {
        "colab": {
          "base_uri": "https://localhost:8080/"
        },
        "id": "kvGaQPYqNdDg",
        "outputId": "2e648c8c-6a1f-4aae-d2ab-bcedbeb995dc"
      },
      "execution_count": 54,
      "outputs": [
        {
          "output_type": "execute_result",
          "data": {
            "text/plain": [
              "(<tf.Tensor: shape=(), dtype=float32, numpy=13.094156>,\n",
              " <tf.Tensor: shape=(), dtype=float32, numpy=181.36777>)"
            ]
          },
          "metadata": {},
          "execution_count": 54
        }
      ]
    },
    {
      "cell_type": "code",
      "source": [
        "# Calculate model_1 evaluation metrics\n",
        "mae_1 = mae(y_test, y_preds_1)\n",
        "mse_1 = mse(y_test, y_preds_1)\n",
        "mae_1, mse_1"
      ],
      "metadata": {
        "colab": {
          "base_uri": "https://localhost:8080/"
        },
        "id": "DYyomq2_N2ch",
        "outputId": "76b1e3d3-c884-46d4-b9e1-bb11b81c1ac6"
      },
      "execution_count": 55,
      "outputs": [
        {
          "output_type": "execute_result",
          "data": {
            "text/plain": [
              "(<tf.Tensor: shape=(), dtype=float32, numpy=30.519115>,\n",
              " <tf.Tensor: shape=(), dtype=float32, numpy=941.74786>)"
            ]
          },
          "metadata": {},
          "execution_count": 55
        }
      ]
    },
    {
      "cell_type": "markdown",
      "source": [
        "**Build `model_3`**\n",
        "\n",
        "For our 3rd model, we'll keep everything the same as `model_2` except this time we'll train for longer (500 epochs instead of 100).\n",
        "\n",
        "This will give our model more of a chance to learn the patterns in the data."
      ],
      "metadata": {
        "id": "4cF57-tHN3og"
      }
    },
    {
      "cell_type": "code",
      "source": [
        "# Set the random seed\n",
        "tf.random.set_seed(42)\n",
        "\n",
        "# 1. Create the model\n",
        "model_3 = tf.keras.Sequential([\n",
        "    tf.keras.layers.Dense(20),\n",
        "    tf.keras.layers.Dense(1)\n",
        "])\n",
        "\n",
        "# 2. Compile the model\n",
        "model_3.compile(loss=tf.keras.losses.mae,\n",
        "                optimizer=tf.keras.optimizers.SGD(),\n",
        "                metrics=[\"mae\"]\n",
        "                )\n",
        "\n",
        "# 3. Fit the model\n",
        "model_3.fit(tf.expand_dims(X_train, axis=-1), y_train, epochs=500)"
      ],
      "metadata": {
        "colab": {
          "base_uri": "https://localhost:8080/"
        },
        "id": "BLW0iRiROH9L",
        "outputId": "e5c42dff-3e8d-445e-9cd5-7aa0c334c0ac"
      },
      "execution_count": 56,
      "outputs": [
        {
          "output_type": "stream",
          "name": "stdout",
          "text": [
            "Epoch 1/500\n",
            "2/2 [==============================] - 0s 12ms/step - loss: 38.8158 - mae: 38.8158\n",
            "Epoch 2/500\n",
            "2/2 [==============================] - 0s 6ms/step - loss: 30.4510 - mae: 30.4510\n",
            "Epoch 3/500\n",
            "2/2 [==============================] - 0s 6ms/step - loss: 28.3075 - mae: 28.3075\n",
            "Epoch 4/500\n",
            "2/2 [==============================] - 0s 6ms/step - loss: 15.9904 - mae: 15.9904\n",
            "Epoch 5/500\n",
            "2/2 [==============================] - 0s 6ms/step - loss: 22.2860 - mae: 22.2860\n",
            "Epoch 6/500\n",
            "2/2 [==============================] - 0s 6ms/step - loss: 10.9322 - mae: 10.9322\n",
            "Epoch 7/500\n",
            "2/2 [==============================] - 0s 6ms/step - loss: 11.9495 - mae: 11.9495\n",
            "Epoch 8/500\n",
            "2/2 [==============================] - 0s 6ms/step - loss: 10.8891 - mae: 10.8891\n",
            "Epoch 9/500\n",
            "2/2 [==============================] - 0s 7ms/step - loss: 37.4984 - mae: 37.4984\n",
            "Epoch 10/500\n",
            "2/2 [==============================] - 0s 7ms/step - loss: 25.1650 - mae: 25.1650\n",
            "Epoch 11/500\n",
            "2/2 [==============================] - 0s 12ms/step - loss: 10.2577 - mae: 10.2577\n",
            "Epoch 12/500\n",
            "2/2 [==============================] - 0s 8ms/step - loss: 25.4696 - mae: 25.4696\n",
            "Epoch 13/500\n",
            "2/2 [==============================] - 0s 7ms/step - loss: 16.8118 - mae: 16.8118\n",
            "Epoch 14/500\n",
            "2/2 [==============================] - 0s 7ms/step - loss: 25.5921 - mae: 25.5921\n",
            "Epoch 15/500\n",
            "2/2 [==============================] - 0s 7ms/step - loss: 17.4840 - mae: 17.4840\n",
            "Epoch 16/500\n",
            "2/2 [==============================] - 0s 7ms/step - loss: 10.0217 - mae: 10.0217\n",
            "Epoch 17/500\n",
            "2/2 [==============================] - 0s 7ms/step - loss: 18.5076 - mae: 18.5076\n",
            "Epoch 18/500\n",
            "2/2 [==============================] - 0s 7ms/step - loss: 11.3496 - mae: 11.3496\n",
            "Epoch 19/500\n",
            "2/2 [==============================] - 0s 7ms/step - loss: 13.9253 - mae: 13.9253\n",
            "Epoch 20/500\n",
            "2/2 [==============================] - 0s 7ms/step - loss: 11.1937 - mae: 11.1937\n",
            "Epoch 21/500\n",
            "2/2 [==============================] - 0s 7ms/step - loss: 17.2414 - mae: 17.2414\n",
            "Epoch 22/500\n",
            "2/2 [==============================] - 0s 7ms/step - loss: 15.4781 - mae: 15.4781\n",
            "Epoch 23/500\n",
            "2/2 [==============================] - 0s 7ms/step - loss: 9.2427 - mae: 9.2427\n",
            "Epoch 24/500\n",
            "2/2 [==============================] - 0s 7ms/step - loss: 17.2813 - mae: 17.2813\n",
            "Epoch 25/500\n",
            "2/2 [==============================] - 0s 7ms/step - loss: 15.9507 - mae: 15.9507\n",
            "Epoch 26/500\n",
            "2/2 [==============================] - 0s 7ms/step - loss: 20.9593 - mae: 20.9593\n",
            "Epoch 27/500\n",
            "2/2 [==============================] - 0s 6ms/step - loss: 25.9003 - mae: 25.9003\n",
            "Epoch 28/500\n",
            "2/2 [==============================] - 0s 7ms/step - loss: 18.4062 - mae: 18.4062\n",
            "Epoch 29/500\n",
            "2/2 [==============================] - 0s 7ms/step - loss: 9.2418 - mae: 9.2418\n",
            "Epoch 30/500\n",
            "2/2 [==============================] - 0s 9ms/step - loss: 29.0162 - mae: 29.0162\n",
            "Epoch 31/500\n",
            "2/2 [==============================] - 0s 6ms/step - loss: 52.5461 - mae: 52.5461\n",
            "Epoch 32/500\n",
            "2/2 [==============================] - 0s 6ms/step - loss: 11.8993 - mae: 11.8993\n",
            "Epoch 33/500\n",
            "2/2 [==============================] - 0s 7ms/step - loss: 15.4726 - mae: 15.4726\n",
            "Epoch 34/500\n",
            "2/2 [==============================] - 0s 6ms/step - loss: 12.5792 - mae: 12.5792\n",
            "Epoch 35/500\n",
            "2/2 [==============================] - 0s 6ms/step - loss: 9.1888 - mae: 9.1888\n",
            "Epoch 36/500\n",
            "2/2 [==============================] - 0s 11ms/step - loss: 16.4442 - mae: 16.4442\n",
            "Epoch 37/500\n",
            "2/2 [==============================] - 0s 8ms/step - loss: 11.0946 - mae: 11.0946\n",
            "Epoch 38/500\n",
            "2/2 [==============================] - 0s 7ms/step - loss: 18.2253 - mae: 18.2253\n",
            "Epoch 39/500\n",
            "2/2 [==============================] - 0s 7ms/step - loss: 19.1564 - mae: 19.1564\n",
            "Epoch 40/500\n",
            "2/2 [==============================] - 0s 6ms/step - loss: 20.5332 - mae: 20.5332\n",
            "Epoch 41/500\n",
            "2/2 [==============================] - 0s 7ms/step - loss: 14.7832 - mae: 14.7832\n",
            "Epoch 42/500\n",
            "2/2 [==============================] - 0s 7ms/step - loss: 12.1845 - mae: 12.1845\n",
            "Epoch 43/500\n",
            "2/2 [==============================] - 0s 7ms/step - loss: 10.6873 - mae: 10.6873\n",
            "Epoch 44/500\n",
            "2/2 [==============================] - 0s 7ms/step - loss: 32.2054 - mae: 32.2054\n",
            "Epoch 45/500\n",
            "2/2 [==============================] - 0s 6ms/step - loss: 12.4512 - mae: 12.4512\n",
            "Epoch 46/500\n",
            "2/2 [==============================] - 0s 7ms/step - loss: 17.4662 - mae: 17.4662\n",
            "Epoch 47/500\n",
            "2/2 [==============================] - 0s 6ms/step - loss: 15.7748 - mae: 15.7748\n",
            "Epoch 48/500\n",
            "2/2 [==============================] - 0s 7ms/step - loss: 8.3869 - mae: 8.3869\n",
            "Epoch 49/500\n",
            "2/2 [==============================] - 0s 7ms/step - loss: 14.2362 - mae: 14.2362\n",
            "Epoch 50/500\n",
            "2/2 [==============================] - 0s 7ms/step - loss: 15.1673 - mae: 15.1673\n",
            "Epoch 51/500\n",
            "2/2 [==============================] - 0s 7ms/step - loss: 13.6848 - mae: 13.6848\n",
            "Epoch 52/500\n",
            "2/2 [==============================] - 0s 7ms/step - loss: 18.1011 - mae: 18.1011\n",
            "Epoch 53/500\n",
            "2/2 [==============================] - 0s 12ms/step - loss: 22.7559 - mae: 22.7559\n",
            "Epoch 54/500\n",
            "2/2 [==============================] - 0s 8ms/step - loss: 26.8393 - mae: 26.8393\n",
            "Epoch 55/500\n",
            "2/2 [==============================] - 0s 9ms/step - loss: 26.4773 - mae: 26.4773\n",
            "Epoch 56/500\n",
            "2/2 [==============================] - 0s 6ms/step - loss: 11.3710 - mae: 11.3710\n",
            "Epoch 57/500\n",
            "2/2 [==============================] - 0s 7ms/step - loss: 13.3974 - mae: 13.3974\n",
            "Epoch 58/500\n",
            "2/2 [==============================] - 0s 7ms/step - loss: 9.9694 - mae: 9.9694\n",
            "Epoch 59/500\n",
            "2/2 [==============================] - 0s 7ms/step - loss: 13.9548 - mae: 13.9548\n",
            "Epoch 60/500\n",
            "2/2 [==============================] - 0s 7ms/step - loss: 10.0101 - mae: 10.0101\n",
            "Epoch 61/500\n",
            "2/2 [==============================] - 0s 7ms/step - loss: 15.0075 - mae: 15.0075\n",
            "Epoch 62/500\n",
            "2/2 [==============================] - 0s 7ms/step - loss: 11.9499 - mae: 11.9499\n",
            "Epoch 63/500\n",
            "2/2 [==============================] - 0s 7ms/step - loss: 10.3017 - mae: 10.3017\n",
            "Epoch 64/500\n",
            "2/2 [==============================] - 0s 6ms/step - loss: 23.9357 - mae: 23.9357\n",
            "Epoch 65/500\n",
            "2/2 [==============================] - 0s 7ms/step - loss: 10.4780 - mae: 10.4780\n",
            "Epoch 66/500\n",
            "2/2 [==============================] - 0s 7ms/step - loss: 20.9730 - mae: 20.9730\n",
            "Epoch 67/500\n",
            "2/2 [==============================] - 0s 9ms/step - loss: 10.4572 - mae: 10.4572\n",
            "Epoch 68/500\n",
            "2/2 [==============================] - 0s 14ms/step - loss: 14.2029 - mae: 14.2029\n",
            "Epoch 69/500\n",
            "2/2 [==============================] - 0s 8ms/step - loss: 10.5289 - mae: 10.5289\n",
            "Epoch 70/500\n",
            "2/2 [==============================] - 0s 12ms/step - loss: 12.6010 - mae: 12.6010\n",
            "Epoch 71/500\n",
            "2/2 [==============================] - 0s 7ms/step - loss: 13.0289 - mae: 13.0289\n",
            "Epoch 72/500\n",
            "2/2 [==============================] - 0s 7ms/step - loss: 19.3845 - mae: 19.3845\n",
            "Epoch 73/500\n",
            "2/2 [==============================] - 0s 7ms/step - loss: 11.1376 - mae: 11.1376\n",
            "Epoch 74/500\n",
            "2/2 [==============================] - 0s 7ms/step - loss: 21.6181 - mae: 21.6181\n",
            "Epoch 75/500\n",
            "2/2 [==============================] - 0s 7ms/step - loss: 7.2302 - mae: 7.2302\n",
            "Epoch 76/500\n",
            "2/2 [==============================] - 0s 7ms/step - loss: 9.4582 - mae: 9.4582\n",
            "Epoch 77/500\n",
            "2/2 [==============================] - 0s 7ms/step - loss: 22.1703 - mae: 22.1703\n",
            "Epoch 78/500\n",
            "2/2 [==============================] - 0s 7ms/step - loss: 17.4669 - mae: 17.4669\n",
            "Epoch 79/500\n",
            "2/2 [==============================] - 0s 8ms/step - loss: 14.7088 - mae: 14.7088\n",
            "Epoch 80/500\n",
            "2/2 [==============================] - 0s 7ms/step - loss: 24.7181 - mae: 24.7181\n",
            "Epoch 81/500\n",
            "2/2 [==============================] - 0s 7ms/step - loss: 11.5576 - mae: 11.5576\n",
            "Epoch 82/500\n",
            "2/2 [==============================] - 0s 7ms/step - loss: 12.3964 - mae: 12.3964\n",
            "Epoch 83/500\n",
            "2/2 [==============================] - 0s 7ms/step - loss: 17.0504 - mae: 17.0504\n",
            "Epoch 84/500\n",
            "2/2 [==============================] - 0s 7ms/step - loss: 7.2554 - mae: 7.2554\n",
            "Epoch 85/500\n",
            "2/2 [==============================] - 0s 7ms/step - loss: 37.3698 - mae: 37.3698\n",
            "Epoch 86/500\n",
            "2/2 [==============================] - 0s 7ms/step - loss: 21.3349 - mae: 21.3349\n",
            "Epoch 87/500\n",
            "2/2 [==============================] - 0s 7ms/step - loss: 11.0721 - mae: 11.0721\n",
            "Epoch 88/500\n",
            "2/2 [==============================] - 0s 7ms/step - loss: 25.2019 - mae: 25.2019\n",
            "Epoch 89/500\n",
            "2/2 [==============================] - 0s 7ms/step - loss: 9.3973 - mae: 9.3973\n",
            "Epoch 90/500\n",
            "2/2 [==============================] - 0s 7ms/step - loss: 17.4607 - mae: 17.4607\n",
            "Epoch 91/500\n",
            "2/2 [==============================] - 0s 7ms/step - loss: 10.8426 - mae: 10.8426\n",
            "Epoch 92/500\n",
            "2/2 [==============================] - 0s 7ms/step - loss: 19.1415 - mae: 19.1415\n",
            "Epoch 93/500\n",
            "2/2 [==============================] - 0s 7ms/step - loss: 8.3507 - mae: 8.3507\n",
            "Epoch 94/500\n",
            "2/2 [==============================] - 0s 7ms/step - loss: 11.5937 - mae: 11.5937\n",
            "Epoch 95/500\n",
            "2/2 [==============================] - 0s 7ms/step - loss: 26.1667 - mae: 26.1667\n",
            "Epoch 96/500\n",
            "2/2 [==============================] - 0s 7ms/step - loss: 11.2208 - mae: 11.2208\n",
            "Epoch 97/500\n",
            "2/2 [==============================] - 0s 7ms/step - loss: 16.8198 - mae: 16.8198\n",
            "Epoch 98/500\n",
            "2/2 [==============================] - 0s 7ms/step - loss: 6.6073 - mae: 6.6073\n",
            "Epoch 99/500\n",
            "2/2 [==============================] - 0s 10ms/step - loss: 12.6098 - mae: 12.6098\n",
            "Epoch 100/500\n",
            "2/2 [==============================] - 0s 8ms/step - loss: 19.4197 - mae: 19.4197\n",
            "Epoch 101/500\n",
            "2/2 [==============================] - 0s 7ms/step - loss: 16.0658 - mae: 16.0658\n",
            "Epoch 102/500\n",
            "2/2 [==============================] - 0s 7ms/step - loss: 11.2017 - mae: 11.2017\n",
            "Epoch 103/500\n",
            "2/2 [==============================] - 0s 8ms/step - loss: 9.3411 - mae: 9.3411\n",
            "Epoch 104/500\n",
            "2/2 [==============================] - 0s 7ms/step - loss: 24.8971 - mae: 24.8971\n",
            "Epoch 105/500\n",
            "2/2 [==============================] - 0s 7ms/step - loss: 11.9698 - mae: 11.9698\n",
            "Epoch 106/500\n",
            "2/2 [==============================] - 0s 7ms/step - loss: 10.0948 - mae: 10.0948\n",
            "Epoch 107/500\n",
            "2/2 [==============================] - 0s 10ms/step - loss: 22.4274 - mae: 22.4274\n",
            "Epoch 108/500\n",
            "2/2 [==============================] - 0s 7ms/step - loss: 8.1326 - mae: 8.1326\n",
            "Epoch 109/500\n",
            "2/2 [==============================] - 0s 9ms/step - loss: 13.2883 - mae: 13.2883\n",
            "Epoch 110/500\n",
            "2/2 [==============================] - 0s 9ms/step - loss: 8.0186 - mae: 8.0186\n",
            "Epoch 111/500\n",
            "2/2 [==============================] - 0s 7ms/step - loss: 15.8132 - mae: 15.8132\n",
            "Epoch 112/500\n",
            "2/2 [==============================] - 0s 8ms/step - loss: 8.7542 - mae: 8.7542\n",
            "Epoch 113/500\n",
            "2/2 [==============================] - 0s 7ms/step - loss: 22.5444 - mae: 22.5444\n",
            "Epoch 114/500\n",
            "2/2 [==============================] - 0s 7ms/step - loss: 18.9145 - mae: 18.9145\n",
            "Epoch 115/500\n",
            "2/2 [==============================] - 0s 8ms/step - loss: 11.0788 - mae: 11.0788\n",
            "Epoch 116/500\n",
            "2/2 [==============================] - 0s 7ms/step - loss: 22.9747 - mae: 22.9747\n",
            "Epoch 117/500\n",
            "2/2 [==============================] - 0s 7ms/step - loss: 9.5473 - mae: 9.5473\n",
            "Epoch 118/500\n",
            "2/2 [==============================] - 0s 7ms/step - loss: 10.5960 - mae: 10.5960\n",
            "Epoch 119/500\n",
            "2/2 [==============================] - 0s 8ms/step - loss: 8.0602 - mae: 8.0602\n",
            "Epoch 120/500\n",
            "2/2 [==============================] - 0s 7ms/step - loss: 29.1826 - mae: 29.1826\n",
            "Epoch 121/500\n",
            "2/2 [==============================] - 0s 7ms/step - loss: 8.0964 - mae: 8.0964\n",
            "Epoch 122/500\n",
            "2/2 [==============================] - 0s 8ms/step - loss: 27.8751 - mae: 27.8751\n",
            "Epoch 123/500\n",
            "2/2 [==============================] - 0s 7ms/step - loss: 32.3621 - mae: 32.3621\n",
            "Epoch 124/500\n",
            "2/2 [==============================] - 0s 10ms/step - loss: 19.2345 - mae: 19.2345\n",
            "Epoch 125/500\n",
            "2/2 [==============================] - 0s 8ms/step - loss: 9.5027 - mae: 9.5027\n",
            "Epoch 126/500\n",
            "2/2 [==============================] - 0s 7ms/step - loss: 9.5788 - mae: 9.5788\n",
            "Epoch 127/500\n",
            "2/2 [==============================] - 0s 7ms/step - loss: 12.2789 - mae: 12.2789\n",
            "Epoch 128/500\n",
            "2/2 [==============================] - 0s 8ms/step - loss: 15.2899 - mae: 15.2899\n",
            "Epoch 129/500\n",
            "2/2 [==============================] - 0s 7ms/step - loss: 9.6532 - mae: 9.6532\n",
            "Epoch 130/500\n",
            "2/2 [==============================] - 0s 8ms/step - loss: 20.6768 - mae: 20.6768\n",
            "Epoch 131/500\n",
            "2/2 [==============================] - 0s 7ms/step - loss: 9.3534 - mae: 9.3534\n",
            "Epoch 132/500\n",
            "2/2 [==============================] - 0s 7ms/step - loss: 16.7248 - mae: 16.7248\n",
            "Epoch 133/500\n",
            "2/2 [==============================] - 0s 8ms/step - loss: 7.7197 - mae: 7.7197\n",
            "Epoch 134/500\n",
            "2/2 [==============================] - 0s 7ms/step - loss: 19.0880 - mae: 19.0880\n",
            "Epoch 135/500\n",
            "2/2 [==============================] - 0s 7ms/step - loss: 10.7552 - mae: 10.7552\n",
            "Epoch 136/500\n",
            "2/2 [==============================] - 0s 7ms/step - loss: 18.6717 - mae: 18.6717\n",
            "Epoch 137/500\n",
            "2/2 [==============================] - 0s 7ms/step - loss: 23.7145 - mae: 23.7145\n",
            "Epoch 138/500\n",
            "2/2 [==============================] - 0s 7ms/step - loss: 9.3839 - mae: 9.3839\n",
            "Epoch 139/500\n",
            "2/2 [==============================] - 0s 7ms/step - loss: 9.0838 - mae: 9.0838\n",
            "Epoch 140/500\n",
            "2/2 [==============================] - 0s 7ms/step - loss: 17.0949 - mae: 17.0949\n",
            "Epoch 141/500\n",
            "2/2 [==============================] - 0s 8ms/step - loss: 8.3608 - mae: 8.3608\n",
            "Epoch 142/500\n",
            "2/2 [==============================] - 0s 7ms/step - loss: 34.1899 - mae: 34.1899\n",
            "Epoch 143/500\n",
            "2/2 [==============================] - 0s 9ms/step - loss: 23.2420 - mae: 23.2420\n",
            "Epoch 144/500\n",
            "2/2 [==============================] - 0s 8ms/step - loss: 10.4970 - mae: 10.4970\n",
            "Epoch 145/500\n",
            "2/2 [==============================] - 0s 7ms/step - loss: 25.8749 - mae: 25.8749\n",
            "Epoch 146/500\n",
            "2/2 [==============================] - 0s 7ms/step - loss: 9.9049 - mae: 9.9049\n",
            "Epoch 147/500\n",
            "2/2 [==============================] - 0s 8ms/step - loss: 15.0435 - mae: 15.0435\n",
            "Epoch 148/500\n",
            "2/2 [==============================] - 0s 8ms/step - loss: 17.4868 - mae: 17.4868\n",
            "Epoch 149/500\n",
            "2/2 [==============================] - 0s 8ms/step - loss: 8.7883 - mae: 8.7883\n",
            "Epoch 150/500\n",
            "2/2 [==============================] - 0s 5ms/step - loss: 7.7615 - mae: 7.7615\n",
            "Epoch 151/500\n",
            "2/2 [==============================] - 0s 6ms/step - loss: 19.8459 - mae: 19.8459\n",
            "Epoch 152/500\n",
            "2/2 [==============================] - 0s 7ms/step - loss: 10.2607 - mae: 10.2607\n",
            "Epoch 153/500\n",
            "2/2 [==============================] - 0s 8ms/step - loss: 29.1774 - mae: 29.1774\n",
            "Epoch 154/500\n",
            "2/2 [==============================] - 0s 7ms/step - loss: 10.6722 - mae: 10.6722\n",
            "Epoch 155/500\n",
            "2/2 [==============================] - 0s 8ms/step - loss: 15.5596 - mae: 15.5596\n",
            "Epoch 156/500\n",
            "2/2 [==============================] - 0s 7ms/step - loss: 17.2378 - mae: 17.2378\n",
            "Epoch 157/500\n",
            "2/2 [==============================] - 0s 7ms/step - loss: 32.2578 - mae: 32.2578\n",
            "Epoch 158/500\n",
            "2/2 [==============================] - 0s 8ms/step - loss: 10.5847 - mae: 10.5847\n",
            "Epoch 159/500\n",
            "2/2 [==============================] - 0s 7ms/step - loss: 8.8696 - mae: 8.8696\n",
            "Epoch 160/500\n",
            "2/2 [==============================] - 0s 7ms/step - loss: 21.6994 - mae: 21.6994\n",
            "Epoch 161/500\n",
            "2/2 [==============================] - 0s 8ms/step - loss: 11.0585 - mae: 11.0585\n",
            "Epoch 162/500\n",
            "2/2 [==============================] - 0s 7ms/step - loss: 21.2325 - mae: 21.2325\n",
            "Epoch 163/500\n",
            "2/2 [==============================] - 0s 7ms/step - loss: 18.7313 - mae: 18.7313\n",
            "Epoch 164/500\n",
            "2/2 [==============================] - 0s 8ms/step - loss: 12.5795 - mae: 12.5795\n",
            "Epoch 165/500\n",
            "2/2 [==============================] - 0s 12ms/step - loss: 12.7789 - mae: 12.7789\n",
            "Epoch 166/500\n",
            "2/2 [==============================] - 0s 7ms/step - loss: 19.0023 - mae: 19.0023\n",
            "Epoch 167/500\n",
            "2/2 [==============================] - 0s 12ms/step - loss: 26.5918 - mae: 26.5918\n",
            "Epoch 168/500\n",
            "2/2 [==============================] - 0s 8ms/step - loss: 9.9638 - mae: 9.9638\n",
            "Epoch 169/500\n",
            "2/2 [==============================] - 0s 6ms/step - loss: 22.8265 - mae: 22.8265\n",
            "Epoch 170/500\n",
            "2/2 [==============================] - 0s 7ms/step - loss: 10.1352 - mae: 10.1352\n",
            "Epoch 171/500\n",
            "2/2 [==============================] - 0s 8ms/step - loss: 17.9504 - mae: 17.9504\n",
            "Epoch 172/500\n",
            "2/2 [==============================] - 0s 7ms/step - loss: 29.0773 - mae: 29.0773\n",
            "Epoch 173/500\n",
            "2/2 [==============================] - 0s 8ms/step - loss: 16.7341 - mae: 16.7341\n",
            "Epoch 174/500\n",
            "2/2 [==============================] - 0s 8ms/step - loss: 11.2154 - mae: 11.2154\n",
            "Epoch 175/500\n",
            "2/2 [==============================] - 0s 8ms/step - loss: 27.5284 - mae: 27.5284\n",
            "Epoch 176/500\n",
            "2/2 [==============================] - 0s 7ms/step - loss: 8.3797 - mae: 8.3797\n",
            "Epoch 177/500\n",
            "2/2 [==============================] - 0s 7ms/step - loss: 9.3558 - mae: 9.3558\n",
            "Epoch 178/500\n",
            "2/2 [==============================] - 0s 10ms/step - loss: 18.3094 - mae: 18.3094\n",
            "Epoch 179/500\n",
            "2/2 [==============================] - 0s 7ms/step - loss: 10.5412 - mae: 10.5412\n",
            "Epoch 180/500\n",
            "2/2 [==============================] - 0s 7ms/step - loss: 7.9736 - mae: 7.9736\n",
            "Epoch 181/500\n",
            "2/2 [==============================] - 0s 12ms/step - loss: 17.5141 - mae: 17.5141\n",
            "Epoch 182/500\n",
            "2/2 [==============================] - 0s 7ms/step - loss: 11.1061 - mae: 11.1061\n",
            "Epoch 183/500\n",
            "2/2 [==============================] - 0s 8ms/step - loss: 11.7632 - mae: 11.7632\n",
            "Epoch 184/500\n",
            "2/2 [==============================] - 0s 7ms/step - loss: 30.5188 - mae: 30.5188\n",
            "Epoch 185/500\n",
            "2/2 [==============================] - 0s 7ms/step - loss: 7.5931 - mae: 7.5931\n",
            "Epoch 186/500\n",
            "2/2 [==============================] - 0s 7ms/step - loss: 15.9857 - mae: 15.9857\n",
            "Epoch 187/500\n",
            "2/2 [==============================] - 0s 9ms/step - loss: 8.6139 - mae: 8.6139\n",
            "Epoch 188/500\n",
            "2/2 [==============================] - 0s 8ms/step - loss: 28.7650 - mae: 28.7650\n",
            "Epoch 189/500\n",
            "2/2 [==============================] - 0s 7ms/step - loss: 13.1825 - mae: 13.1825\n",
            "Epoch 190/500\n",
            "2/2 [==============================] - 0s 7ms/step - loss: 18.3277 - mae: 18.3277\n",
            "Epoch 191/500\n",
            "2/2 [==============================] - 0s 11ms/step - loss: 13.7596 - mae: 13.7596\n",
            "Epoch 192/500\n",
            "2/2 [==============================] - 0s 7ms/step - loss: 13.7375 - mae: 13.7375\n",
            "Epoch 193/500\n",
            "2/2 [==============================] - 0s 8ms/step - loss: 28.5999 - mae: 28.5999\n",
            "Epoch 194/500\n",
            "2/2 [==============================] - 0s 8ms/step - loss: 7.0966 - mae: 7.0966\n",
            "Epoch 195/500\n",
            "2/2 [==============================] - 0s 8ms/step - loss: 7.0974 - mae: 7.0974\n",
            "Epoch 196/500\n",
            "2/2 [==============================] - 0s 7ms/step - loss: 22.0566 - mae: 22.0566\n",
            "Epoch 197/500\n",
            "2/2 [==============================] - 0s 7ms/step - loss: 20.7506 - mae: 20.7506\n",
            "Epoch 198/500\n",
            "2/2 [==============================] - 0s 8ms/step - loss: 12.4308 - mae: 12.4308\n",
            "Epoch 199/500\n",
            "2/2 [==============================] - 0s 8ms/step - loss: 17.8248 - mae: 17.8248\n",
            "Epoch 200/500\n",
            "2/2 [==============================] - 0s 8ms/step - loss: 13.6725 - mae: 13.6725\n",
            "Epoch 201/500\n",
            "2/2 [==============================] - 0s 9ms/step - loss: 5.5235 - mae: 5.5235\n",
            "Epoch 202/500\n",
            "2/2 [==============================] - 0s 7ms/step - loss: 13.6195 - mae: 13.6195\n",
            "Epoch 203/500\n",
            "2/2 [==============================] - 0s 8ms/step - loss: 9.4252 - mae: 9.4252\n",
            "Epoch 204/500\n",
            "2/2 [==============================] - 0s 8ms/step - loss: 20.7938 - mae: 20.7938\n",
            "Epoch 205/500\n",
            "2/2 [==============================] - 0s 8ms/step - loss: 9.5270 - mae: 9.5270\n",
            "Epoch 206/500\n",
            "2/2 [==============================] - 0s 13ms/step - loss: 11.1606 - mae: 11.1606\n",
            "Epoch 207/500\n",
            "2/2 [==============================] - 0s 8ms/step - loss: 17.6700 - mae: 17.6700\n",
            "Epoch 208/500\n",
            "2/2 [==============================] - 0s 8ms/step - loss: 14.3916 - mae: 14.3916\n",
            "Epoch 209/500\n",
            "2/2 [==============================] - 0s 8ms/step - loss: 16.6950 - mae: 16.6950\n",
            "Epoch 210/500\n",
            "2/2 [==============================] - 0s 8ms/step - loss: 18.2068 - mae: 18.2068\n",
            "Epoch 211/500\n",
            "2/2 [==============================] - 0s 8ms/step - loss: 9.9714 - mae: 9.9714\n",
            "Epoch 212/500\n",
            "2/2 [==============================] - 0s 8ms/step - loss: 18.6657 - mae: 18.6657\n",
            "Epoch 213/500\n",
            "2/2 [==============================] - 0s 8ms/step - loss: 14.9723 - mae: 14.9723\n",
            "Epoch 214/500\n",
            "2/2 [==============================] - 0s 11ms/step - loss: 14.5497 - mae: 14.5497\n",
            "Epoch 215/500\n",
            "2/2 [==============================] - 0s 10ms/step - loss: 23.2082 - mae: 23.2082\n",
            "Epoch 216/500\n",
            "2/2 [==============================] - 0s 7ms/step - loss: 13.5422 - mae: 13.5422\n",
            "Epoch 217/500\n",
            "2/2 [==============================] - 0s 12ms/step - loss: 10.0306 - mae: 10.0306\n",
            "Epoch 218/500\n",
            "2/2 [==============================] - 0s 7ms/step - loss: 12.4690 - mae: 12.4690\n",
            "Epoch 219/500\n",
            "2/2 [==============================] - 0s 8ms/step - loss: 5.3377 - mae: 5.3377\n",
            "Epoch 220/500\n",
            "2/2 [==============================] - 0s 8ms/step - loss: 12.4223 - mae: 12.4223\n",
            "Epoch 221/500\n",
            "2/2 [==============================] - 0s 8ms/step - loss: 22.4053 - mae: 22.4053\n",
            "Epoch 222/500\n",
            "2/2 [==============================] - 0s 9ms/step - loss: 21.5081 - mae: 21.5081\n",
            "Epoch 223/500\n",
            "2/2 [==============================] - 0s 8ms/step - loss: 11.6602 - mae: 11.6602\n",
            "Epoch 224/500\n",
            "2/2 [==============================] - 0s 9ms/step - loss: 13.5744 - mae: 13.5744\n",
            "Epoch 225/500\n",
            "2/2 [==============================] - 0s 8ms/step - loss: 15.7115 - mae: 15.7115\n",
            "Epoch 226/500\n",
            "2/2 [==============================] - 0s 9ms/step - loss: 14.9576 - mae: 14.9576\n",
            "Epoch 227/500\n",
            "2/2 [==============================] - 0s 9ms/step - loss: 15.2875 - mae: 15.2875\n",
            "Epoch 228/500\n",
            "2/2 [==============================] - 0s 10ms/step - loss: 17.4545 - mae: 17.4545\n",
            "Epoch 229/500\n",
            "2/2 [==============================] - 0s 7ms/step - loss: 7.2286 - mae: 7.2286\n",
            "Epoch 230/500\n",
            "2/2 [==============================] - 0s 8ms/step - loss: 7.4729 - mae: 7.4729\n",
            "Epoch 231/500\n",
            "2/2 [==============================] - 0s 9ms/step - loss: 24.7489 - mae: 24.7489\n",
            "Epoch 232/500\n",
            "2/2 [==============================] - 0s 8ms/step - loss: 8.7962 - mae: 8.7962\n",
            "Epoch 233/500\n",
            "2/2 [==============================] - 0s 8ms/step - loss: 24.6992 - mae: 24.6992\n",
            "Epoch 234/500\n",
            "2/2 [==============================] - 0s 8ms/step - loss: 8.1570 - mae: 8.1570\n",
            "Epoch 235/500\n",
            "2/2 [==============================] - 0s 7ms/step - loss: 12.7036 - mae: 12.7036\n",
            "Epoch 236/500\n",
            "2/2 [==============================] - 0s 8ms/step - loss: 7.7211 - mae: 7.7211\n",
            "Epoch 237/500\n",
            "2/2 [==============================] - 0s 7ms/step - loss: 10.0238 - mae: 10.0238\n",
            "Epoch 238/500\n",
            "2/2 [==============================] - 0s 8ms/step - loss: 8.5573 - mae: 8.5573\n",
            "Epoch 239/500\n",
            "2/2 [==============================] - 0s 9ms/step - loss: 18.6614 - mae: 18.6614\n",
            "Epoch 240/500\n",
            "2/2 [==============================] - 0s 8ms/step - loss: 9.5264 - mae: 9.5264\n",
            "Epoch 241/500\n",
            "2/2 [==============================] - 0s 8ms/step - loss: 14.6706 - mae: 14.6706\n",
            "Epoch 242/500\n",
            "2/2 [==============================] - 0s 8ms/step - loss: 8.5440 - mae: 8.5440\n",
            "Epoch 243/500\n",
            "2/2 [==============================] - 0s 8ms/step - loss: 17.7222 - mae: 17.7222\n",
            "Epoch 244/500\n",
            "2/2 [==============================] - 0s 8ms/step - loss: 13.8198 - mae: 13.8198\n",
            "Epoch 245/500\n",
            "2/2 [==============================] - 0s 8ms/step - loss: 14.4799 - mae: 14.4799\n",
            "Epoch 246/500\n",
            "2/2 [==============================] - 0s 8ms/step - loss: 18.1462 - mae: 18.1462\n",
            "Epoch 247/500\n",
            "2/2 [==============================] - 0s 8ms/step - loss: 37.1399 - mae: 37.1399\n",
            "Epoch 248/500\n",
            "2/2 [==============================] - 0s 8ms/step - loss: 6.7738 - mae: 6.7738\n",
            "Epoch 249/500\n",
            "2/2 [==============================] - 0s 9ms/step - loss: 8.0082 - mae: 8.0082\n",
            "Epoch 250/500\n",
            "2/2 [==============================] - 0s 8ms/step - loss: 24.8730 - mae: 24.8730\n",
            "Epoch 251/500\n",
            "2/2 [==============================] - 0s 10ms/step - loss: 10.4450 - mae: 10.4450\n",
            "Epoch 252/500\n",
            "2/2 [==============================] - 0s 9ms/step - loss: 30.8490 - mae: 30.8490\n",
            "Epoch 253/500\n",
            "2/2 [==============================] - 0s 8ms/step - loss: 8.1666 - mae: 8.1666\n",
            "Epoch 254/500\n",
            "2/2 [==============================] - 0s 8ms/step - loss: 16.3198 - mae: 16.3198\n",
            "Epoch 255/500\n",
            "2/2 [==============================] - 0s 7ms/step - loss: 22.0837 - mae: 22.0837\n",
            "Epoch 256/500\n",
            "2/2 [==============================] - 0s 8ms/step - loss: 26.7295 - mae: 26.7295\n",
            "Epoch 257/500\n",
            "2/2 [==============================] - 0s 7ms/step - loss: 11.8428 - mae: 11.8428\n",
            "Epoch 258/500\n",
            "2/2 [==============================] - 0s 8ms/step - loss: 8.5039 - mae: 8.5039\n",
            "Epoch 259/500\n",
            "2/2 [==============================] - 0s 15ms/step - loss: 22.7354 - mae: 22.7354\n",
            "Epoch 260/500\n",
            "2/2 [==============================] - 0s 11ms/step - loss: 31.1512 - mae: 31.1512\n",
            "Epoch 261/500\n",
            "2/2 [==============================] - 0s 6ms/step - loss: 11.0627 - mae: 11.0627\n",
            "Epoch 262/500\n",
            "2/2 [==============================] - 0s 8ms/step - loss: 9.9348 - mae: 9.9348\n",
            "Epoch 263/500\n",
            "2/2 [==============================] - 0s 7ms/step - loss: 8.8998 - mae: 8.8998\n",
            "Epoch 264/500\n",
            "2/2 [==============================] - 0s 7ms/step - loss: 21.1117 - mae: 21.1117\n",
            "Epoch 265/500\n",
            "2/2 [==============================] - 0s 7ms/step - loss: 11.5909 - mae: 11.5909\n",
            "Epoch 266/500\n",
            "2/2 [==============================] - 0s 8ms/step - loss: 13.4504 - mae: 13.4504\n",
            "Epoch 267/500\n",
            "2/2 [==============================] - 0s 8ms/step - loss: 11.1751 - mae: 11.1751\n",
            "Epoch 268/500\n",
            "2/2 [==============================] - 0s 13ms/step - loss: 19.3572 - mae: 19.3572\n",
            "Epoch 269/500\n",
            "2/2 [==============================] - 0s 9ms/step - loss: 40.0973 - mae: 40.0973\n",
            "Epoch 270/500\n",
            "2/2 [==============================] - 0s 10ms/step - loss: 12.6167 - mae: 12.6167\n",
            "Epoch 271/500\n",
            "2/2 [==============================] - 0s 8ms/step - loss: 14.8339 - mae: 14.8339\n",
            "Epoch 272/500\n",
            "2/2 [==============================] - 0s 7ms/step - loss: 28.6287 - mae: 28.6287\n",
            "Epoch 273/500\n",
            "2/2 [==============================] - 0s 7ms/step - loss: 7.2720 - mae: 7.2720\n",
            "Epoch 274/500\n",
            "2/2 [==============================] - 0s 6ms/step - loss: 6.3855 - mae: 6.3855\n",
            "Epoch 275/500\n",
            "2/2 [==============================] - 0s 13ms/step - loss: 36.2733 - mae: 36.2733\n",
            "Epoch 276/500\n",
            "2/2 [==============================] - 0s 6ms/step - loss: 8.2605 - mae: 8.2605\n",
            "Epoch 277/500\n",
            "2/2 [==============================] - 0s 6ms/step - loss: 27.1898 - mae: 27.1898\n",
            "Epoch 278/500\n",
            "2/2 [==============================] - 0s 8ms/step - loss: 10.8020 - mae: 10.8020\n",
            "Epoch 279/500\n",
            "2/2 [==============================] - 0s 10ms/step - loss: 16.2096 - mae: 16.2096\n",
            "Epoch 280/500\n",
            "2/2 [==============================] - 0s 8ms/step - loss: 21.4415 - mae: 21.4415\n",
            "Epoch 281/500\n",
            "2/2 [==============================] - 0s 10ms/step - loss: 23.3006 - mae: 23.3006\n",
            "Epoch 282/500\n",
            "2/2 [==============================] - 0s 8ms/step - loss: 8.1505 - mae: 8.1505\n",
            "Epoch 283/500\n",
            "2/2 [==============================] - 0s 8ms/step - loss: 8.3926 - mae: 8.3926\n",
            "Epoch 284/500\n",
            "2/2 [==============================] - 0s 9ms/step - loss: 26.0201 - mae: 26.0201\n",
            "Epoch 285/500\n",
            "2/2 [==============================] - 0s 10ms/step - loss: 14.5232 - mae: 14.5232\n",
            "Epoch 286/500\n",
            "2/2 [==============================] - 0s 8ms/step - loss: 4.8610 - mae: 4.8610\n",
            "Epoch 287/500\n",
            "2/2 [==============================] - 0s 10ms/step - loss: 27.2811 - mae: 27.2811\n",
            "Epoch 288/500\n",
            "2/2 [==============================] - 0s 7ms/step - loss: 16.3483 - mae: 16.3483\n",
            "Epoch 289/500\n",
            "2/2 [==============================] - 0s 7ms/step - loss: 13.0518 - mae: 13.0518\n",
            "Epoch 290/500\n",
            "2/2 [==============================] - 0s 8ms/step - loss: 17.6451 - mae: 17.6451\n",
            "Epoch 291/500\n",
            "2/2 [==============================] - 0s 7ms/step - loss: 14.4149 - mae: 14.4149\n",
            "Epoch 292/500\n",
            "2/2 [==============================] - 0s 7ms/step - loss: 18.4273 - mae: 18.4273\n",
            "Epoch 293/500\n",
            "2/2 [==============================] - 0s 7ms/step - loss: 20.9418 - mae: 20.9418\n",
            "Epoch 294/500\n",
            "2/2 [==============================] - 0s 7ms/step - loss: 27.6926 - mae: 27.6926\n",
            "Epoch 295/500\n",
            "2/2 [==============================] - 0s 7ms/step - loss: 7.6025 - mae: 7.6025\n",
            "Epoch 296/500\n",
            "2/2 [==============================] - 0s 6ms/step - loss: 14.3567 - mae: 14.3567\n",
            "Epoch 297/500\n",
            "2/2 [==============================] - 0s 8ms/step - loss: 14.4537 - mae: 14.4537\n",
            "Epoch 298/500\n",
            "2/2 [==============================] - 0s 7ms/step - loss: 26.9367 - mae: 26.9367\n",
            "Epoch 299/500\n",
            "2/2 [==============================] - 0s 7ms/step - loss: 11.1992 - mae: 11.1992\n",
            "Epoch 300/500\n",
            "2/2 [==============================] - 0s 7ms/step - loss: 7.7764 - mae: 7.7764\n",
            "Epoch 301/500\n",
            "2/2 [==============================] - 0s 7ms/step - loss: 22.1560 - mae: 22.1560\n",
            "Epoch 302/500\n",
            "2/2 [==============================] - 0s 7ms/step - loss: 7.6505 - mae: 7.6505\n",
            "Epoch 303/500\n",
            "2/2 [==============================] - 0s 7ms/step - loss: 18.7139 - mae: 18.7139\n",
            "Epoch 304/500\n",
            "2/2 [==============================] - 0s 7ms/step - loss: 12.5013 - mae: 12.5013\n",
            "Epoch 305/500\n",
            "2/2 [==============================] - 0s 9ms/step - loss: 7.6521 - mae: 7.6521\n",
            "Epoch 306/500\n",
            "2/2 [==============================] - 0s 8ms/step - loss: 21.8366 - mae: 21.8366\n",
            "Epoch 307/500\n",
            "2/2 [==============================] - 0s 6ms/step - loss: 8.2920 - mae: 8.2920\n",
            "Epoch 308/500\n",
            "2/2 [==============================] - 0s 8ms/step - loss: 20.9150 - mae: 20.9150\n",
            "Epoch 309/500\n",
            "2/2 [==============================] - 0s 7ms/step - loss: 19.3155 - mae: 19.3155\n",
            "Epoch 310/500\n",
            "2/2 [==============================] - 0s 7ms/step - loss: 6.1030 - mae: 6.1030\n",
            "Epoch 311/500\n",
            "2/2 [==============================] - 0s 8ms/step - loss: 7.9421 - mae: 7.9421\n",
            "Epoch 312/500\n",
            "2/2 [==============================] - 0s 7ms/step - loss: 30.5615 - mae: 30.5615\n",
            "Epoch 313/500\n",
            "2/2 [==============================] - 0s 7ms/step - loss: 5.2717 - mae: 5.2717\n",
            "Epoch 314/500\n",
            "2/2 [==============================] - 0s 8ms/step - loss: 12.7250 - mae: 12.7250\n",
            "Epoch 315/500\n",
            "2/2 [==============================] - 0s 7ms/step - loss: 13.0564 - mae: 13.0564\n",
            "Epoch 316/500\n",
            "2/2 [==============================] - 0s 7ms/step - loss: 4.8426 - mae: 4.8426\n",
            "Epoch 317/500\n",
            "2/2 [==============================] - 0s 7ms/step - loss: 27.7452 - mae: 27.7452\n",
            "Epoch 318/500\n",
            "2/2 [==============================] - 0s 7ms/step - loss: 11.3618 - mae: 11.3618\n",
            "Epoch 319/500\n",
            "2/2 [==============================] - 0s 7ms/step - loss: 5.5646 - mae: 5.5646\n",
            "Epoch 320/500\n",
            "2/2 [==============================] - 0s 7ms/step - loss: 26.1116 - mae: 26.1116\n",
            "Epoch 321/500\n",
            "2/2 [==============================] - 0s 7ms/step - loss: 7.8345 - mae: 7.8345\n",
            "Epoch 322/500\n",
            "2/2 [==============================] - 0s 8ms/step - loss: 6.6893 - mae: 6.6893\n",
            "Epoch 323/500\n",
            "2/2 [==============================] - 0s 8ms/step - loss: 18.3957 - mae: 18.3957\n",
            "Epoch 324/500\n",
            "2/2 [==============================] - 0s 7ms/step - loss: 6.3457 - mae: 6.3457\n",
            "Epoch 325/500\n",
            "2/2 [==============================] - 0s 8ms/step - loss: 14.5899 - mae: 14.5899\n",
            "Epoch 326/500\n",
            "2/2 [==============================] - 0s 11ms/step - loss: 7.0269 - mae: 7.0269\n",
            "Epoch 327/500\n",
            "2/2 [==============================] - 0s 8ms/step - loss: 17.5357 - mae: 17.5357\n",
            "Epoch 328/500\n",
            "2/2 [==============================] - 0s 7ms/step - loss: 14.4144 - mae: 14.4144\n",
            "Epoch 329/500\n",
            "2/2 [==============================] - 0s 7ms/step - loss: 17.7437 - mae: 17.7437\n",
            "Epoch 330/500\n",
            "2/2 [==============================] - 0s 9ms/step - loss: 4.2394 - mae: 4.2394\n",
            "Epoch 331/500\n",
            "2/2 [==============================] - 0s 7ms/step - loss: 25.3919 - mae: 25.3919\n",
            "Epoch 332/500\n",
            "2/2 [==============================] - 0s 8ms/step - loss: 14.7720 - mae: 14.7720\n",
            "Epoch 333/500\n",
            "2/2 [==============================] - 0s 7ms/step - loss: 9.6027 - mae: 9.6027\n",
            "Epoch 334/500\n",
            "2/2 [==============================] - 0s 7ms/step - loss: 7.7373 - mae: 7.7373\n",
            "Epoch 335/500\n",
            "2/2 [==============================] - 0s 7ms/step - loss: 6.2474 - mae: 6.2474\n",
            "Epoch 336/500\n",
            "2/2 [==============================] - 0s 7ms/step - loss: 38.5533 - mae: 38.5533\n",
            "Epoch 337/500\n",
            "2/2 [==============================] - 0s 7ms/step - loss: 29.8838 - mae: 29.8838\n",
            "Epoch 338/500\n",
            "2/2 [==============================] - 0s 8ms/step - loss: 16.2918 - mae: 16.2918\n",
            "Epoch 339/500\n",
            "2/2 [==============================] - 0s 8ms/step - loss: 9.7389 - mae: 9.7389\n",
            "Epoch 340/500\n",
            "2/2 [==============================] - 0s 7ms/step - loss: 8.6497 - mae: 8.6497\n",
            "Epoch 341/500\n",
            "2/2 [==============================] - 0s 8ms/step - loss: 21.7577 - mae: 21.7577\n",
            "Epoch 342/500\n",
            "2/2 [==============================] - 0s 7ms/step - loss: 14.0159 - mae: 14.0159\n",
            "Epoch 343/500\n",
            "2/2 [==============================] - 0s 7ms/step - loss: 11.5308 - mae: 11.5308\n",
            "Epoch 344/500\n",
            "2/2 [==============================] - 0s 7ms/step - loss: 10.6721 - mae: 10.6721\n",
            "Epoch 345/500\n",
            "2/2 [==============================] - 0s 8ms/step - loss: 30.8307 - mae: 30.8307\n",
            "Epoch 346/500\n",
            "2/2 [==============================] - 0s 7ms/step - loss: 10.5858 - mae: 10.5858\n",
            "Epoch 347/500\n",
            "2/2 [==============================] - 0s 7ms/step - loss: 25.4344 - mae: 25.4344\n",
            "Epoch 348/500\n",
            "2/2 [==============================] - 0s 8ms/step - loss: 13.6035 - mae: 13.6035\n",
            "Epoch 349/500\n",
            "2/2 [==============================] - 0s 7ms/step - loss: 12.9292 - mae: 12.9292\n",
            "Epoch 350/500\n",
            "2/2 [==============================] - 0s 8ms/step - loss: 15.3653 - mae: 15.3653\n",
            "Epoch 351/500\n",
            "2/2 [==============================] - 0s 7ms/step - loss: 32.8094 - mae: 32.8094\n",
            "Epoch 352/500\n",
            "2/2 [==============================] - 0s 7ms/step - loss: 13.8696 - mae: 13.8696\n",
            "Epoch 353/500\n",
            "2/2 [==============================] - 0s 7ms/step - loss: 15.8728 - mae: 15.8728\n",
            "Epoch 354/500\n",
            "2/2 [==============================] - 0s 7ms/step - loss: 18.9861 - mae: 18.9861\n",
            "Epoch 355/500\n",
            "2/2 [==============================] - 0s 7ms/step - loss: 34.4127 - mae: 34.4127\n",
            "Epoch 356/500\n",
            "2/2 [==============================] - 0s 7ms/step - loss: 8.3252 - mae: 8.3252\n",
            "Epoch 357/500\n",
            "2/2 [==============================] - 0s 7ms/step - loss: 21.8946 - mae: 21.8946\n",
            "Epoch 358/500\n",
            "2/2 [==============================] - 0s 7ms/step - loss: 20.0411 - mae: 20.0411\n",
            "Epoch 359/500\n",
            "2/2 [==============================] - 0s 6ms/step - loss: 11.0533 - mae: 11.0533\n",
            "Epoch 360/500\n",
            "2/2 [==============================] - 0s 8ms/step - loss: 20.2752 - mae: 20.2752\n",
            "Epoch 361/500\n",
            "2/2 [==============================] - 0s 8ms/step - loss: 11.0169 - mae: 11.0169\n",
            "Epoch 362/500\n",
            "2/2 [==============================] - 0s 8ms/step - loss: 6.8319 - mae: 6.8319\n",
            "Epoch 363/500\n",
            "2/2 [==============================] - 0s 7ms/step - loss: 23.9851 - mae: 23.9851\n",
            "Epoch 364/500\n",
            "2/2 [==============================] - 0s 7ms/step - loss: 29.7460 - mae: 29.7460\n",
            "Epoch 365/500\n",
            "2/2 [==============================] - 0s 7ms/step - loss: 8.3569 - mae: 8.3569\n",
            "Epoch 366/500\n",
            "2/2 [==============================] - 0s 7ms/step - loss: 6.1057 - mae: 6.1057\n",
            "Epoch 367/500\n",
            "2/2 [==============================] - 0s 7ms/step - loss: 34.8642 - mae: 34.8642\n",
            "Epoch 368/500\n",
            "2/2 [==============================] - 0s 7ms/step - loss: 7.4108 - mae: 7.4108\n",
            "Epoch 369/500\n",
            "2/2 [==============================] - 0s 7ms/step - loss: 9.2209 - mae: 9.2209\n",
            "Epoch 370/500\n",
            "2/2 [==============================] - 0s 7ms/step - loss: 10.9179 - mae: 10.9179\n",
            "Epoch 371/500\n",
            "2/2 [==============================] - 0s 7ms/step - loss: 8.9805 - mae: 8.9805\n",
            "Epoch 372/500\n",
            "2/2 [==============================] - 0s 7ms/step - loss: 7.7085 - mae: 7.7085\n",
            "Epoch 373/500\n",
            "2/2 [==============================] - 0s 7ms/step - loss: 25.0730 - mae: 25.0730\n",
            "Epoch 374/500\n",
            "2/2 [==============================] - 0s 8ms/step - loss: 13.1914 - mae: 13.1914\n",
            "Epoch 375/500\n",
            "2/2 [==============================] - 0s 7ms/step - loss: 11.8697 - mae: 11.8697\n",
            "Epoch 376/500\n",
            "2/2 [==============================] - 0s 8ms/step - loss: 14.1448 - mae: 14.1448\n",
            "Epoch 377/500\n",
            "2/2 [==============================] - 0s 7ms/step - loss: 15.7323 - mae: 15.7323\n",
            "Epoch 378/500\n",
            "2/2 [==============================] - 0s 7ms/step - loss: 17.0640 - mae: 17.0640\n",
            "Epoch 379/500\n",
            "2/2 [==============================] - 0s 7ms/step - loss: 19.3525 - mae: 19.3525\n",
            "Epoch 380/500\n",
            "2/2 [==============================] - 0s 7ms/step - loss: 15.7084 - mae: 15.7084\n",
            "Epoch 381/500\n",
            "2/2 [==============================] - 0s 7ms/step - loss: 11.4779 - mae: 11.4779\n",
            "Epoch 382/500\n",
            "2/2 [==============================] - 0s 7ms/step - loss: 16.3538 - mae: 16.3538\n",
            "Epoch 383/500\n",
            "2/2 [==============================] - 0s 8ms/step - loss: 22.1195 - mae: 22.1195\n",
            "Epoch 384/500\n",
            "2/2 [==============================] - 0s 7ms/step - loss: 7.7374 - mae: 7.7374\n",
            "Epoch 385/500\n",
            "2/2 [==============================] - 0s 7ms/step - loss: 10.6315 - mae: 10.6315\n",
            "Epoch 386/500\n",
            "2/2 [==============================] - 0s 7ms/step - loss: 19.1277 - mae: 19.1277\n",
            "Epoch 387/500\n",
            "2/2 [==============================] - 0s 8ms/step - loss: 26.4142 - mae: 26.4142\n",
            "Epoch 388/500\n",
            "2/2 [==============================] - 0s 7ms/step - loss: 10.0708 - mae: 10.0708\n",
            "Epoch 389/500\n",
            "2/2 [==============================] - 0s 8ms/step - loss: 5.1737 - mae: 5.1737\n",
            "Epoch 390/500\n",
            "2/2 [==============================] - 0s 7ms/step - loss: 18.7504 - mae: 18.7504\n",
            "Epoch 391/500\n",
            "2/2 [==============================] - 0s 8ms/step - loss: 9.3565 - mae: 9.3565\n",
            "Epoch 392/500\n",
            "2/2 [==============================] - 0s 8ms/step - loss: 14.4251 - mae: 14.4251\n",
            "Epoch 393/500\n",
            "2/2 [==============================] - 0s 8ms/step - loss: 15.4347 - mae: 15.4347\n",
            "Epoch 394/500\n",
            "2/2 [==============================] - 0s 8ms/step - loss: 14.7643 - mae: 14.7643\n",
            "Epoch 395/500\n",
            "2/2 [==============================] - 0s 8ms/step - loss: 25.0102 - mae: 25.0102\n",
            "Epoch 396/500\n",
            "2/2 [==============================] - 0s 7ms/step - loss: 19.0553 - mae: 19.0553\n",
            "Epoch 397/500\n",
            "2/2 [==============================] - 0s 7ms/step - loss: 11.6075 - mae: 11.6075\n",
            "Epoch 398/500\n",
            "2/2 [==============================] - 0s 7ms/step - loss: 19.2777 - mae: 19.2777\n",
            "Epoch 399/500\n",
            "2/2 [==============================] - 0s 7ms/step - loss: 25.8147 - mae: 25.8147\n",
            "Epoch 400/500\n",
            "2/2 [==============================] - 0s 8ms/step - loss: 15.4902 - mae: 15.4902\n",
            "Epoch 401/500\n",
            "2/2 [==============================] - 0s 7ms/step - loss: 14.6899 - mae: 14.6899\n",
            "Epoch 402/500\n",
            "2/2 [==============================] - 0s 10ms/step - loss: 24.3263 - mae: 24.3263\n",
            "Epoch 403/500\n",
            "2/2 [==============================] - 0s 8ms/step - loss: 16.1738 - mae: 16.1738\n",
            "Epoch 404/500\n",
            "2/2 [==============================] - 0s 10ms/step - loss: 10.3744 - mae: 10.3744\n",
            "Epoch 405/500\n",
            "2/2 [==============================] - 0s 7ms/step - loss: 6.3883 - mae: 6.3883\n",
            "Epoch 406/500\n",
            "2/2 [==============================] - 0s 7ms/step - loss: 17.6245 - mae: 17.6245\n",
            "Epoch 407/500\n",
            "2/2 [==============================] - 0s 7ms/step - loss: 11.0631 - mae: 11.0631\n",
            "Epoch 408/500\n",
            "2/2 [==============================] - 0s 7ms/step - loss: 21.1492 - mae: 21.1492\n",
            "Epoch 409/500\n",
            "2/2 [==============================] - 0s 7ms/step - loss: 30.0864 - mae: 30.0864\n",
            "Epoch 410/500\n",
            "2/2 [==============================] - 0s 7ms/step - loss: 9.8947 - mae: 9.8947\n",
            "Epoch 411/500\n",
            "2/2 [==============================] - 0s 7ms/step - loss: 14.7547 - mae: 14.7547\n",
            "Epoch 412/500\n",
            "2/2 [==============================] - 0s 7ms/step - loss: 21.5287 - mae: 21.5287\n",
            "Epoch 413/500\n",
            "2/2 [==============================] - 0s 7ms/step - loss: 13.1893 - mae: 13.1893\n",
            "Epoch 414/500\n",
            "2/2 [==============================] - 0s 7ms/step - loss: 8.2727 - mae: 8.2727\n",
            "Epoch 415/500\n",
            "2/2 [==============================] - 0s 7ms/step - loss: 11.6909 - mae: 11.6909\n",
            "Epoch 416/500\n",
            "2/2 [==============================] - 0s 7ms/step - loss: 25.6000 - mae: 25.6000\n",
            "Epoch 417/500\n",
            "2/2 [==============================] - 0s 7ms/step - loss: 15.7968 - mae: 15.7968\n",
            "Epoch 418/500\n",
            "2/2 [==============================] - 0s 7ms/step - loss: 12.5697 - mae: 12.5697\n",
            "Epoch 419/500\n",
            "2/2 [==============================] - 0s 7ms/step - loss: 15.7283 - mae: 15.7283\n",
            "Epoch 420/500\n",
            "2/2 [==============================] - 0s 7ms/step - loss: 24.4197 - mae: 24.4197\n",
            "Epoch 421/500\n",
            "2/2 [==============================] - 0s 7ms/step - loss: 18.3002 - mae: 18.3002\n",
            "Epoch 422/500\n",
            "2/2 [==============================] - 0s 7ms/step - loss: 8.6717 - mae: 8.6717\n",
            "Epoch 423/500\n",
            "2/2 [==============================] - 0s 7ms/step - loss: 24.6380 - mae: 24.6380\n",
            "Epoch 424/500\n",
            "2/2 [==============================] - 0s 8ms/step - loss: 16.8744 - mae: 16.8744\n",
            "Epoch 425/500\n",
            "2/2 [==============================] - 0s 7ms/step - loss: 7.3734 - mae: 7.3734\n",
            "Epoch 426/500\n",
            "2/2 [==============================] - 0s 7ms/step - loss: 21.0582 - mae: 21.0582\n",
            "Epoch 427/500\n",
            "2/2 [==============================] - 0s 7ms/step - loss: 6.5444 - mae: 6.5444\n",
            "Epoch 428/500\n",
            "2/2 [==============================] - 0s 7ms/step - loss: 13.4744 - mae: 13.4744\n",
            "Epoch 429/500\n",
            "2/2 [==============================] - 0s 7ms/step - loss: 11.2000 - mae: 11.2000\n",
            "Epoch 430/500\n",
            "2/2 [==============================] - 0s 7ms/step - loss: 12.0979 - mae: 12.0979\n",
            "Epoch 431/500\n",
            "2/2 [==============================] - 0s 7ms/step - loss: 8.6521 - mae: 8.6521\n",
            "Epoch 432/500\n",
            "2/2 [==============================] - 0s 7ms/step - loss: 18.8986 - mae: 18.8986\n",
            "Epoch 433/500\n",
            "2/2 [==============================] - 0s 7ms/step - loss: 9.4853 - mae: 9.4853\n",
            "Epoch 434/500\n",
            "2/2 [==============================] - 0s 7ms/step - loss: 30.9951 - mae: 30.9951\n",
            "Epoch 435/500\n",
            "2/2 [==============================] - 0s 7ms/step - loss: 11.8642 - mae: 11.8642\n",
            "Epoch 436/500\n",
            "2/2 [==============================] - 0s 7ms/step - loss: 28.7937 - mae: 28.7937\n",
            "Epoch 437/500\n",
            "2/2 [==============================] - 0s 7ms/step - loss: 8.0914 - mae: 8.0914\n",
            "Epoch 438/500\n",
            "2/2 [==============================] - 0s 7ms/step - loss: 12.8312 - mae: 12.8312\n",
            "Epoch 439/500\n",
            "2/2 [==============================] - 0s 7ms/step - loss: 33.9235 - mae: 33.9235\n",
            "Epoch 440/500\n",
            "2/2 [==============================] - 0s 6ms/step - loss: 15.4728 - mae: 15.4728\n",
            "Epoch 441/500\n",
            "2/2 [==============================] - 0s 7ms/step - loss: 17.8325 - mae: 17.8325\n",
            "Epoch 442/500\n",
            "2/2 [==============================] - 0s 7ms/step - loss: 17.5735 - mae: 17.5735\n",
            "Epoch 443/500\n",
            "2/2 [==============================] - 0s 7ms/step - loss: 7.6718 - mae: 7.6718\n",
            "Epoch 444/500\n",
            "2/2 [==============================] - 0s 6ms/step - loss: 22.8451 - mae: 22.8451\n",
            "Epoch 445/500\n",
            "2/2 [==============================] - 0s 7ms/step - loss: 12.1363 - mae: 12.1363\n",
            "Epoch 446/500\n",
            "2/2 [==============================] - 0s 6ms/step - loss: 10.4829 - mae: 10.4829\n",
            "Epoch 447/500\n",
            "2/2 [==============================] - 0s 7ms/step - loss: 16.9442 - mae: 16.9442\n",
            "Epoch 448/500\n",
            "2/2 [==============================] - 0s 7ms/step - loss: 11.6523 - mae: 11.6523\n",
            "Epoch 449/500\n",
            "2/2 [==============================] - 0s 7ms/step - loss: 14.8444 - mae: 14.8444\n",
            "Epoch 450/500\n",
            "2/2 [==============================] - 0s 7ms/step - loss: 17.5982 - mae: 17.5982\n",
            "Epoch 451/500\n",
            "2/2 [==============================] - 0s 7ms/step - loss: 14.6422 - mae: 14.6422\n",
            "Epoch 452/500\n",
            "2/2 [==============================] - 0s 7ms/step - loss: 31.3109 - mae: 31.3109\n",
            "Epoch 453/500\n",
            "2/2 [==============================] - 0s 7ms/step - loss: 10.5930 - mae: 10.5930\n",
            "Epoch 454/500\n",
            "2/2 [==============================] - 0s 7ms/step - loss: 26.9124 - mae: 26.9124\n",
            "Epoch 455/500\n",
            "2/2 [==============================] - 0s 8ms/step - loss: 12.1653 - mae: 12.1653\n",
            "Epoch 456/500\n",
            "2/2 [==============================] - 0s 7ms/step - loss: 15.3839 - mae: 15.3839\n",
            "Epoch 457/500\n",
            "2/2 [==============================] - 0s 9ms/step - loss: 19.1259 - mae: 19.1259\n",
            "Epoch 458/500\n",
            "2/2 [==============================] - 0s 7ms/step - loss: 23.3359 - mae: 23.3359\n",
            "Epoch 459/500\n",
            "2/2 [==============================] - 0s 7ms/step - loss: 16.6933 - mae: 16.6933\n",
            "Epoch 460/500\n",
            "2/2 [==============================] - 0s 7ms/step - loss: 3.9794 - mae: 3.9794\n",
            "Epoch 461/500\n",
            "2/2 [==============================] - 0s 7ms/step - loss: 18.4440 - mae: 18.4440\n",
            "Epoch 462/500\n",
            "2/2 [==============================] - 0s 7ms/step - loss: 11.1820 - mae: 11.1820\n",
            "Epoch 463/500\n",
            "2/2 [==============================] - 0s 7ms/step - loss: 26.9442 - mae: 26.9442\n",
            "Epoch 464/500\n",
            "2/2 [==============================] - 0s 7ms/step - loss: 12.1334 - mae: 12.1334\n",
            "Epoch 465/500\n",
            "2/2 [==============================] - 0s 7ms/step - loss: 7.6476 - mae: 7.6476\n",
            "Epoch 466/500\n",
            "2/2 [==============================] - 0s 7ms/step - loss: 12.6747 - mae: 12.6747\n",
            "Epoch 467/500\n",
            "2/2 [==============================] - 0s 6ms/step - loss: 6.1516 - mae: 6.1516\n",
            "Epoch 468/500\n",
            "2/2 [==============================] - 0s 7ms/step - loss: 13.8980 - mae: 13.8980\n",
            "Epoch 469/500\n",
            "2/2 [==============================] - 0s 7ms/step - loss: 14.0722 - mae: 14.0722\n",
            "Epoch 470/500\n",
            "2/2 [==============================] - 0s 8ms/step - loss: 3.6430 - mae: 3.6430\n",
            "Epoch 471/500\n",
            "2/2 [==============================] - 0s 7ms/step - loss: 15.4906 - mae: 15.4906\n",
            "Epoch 472/500\n",
            "2/2 [==============================] - 0s 7ms/step - loss: 12.2962 - mae: 12.2962\n",
            "Epoch 473/500\n",
            "2/2 [==============================] - 0s 7ms/step - loss: 14.6801 - mae: 14.6801\n",
            "Epoch 474/500\n",
            "2/2 [==============================] - 0s 7ms/step - loss: 18.5416 - mae: 18.5416\n",
            "Epoch 475/500\n",
            "2/2 [==============================] - 0s 8ms/step - loss: 12.6971 - mae: 12.6971\n",
            "Epoch 476/500\n",
            "2/2 [==============================] - 0s 7ms/step - loss: 13.6774 - mae: 13.6774\n",
            "Epoch 477/500\n",
            "2/2 [==============================] - 0s 7ms/step - loss: 30.2619 - mae: 30.2619\n",
            "Epoch 478/500\n",
            "2/2 [==============================] - 0s 7ms/step - loss: 6.9275 - mae: 6.9275\n",
            "Epoch 479/500\n",
            "2/2 [==============================] - 0s 8ms/step - loss: 11.6013 - mae: 11.6013\n",
            "Epoch 480/500\n",
            "2/2 [==============================] - 0s 8ms/step - loss: 18.2767 - mae: 18.2767\n",
            "Epoch 481/500\n",
            "2/2 [==============================] - 0s 8ms/step - loss: 16.1306 - mae: 16.1306\n",
            "Epoch 482/500\n",
            "2/2 [==============================] - 0s 8ms/step - loss: 14.9461 - mae: 14.9461\n",
            "Epoch 483/500\n",
            "2/2 [==============================] - 0s 7ms/step - loss: 20.3107 - mae: 20.3107\n",
            "Epoch 484/500\n",
            "2/2 [==============================] - 0s 8ms/step - loss: 35.7535 - mae: 35.7535\n",
            "Epoch 485/500\n",
            "2/2 [==============================] - 0s 8ms/step - loss: 14.1981 - mae: 14.1981\n",
            "Epoch 486/500\n",
            "2/2 [==============================] - 0s 7ms/step - loss: 6.8437 - mae: 6.8437\n",
            "Epoch 487/500\n",
            "2/2 [==============================] - 0s 8ms/step - loss: 6.3518 - mae: 6.3518\n",
            "Epoch 488/500\n",
            "2/2 [==============================] - 0s 8ms/step - loss: 30.1732 - mae: 30.1732\n",
            "Epoch 489/500\n",
            "2/2 [==============================] - 0s 8ms/step - loss: 12.5751 - mae: 12.5751\n",
            "Epoch 490/500\n",
            "2/2 [==============================] - 0s 8ms/step - loss: 13.0641 - mae: 13.0641\n",
            "Epoch 491/500\n",
            "2/2 [==============================] - 0s 14ms/step - loss: 24.2761 - mae: 24.2761\n",
            "Epoch 492/500\n",
            "2/2 [==============================] - 0s 10ms/step - loss: 18.8320 - mae: 18.8320\n",
            "Epoch 493/500\n",
            "2/2 [==============================] - 0s 11ms/step - loss: 4.8518 - mae: 4.8518\n",
            "Epoch 494/500\n",
            "2/2 [==============================] - 0s 10ms/step - loss: 12.1605 - mae: 12.1605\n",
            "Epoch 495/500\n",
            "2/2 [==============================] - 0s 11ms/step - loss: 13.6548 - mae: 13.6548\n",
            "Epoch 496/500\n",
            "2/2 [==============================] - 0s 9ms/step - loss: 12.8682 - mae: 12.8682\n",
            "Epoch 497/500\n",
            "2/2 [==============================] - 0s 9ms/step - loss: 17.9723 - mae: 17.9723\n",
            "Epoch 498/500\n",
            "2/2 [==============================] - 0s 9ms/step - loss: 22.7787 - mae: 22.7787\n",
            "Epoch 499/500\n",
            "2/2 [==============================] - 0s 12ms/step - loss: 8.6506 - mae: 8.6506\n",
            "Epoch 500/500\n",
            "2/2 [==============================] - 0s 10ms/step - loss: 14.4526 - mae: 14.4526\n"
          ]
        },
        {
          "output_type": "execute_result",
          "data": {
            "text/plain": [
              "<keras.callbacks.History at 0x7ff130ca57b0>"
            ]
          },
          "metadata": {},
          "execution_count": 56
        }
      ]
    },
    {
      "cell_type": "code",
      "source": [
        "# Make and plot some predictions\n",
        "y_preds_3 = model_3.predict(X_test)\n",
        "plot_predictions(predictions=y_preds_3)"
      ],
      "metadata": {
        "colab": {
          "base_uri": "https://localhost:8080/",
          "height": 617
        },
        "id": "Af2yPYYwPIwS",
        "outputId": "93fb49f4-157a-485c-c023-bdb4bb9cbd6b"
      },
      "execution_count": 57,
      "outputs": [
        {
          "output_type": "stream",
          "name": "stdout",
          "text": [
            "1/1 [==============================] - 0s 69ms/step\n"
          ]
        },
        {
          "output_type": "display_data",
          "data": {
            "text/plain": [
              "<Figure size 1000x700 with 1 Axes>"
            ],
            "image/png": "[encoded data removed]"
          },
          "metadata": {}
        }
      ]
    },
    {
      "cell_type": "code",
      "source": [
        "# Calculate mode_3 evaluation metrics\n",
        "mae_3 = mae(y_test, y_preds_3)\n",
        "mse_3 = mse(y_test, y_preds_3)\n",
        "mae_3, mse_3"
      ],
      "metadata": {
        "colab": {
          "base_uri": "https://localhost:8080/"
        },
        "id": "UGudbUC_PkaU",
        "outputId": "48d551c1-9939-40a5-a7c4-a630b09e8397"
      },
      "execution_count": 58,
      "outputs": [
        {
          "output_type": "execute_result",
          "data": {
            "text/plain": [
              "(<tf.Tensor: shape=(), dtype=float32, numpy=68.14019>,\n",
              " <tf.Tensor: shape=(), dtype=float32, numpy=4728.0244>)"
            ]
          },
          "metadata": {},
          "execution_count": 58
        }
      ]
    },
    {
      "cell_type": "markdown",
      "source": [
        "## Comparing results\n",
        "\n",
        "Now we've got results for 3 similar but slightly different results, let's compare them."
      ],
      "metadata": {
        "id": "4Q3P-pDpQLmj"
      }
    },
    {
      "cell_type": "code",
      "source": [
        "# Let's compare our models result using a pandas DataFrame\n",
        "import pandas as pd\n",
        "\n",
        "model_results = [[\"model_1\", mae_1.numpy(), mse_1.numpy()],\n",
        "                 [\"model_2\", mae_2.numpy(), mse_2.numpy()],\n",
        "                 [\"model_3\", mae_3.numpy(), mse_3.numpy()]]\n",
        "\n",
        "all_results = pd.DataFrame(model_results, columns=[\"model\", \"mae\", \"mse\"])\n",
        "all_results"
      ],
      "metadata": {
        "id": "aSXNTBOHx3-O",
        "colab": {
          "base_uri": "https://localhost:8080/",
          "height": 143
        },
        "outputId": "075b8717-a60d-499e-d400-121db81a67c4"
      },
      "execution_count": 60,
      "outputs": [
        {
          "output_type": "execute_result",
          "data": {
            "text/plain": [
              "     model        mae          mse\n",
              "0  model_1  30.519115   941.747864\n",
              "1  model_2  13.094156   181.367767\n",
              "2  model_3  68.140190  4728.024414"
            ],
            "text/html": [
              "\n",
              "  <div id=\"df-551cd33c-8f02-440d-8af0-af094ac51229\">\n",
              "    <div class=\"colab-df-container\">\n",
              "      <div>\n",
              "<style scoped>\n",
              "    .dataframe tbody tr th:only-of-type {\n",
              "        vertical-align: middle;\n",
              "    }\n",
              "\n",
              "    .dataframe tbody tr th {\n",
              "        vertical-align: top;\n",
              "    }\n",
              "\n",
              "    .dataframe thead th {\n",
              "        text-align: right;\n",
              "    }\n",
              "</style>\n",
              "<table border=\"1\" class=\"dataframe\">\n",
              "  <thead>\n",
              "    <tr style=\"text-align: right;\">\n",
              "      <th></th>\n",
              "      <th>model</th>\n",
              "      <th>mae</th>\n",
              "      <th>mse</th>\n",
              "    </tr>\n",
              "  </thead>\n",
              "  <tbody>\n",
              "    <tr>\n",
              "      <th>0</th>\n",
              "      <td>model_1</td>\n",
              "      <td>30.519115</td>\n",
              "      <td>941.747864</td>\n",
              "    </tr>\n",
              "    <tr>\n",
              "      <th>1</th>\n",
              "      <td>model_2</td>\n",
              "      <td>13.094156</td>\n",
              "      <td>181.367767</td>\n",
              "    </tr>\n",
              "    <tr>\n",
              "      <th>2</th>\n",
              "      <td>model_3</td>\n",
              "      <td>68.140190</td>\n",
              "      <td>4728.024414</td>\n",
              "    </tr>\n",
              "  </tbody>\n",
              "</table>\n",
              "</div>\n",
              "      <button class=\"colab-df-convert\" onclick=\"convertToInteractive('df-551cd33c-8f02-440d-8af0-af094ac51229')\"\n",
              "              title=\"Convert this dataframe to an interactive table.\"\n",
              "              style=\"display:none;\">\n",
              "        \n",
              "  <svg xmlns=\"http://www.w3.org/2000/svg\" height=\"24px\"viewBox=\"0 0 24 24\"\n",
              "       width=\"24px\">\n",
              "    <path d=\"M0 0h24v24H0V0z\" fill=\"none\"/>\n",
              "    <path d=\"M18.56 5.44l.94 2.06.94-2.06 2.06-.94-2.06-.94-.94-2.06-.94 2.06-2.06.94zm-11 1L8.5 8.5l.94-2.06 2.06-.94-2.06-.94L8.5 2.5l-.94 2.06-2.06.94zm10 10l.94 2.06.94-2.06 2.06-.94-2.06-.94-.94-2.06-.94 2.06-2.06.94z\"/><path d=\"M17.41 7.96l-1.37-1.37c-.4-.4-.92-.59-1.43-.59-.52 0-1.04.2-1.43.59L10.3 9.45l-7.72 7.72c-.78.78-.78 2.05 0 2.83L4 21.41c.39.39.9.59 1.41.59.51 0 1.02-.2 1.41-.59l7.78-7.78 2.81-2.81c.8-.78.8-2.07 0-2.86zM5.41 20L4 18.59l7.72-7.72 1.47 1.35L5.41 20z\"/>\n",
              "  </svg>\n",
              "      </button>\n",
              "      \n",
              "  <style>\n",
              "    .colab-df-container {\n",
              "      display:flex;\n",
              "      flex-wrap:wrap;\n",
              "      gap: 12px;\n",
              "    }\n",
              "\n",
              "    .colab-df-convert {\n",
              "      background-color: #E8F0FE;\n",
              "      border: none;\n",
              "      border-radius: 50%;\n",
              "      cursor: pointer;\n",
              "      display: none;\n",
              "      fill: #1967D2;\n",
              "      height: 32px;\n",
              "      padding: 0 0 0 0;\n",
              "      width: 32px;\n",
              "    }\n",
              "\n",
              "    .colab-df-convert:hover {\n",
              "      background-color: #E2EBFA;\n",
              "      box-shadow: 0px 1px 2px rgba(60, 64, 67, 0.3), 0px 1px 3px 1px rgba(60, 64, 67, 0.15);\n",
              "      fill: #174EA6;\n",
              "    }\n",
              "\n",
              "    [theme=dark] .colab-df-convert {\n",
              "      background-color: #3B4455;\n",
              "      fill: #D2E3FC;\n",
              "    }\n",
              "\n",
              "    [theme=dark] .colab-df-convert:hover {\n",
              "      background-color: #434B5C;\n",
              "      box-shadow: 0px 1px 3px 1px rgba(0, 0, 0, 0.15);\n",
              "      filter: drop-shadow(0px 1px 2px rgba(0, 0, 0, 0.3));\n",
              "      fill: #FFFFFF;\n",
              "    }\n",
              "  </style>\n",
              "\n",
              "      <script>\n",
              "        const buttonEl =\n",
              "          document.querySelector('#df-551cd33c-8f02-440d-8af0-af094ac51229 button.colab-df-convert');\n",
              "        buttonEl.style.display =\n",
              "          google.colab.kernel.accessAllowed ? 'block' : 'none';\n",
              "\n",
              "        async function convertToInteractive(key) {\n",
              "          const element = document.querySelector('#df-551cd33c-8f02-440d-8af0-af094ac51229');\n",
              "          const dataTable =\n",
              "            await google.colab.kernel.invokeFunction('convertToInteractive',\n",
              "                                                     [key], {});\n",
              "          if (!dataTable) return;\n",
              "\n",
              "          const docLinkHtml = 'Like what you see? Visit the ' +\n",
              "            '<a target=\"_blank\" href=https://colab.research.google.com/notebooks/data_table.ipynb>data table notebook</a>'\n",
              "            + ' to learn more about interactive tables.';\n",
              "          element.innerHTML = '';\n",
              "          dataTable['output_type'] = 'display_data';\n",
              "          await google.colab.output.renderOutput(dataTable, element);\n",
              "          const docLink = document.createElement('div');\n",
              "          docLink.innerHTML = docLinkHtml;\n",
              "          element.appendChild(docLink);\n",
              "        }\n",
              "      </script>\n",
              "    </div>\n",
              "  </div>\n",
              "  "
            ]
          },
          "metadata": {},
          "execution_count": 60
        }
      ]
    },
    {
      "cell_type": "code",
      "source": [
        "model_2.summary()"
      ],
      "metadata": {
        "id": "QW5D9HUNQa18",
        "colab": {
          "base_uri": "https://localhost:8080/"
        },
        "outputId": "35bebeeb-56c9-49f8-a91a-4a07cab6cbb0"
      },
      "execution_count": 62,
      "outputs": [
        {
          "output_type": "stream",
          "name": "stdout",
          "text": [
            "Model: \"sequential_5\"\n",
            "_________________________________________________________________\n",
            " Layer (type)                Output Shape              Param #   \n",
            "=================================================================\n",
            " dense_6 (Dense)             (None, 20)                40        \n",
            "                                                                 \n",
            " dense_7 (Dense)             (None, 1)                 21        \n",
            "                                                                 \n",
            "=================================================================\n",
            "Total params: 61\n",
            "Trainable params: 61\n",
            "Non-trainable params: 0\n",
            "_________________________________________________________________\n"
          ]
        }
      ]
    },
    {
      "cell_type": "markdown",
      "source": [
        "From our experiments, it looks like `model_2` performed the best.\n",
        "\n",
        "And now, you might be thinking, \"wow, comparing models is tedious...\" and it definitely can be, we've only compared 3 models here. \n",
        "\n",
        "But this is part of what machine learning modelling is about, trying many different combinations of models and seeing which performs best.\n",
        "\n",
        "Each model you build is a small experiment. \n",
        "\n",
        "> 🔑 **Note:** One of your main goals should be to minimize the time between your experiments. The more experiments you do, the more things you'll figure out which don't work and in turn, get closer to figuring out what does work. Remember the machine learning practitioner's motto: \"experiment, experiment, experiment\".\n",
        "\n",
        "Another thing you'll also find is what you thought may work (such as training a model for longer) may not always work and the exact opposite is also often the case.\n",
        "\n",
        "## Tracking your experiments\n",
        "\n",
        "One really good habit to get into is tracking your modelling experiments to see which perform better than others.\n",
        "\n",
        "We've done a simple version of this above (keeping the results in different variables).\n",
        "\n",
        "> 📖 **Resource:** But as you build more models, you'll want to look into using tools such as:\n",
        "* [**TensorBoard**](https://tensorboard.dev/) - a component of the TensorFlow library to help track modelling experiments (we'll see this later).\n",
        "* [**Weights & Biases**](https://www.wandb.com/) - a tool for tracking all kinds of machine learning experiments (the good news for Weights & Biases is it plugs into TensorBoard)."
      ],
      "metadata": {
        "id": "TkKvdUoiG8o9"
      }
    },
    {
      "cell_type": "markdown",
      "source": [
        "## Saving a model\n",
        "\n",
        "Once you've trained a model and found one which performs to your liking, you'll probably want to save it for use elsewhere (like a web application or mobile device).\n",
        "\n",
        "You can save a TensorFlow/Keras model using [`model.save()`](https://www.tensorflow.org/tutorials/keras/save_and_load#save_the_entire_model).\n",
        "\n",
        "There are two ways to save a model in TensorFlow:\n",
        "1. The [SavedModel format](https://www.tensorflow.org/tutorials/keras/save_and_load#savedmodel_format) (default).\n",
        "2. The [HDF5 format](https://www.tensorflow.org/tutorials/keras/save_and_load#hdf5_format).\n",
        "\n",
        "The main difference between the two is the SavedModel is automatically able to save custom objects (such as special layers) without additional modifications when loading the model back in.\n",
        "\n",
        "Which one should you use?\n",
        "\n",
        "It depends on your situation but the SavedModel format will suffice most of the time.\n",
        "\n",
        "Both methods use the same method call."
      ],
      "metadata": {
        "id": "-Ug0w854JJSW"
      }
    },
    {
      "cell_type": "code",
      "source": [
        "# Save the model using SaveModel format\n",
        "model_2.save(\"best_model_SaveModel_format\")"
      ],
      "metadata": {
        "colab": {
          "base_uri": "https://localhost:8080/"
        },
        "id": "o9jop7LNJNnt",
        "outputId": "21f59224-98b1-438b-8a02-01da1c8ae3bf"
      },
      "execution_count": 63,
      "outputs": [
        {
          "output_type": "stream",
          "name": "stderr",
          "text": [
            "WARNING:absl:Found untraced functions such as _update_step_xla while saving (showing 1 of 1). These functions will not be directly callable after loading.\n"
          ]
        }
      ]
    },
    {
      "cell_type": "code",
      "source": [
        "# Save the entire model using the HDF5 format.\n",
        "# The '.h5' extension indicates that the model should be saved to HDF5.\n",
        "model_2.save('best_model_SaveModel_format.h5')"
      ],
      "metadata": {
        "id": "iTYdJ62PKJ-f"
      },
      "execution_count": 76,
      "outputs": []
    },
    {
      "cell_type": "markdown",
      "source": [
        "## Loading a model\n",
        "\n",
        "We can load a saved model using the [`load_model()`](https://www.tensorflow.org/api_docs/python/tf/keras/models/load_model) method.\n",
        "\n",
        "Loading a model for the different formats (SavedModel and HDF5) is the same (as long as the pathnames to the particular formats are correct)."
      ],
      "metadata": {
        "id": "4r56aiBBK0bX"
      }
    },
    {
      "cell_type": "code",
      "source": [
        "# Load in the SaveModel format model\n",
        "loaded_SavedModel_format = tf.keras.models.load_model(\"best_model_SaveModel_format\")\n",
        "loaded_SavedModel_format.summary()"
      ],
      "metadata": {
        "colab": {
          "base_uri": "https://localhost:8080/"
        },
        "id": "GXd7e6k7LL-e",
        "outputId": "dbd090a3-b13d-4d7e-b712-75031002b72a"
      },
      "execution_count": 66,
      "outputs": [
        {
          "output_type": "stream",
          "name": "stdout",
          "text": [
            "Model: \"sequential_5\"\n",
            "_________________________________________________________________\n",
            " Layer (type)                Output Shape              Param #   \n",
            "=================================================================\n",
            " dense_6 (Dense)             (None, 20)                40        \n",
            "                                                                 \n",
            " dense_7 (Dense)             (None, 1)                 21        \n",
            "                                                                 \n",
            "=================================================================\n",
            "Total params: 61\n",
            "Trainable params: 61\n",
            "Non-trainable params: 0\n",
            "_________________________________________________________________\n"
          ]
        }
      ]
    },
    {
      "cell_type": "code",
      "source": [
        "model_2.summary()"
      ],
      "metadata": {
        "colab": {
          "base_uri": "https://localhost:8080/"
        },
        "id": "5-9PPiRlL0nQ",
        "outputId": "1e17e55e-abc9-4016-d0cf-f7851c4437c1"
      },
      "execution_count": 67,
      "outputs": [
        {
          "output_type": "stream",
          "name": "stdout",
          "text": [
            "Model: \"sequential_5\"\n",
            "_________________________________________________________________\n",
            " Layer (type)                Output Shape              Param #   \n",
            "=================================================================\n",
            " dense_6 (Dense)             (None, 20)                40        \n",
            "                                                                 \n",
            " dense_7 (Dense)             (None, 1)                 21        \n",
            "                                                                 \n",
            "=================================================================\n",
            "Total params: 61\n",
            "Trainable params: 61\n",
            "Non-trainable params: 0\n",
            "_________________________________________________________________\n"
          ]
        }
      ]
    },
    {
      "cell_type": "code",
      "source": [
        "# Compare model_2 predictions with SavedModel format model prediction\n",
        "model_2_preds = model_2.predict(X_test)\n",
        "loaded_SavedModel_format_preds = loaded_SavedModel_format.predict(X_test)\n",
        "model_2_preds == loaded_SavedModel_format_preds"
      ],
      "metadata": {
        "colab": {
          "base_uri": "https://localhost:8080/"
        },
        "id": "2cIFkUYVMHte",
        "outputId": "4da6a1da-f02e-4eb0-f2e9-a4d86be5a5af"
      },
      "execution_count": 68,
      "outputs": [
        {
          "output_type": "stream",
          "name": "stdout",
          "text": [
            "1/1 [==============================] - 0s 41ms/step\n",
            "1/1 [==============================] - 0s 46ms/step\n"
          ]
        },
        {
          "output_type": "execute_result",
          "data": {
            "text/plain": [
              "array([[ True],\n",
              "       [ True],\n",
              "       [ True],\n",
              "       [ True],\n",
              "       [ True],\n",
              "       [ True],\n",
              "       [ True],\n",
              "       [ True],\n",
              "       [ True],\n",
              "       [ True]])"
            ]
          },
          "metadata": {},
          "execution_count": 68
        }
      ]
    },
    {
      "cell_type": "code",
      "source": [
        "mae(y_true=y_test, y_pred=model_2_preds).numpy() == mae(y_true=y_test, y_pred=loaded_SavedModel_format_preds).numpy()"
      ],
      "metadata": {
        "colab": {
          "base_uri": "https://localhost:8080/"
        },
        "id": "dlgfTRw6MwSn",
        "outputId": "12a251a4-e6ad-4de3-b533-5695de2ad8fb"
      },
      "execution_count": 71,
      "outputs": [
        {
          "output_type": "execute_result",
          "data": {
            "text/plain": [
              "True"
            ]
          },
          "metadata": {},
          "execution_count": 71
        }
      ]
    },
    {
      "cell_type": "code",
      "source": [
        "model_2_preds.squeeze()"
      ],
      "metadata": {
        "colab": {
          "base_uri": "https://localhost:8080/"
        },
        "id": "VMeC8wpjNSUY",
        "outputId": "1d088dd7-bb17-4aee-c59d-25d9a8deae7b"
      },
      "execution_count": 72,
      "outputs": [
        {
          "output_type": "execute_result",
          "data": {
            "text/plain": [
              "array([ 78.16195 ,  83.258   ,  88.35404 ,  93.450096,  98.546135,\n",
              "       103.64217 , 108.73823 , 113.83427 , 118.93031 , 124.02636 ],\n",
              "      dtype=float32)"
            ]
          },
          "metadata": {},
          "execution_count": 72
        }
      ]
    },
    {
      "cell_type": "code",
      "source": [
        "loaded_SavedModel_format_preds.squeeze()"
      ],
      "metadata": {
        "colab": {
          "base_uri": "https://localhost:8080/"
        },
        "id": "Prca9EDFNl4m",
        "outputId": "abe49181-974a-4535-816b-dd6adbb58771"
      },
      "execution_count": 73,
      "outputs": [
        {
          "output_type": "execute_result",
          "data": {
            "text/plain": [
              "array([ 78.16195 ,  83.258   ,  88.35404 ,  93.450096,  98.546135,\n",
              "       103.64217 , 108.73823 , 113.83427 , 118.93031 , 124.02636 ],\n",
              "      dtype=float32)"
            ]
          },
          "metadata": {},
          "execution_count": 73
        }
      ]
    },
    {
      "cell_type": "markdown",
      "source": [
        "Loading in from the HDF5 is much the same."
      ],
      "metadata": {
        "id": "sOXgPzc4NpL1"
      }
    },
    {
      "cell_type": "code",
      "source": [
        "loaded_h5_model = tf.keras.models.load_model(\"best_model_SaveModel_format.h5\")\n",
        "loaded_h5_model.summary()"
      ],
      "metadata": {
        "colab": {
          "base_uri": "https://localhost:8080/"
        },
        "id": "O7aR_WUtN5iq",
        "outputId": "fea619bc-139f-4d5e-c13e-321a5ba9746d"
      },
      "execution_count": 77,
      "outputs": [
        {
          "output_type": "stream",
          "name": "stdout",
          "text": [
            "Model: \"sequential_5\"\n",
            "_________________________________________________________________\n",
            " Layer (type)                Output Shape              Param #   \n",
            "=================================================================\n",
            " dense_6 (Dense)             (None, 20)                40        \n",
            "                                                                 \n",
            " dense_7 (Dense)             (None, 1)                 21        \n",
            "                                                                 \n",
            "=================================================================\n",
            "Total params: 61\n",
            "Trainable params: 61\n",
            "Non-trainable params: 0\n",
            "_________________________________________________________________\n"
          ]
        }
      ]
    },
    {
      "cell_type": "code",
      "source": [
        "# Check to see if loaded .h5 model predictions match model_2\n",
        "model_2_preds = model_2.predict(X_test)\n",
        "loaded_h5_model_preds = loaded_h5_model.predict(X_test)\n",
        "model_2_preds == loaded_h5_model_preds"
      ],
      "metadata": {
        "colab": {
          "base_uri": "https://localhost:8080/"
        },
        "id": "xTHQSA7AOFNG",
        "outputId": "687c6563-6c70-4dab-d089-da55b942b07a"
      },
      "execution_count": 78,
      "outputs": [
        {
          "output_type": "stream",
          "name": "stdout",
          "text": [
            "1/1 [==============================] - 0s 19ms/step\n",
            "1/1 [==============================] - 0s 41ms/step\n"
          ]
        },
        {
          "output_type": "execute_result",
          "data": {
            "text/plain": [
              "array([[ True],\n",
              "       [ True],\n",
              "       [ True],\n",
              "       [ True],\n",
              "       [ True],\n",
              "       [ True],\n",
              "       [ True],\n",
              "       [ True],\n",
              "       [ True],\n",
              "       [ True]])"
            ]
          },
          "metadata": {},
          "execution_count": 78
        }
      ]
    },
    {
      "cell_type": "markdown",
      "source": [
        "## Downloading a model (from Google Colab)\n",
        "\n",
        "Say you wanted to get your model from Google Colab to your local machine, you can do one of the following things:\n",
        "* Right click on the file in the files pane and click 'download'.\n",
        "* Use the code below."
      ],
      "metadata": {
        "id": "XI-7GEL3Oz7P"
      }
    },
    {
      "cell_type": "code",
      "source": [
        "# Download the model (or any file) from Google Colab\n",
        "from google.colab import files\n",
        "\n",
        "files.download(\"best_model_SaveModel_format.h5\")"
      ],
      "metadata": {
        "colab": {
          "base_uri": "https://localhost:8080/",
          "height": 17
        },
        "id": "xdV22YOLPQQo",
        "outputId": "5e412898-c528-470e-ae02-6ad63e2cec8e"
      },
      "execution_count": 79,
      "outputs": [
        {
          "output_type": "display_data",
          "data": {
            "text/plain": [
              "<IPython.core.display.Javascript object>"
            ],
            "application/javascript": [
              "\n",
              "    async function download(id, filename, size) {\n",
              "      if (!google.colab.kernel.accessAllowed) {\n",
              "        return;\n",
              "      }\n",
              "      const div = document.createElement('div');\n",
              "      const label = document.createElement('label');\n",
              "      label.textContent = `Downloading \"${filename}\": `;\n",
              "      div.appendChild(label);\n",
              "      const progress = document.createElement('progress');\n",
              "      progress.max = size;\n",
              "      div.appendChild(progress);\n",
              "      document.body.appendChild(div);\n",
              "\n",
              "      const buffers = [];\n",
              "      let downloaded = 0;\n",
              "\n",
              "      const channel = await google.colab.kernel.comms.open(id);\n",
              "      // Send a message to notify the kernel that we're ready.\n",
              "      channel.send({})\n",
              "\n",
              "      for await (const message of channel.messages) {\n",
              "        // Send a message to notify the kernel that we're ready.\n",
              "        channel.send({})\n",
              "        if (message.buffers) {\n",
              "          for (const buffer of message.buffers) {\n",
              "            buffers.push(buffer);\n",
              "            downloaded += buffer.byteLength;\n",
              "            progress.value = downloaded;\n",
              "          }\n",
              "        }\n",
              "      }\n",
              "      const blob = new Blob(buffers, {type: 'application/binary'});\n",
              "      const a = document.createElement('a');\n",
              "      a.href = window.URL.createObjectURL(blob);\n",
              "      a.download = filename;\n",
              "      div.appendChild(a);\n",
              "      a.click();\n",
              "      div.remove();\n",
              "    }\n",
              "  "
            ]
          },
          "metadata": {}
        },
        {
          "output_type": "display_data",
          "data": {
            "text/plain": [
              "<IPython.core.display.Javascript object>"
            ],
            "application/javascript": [
              "download(\"download_4fb7b5be-2595-4c9a-9fd4-5a091536e392\", \"best_model_SaveModel_format.h5\", 21952)"
            ]
          },
          "metadata": {}
        }
      ]
    },
    {
      "cell_type": "markdown",
      "source": [
        "**Save codes into Google Drive**"
      ],
      "metadata": {
        "id": "TffjWPyDQxTm"
      }
    },
    {
      "cell_type": "code",
      "source": [
        "# # Save a file from Google Colab to Google Drive\n",
        "# !cp /content/best_model_SaveModel_format.h5 /content/drive/MyDrive/tensorflow_course"
      ],
      "metadata": {
        "id": "gIWI7hciPyIo"
      },
      "execution_count": 80,
      "outputs": []
    },
    {
      "cell_type": "code",
      "source": [
        "!ls /content/drive/MyDrive/tensorflow_course"
      ],
      "metadata": {
        "colab": {
          "base_uri": "https://localhost:8080/"
        },
        "id": "b2eIas0FQeCW",
        "outputId": "9155a59a-bcb5-4539-9eeb-9d0d17d8dd68"
      },
      "execution_count": 81,
      "outputs": [
        {
          "output_type": "stream",
          "name": "stdout",
          "text": [
            "best_model_SaveModel_format.h5\n"
          ]
        }
      ]
    },
    {
      "cell_type": "markdown",
      "source": [
        "## A larger example\n",
        "\n",
        "Alright, we've seen the fundamentals of building neural network regression models in TensorFlow.\n",
        "\n",
        "Let's step it up a notch and build a model for a more feature rich dataset.\n",
        "\n",
        "More specifically we're going to try predict the cost of medical insurance for individuals based on a number of different parameters such as, `age`, `sex`, `bmi`, `children`, `smoking_status` and `residential_region`.\n",
        "\n",
        "To do, we'll leverage the pubically available [Medical Cost dataset](https://www.kaggle.com/mirichoi0218/insurance) available from Kaggle and [hosted on GitHub](https://github.com/stedy/Machine-Learning-with-R-datasets/blob/master/insurance.csv).\n",
        "\n",
        "https://www.kaggle.com/datasets/mirichoi0218/insurance\n",
        "\n",
        "> 🔑 **Note:** When learning machine learning paradigms, you'll often go through a series of foundational techniques and then practice them by working with open-source datasets and examples. Just as we're doing now, learn foundations, put them to work with different problems. Every time you work on something new, it's a good idea to search for something like \"problem X example with Python/TensorFlow\" where you substitute X for your problem."
      ],
      "metadata": {
        "id": "POxK9dU8Qly2"
      }
    },
    {
      "cell_type": "code",
      "source": [
        "# Import the required libraries"
      ],
      "metadata": {
        "id": "B31fRszMSpum"
      },
      "execution_count": 86,
      "outputs": []
    },
    {
      "cell_type": "code",
      "source": [
        "import tensorflow as tf\n",
        "import pandas as pd\n",
        "import matplotlib.pyplot as plt"
      ],
      "metadata": {
        "id": "NbTJp774Q57P"
      },
      "execution_count": 87,
      "outputs": []
    },
    {
      "cell_type": "code",
      "source": [
        "# Read the insurance dataset"
      ],
      "metadata": {
        "id": "Y_stv_9KQ54Y"
      },
      "execution_count": 88,
      "outputs": []
    },
    {
      "cell_type": "code",
      "source": [
        "insurance = pd.read_csv(\"https://raw.githubusercontent.com/stedy/Machine-Learning-with-R-datasets/master/insurance.csv\")\n",
        "insurance"
      ],
      "metadata": {
        "colab": {
          "base_uri": "https://localhost:8080/",
          "height": 423
        },
        "id": "lFgmZaECQ51X",
        "outputId": "7cbb7e23-0601-4c86-bf8b-94ae488fb056"
      },
      "execution_count": 90,
      "outputs": [
        {
          "output_type": "execute_result",
          "data": {
            "text/plain": [
              "      age     sex     bmi  children smoker     region      charges\n",
              "0      19  female  27.900         0    yes  southwest  16884.92400\n",
              "1      18    male  33.770         1     no  southeast   1725.55230\n",
              "2      28    male  33.000         3     no  southeast   4449.46200\n",
              "3      33    male  22.705         0     no  northwest  21984.47061\n",
              "4      32    male  28.880         0     no  northwest   3866.85520\n",
              "...   ...     ...     ...       ...    ...        ...          ...\n",
              "1333   50    male  30.970         3     no  northwest  10600.54830\n",
              "1334   18  female  31.920         0     no  northeast   2205.98080\n",
              "1335   18  female  36.850         0     no  southeast   1629.83350\n",
              "1336   21  female  25.800         0     no  southwest   2007.94500\n",
              "1337   61  female  29.070         0    yes  northwest  29141.36030\n",
              "\n",
              "[1338 rows x 7 columns]"
            ],
            "text/html": [
              "\n",
              "  <div id=\"df-3abe3ce8-c240-4f24-b058-f1c4a518e294\">\n",
              "    <div class=\"colab-df-container\">\n",
              "      <div>\n",
              "<style scoped>\n",
              "    .dataframe tbody tr th:only-of-type {\n",
              "        vertical-align: middle;\n",
              "    }\n",
              "\n",
              "    .dataframe tbody tr th {\n",
              "        vertical-align: top;\n",
              "    }\n",
              "\n",
              "    .dataframe thead th {\n",
              "        text-align: right;\n",
              "    }\n",
              "</style>\n",
              "<table border=\"1\" class=\"dataframe\">\n",
              "  <thead>\n",
              "    <tr style=\"text-align: right;\">\n",
              "      <th></th>\n",
              "      <th>age</th>\n",
              "      <th>sex</th>\n",
              "      <th>bmi</th>\n",
              "      <th>children</th>\n",
              "      <th>smoker</th>\n",
              "      <th>region</th>\n",
              "      <th>charges</th>\n",
              "    </tr>\n",
              "  </thead>\n",
              "  <tbody>\n",
              "    <tr>\n",
              "      <th>0</th>\n",
              "      <td>19</td>\n",
              "      <td>female</td>\n",
              "      <td>27.900</td>\n",
              "      <td>0</td>\n",
              "      <td>yes</td>\n",
              "      <td>southwest</td>\n",
              "      <td>16884.92400</td>\n",
              "    </tr>\n",
              "    <tr>\n",
              "      <th>1</th>\n",
              "      <td>18</td>\n",
              "      <td>male</td>\n",
              "      <td>33.770</td>\n",
              "      <td>1</td>\n",
              "      <td>no</td>\n",
              "      <td>southeast</td>\n",
              "      <td>1725.55230</td>\n",
              "    </tr>\n",
              "    <tr>\n",
              "      <th>2</th>\n",
              "      <td>28</td>\n",
              "      <td>male</td>\n",
              "      <td>33.000</td>\n",
              "      <td>3</td>\n",
              "      <td>no</td>\n",
              "      <td>southeast</td>\n",
              "      <td>4449.46200</td>\n",
              "    </tr>\n",
              "    <tr>\n",
              "      <th>3</th>\n",
              "      <td>33</td>\n",
              "      <td>male</td>\n",
              "      <td>22.705</td>\n",
              "      <td>0</td>\n",
              "      <td>no</td>\n",
              "      <td>northwest</td>\n",
              "      <td>21984.47061</td>\n",
              "    </tr>\n",
              "    <tr>\n",
              "      <th>4</th>\n",
              "      <td>32</td>\n",
              "      <td>male</td>\n",
              "      <td>28.880</td>\n",
              "      <td>0</td>\n",
              "      <td>no</td>\n",
              "      <td>northwest</td>\n",
              "      <td>3866.85520</td>\n",
              "    </tr>\n",
              "    <tr>\n",
              "      <th>...</th>\n",
              "      <td>...</td>\n",
              "      <td>...</td>\n",
              "      <td>...</td>\n",
              "      <td>...</td>\n",
              "      <td>...</td>\n",
              "      <td>...</td>\n",
              "      <td>...</td>\n",
              "    </tr>\n",
              "    <tr>\n",
              "      <th>1333</th>\n",
              "      <td>50</td>\n",
              "      <td>male</td>\n",
              "      <td>30.970</td>\n",
              "      <td>3</td>\n",
              "      <td>no</td>\n",
              "      <td>northwest</td>\n",
              "      <td>10600.54830</td>\n",
              "    </tr>\n",
              "    <tr>\n",
              "      <th>1334</th>\n",
              "      <td>18</td>\n",
              "      <td>female</td>\n",
              "      <td>31.920</td>\n",
              "      <td>0</td>\n",
              "      <td>no</td>\n",
              "      <td>northeast</td>\n",
              "      <td>2205.98080</td>\n",
              "    </tr>\n",
              "    <tr>\n",
              "      <th>1335</th>\n",
              "      <td>18</td>\n",
              "      <td>female</td>\n",
              "      <td>36.850</td>\n",
              "      <td>0</td>\n",
              "      <td>no</td>\n",
              "      <td>southeast</td>\n",
              "      <td>1629.83350</td>\n",
              "    </tr>\n",
              "    <tr>\n",
              "      <th>1336</th>\n",
              "      <td>21</td>\n",
              "      <td>female</td>\n",
              "      <td>25.800</td>\n",
              "      <td>0</td>\n",
              "      <td>no</td>\n",
              "      <td>southwest</td>\n",
              "      <td>2007.94500</td>\n",
              "    </tr>\n",
              "    <tr>\n",
              "      <th>1337</th>\n",
              "      <td>61</td>\n",
              "      <td>female</td>\n",
              "      <td>29.070</td>\n",
              "      <td>0</td>\n",
              "      <td>yes</td>\n",
              "      <td>northwest</td>\n",
              "      <td>29141.36030</td>\n",
              "    </tr>\n",
              "  </tbody>\n",
              "</table>\n",
              "<p>1338 rows × 7 columns</p>\n",
              "</div>\n",
              "      <button class=\"colab-df-convert\" onclick=\"convertToInteractive('df-3abe3ce8-c240-4f24-b058-f1c4a518e294')\"\n",
              "              title=\"Convert this dataframe to an interactive table.\"\n",
              "              style=\"display:none;\">\n",
              "        \n",
              "  <svg xmlns=\"http://www.w3.org/2000/svg\" height=\"24px\"viewBox=\"0 0 24 24\"\n",
              "       width=\"24px\">\n",
              "    <path d=\"M0 0h24v24H0V0z\" fill=\"none\"/>\n",
              "    <path d=\"M18.56 5.44l.94 2.06.94-2.06 2.06-.94-2.06-.94-.94-2.06-.94 2.06-2.06.94zm-11 1L8.5 8.5l.94-2.06 2.06-.94-2.06-.94L8.5 2.5l-.94 2.06-2.06.94zm10 10l.94 2.06.94-2.06 2.06-.94-2.06-.94-.94-2.06-.94 2.06-2.06.94z\"/><path d=\"M17.41 7.96l-1.37-1.37c-.4-.4-.92-.59-1.43-.59-.52 0-1.04.2-1.43.59L10.3 9.45l-7.72 7.72c-.78.78-.78 2.05 0 2.83L4 21.41c.39.39.9.59 1.41.59.51 0 1.02-.2 1.41-.59l7.78-7.78 2.81-2.81c.8-.78.8-2.07 0-2.86zM5.41 20L4 18.59l7.72-7.72 1.47 1.35L5.41 20z\"/>\n",
              "  </svg>\n",
              "      </button>\n",
              "      \n",
              "  <style>\n",
              "    .colab-df-container {\n",
              "      display:flex;\n",
              "      flex-wrap:wrap;\n",
              "      gap: 12px;\n",
              "    }\n",
              "\n",
              "    .colab-df-convert {\n",
              "      background-color: #E8F0FE;\n",
              "      border: none;\n",
              "      border-radius: 50%;\n",
              "      cursor: pointer;\n",
              "      display: none;\n",
              "      fill: #1967D2;\n",
              "      height: 32px;\n",
              "      padding: 0 0 0 0;\n",
              "      width: 32px;\n",
              "    }\n",
              "\n",
              "    .colab-df-convert:hover {\n",
              "      background-color: #E2EBFA;\n",
              "      box-shadow: 0px 1px 2px rgba(60, 64, 67, 0.3), 0px 1px 3px 1px rgba(60, 64, 67, 0.15);\n",
              "      fill: #174EA6;\n",
              "    }\n",
              "\n",
              "    [theme=dark] .colab-df-convert {\n",
              "      background-color: #3B4455;\n",
              "      fill: #D2E3FC;\n",
              "    }\n",
              "\n",
              "    [theme=dark] .colab-df-convert:hover {\n",
              "      background-color: #434B5C;\n",
              "      box-shadow: 0px 1px 3px 1px rgba(0, 0, 0, 0.15);\n",
              "      filter: drop-shadow(0px 1px 2px rgba(0, 0, 0, 0.3));\n",
              "      fill: #FFFFFF;\n",
              "    }\n",
              "  </style>\n",
              "\n",
              "      <script>\n",
              "        const buttonEl =\n",
              "          document.querySelector('#df-3abe3ce8-c240-4f24-b058-f1c4a518e294 button.colab-df-convert');\n",
              "        buttonEl.style.display =\n",
              "          google.colab.kernel.accessAllowed ? 'block' : 'none';\n",
              "\n",
              "        async function convertToInteractive(key) {\n",
              "          const element = document.querySelector('#df-3abe3ce8-c240-4f24-b058-f1c4a518e294');\n",
              "          const dataTable =\n",
              "            await google.colab.kernel.invokeFunction('convertToInteractive',\n",
              "                                                     [key], {});\n",
              "          if (!dataTable) return;\n",
              "\n",
              "          const docLinkHtml = 'Like what you see? Visit the ' +\n",
              "            '<a target=\"_blank\" href=https://colab.research.google.com/notebooks/data_table.ipynb>data table notebook</a>'\n",
              "            + ' to learn more about interactive tables.';\n",
              "          element.innerHTML = '';\n",
              "          dataTable['output_type'] = 'display_data';\n",
              "          await google.colab.output.renderOutput(dataTable, element);\n",
              "          const docLink = document.createElement('div');\n",
              "          docLink.innerHTML = docLinkHtml;\n",
              "          element.appendChild(docLink);\n",
              "        }\n",
              "      </script>\n",
              "    </div>\n",
              "  </div>\n",
              "  "
            ]
          },
          "metadata": {},
          "execution_count": 90
        }
      ]
    },
    {
      "cell_type": "code",
      "source": [
        "insurance[\"smoker\"], insurance[\"age\"]"
      ],
      "metadata": {
        "colab": {
          "base_uri": "https://localhost:8080/"
        },
        "id": "AzT4m4d5Q5yG",
        "outputId": "c79f661d-18b0-4812-b73d-72ec2e46924b"
      },
      "execution_count": 92,
      "outputs": [
        {
          "output_type": "execute_result",
          "data": {
            "text/plain": [
              "(0       yes\n",
              " 1        no\n",
              " 2        no\n",
              " 3        no\n",
              " 4        no\n",
              "        ... \n",
              " 1333     no\n",
              " 1334     no\n",
              " 1335     no\n",
              " 1336     no\n",
              " 1337    yes\n",
              " Name: smoker, Length: 1338, dtype: object,\n",
              " 0       19\n",
              " 1       18\n",
              " 2       28\n",
              " 3       33\n",
              " 4       32\n",
              "         ..\n",
              " 1333    50\n",
              " 1334    18\n",
              " 1335    18\n",
              " 1336    21\n",
              " 1337    61\n",
              " Name: age, Length: 1338, dtype: int64)"
            ]
          },
          "metadata": {},
          "execution_count": 92
        }
      ]
    },
    {
      "cell_type": "markdown",
      "source": [
        "We're going to have to turn the non-numerical columns into numbers (because a neural network can't handle non-numerical inputs).\n",
        "\n",
        "To do so, we'll use the [`get_dummies()`](https://pandas.pydata.org/pandas-docs/stable/reference/api/pandas.get_dummies.html) method in pandas.\n",
        "\n",
        "see the link: \n",
        "https://pandas.pydata.org/docs/reference/api/pandas.get_dummies.html\n",
        "\n",
        "It converts categorical variables (like the `sex`, `smoker` and `region` columns) into numerical variables using one-hot encoding."
      ],
      "metadata": {
        "id": "_wuNPvQqSxcW"
      }
    },
    {
      "cell_type": "code",
      "source": [
        "# Let's try one-hot encode our DataFrame so it's all numbers"
      ],
      "metadata": {
        "id": "3jhkDKWXVhYH"
      },
      "execution_count": 99,
      "outputs": []
    },
    {
      "cell_type": "code",
      "source": [
        "insurance_one_hot = pd.get_dummies(insurance)\n",
        "insurance_one_hot.head()"
      ],
      "metadata": {
        "colab": {
          "base_uri": "https://localhost:8080/",
          "height": 270
        },
        "id": "Ape-i1d9SxZ4",
        "outputId": "8c98f4d8-e512-4f16-ccea-94e63865b258"
      },
      "execution_count": 98,
      "outputs": [
        {
          "output_type": "execute_result",
          "data": {
            "text/plain": [
              "   age     bmi  children      charges  sex_female  sex_male  smoker_no  \\\n",
              "0   19  27.900         0  16884.92400           1         0          0   \n",
              "1   18  33.770         1   1725.55230           0         1          1   \n",
              "2   28  33.000         3   4449.46200           0         1          1   \n",
              "3   33  22.705         0  21984.47061           0         1          1   \n",
              "4   32  28.880         0   3866.85520           0         1          1   \n",
              "\n",
              "   smoker_yes  region_northeast  region_northwest  region_southeast  \\\n",
              "0           1                 0                 0                 0   \n",
              "1           0                 0                 0                 1   \n",
              "2           0                 0                 0                 1   \n",
              "3           0                 0                 1                 0   \n",
              "4           0                 0                 1                 0   \n",
              "\n",
              "   region_southwest  \n",
              "0                 1  \n",
              "1                 0  \n",
              "2                 0  \n",
              "3                 0  \n",
              "4                 0  "
            ],
            "text/html": [
              "\n",
              "  <div id=\"df-90986931-1483-4b0e-b860-4daf62f4c62f\">\n",
              "    <div class=\"colab-df-container\">\n",
              "      <div>\n",
              "<style scoped>\n",
              "    .dataframe tbody tr th:only-of-type {\n",
              "        vertical-align: middle;\n",
              "    }\n",
              "\n",
              "    .dataframe tbody tr th {\n",
              "        vertical-align: top;\n",
              "    }\n",
              "\n",
              "    .dataframe thead th {\n",
              "        text-align: right;\n",
              "    }\n",
              "</style>\n",
              "<table border=\"1\" class=\"dataframe\">\n",
              "  <thead>\n",
              "    <tr style=\"text-align: right;\">\n",
              "      <th></th>\n",
              "      <th>age</th>\n",
              "      <th>bmi</th>\n",
              "      <th>children</th>\n",
              "      <th>charges</th>\n",
              "      <th>sex_female</th>\n",
              "      <th>sex_male</th>\n",
              "      <th>smoker_no</th>\n",
              "      <th>smoker_yes</th>\n",
              "      <th>region_northeast</th>\n",
              "      <th>region_northwest</th>\n",
              "      <th>region_southeast</th>\n",
              "      <th>region_southwest</th>\n",
              "    </tr>\n",
              "  </thead>\n",
              "  <tbody>\n",
              "    <tr>\n",
              "      <th>0</th>\n",
              "      <td>19</td>\n",
              "      <td>27.900</td>\n",
              "      <td>0</td>\n",
              "      <td>16884.92400</td>\n",
              "      <td>1</td>\n",
              "      <td>0</td>\n",
              "      <td>0</td>\n",
              "      <td>1</td>\n",
              "      <td>0</td>\n",
              "      <td>0</td>\n",
              "      <td>0</td>\n",
              "      <td>1</td>\n",
              "    </tr>\n",
              "    <tr>\n",
              "      <th>1</th>\n",
              "      <td>18</td>\n",
              "      <td>33.770</td>\n",
              "      <td>1</td>\n",
              "      <td>1725.55230</td>\n",
              "      <td>0</td>\n",
              "      <td>1</td>\n",
              "      <td>1</td>\n",
              "      <td>0</td>\n",
              "      <td>0</td>\n",
              "      <td>0</td>\n",
              "      <td>1</td>\n",
              "      <td>0</td>\n",
              "    </tr>\n",
              "    <tr>\n",
              "      <th>2</th>\n",
              "      <td>28</td>\n",
              "      <td>33.000</td>\n",
              "      <td>3</td>\n",
              "      <td>4449.46200</td>\n",
              "      <td>0</td>\n",
              "      <td>1</td>\n",
              "      <td>1</td>\n",
              "      <td>0</td>\n",
              "      <td>0</td>\n",
              "      <td>0</td>\n",
              "      <td>1</td>\n",
              "      <td>0</td>\n",
              "    </tr>\n",
              "    <tr>\n",
              "      <th>3</th>\n",
              "      <td>33</td>\n",
              "      <td>22.705</td>\n",
              "      <td>0</td>\n",
              "      <td>21984.47061</td>\n",
              "      <td>0</td>\n",
              "      <td>1</td>\n",
              "      <td>1</td>\n",
              "      <td>0</td>\n",
              "      <td>0</td>\n",
              "      <td>1</td>\n",
              "      <td>0</td>\n",
              "      <td>0</td>\n",
              "    </tr>\n",
              "    <tr>\n",
              "      <th>4</th>\n",
              "      <td>32</td>\n",
              "      <td>28.880</td>\n",
              "      <td>0</td>\n",
              "      <td>3866.85520</td>\n",
              "      <td>0</td>\n",
              "      <td>1</td>\n",
              "      <td>1</td>\n",
              "      <td>0</td>\n",
              "      <td>0</td>\n",
              "      <td>1</td>\n",
              "      <td>0</td>\n",
              "      <td>0</td>\n",
              "    </tr>\n",
              "  </tbody>\n",
              "</table>\n",
              "</div>\n",
              "      <button class=\"colab-df-convert\" onclick=\"convertToInteractive('df-90986931-1483-4b0e-b860-4daf62f4c62f')\"\n",
              "              title=\"Convert this dataframe to an interactive table.\"\n",
              "              style=\"display:none;\">\n",
              "        \n",
              "  <svg xmlns=\"http://www.w3.org/2000/svg\" height=\"24px\"viewBox=\"0 0 24 24\"\n",
              "       width=\"24px\">\n",
              "    <path d=\"M0 0h24v24H0V0z\" fill=\"none\"/>\n",
              "    <path d=\"M18.56 5.44l.94 2.06.94-2.06 2.06-.94-2.06-.94-.94-2.06-.94 2.06-2.06.94zm-11 1L8.5 8.5l.94-2.06 2.06-.94-2.06-.94L8.5 2.5l-.94 2.06-2.06.94zm10 10l.94 2.06.94-2.06 2.06-.94-2.06-.94-.94-2.06-.94 2.06-2.06.94z\"/><path d=\"M17.41 7.96l-1.37-1.37c-.4-.4-.92-.59-1.43-.59-.52 0-1.04.2-1.43.59L10.3 9.45l-7.72 7.72c-.78.78-.78 2.05 0 2.83L4 21.41c.39.39.9.59 1.41.59.51 0 1.02-.2 1.41-.59l7.78-7.78 2.81-2.81c.8-.78.8-2.07 0-2.86zM5.41 20L4 18.59l7.72-7.72 1.47 1.35L5.41 20z\"/>\n",
              "  </svg>\n",
              "      </button>\n",
              "      \n",
              "  <style>\n",
              "    .colab-df-container {\n",
              "      display:flex;\n",
              "      flex-wrap:wrap;\n",
              "      gap: 12px;\n",
              "    }\n",
              "\n",
              "    .colab-df-convert {\n",
              "      background-color: #E8F0FE;\n",
              "      border: none;\n",
              "      border-radius: 50%;\n",
              "      cursor: pointer;\n",
              "      display: none;\n",
              "      fill: #1967D2;\n",
              "      height: 32px;\n",
              "      padding: 0 0 0 0;\n",
              "      width: 32px;\n",
              "    }\n",
              "\n",
              "    .colab-df-convert:hover {\n",
              "      background-color: #E2EBFA;\n",
              "      box-shadow: 0px 1px 2px rgba(60, 64, 67, 0.3), 0px 1px 3px 1px rgba(60, 64, 67, 0.15);\n",
              "      fill: #174EA6;\n",
              "    }\n",
              "\n",
              "    [theme=dark] .colab-df-convert {\n",
              "      background-color: #3B4455;\n",
              "      fill: #D2E3FC;\n",
              "    }\n",
              "\n",
              "    [theme=dark] .colab-df-convert:hover {\n",
              "      background-color: #434B5C;\n",
              "      box-shadow: 0px 1px 3px 1px rgba(0, 0, 0, 0.15);\n",
              "      filter: drop-shadow(0px 1px 2px rgba(0, 0, 0, 0.3));\n",
              "      fill: #FFFFFF;\n",
              "    }\n",
              "  </style>\n",
              "\n",
              "      <script>\n",
              "        const buttonEl =\n",
              "          document.querySelector('#df-90986931-1483-4b0e-b860-4daf62f4c62f button.colab-df-convert');\n",
              "        buttonEl.style.display =\n",
              "          google.colab.kernel.accessAllowed ? 'block' : 'none';\n",
              "\n",
              "        async function convertToInteractive(key) {\n",
              "          const element = document.querySelector('#df-90986931-1483-4b0e-b860-4daf62f4c62f');\n",
              "          const dataTable =\n",
              "            await google.colab.kernel.invokeFunction('convertToInteractive',\n",
              "                                                     [key], {});\n",
              "          if (!dataTable) return;\n",
              "\n",
              "          const docLinkHtml = 'Like what you see? Visit the ' +\n",
              "            '<a target=\"_blank\" href=https://colab.research.google.com/notebooks/data_table.ipynb>data table notebook</a>'\n",
              "            + ' to learn more about interactive tables.';\n",
              "          element.innerHTML = '';\n",
              "          dataTable['output_type'] = 'display_data';\n",
              "          await google.colab.output.renderOutput(dataTable, element);\n",
              "          const docLink = document.createElement('div');\n",
              "          docLink.innerHTML = docLinkHtml;\n",
              "          element.appendChild(docLink);\n",
              "        }\n",
              "      </script>\n",
              "    </div>\n",
              "  </div>\n",
              "  "
            ]
          },
          "metadata": {},
          "execution_count": 98
        }
      ]
    },
    {
      "cell_type": "markdown",
      "source": [
        "Now we'll split data into features (`X`) and labels (`y`)."
      ],
      "metadata": {
        "id": "27tsjZtySxWy"
      }
    },
    {
      "cell_type": "code",
      "source": [
        "# Create X & y vales (features and labels)"
      ],
      "metadata": {
        "id": "RqcEvwVtW9ku"
      },
      "execution_count": 105,
      "outputs": []
    },
    {
      "cell_type": "code",
      "source": [
        "X = insurance_one_hot.drop(\"charges\", axis=1)\n",
        "y = insurance_one_hot[\"charges\"]"
      ],
      "metadata": {
        "id": "QfA8ThTWSxUb"
      },
      "execution_count": 106,
      "outputs": []
    },
    {
      "cell_type": "code",
      "source": [
        "# View X\n",
        "X.head()"
      ],
      "metadata": {
        "colab": {
          "base_uri": "https://localhost:8080/",
          "height": 270
        },
        "id": "Q3kgV2aQXKG2",
        "outputId": "dc6b84a3-e285-4007-894b-2d7e6411dfaa"
      },
      "execution_count": 108,
      "outputs": [
        {
          "output_type": "execute_result",
          "data": {
            "text/plain": [
              "   age     bmi  children  sex_female  sex_male  smoker_no  smoker_yes  \\\n",
              "0   19  27.900         0           1         0          0           1   \n",
              "1   18  33.770         1           0         1          1           0   \n",
              "2   28  33.000         3           0         1          1           0   \n",
              "3   33  22.705         0           0         1          1           0   \n",
              "4   32  28.880         0           0         1          1           0   \n",
              "\n",
              "   region_northeast  region_northwest  region_southeast  region_southwest  \n",
              "0                 0                 0                 0                 1  \n",
              "1                 0                 0                 1                 0  \n",
              "2                 0                 0                 1                 0  \n",
              "3                 0                 1                 0                 0  \n",
              "4                 0                 1                 0                 0  "
            ],
            "text/html": [
              "\n",
              "  <div id=\"df-21d7b8ad-f300-446a-9048-14d5cb35c2c4\">\n",
              "    <div class=\"colab-df-container\">\n",
              "      <div>\n",
              "<style scoped>\n",
              "    .dataframe tbody tr th:only-of-type {\n",
              "        vertical-align: middle;\n",
              "    }\n",
              "\n",
              "    .dataframe tbody tr th {\n",
              "        vertical-align: top;\n",
              "    }\n",
              "\n",
              "    .dataframe thead th {\n",
              "        text-align: right;\n",
              "    }\n",
              "</style>\n",
              "<table border=\"1\" class=\"dataframe\">\n",
              "  <thead>\n",
              "    <tr style=\"text-align: right;\">\n",
              "      <th></th>\n",
              "      <th>age</th>\n",
              "      <th>bmi</th>\n",
              "      <th>children</th>\n",
              "      <th>sex_female</th>\n",
              "      <th>sex_male</th>\n",
              "      <th>smoker_no</th>\n",
              "      <th>smoker_yes</th>\n",
              "      <th>region_northeast</th>\n",
              "      <th>region_northwest</th>\n",
              "      <th>region_southeast</th>\n",
              "      <th>region_southwest</th>\n",
              "    </tr>\n",
              "  </thead>\n",
              "  <tbody>\n",
              "    <tr>\n",
              "      <th>0</th>\n",
              "      <td>19</td>\n",
              "      <td>27.900</td>\n",
              "      <td>0</td>\n",
              "      <td>1</td>\n",
              "      <td>0</td>\n",
              "      <td>0</td>\n",
              "      <td>1</td>\n",
              "      <td>0</td>\n",
              "      <td>0</td>\n",
              "      <td>0</td>\n",
              "      <td>1</td>\n",
              "    </tr>\n",
              "    <tr>\n",
              "      <th>1</th>\n",
              "      <td>18</td>\n",
              "      <td>33.770</td>\n",
              "      <td>1</td>\n",
              "      <td>0</td>\n",
              "      <td>1</td>\n",
              "      <td>1</td>\n",
              "      <td>0</td>\n",
              "      <td>0</td>\n",
              "      <td>0</td>\n",
              "      <td>1</td>\n",
              "      <td>0</td>\n",
              "    </tr>\n",
              "    <tr>\n",
              "      <th>2</th>\n",
              "      <td>28</td>\n",
              "      <td>33.000</td>\n",
              "      <td>3</td>\n",
              "      <td>0</td>\n",
              "      <td>1</td>\n",
              "      <td>1</td>\n",
              "      <td>0</td>\n",
              "      <td>0</td>\n",
              "      <td>0</td>\n",
              "      <td>1</td>\n",
              "      <td>0</td>\n",
              "    </tr>\n",
              "    <tr>\n",
              "      <th>3</th>\n",
              "      <td>33</td>\n",
              "      <td>22.705</td>\n",
              "      <td>0</td>\n",
              "      <td>0</td>\n",
              "      <td>1</td>\n",
              "      <td>1</td>\n",
              "      <td>0</td>\n",
              "      <td>0</td>\n",
              "      <td>1</td>\n",
              "      <td>0</td>\n",
              "      <td>0</td>\n",
              "    </tr>\n",
              "    <tr>\n",
              "      <th>4</th>\n",
              "      <td>32</td>\n",
              "      <td>28.880</td>\n",
              "      <td>0</td>\n",
              "      <td>0</td>\n",
              "      <td>1</td>\n",
              "      <td>1</td>\n",
              "      <td>0</td>\n",
              "      <td>0</td>\n",
              "      <td>1</td>\n",
              "      <td>0</td>\n",
              "      <td>0</td>\n",
              "    </tr>\n",
              "  </tbody>\n",
              "</table>\n",
              "</div>\n",
              "      <button class=\"colab-df-convert\" onclick=\"convertToInteractive('df-21d7b8ad-f300-446a-9048-14d5cb35c2c4')\"\n",
              "              title=\"Convert this dataframe to an interactive table.\"\n",
              "              style=\"display:none;\">\n",
              "        \n",
              "  <svg xmlns=\"http://www.w3.org/2000/svg\" height=\"24px\"viewBox=\"0 0 24 24\"\n",
              "       width=\"24px\">\n",
              "    <path d=\"M0 0h24v24H0V0z\" fill=\"none\"/>\n",
              "    <path d=\"M18.56 5.44l.94 2.06.94-2.06 2.06-.94-2.06-.94-.94-2.06-.94 2.06-2.06.94zm-11 1L8.5 8.5l.94-2.06 2.06-.94-2.06-.94L8.5 2.5l-.94 2.06-2.06.94zm10 10l.94 2.06.94-2.06 2.06-.94-2.06-.94-.94-2.06-.94 2.06-2.06.94z\"/><path d=\"M17.41 7.96l-1.37-1.37c-.4-.4-.92-.59-1.43-.59-.52 0-1.04.2-1.43.59L10.3 9.45l-7.72 7.72c-.78.78-.78 2.05 0 2.83L4 21.41c.39.39.9.59 1.41.59.51 0 1.02-.2 1.41-.59l7.78-7.78 2.81-2.81c.8-.78.8-2.07 0-2.86zM5.41 20L4 18.59l7.72-7.72 1.47 1.35L5.41 20z\"/>\n",
              "  </svg>\n",
              "      </button>\n",
              "      \n",
              "  <style>\n",
              "    .colab-df-container {\n",
              "      display:flex;\n",
              "      flex-wrap:wrap;\n",
              "      gap: 12px;\n",
              "    }\n",
              "\n",
              "    .colab-df-convert {\n",
              "      background-color: #E8F0FE;\n",
              "      border: none;\n",
              "      border-radius: 50%;\n",
              "      cursor: pointer;\n",
              "      display: none;\n",
              "      fill: #1967D2;\n",
              "      height: 32px;\n",
              "      padding: 0 0 0 0;\n",
              "      width: 32px;\n",
              "    }\n",
              "\n",
              "    .colab-df-convert:hover {\n",
              "      background-color: #E2EBFA;\n",
              "      box-shadow: 0px 1px 2px rgba(60, 64, 67, 0.3), 0px 1px 3px 1px rgba(60, 64, 67, 0.15);\n",
              "      fill: #174EA6;\n",
              "    }\n",
              "\n",
              "    [theme=dark] .colab-df-convert {\n",
              "      background-color: #3B4455;\n",
              "      fill: #D2E3FC;\n",
              "    }\n",
              "\n",
              "    [theme=dark] .colab-df-convert:hover {\n",
              "      background-color: #434B5C;\n",
              "      box-shadow: 0px 1px 3px 1px rgba(0, 0, 0, 0.15);\n",
              "      filter: drop-shadow(0px 1px 2px rgba(0, 0, 0, 0.3));\n",
              "      fill: #FFFFFF;\n",
              "    }\n",
              "  </style>\n",
              "\n",
              "      <script>\n",
              "        const buttonEl =\n",
              "          document.querySelector('#df-21d7b8ad-f300-446a-9048-14d5cb35c2c4 button.colab-df-convert');\n",
              "        buttonEl.style.display =\n",
              "          google.colab.kernel.accessAllowed ? 'block' : 'none';\n",
              "\n",
              "        async function convertToInteractive(key) {\n",
              "          const element = document.querySelector('#df-21d7b8ad-f300-446a-9048-14d5cb35c2c4');\n",
              "          const dataTable =\n",
              "            await google.colab.kernel.invokeFunction('convertToInteractive',\n",
              "                                                     [key], {});\n",
              "          if (!dataTable) return;\n",
              "\n",
              "          const docLinkHtml = 'Like what you see? Visit the ' +\n",
              "            '<a target=\"_blank\" href=https://colab.research.google.com/notebooks/data_table.ipynb>data table notebook</a>'\n",
              "            + ' to learn more about interactive tables.';\n",
              "          element.innerHTML = '';\n",
              "          dataTable['output_type'] = 'display_data';\n",
              "          await google.colab.output.renderOutput(dataTable, element);\n",
              "          const docLink = document.createElement('div');\n",
              "          docLink.innerHTML = docLinkHtml;\n",
              "          element.appendChild(docLink);\n",
              "        }\n",
              "      </script>\n",
              "    </div>\n",
              "  </div>\n",
              "  "
            ]
          },
          "metadata": {},
          "execution_count": 108
        }
      ]
    },
    {
      "cell_type": "code",
      "source": [
        "# View y \n",
        "y.head()"
      ],
      "metadata": {
        "colab": {
          "base_uri": "https://localhost:8080/"
        },
        "id": "lIt4HujDXWcW",
        "outputId": "1a6737e9-829c-4929-c0a8-46cdab7ee057"
      },
      "execution_count": 109,
      "outputs": [
        {
          "output_type": "execute_result",
          "data": {
            "text/plain": [
              "0    16884.92400\n",
              "1     1725.55230\n",
              "2     4449.46200\n",
              "3    21984.47061\n",
              "4     3866.85520\n",
              "Name: charges, dtype: float64"
            ]
          },
          "metadata": {},
          "execution_count": 109
        }
      ]
    },
    {
      "cell_type": "code",
      "source": [
        "# Create training and test sets"
      ],
      "metadata": {
        "id": "emfBrfakSxR6"
      },
      "execution_count": 107,
      "outputs": []
    },
    {
      "cell_type": "code",
      "source": [
        "from sklearn.model_selection import train_test_split\n",
        "X_train, X_test, y_train, y_test = train_test_split(X,\n",
        "                                                    y,\n",
        "                                                    test_size=0.2,\n",
        "                                                    random_state=42)\n",
        "len(X), len(X_train), len(X_test)"
      ],
      "metadata": {
        "colab": {
          "base_uri": "https://localhost:8080/"
        },
        "id": "HLRagFMMSxPY",
        "outputId": "59a237c9-7572-4326-e5d5-1a08540b2cfd"
      },
      "execution_count": 112,
      "outputs": [
        {
          "output_type": "execute_result",
          "data": {
            "text/plain": [
              "(1338, 1070, 268)"
            ]
          },
          "metadata": {},
          "execution_count": 112
        }
      ]
    },
    {
      "cell_type": "code",
      "source": [
        "# Build a neural network (sort od like model_2 above)"
      ],
      "metadata": {
        "id": "WqoVRN7sSxMe"
      },
      "execution_count": 113,
      "outputs": []
    },
    {
      "cell_type": "code",
      "source": [
        "tf.random.set_seed(42)\n",
        "\n",
        "# 1. Create a model\n",
        "insurance_model = tf.keras.Sequential([\n",
        "    tf.keras.layers.Dense(10),\n",
        "    tf.keras.layers.Dense(1)\n",
        "])\n",
        "\n",
        "# 2. Compile the model\n",
        "insurance_model.compile(loss=tf.keras.losses.mae,\n",
        "                        optimizer=tf.keras.optimizers.SGD(),\n",
        "                        metrics=[\"mae\"])\n",
        "\n",
        "# 3. Fit the model\n",
        "insurance_model.fit(X_train, y_train, epochs=100)"
      ],
      "metadata": {
        "colab": {
          "base_uri": "https://localhost:8080/"
        },
        "id": "GmJe0W5ISxJ2",
        "outputId": "1c38a062-7d82-4ac5-bda2-697443ad089c"
      },
      "execution_count": 126,
      "outputs": [
        {
          "output_type": "stream",
          "name": "stdout",
          "text": [
            "Epoch 1/100\n",
            "34/34 [==============================] - 1s 4ms/step - loss: 8786.7363 - mae: 8786.7363\n",
            "Epoch 2/100\n",
            "34/34 [==============================] - 0s 4ms/step - loss: 7848.9634 - mae: 7848.9634\n",
            "Epoch 3/100\n",
            "34/34 [==============================] - 0s 4ms/step - loss: 7592.0317 - mae: 7592.0317\n",
            "Epoch 4/100\n",
            "34/34 [==============================] - 0s 4ms/step - loss: 7685.2104 - mae: 7685.2104\n",
            "Epoch 5/100\n",
            "34/34 [==============================] - 0s 4ms/step - loss: 7746.6577 - mae: 7746.6577\n",
            "Epoch 6/100\n",
            "34/34 [==============================] - 0s 4ms/step - loss: 7655.7930 - mae: 7655.7930\n",
            "Epoch 7/100\n",
            "34/34 [==============================] - 0s 4ms/step - loss: 7580.0132 - mae: 7580.0132\n",
            "Epoch 8/100\n",
            "34/34 [==============================] - 0s 4ms/step - loss: 7738.4253 - mae: 7738.4253\n",
            "Epoch 9/100\n",
            "34/34 [==============================] - 0s 4ms/step - loss: 7554.6675 - mae: 7554.6675\n",
            "Epoch 10/100\n",
            "34/34 [==============================] - 0s 4ms/step - loss: 7713.7949 - mae: 7713.7949\n",
            "Epoch 11/100\n",
            "34/34 [==============================] - 0s 4ms/step - loss: 7524.0459 - mae: 7524.0459\n",
            "Epoch 12/100\n",
            "34/34 [==============================] - 0s 4ms/step - loss: 7678.6006 - mae: 7678.6006\n",
            "Epoch 13/100\n",
            "34/34 [==============================] - 0s 4ms/step - loss: 7668.1816 - mae: 7668.1816\n",
            "Epoch 14/100\n",
            "34/34 [==============================] - 0s 4ms/step - loss: 7662.9165 - mae: 7662.9165\n",
            "Epoch 15/100\n",
            "34/34 [==============================] - 0s 4ms/step - loss: 7403.7095 - mae: 7403.7095\n",
            "Epoch 16/100\n",
            "34/34 [==============================] - 0s 4ms/step - loss: 7813.8242 - mae: 7813.8242\n",
            "Epoch 17/100\n",
            "34/34 [==============================] - 0s 4ms/step - loss: 7689.1494 - mae: 7689.1494\n",
            "Epoch 18/100\n",
            "34/34 [==============================] - 0s 4ms/step - loss: 7861.5381 - mae: 7861.5381\n",
            "Epoch 19/100\n",
            "34/34 [==============================] - 0s 4ms/step - loss: 7722.9565 - mae: 7722.9565\n",
            "Epoch 20/100\n",
            "34/34 [==============================] - 0s 4ms/step - loss: 7869.7710 - mae: 7869.7710\n",
            "Epoch 21/100\n",
            "34/34 [==============================] - 0s 4ms/step - loss: 7586.4434 - mae: 7586.4434\n",
            "Epoch 22/100\n",
            "34/34 [==============================] - 0s 4ms/step - loss: 7403.3809 - mae: 7403.3809\n",
            "Epoch 23/100\n",
            "34/34 [==============================] - 0s 3ms/step - loss: 7674.3213 - mae: 7674.3213\n",
            "Epoch 24/100\n",
            "34/34 [==============================] - 0s 3ms/step - loss: 7568.3291 - mae: 7568.3291\n",
            "Epoch 25/100\n",
            "34/34 [==============================] - 0s 3ms/step - loss: 7642.0015 - mae: 7642.0015\n",
            "Epoch 26/100\n",
            "34/34 [==============================] - 0s 3ms/step - loss: 7627.8418 - mae: 7627.8418\n",
            "Epoch 27/100\n",
            "34/34 [==============================] - 0s 2ms/step - loss: 7488.7319 - mae: 7488.7319\n",
            "Epoch 28/100\n",
            "34/34 [==============================] - 0s 3ms/step - loss: 7487.6885 - mae: 7487.6885\n",
            "Epoch 29/100\n",
            "34/34 [==============================] - 0s 3ms/step - loss: 7599.1592 - mae: 7599.1592\n",
            "Epoch 30/100\n",
            "34/34 [==============================] - 0s 3ms/step - loss: 7668.2773 - mae: 7668.2773\n",
            "Epoch 31/100\n",
            "34/34 [==============================] - 0s 3ms/step - loss: 7551.9536 - mae: 7551.9536\n",
            "Epoch 32/100\n",
            "34/34 [==============================] - 0s 3ms/step - loss: 7571.6196 - mae: 7571.6196\n",
            "Epoch 33/100\n",
            "34/34 [==============================] - 0s 3ms/step - loss: 7433.1768 - mae: 7433.1768\n",
            "Epoch 34/100\n",
            "34/34 [==============================] - 0s 3ms/step - loss: 7526.7705 - mae: 7526.7705\n",
            "Epoch 35/100\n",
            "34/34 [==============================] - 0s 3ms/step - loss: 7595.8154 - mae: 7595.8154\n",
            "Epoch 36/100\n",
            "34/34 [==============================] - 0s 3ms/step - loss: 7569.0615 - mae: 7569.0615\n",
            "Epoch 37/100\n",
            "34/34 [==============================] - 0s 3ms/step - loss: 7671.8643 - mae: 7671.8643\n",
            "Epoch 38/100\n",
            "34/34 [==============================] - 0s 3ms/step - loss: 7367.4185 - mae: 7367.4185\n",
            "Epoch 39/100\n",
            "34/34 [==============================] - 0s 3ms/step - loss: 7539.2510 - mae: 7539.2510\n",
            "Epoch 40/100\n",
            "34/34 [==============================] - 0s 3ms/step - loss: 7456.5142 - mae: 7456.5142\n",
            "Epoch 41/100\n",
            "34/34 [==============================] - 0s 3ms/step - loss: 7733.2017 - mae: 7733.2017\n",
            "Epoch 42/100\n",
            "34/34 [==============================] - 0s 3ms/step - loss: 7709.9531 - mae: 7709.9531\n",
            "Epoch 43/100\n",
            "34/34 [==============================] - 0s 3ms/step - loss: 7367.8970 - mae: 7367.8970\n",
            "Epoch 44/100\n",
            "34/34 [==============================] - 0s 3ms/step - loss: 7578.1396 - mae: 7578.1396\n",
            "Epoch 45/100\n",
            "34/34 [==============================] - 0s 3ms/step - loss: 7369.8013 - mae: 7369.8013\n",
            "Epoch 46/100\n",
            "34/34 [==============================] - 0s 3ms/step - loss: 7589.0049 - mae: 7589.0049\n",
            "Epoch 47/100\n",
            "34/34 [==============================] - 0s 3ms/step - loss: 7362.9673 - mae: 7362.9673\n",
            "Epoch 48/100\n",
            "34/34 [==============================] - 0s 3ms/step - loss: 7414.5029 - mae: 7414.5029\n",
            "Epoch 49/100\n",
            "34/34 [==============================] - 0s 3ms/step - loss: 7541.4702 - mae: 7541.4702\n",
            "Epoch 50/100\n",
            "34/34 [==============================] - 0s 3ms/step - loss: 7486.1816 - mae: 7486.1816\n",
            "Epoch 51/100\n",
            "34/34 [==============================] - 0s 3ms/step - loss: 7281.4287 - mae: 7281.4287\n",
            "Epoch 52/100\n",
            "34/34 [==============================] - 0s 3ms/step - loss: 7365.1045 - mae: 7365.1045\n",
            "Epoch 53/100\n",
            "34/34 [==============================] - 0s 3ms/step - loss: 7509.2896 - mae: 7509.2896\n",
            "Epoch 54/100\n",
            "34/34 [==============================] - 0s 3ms/step - loss: 7228.1636 - mae: 7228.1636\n",
            "Epoch 55/100\n",
            "34/34 [==============================] - 0s 2ms/step - loss: 7109.9780 - mae: 7109.9780\n",
            "Epoch 56/100\n",
            "34/34 [==============================] - 0s 3ms/step - loss: 7292.4131 - mae: 7292.4131\n",
            "Epoch 57/100\n",
            "34/34 [==============================] - 0s 3ms/step - loss: 7465.7466 - mae: 7465.7466\n",
            "Epoch 58/100\n",
            "34/34 [==============================] - 0s 3ms/step - loss: 7262.1167 - mae: 7262.1167\n",
            "Epoch 59/100\n",
            "34/34 [==============================] - 0s 3ms/step - loss: 7546.3726 - mae: 7546.3726\n",
            "Epoch 60/100\n",
            "34/34 [==============================] - 0s 3ms/step - loss: 7465.8296 - mae: 7465.8296\n",
            "Epoch 61/100\n",
            "34/34 [==============================] - 0s 3ms/step - loss: 7515.8052 - mae: 7515.8052\n",
            "Epoch 62/100\n",
            "34/34 [==============================] - 0s 3ms/step - loss: 7372.5161 - mae: 7372.5161\n",
            "Epoch 63/100\n",
            "34/34 [==============================] - 0s 3ms/step - loss: 7388.2617 - mae: 7388.2617\n",
            "Epoch 64/100\n",
            "34/34 [==============================] - 0s 3ms/step - loss: 7468.9727 - mae: 7468.9727\n",
            "Epoch 65/100\n",
            "34/34 [==============================] - 0s 3ms/step - loss: 7559.1724 - mae: 7559.1724\n",
            "Epoch 66/100\n",
            "34/34 [==============================] - 0s 2ms/step - loss: 7471.2710 - mae: 7471.2710\n",
            "Epoch 67/100\n",
            "34/34 [==============================] - 0s 3ms/step - loss: 7521.4697 - mae: 7521.4697\n",
            "Epoch 68/100\n",
            "34/34 [==============================] - 0s 3ms/step - loss: 7565.6743 - mae: 7565.6743\n",
            "Epoch 69/100\n",
            "34/34 [==============================] - 0s 3ms/step - loss: 7356.5864 - mae: 7356.5864\n",
            "Epoch 70/100\n",
            "34/34 [==============================] - 0s 3ms/step - loss: 7476.3828 - mae: 7476.3828\n",
            "Epoch 71/100\n",
            "34/34 [==============================] - 0s 3ms/step - loss: 7383.1177 - mae: 7383.1177\n",
            "Epoch 72/100\n",
            "34/34 [==============================] - 0s 3ms/step - loss: 7323.9121 - mae: 7323.9121\n",
            "Epoch 73/100\n",
            "34/34 [==============================] - 0s 3ms/step - loss: 7349.0308 - mae: 7349.0308\n",
            "Epoch 74/100\n",
            "34/34 [==============================] - 0s 3ms/step - loss: 7404.7036 - mae: 7404.7036\n",
            "Epoch 75/100\n",
            "34/34 [==============================] - 0s 3ms/step - loss: 7322.2729 - mae: 7322.2729\n",
            "Epoch 76/100\n",
            "34/34 [==============================] - 0s 3ms/step - loss: 7162.7803 - mae: 7162.7803\n",
            "Epoch 77/100\n",
            "34/34 [==============================] - 0s 3ms/step - loss: 7463.4541 - mae: 7463.4541\n",
            "Epoch 78/100\n",
            "34/34 [==============================] - 0s 3ms/step - loss: 7196.7607 - mae: 7196.7607\n",
            "Epoch 79/100\n",
            "34/34 [==============================] - 0s 3ms/step - loss: 7463.7261 - mae: 7463.7261\n",
            "Epoch 80/100\n",
            "34/34 [==============================] - 0s 3ms/step - loss: 7265.5181 - mae: 7265.5181\n",
            "Epoch 81/100\n",
            "34/34 [==============================] - 0s 3ms/step - loss: 7139.1104 - mae: 7139.1104\n",
            "Epoch 82/100\n",
            "34/34 [==============================] - 0s 3ms/step - loss: 7366.0654 - mae: 7366.0654\n",
            "Epoch 83/100\n",
            "34/34 [==============================] - 0s 3ms/step - loss: 7506.0923 - mae: 7506.0923\n",
            "Epoch 84/100\n",
            "34/34 [==============================] - 0s 3ms/step - loss: 7190.2134 - mae: 7190.2134\n",
            "Epoch 85/100\n",
            "34/34 [==============================] - 0s 3ms/step - loss: 7354.0596 - mae: 7354.0596\n",
            "Epoch 86/100\n",
            "34/34 [==============================] - 0s 3ms/step - loss: 7462.6343 - mae: 7462.6343\n",
            "Epoch 87/100\n",
            "34/34 [==============================] - 0s 3ms/step - loss: 7318.9868 - mae: 7318.9868\n",
            "Epoch 88/100\n",
            "34/34 [==============================] - 0s 3ms/step - loss: 7221.4346 - mae: 7221.4346\n",
            "Epoch 89/100\n",
            "34/34 [==============================] - 0s 3ms/step - loss: 7415.3770 - mae: 7415.3770\n",
            "Epoch 90/100\n",
            "34/34 [==============================] - 0s 3ms/step - loss: 6955.2700 - mae: 6955.2700\n",
            "Epoch 91/100\n",
            "34/34 [==============================] - 0s 3ms/step - loss: 7209.4067 - mae: 7209.4067\n",
            "Epoch 92/100\n",
            "34/34 [==============================] - 0s 3ms/step - loss: 7368.9795 - mae: 7368.9795\n",
            "Epoch 93/100\n",
            "34/34 [==============================] - 0s 3ms/step - loss: 7488.7881 - mae: 7488.7881\n",
            "Epoch 94/100\n",
            "34/34 [==============================] - 0s 3ms/step - loss: 7293.8091 - mae: 7293.8091\n",
            "Epoch 95/100\n",
            "34/34 [==============================] - 0s 3ms/step - loss: 7527.2358 - mae: 7527.2358\n",
            "Epoch 96/100\n",
            "34/34 [==============================] - 0s 3ms/step - loss: 7124.3594 - mae: 7124.3594\n",
            "Epoch 97/100\n",
            "34/34 [==============================] - 0s 3ms/step - loss: 7089.8423 - mae: 7089.8423\n",
            "Epoch 98/100\n",
            "34/34 [==============================] - 0s 3ms/step - loss: 7238.3584 - mae: 7238.3584\n",
            "Epoch 99/100\n",
            "34/34 [==============================] - 0s 3ms/step - loss: 7480.4053 - mae: 7480.4053\n",
            "Epoch 100/100\n",
            "34/34 [==============================] - 0s 3ms/step - loss: 7293.6104 - mae: 7293.6104\n"
          ]
        },
        {
          "output_type": "execute_result",
          "data": {
            "text/plain": [
              "<keras.callbacks.History at 0x7ff121f60340>"
            ]
          },
          "metadata": {},
          "execution_count": 126
        }
      ]
    },
    {
      "cell_type": "code",
      "source": [
        "# Check the results of insurance_model on the test data"
      ],
      "metadata": {
        "id": "IkvjF9b1YT7n"
      },
      "execution_count": 117,
      "outputs": []
    },
    {
      "cell_type": "code",
      "source": [
        "insurance_model.evaluate(X_test, y_test)"
      ],
      "metadata": {
        "colab": {
          "base_uri": "https://localhost:8080/"
        },
        "id": "XM5s-Xz8YT5Q",
        "outputId": "082c0843-5216-444c-b4e1-51d0f82ebe52"
      },
      "execution_count": 118,
      "outputs": [
        {
          "output_type": "stream",
          "name": "stdout",
          "text": [
            "9/9 [==============================] - 0s 3ms/step - loss: 7068.8384 - mae: 7068.8384\n"
          ]
        },
        {
          "output_type": "execute_result",
          "data": {
            "text/plain": [
              "[7068.83837890625, 7068.83837890625]"
            ]
          },
          "metadata": {},
          "execution_count": 118
        }
      ]
    },
    {
      "cell_type": "code",
      "source": [
        "y_train.median(), y_train.mean()"
      ],
      "metadata": {
        "colab": {
          "base_uri": "https://localhost:8080/"
        },
        "id": "JzDMHdnAYT3L",
        "outputId": "643cb986-9948-4b6d-aef4-f6aaffb3434b"
      },
      "execution_count": 120,
      "outputs": [
        {
          "output_type": "execute_result",
          "data": {
            "text/plain": [
              "(9575.4421, 13346.089736364485)"
            ]
          },
          "metadata": {},
          "execution_count": 120
        }
      ]
    },
    {
      "cell_type": "markdown",
      "source": [
        "Our model didn't perform very well, let's try a bigger model.\n",
        "\n",
        "We'll try 3 things:\n",
        "- Increasing the number of layers (2 -> 3).\n",
        "- Increasing the number of units in each layer (except for the output layer).\n",
        "- Changing the optimizer (from SGD to Adam).\n",
        "\n",
        "Everything else will stay the same."
      ],
      "metadata": {
        "id": "I-KgIKd_YT0X"
      }
    },
    {
      "cell_type": "code",
      "source": [
        "# Set random seed\n",
        "tf.random.set_seed(42)\n",
        "\n",
        "# 1. Create the model\n",
        "insurance_model_2 = tf.keras.Sequential([\n",
        "    tf.keras.layers.Dense(100),\n",
        "    tf.keras.layers.Dense(10),\n",
        "    tf.keras.layers.Dense(1)\n",
        "])\n",
        "\n",
        "# 2. Compile the model\n",
        "insurance_model_2.compile(loss=tf.keras.losses.mae,\n",
        "                          optimizer=tf.keras.optimizers.Adam(),\n",
        "                          metrics=[\"mae\"])\n",
        "\n",
        "# 3. Fit the model\n",
        "insurance_model_2.fit(X_train, y_train, epochs=100, verbose=1)"
      ],
      "metadata": {
        "colab": {
          "base_uri": "https://localhost:8080/"
        },
        "id": "ax5YIf18aB8W",
        "outputId": "efa3345b-023e-4fb0-f9eb-bde9252a8e9c"
      },
      "execution_count": 131,
      "outputs": [
        {
          "output_type": "stream",
          "name": "stdout",
          "text": [
            "Epoch 1/100\n",
            "34/34 [==============================] - 2s 6ms/step - loss: 13297.2363 - mae: 13297.2363\n",
            "Epoch 2/100\n",
            "34/34 [==============================] - 0s 6ms/step - loss: 13108.9111 - mae: 13108.9111\n",
            "Epoch 3/100\n",
            "34/34 [==============================] - 0s 6ms/step - loss: 12739.0195 - mae: 12739.0195\n",
            "Epoch 4/100\n",
            "34/34 [==============================] - 0s 3ms/step - loss: 12026.3604 - mae: 12026.3604\n",
            "Epoch 5/100\n",
            "34/34 [==============================] - 0s 3ms/step - loss: 10848.3457 - mae: 10848.3457\n",
            "Epoch 6/100\n",
            "34/34 [==============================] - 0s 3ms/step - loss: 9373.6152 - mae: 9373.6152\n",
            "Epoch 7/100\n",
            "34/34 [==============================] - 0s 3ms/step - loss: 8069.9805 - mae: 8069.9805\n",
            "Epoch 8/100\n",
            "34/34 [==============================] - 0s 3ms/step - loss: 7497.1724 - mae: 7497.1724\n",
            "Epoch 9/100\n",
            "34/34 [==============================] - 0s 3ms/step - loss: 7411.5723 - mae: 7411.5723\n",
            "Epoch 10/100\n",
            "34/34 [==============================] - 0s 3ms/step - loss: 7391.6216 - mae: 7391.6216\n",
            "Epoch 11/100\n",
            "34/34 [==============================] - 0s 3ms/step - loss: 7372.2524 - mae: 7372.2524\n",
            "Epoch 12/100\n",
            "34/34 [==============================] - 0s 3ms/step - loss: 7349.7603 - mae: 7349.7603\n",
            "Epoch 13/100\n",
            "34/34 [==============================] - 0s 3ms/step - loss: 7328.9165 - mae: 7328.9165\n",
            "Epoch 14/100\n",
            "34/34 [==============================] - 0s 3ms/step - loss: 7305.5552 - mae: 7305.5552\n",
            "Epoch 15/100\n",
            "34/34 [==============================] - 0s 3ms/step - loss: 7286.1069 - mae: 7286.1069\n",
            "Epoch 16/100\n",
            "34/34 [==============================] - 0s 3ms/step - loss: 7263.2329 - mae: 7263.2329\n",
            "Epoch 17/100\n",
            "34/34 [==============================] - 0s 3ms/step - loss: 7240.7539 - mae: 7240.7539\n",
            "Epoch 18/100\n",
            "34/34 [==============================] - 0s 3ms/step - loss: 7216.2334 - mae: 7216.2334\n",
            "Epoch 19/100\n",
            "34/34 [==============================] - 0s 3ms/step - loss: 7192.2759 - mae: 7192.2759\n",
            "Epoch 20/100\n",
            "34/34 [==============================] - 0s 3ms/step - loss: 7166.6006 - mae: 7166.6006\n",
            "Epoch 21/100\n",
            "34/34 [==============================] - 0s 3ms/step - loss: 7144.7666 - mae: 7144.7666\n",
            "Epoch 22/100\n",
            "34/34 [==============================] - 0s 3ms/step - loss: 7115.5547 - mae: 7115.5547\n",
            "Epoch 23/100\n",
            "34/34 [==============================] - 0s 3ms/step - loss: 7088.7119 - mae: 7088.7119\n",
            "Epoch 24/100\n",
            "34/34 [==============================] - 0s 3ms/step - loss: 7060.0068 - mae: 7060.0068\n",
            "Epoch 25/100\n",
            "34/34 [==============================] - 0s 3ms/step - loss: 7037.8594 - mae: 7037.8594\n",
            "Epoch 26/100\n",
            "34/34 [==============================] - 0s 3ms/step - loss: 7003.6699 - mae: 7003.6699\n",
            "Epoch 27/100\n",
            "34/34 [==============================] - 0s 3ms/step - loss: 6972.2090 - mae: 6972.2090\n",
            "Epoch 28/100\n",
            "34/34 [==============================] - 0s 3ms/step - loss: 6939.8364 - mae: 6939.8364\n",
            "Epoch 29/100\n",
            "34/34 [==============================] - 0s 3ms/step - loss: 6908.1182 - mae: 6908.1182\n",
            "Epoch 30/100\n",
            "34/34 [==============================] - 0s 3ms/step - loss: 6877.7847 - mae: 6877.7847\n",
            "Epoch 31/100\n",
            "34/34 [==============================] - 0s 3ms/step - loss: 6842.1880 - mae: 6842.1880\n",
            "Epoch 32/100\n",
            "34/34 [==============================] - 0s 3ms/step - loss: 6809.2036 - mae: 6809.2036\n",
            "Epoch 33/100\n",
            "34/34 [==============================] - 0s 3ms/step - loss: 6772.2188 - mae: 6772.2188\n",
            "Epoch 34/100\n",
            "34/34 [==============================] - 0s 3ms/step - loss: 6736.4531 - mae: 6736.4531\n",
            "Epoch 35/100\n",
            "34/34 [==============================] - 0s 3ms/step - loss: 6699.3125 - mae: 6699.3125\n",
            "Epoch 36/100\n",
            "34/34 [==============================] - 0s 3ms/step - loss: 6661.8428 - mae: 6661.8428\n",
            "Epoch 37/100\n",
            "34/34 [==============================] - 0s 3ms/step - loss: 6624.8892 - mae: 6624.8892\n",
            "Epoch 38/100\n",
            "34/34 [==============================] - 0s 3ms/step - loss: 6592.7275 - mae: 6592.7275\n",
            "Epoch 39/100\n",
            "34/34 [==============================] - 0s 3ms/step - loss: 6557.9146 - mae: 6557.9146\n",
            "Epoch 40/100\n",
            "34/34 [==============================] - 0s 3ms/step - loss: 6531.6870 - mae: 6531.6870\n",
            "Epoch 41/100\n",
            "34/34 [==============================] - 0s 3ms/step - loss: 6512.9873 - mae: 6512.9873\n",
            "Epoch 42/100\n",
            "34/34 [==============================] - 0s 3ms/step - loss: 6494.6484 - mae: 6494.6484\n",
            "Epoch 43/100\n",
            "34/34 [==============================] - 0s 3ms/step - loss: 6477.3496 - mae: 6477.3496\n",
            "Epoch 44/100\n",
            "34/34 [==============================] - 0s 3ms/step - loss: 6459.1636 - mae: 6459.1636\n",
            "Epoch 45/100\n",
            "34/34 [==============================] - 0s 3ms/step - loss: 6453.3555 - mae: 6453.3555\n",
            "Epoch 46/100\n",
            "34/34 [==============================] - 0s 4ms/step - loss: 6434.1304 - mae: 6434.1304\n",
            "Epoch 47/100\n",
            "34/34 [==============================] - 0s 4ms/step - loss: 6419.5430 - mae: 6419.5430\n",
            "Epoch 48/100\n",
            "34/34 [==============================] - 0s 5ms/step - loss: 6405.8892 - mae: 6405.8892\n",
            "Epoch 49/100\n",
            "34/34 [==============================] - 0s 5ms/step - loss: 6395.0186 - mae: 6395.0186\n",
            "Epoch 50/100\n",
            "34/34 [==============================] - 0s 4ms/step - loss: 6380.5415 - mae: 6380.5410\n",
            "Epoch 51/100\n",
            "34/34 [==============================] - 0s 4ms/step - loss: 6366.1826 - mae: 6366.1826\n",
            "Epoch 52/100\n",
            "34/34 [==============================] - 0s 5ms/step - loss: 6352.8237 - mae: 6352.8237\n",
            "Epoch 53/100\n",
            "34/34 [==============================] - 0s 5ms/step - loss: 6337.7266 - mae: 6337.7266\n",
            "Epoch 54/100\n",
            "34/34 [==============================] - 0s 5ms/step - loss: 6323.5371 - mae: 6323.5371\n",
            "Epoch 55/100\n",
            "34/34 [==============================] - 0s 5ms/step - loss: 6309.0283 - mae: 6309.0283\n",
            "Epoch 56/100\n",
            "34/34 [==============================] - 0s 4ms/step - loss: 6294.9941 - mae: 6294.9941\n",
            "Epoch 57/100\n",
            "34/34 [==============================] - 0s 4ms/step - loss: 6280.0342 - mae: 6280.0342\n",
            "Epoch 58/100\n",
            "34/34 [==============================] - 0s 4ms/step - loss: 6265.9268 - mae: 6265.9268\n",
            "Epoch 59/100\n",
            "34/34 [==============================] - 0s 4ms/step - loss: 6248.7690 - mae: 6248.7690\n",
            "Epoch 60/100\n",
            "34/34 [==============================] - 0s 4ms/step - loss: 6236.9995 - mae: 6236.9995\n",
            "Epoch 61/100\n",
            "34/34 [==============================] - 0s 5ms/step - loss: 6215.8530 - mae: 6215.8530\n",
            "Epoch 62/100\n",
            "34/34 [==============================] - 0s 4ms/step - loss: 6203.5356 - mae: 6203.5356\n",
            "Epoch 63/100\n",
            "34/34 [==============================] - 0s 4ms/step - loss: 6183.0649 - mae: 6183.0649\n",
            "Epoch 64/100\n",
            "34/34 [==============================] - 0s 4ms/step - loss: 6164.2095 - mae: 6164.2095\n",
            "Epoch 65/100\n",
            "34/34 [==============================] - 0s 4ms/step - loss: 6145.9829 - mae: 6145.9829\n",
            "Epoch 66/100\n",
            "34/34 [==============================] - 0s 5ms/step - loss: 6126.5186 - mae: 6126.5186\n",
            "Epoch 67/100\n",
            "34/34 [==============================] - 0s 5ms/step - loss: 6112.6758 - mae: 6112.6758\n",
            "Epoch 68/100\n",
            "34/34 [==============================] - 0s 5ms/step - loss: 6087.9937 - mae: 6087.9937\n",
            "Epoch 69/100\n",
            "34/34 [==============================] - 0s 5ms/step - loss: 6070.7085 - mae: 6070.7085\n",
            "Epoch 70/100\n",
            "34/34 [==============================] - 0s 3ms/step - loss: 6048.4360 - mae: 6048.4360\n",
            "Epoch 71/100\n",
            "34/34 [==============================] - 0s 3ms/step - loss: 6025.9946 - mae: 6025.9946\n",
            "Epoch 72/100\n",
            "34/34 [==============================] - 0s 3ms/step - loss: 6003.3296 - mae: 6003.3296\n",
            "Epoch 73/100\n",
            "34/34 [==============================] - 0s 3ms/step - loss: 5987.9102 - mae: 5987.9102\n",
            "Epoch 74/100\n",
            "34/34 [==============================] - 0s 3ms/step - loss: 5956.3130 - mae: 5956.3130\n",
            "Epoch 75/100\n",
            "34/34 [==============================] - 0s 3ms/step - loss: 5933.3569 - mae: 5933.3569\n",
            "Epoch 76/100\n",
            "34/34 [==============================] - 0s 3ms/step - loss: 5914.5420 - mae: 5914.5420\n",
            "Epoch 77/100\n",
            "34/34 [==============================] - 0s 3ms/step - loss: 5880.9590 - mae: 5880.9590\n",
            "Epoch 78/100\n",
            "34/34 [==============================] - 0s 3ms/step - loss: 5853.7295 - mae: 5853.7295\n",
            "Epoch 79/100\n",
            "34/34 [==============================] - 0s 3ms/step - loss: 5825.5215 - mae: 5825.5215\n",
            "Epoch 80/100\n",
            "34/34 [==============================] - 0s 3ms/step - loss: 5794.3687 - mae: 5794.3687\n",
            "Epoch 81/100\n",
            "34/34 [==============================] - 0s 3ms/step - loss: 5765.5415 - mae: 5765.5415\n",
            "Epoch 82/100\n",
            "34/34 [==============================] - 0s 3ms/step - loss: 5733.3247 - mae: 5733.3247\n",
            "Epoch 83/100\n",
            "34/34 [==============================] - 0s 3ms/step - loss: 5701.4888 - mae: 5701.4888\n",
            "Epoch 84/100\n",
            "34/34 [==============================] - 0s 3ms/step - loss: 5663.5269 - mae: 5663.5269\n",
            "Epoch 85/100\n",
            "34/34 [==============================] - 0s 3ms/step - loss: 5632.7847 - mae: 5632.7847\n",
            "Epoch 86/100\n",
            "34/34 [==============================] - 0s 3ms/step - loss: 5594.6147 - mae: 5594.6147\n",
            "Epoch 87/100\n",
            "34/34 [==============================] - 0s 3ms/step - loss: 5552.7993 - mae: 5552.7993\n",
            "Epoch 88/100\n",
            "34/34 [==============================] - 0s 3ms/step - loss: 5512.5532 - mae: 5512.5532\n",
            "Epoch 89/100\n",
            "34/34 [==============================] - 0s 3ms/step - loss: 5467.4136 - mae: 5467.4136\n",
            "Epoch 90/100\n",
            "34/34 [==============================] - 0s 3ms/step - loss: 5419.7139 - mae: 5419.7139\n",
            "Epoch 91/100\n",
            "34/34 [==============================] - 0s 3ms/step - loss: 5377.6572 - mae: 5377.6572\n",
            "Epoch 92/100\n",
            "34/34 [==============================] - 0s 3ms/step - loss: 5324.9395 - mae: 5324.9395\n",
            "Epoch 93/100\n",
            "34/34 [==============================] - 0s 3ms/step - loss: 5275.3062 - mae: 5275.3062\n",
            "Epoch 94/100\n",
            "34/34 [==============================] - 0s 3ms/step - loss: 5221.9854 - mae: 5221.9854\n",
            "Epoch 95/100\n",
            "34/34 [==============================] - 0s 3ms/step - loss: 5164.2173 - mae: 5164.2173\n",
            "Epoch 96/100\n",
            "34/34 [==============================] - 0s 3ms/step - loss: 5113.8955 - mae: 5113.8955\n",
            "Epoch 97/100\n",
            "34/34 [==============================] - 0s 3ms/step - loss: 5051.8203 - mae: 5051.8203\n",
            "Epoch 98/100\n",
            "34/34 [==============================] - 0s 3ms/step - loss: 4983.0830 - mae: 4983.0830\n",
            "Epoch 99/100\n",
            "34/34 [==============================] - 0s 3ms/step - loss: 4913.6699 - mae: 4913.6699\n",
            "Epoch 100/100\n",
            "34/34 [==============================] - 0s 3ms/step - loss: 4856.2192 - mae: 4856.2192\n"
          ]
        },
        {
          "output_type": "execute_result",
          "data": {
            "text/plain": [
              "<keras.callbacks.History at 0x7ff121cf4fd0>"
            ]
          },
          "metadata": {},
          "execution_count": 131
        }
      ]
    },
    {
      "cell_type": "code",
      "source": [
        "# Evaluate the larger model\n",
        "insurance_model_2.evaluate(X_test, y_test)"
      ],
      "metadata": {
        "colab": {
          "base_uri": "https://localhost:8080/"
        },
        "id": "vjdhrBi2aB0m",
        "outputId": "d15e4387-ac97-4612-f8d6-79d0995ac34a"
      },
      "execution_count": 132,
      "outputs": [
        {
          "output_type": "stream",
          "name": "stdout",
          "text": [
            "9/9 [==============================] - 0s 4ms/step - loss: 4731.1792 - mae: 4731.1792\n"
          ]
        },
        {
          "output_type": "execute_result",
          "data": {
            "text/plain": [
              "[4731.17919921875, 4731.17919921875]"
            ]
          },
          "metadata": {},
          "execution_count": 132
        }
      ]
    },
    {
      "cell_type": "markdown",
      "source": [
        "Much better! Using a larger model and the Adam optimizer results in almost half the error as the previous model.\n",
        "\n",
        "> 🔑 **Note:** For many problems, the [Adam optimizer](https://www.tensorflow.org/api_docs/python/tf/keras/optimizers/Adam) is a great starting choice. See Andrei Karpathy's \"Adam is safe\" point from [*A Recipe for Training Neural Networks*](http://karpathy.github.io/2019/04/25/recipe/) for more. \n",
        "\n",
        "Let's check out the loss curves of our model, we should see a downward trend."
      ],
      "metadata": {
        "id": "r_sBsZOsaByE"
      }
    },
    {
      "cell_type": "code",
      "source": [
        "# Set random seed\n",
        "tf.random.set_seed(42)\n",
        "\n",
        "# Create the model\n",
        "insurance_model_3 = tf.keras.Sequential([\n",
        "    tf.keras.layers.Dense(100),\n",
        "    tf.keras.layers.Dense(10),\n",
        "    tf.keras.layers.Dense(1)\n",
        "])\n",
        "\n",
        "# 2. Compile the model\n",
        "insurance_model_3.compile(loss=tf.keras.losses.mae,\n",
        "                          optimizer=tf.keras.optimizers.Adam(learning_rate=0.001),\n",
        "                          metrics=[\"mae\"])\n",
        "\n",
        "# 3. Fit the model\n",
        "history = insurance_model_3.fit(X_train, y_train, epochs=200)"
      ],
      "metadata": {
        "colab": {
          "base_uri": "https://localhost:8080/"
        },
        "id": "KDLjeGnaaBv0",
        "outputId": "e802c9c5-4827-436b-9199-0a4e22165ea1"
      },
      "execution_count": 135,
      "outputs": [
        {
          "output_type": "stream",
          "name": "stdout",
          "text": [
            "Epoch 1/200\n",
            "34/34 [==============================] - 1s 3ms/step - loss: 11755.9258 - mae: 11755.9258\n",
            "Epoch 2/200\n",
            "34/34 [==============================] - 0s 3ms/step - loss: 7517.9849 - mae: 7517.9849\n",
            "Epoch 3/200\n",
            "34/34 [==============================] - 0s 3ms/step - loss: 7292.7988 - mae: 7292.7988\n",
            "Epoch 4/200\n",
            "34/34 [==============================] - 0s 3ms/step - loss: 7056.9194 - mae: 7056.9194\n",
            "Epoch 5/200\n",
            "34/34 [==============================] - 0s 3ms/step - loss: 6793.6489 - mae: 6793.6489\n",
            "Epoch 6/200\n",
            "34/34 [==============================] - 0s 3ms/step - loss: 6505.2007 - mae: 6505.2007\n",
            "Epoch 7/200\n",
            "34/34 [==============================] - 0s 3ms/step - loss: 6362.0327 - mae: 6362.0327\n",
            "Epoch 8/200\n",
            "34/34 [==============================] - 0s 3ms/step - loss: 6215.5361 - mae: 6215.5361\n",
            "Epoch 9/200\n",
            "34/34 [==============================] - 0s 3ms/step - loss: 6052.6479 - mae: 6052.6479\n",
            "Epoch 10/200\n",
            "34/34 [==============================] - 0s 3ms/step - loss: 5864.4546 - mae: 5864.4546\n",
            "Epoch 11/200\n",
            "34/34 [==============================] - 0s 3ms/step - loss: 5555.2939 - mae: 5555.2939\n",
            "Epoch 12/200\n",
            "34/34 [==============================] - 0s 3ms/step - loss: 5188.0054 - mae: 5188.0054\n",
            "Epoch 13/200\n",
            "34/34 [==============================] - 0s 3ms/step - loss: 4609.2686 - mae: 4609.2686\n",
            "Epoch 14/200\n",
            "34/34 [==============================] - 0s 3ms/step - loss: 4133.1528 - mae: 4133.1528\n",
            "Epoch 15/200\n",
            "34/34 [==============================] - 0s 3ms/step - loss: 3933.0295 - mae: 3933.0295\n",
            "Epoch 16/200\n",
            "34/34 [==============================] - 0s 3ms/step - loss: 3885.1326 - mae: 3885.1326\n",
            "Epoch 17/200\n",
            "34/34 [==============================] - 0s 3ms/step - loss: 3810.5891 - mae: 3810.5891\n",
            "Epoch 18/200\n",
            "34/34 [==============================] - 0s 3ms/step - loss: 3782.2124 - mae: 3782.2124\n",
            "Epoch 19/200\n",
            "34/34 [==============================] - 0s 3ms/step - loss: 3751.7817 - mae: 3751.7817\n",
            "Epoch 20/200\n",
            "34/34 [==============================] - 0s 3ms/step - loss: 3828.3755 - mae: 3828.3755\n",
            "Epoch 21/200\n",
            "34/34 [==============================] - 0s 3ms/step - loss: 3774.5513 - mae: 3774.5513\n",
            "Epoch 22/200\n",
            "34/34 [==============================] - 0s 3ms/step - loss: 3804.1096 - mae: 3804.1096\n",
            "Epoch 23/200\n",
            "34/34 [==============================] - 0s 3ms/step - loss: 3735.7383 - mae: 3735.7383\n",
            "Epoch 24/200\n",
            "34/34 [==============================] - 0s 3ms/step - loss: 3709.1277 - mae: 3709.1277\n",
            "Epoch 25/200\n",
            "34/34 [==============================] - 0s 3ms/step - loss: 3724.9233 - mae: 3724.9233\n",
            "Epoch 26/200\n",
            "34/34 [==============================] - 0s 3ms/step - loss: 3702.3015 - mae: 3702.3015\n",
            "Epoch 27/200\n",
            "34/34 [==============================] - 0s 3ms/step - loss: 3710.2571 - mae: 3710.2571\n",
            "Epoch 28/200\n",
            "34/34 [==============================] - 0s 3ms/step - loss: 3695.2913 - mae: 3695.2913\n",
            "Epoch 29/200\n",
            "34/34 [==============================] - 0s 3ms/step - loss: 3708.9636 - mae: 3708.9636\n",
            "Epoch 30/200\n",
            "34/34 [==============================] - 0s 3ms/step - loss: 3692.4932 - mae: 3692.4932\n",
            "Epoch 31/200\n",
            "34/34 [==============================] - 0s 3ms/step - loss: 3669.0935 - mae: 3669.0935\n",
            "Epoch 32/200\n",
            "34/34 [==============================] - 0s 3ms/step - loss: 3624.9055 - mae: 3624.9055\n",
            "Epoch 33/200\n",
            "34/34 [==============================] - 0s 3ms/step - loss: 3618.9463 - mae: 3618.9463\n",
            "Epoch 34/200\n",
            "34/34 [==============================] - 0s 3ms/step - loss: 3653.4077 - mae: 3653.4077\n",
            "Epoch 35/200\n",
            "34/34 [==============================] - 0s 3ms/step - loss: 3601.6348 - mae: 3601.6348\n",
            "Epoch 36/200\n",
            "34/34 [==============================] - 0s 3ms/step - loss: 3576.0498 - mae: 3576.0498\n",
            "Epoch 37/200\n",
            "34/34 [==============================] - 0s 3ms/step - loss: 3582.8906 - mae: 3582.8906\n",
            "Epoch 38/200\n",
            "34/34 [==============================] - 0s 3ms/step - loss: 3555.8708 - mae: 3555.8708\n",
            "Epoch 39/200\n",
            "34/34 [==============================] - 0s 3ms/step - loss: 3616.3328 - mae: 3616.3328\n",
            "Epoch 40/200\n",
            "34/34 [==============================] - 0s 3ms/step - loss: 3572.1765 - mae: 3572.1765\n",
            "Epoch 41/200\n",
            "34/34 [==============================] - 0s 3ms/step - loss: 3533.7029 - mae: 3533.7029\n",
            "Epoch 42/200\n",
            "34/34 [==============================] - 0s 3ms/step - loss: 3553.6338 - mae: 3553.6338\n",
            "Epoch 43/200\n",
            "34/34 [==============================] - 0s 3ms/step - loss: 3580.7781 - mae: 3580.7781\n",
            "Epoch 44/200\n",
            "34/34 [==============================] - 0s 3ms/step - loss: 3529.7463 - mae: 3529.7463\n",
            "Epoch 45/200\n",
            "34/34 [==============================] - 0s 3ms/step - loss: 3513.8303 - mae: 3513.8303\n",
            "Epoch 46/200\n",
            "34/34 [==============================] - 0s 4ms/step - loss: 3516.6213 - mae: 3516.6213\n",
            "Epoch 47/200\n",
            "34/34 [==============================] - 0s 5ms/step - loss: 3566.8801 - mae: 3566.8801\n",
            "Epoch 48/200\n",
            "34/34 [==============================] - 0s 4ms/step - loss: 3549.3193 - mae: 3549.3193\n",
            "Epoch 49/200\n",
            "34/34 [==============================] - 0s 4ms/step - loss: 3587.6091 - mae: 3587.6091\n",
            "Epoch 50/200\n",
            "34/34 [==============================] - 0s 4ms/step - loss: 3588.1672 - mae: 3588.1672\n",
            "Epoch 51/200\n",
            "34/34 [==============================] - 0s 4ms/step - loss: 3517.7812 - mae: 3517.7812\n",
            "Epoch 52/200\n",
            "34/34 [==============================] - 0s 4ms/step - loss: 3514.6125 - mae: 3514.6125\n",
            "Epoch 53/200\n",
            "34/34 [==============================] - 0s 5ms/step - loss: 3495.7129 - mae: 3495.7129\n",
            "Epoch 54/200\n",
            "34/34 [==============================] - 0s 4ms/step - loss: 3549.7610 - mae: 3549.7610\n",
            "Epoch 55/200\n",
            "34/34 [==============================] - 0s 4ms/step - loss: 3573.3345 - mae: 3573.3345\n",
            "Epoch 56/200\n",
            "34/34 [==============================] - 0s 4ms/step - loss: 3517.5911 - mae: 3517.5911\n",
            "Epoch 57/200\n",
            "34/34 [==============================] - 0s 4ms/step - loss: 3516.8445 - mae: 3516.8445\n",
            "Epoch 58/200\n",
            "34/34 [==============================] - 0s 4ms/step - loss: 3666.2188 - mae: 3666.2188\n",
            "Epoch 59/200\n",
            "34/34 [==============================] - 0s 4ms/step - loss: 3515.7632 - mae: 3515.7632\n",
            "Epoch 60/200\n",
            "34/34 [==============================] - 0s 4ms/step - loss: 3508.9648 - mae: 3508.9648\n",
            "Epoch 61/200\n",
            "34/34 [==============================] - 0s 4ms/step - loss: 3534.9456 - mae: 3534.9456\n",
            "Epoch 62/200\n",
            "34/34 [==============================] - 0s 4ms/step - loss: 3583.1780 - mae: 3583.1780\n",
            "Epoch 63/200\n",
            "34/34 [==============================] - 0s 4ms/step - loss: 3545.0967 - mae: 3545.0967\n",
            "Epoch 64/200\n",
            "34/34 [==============================] - 0s 4ms/step - loss: 3501.7307 - mae: 3501.7307\n",
            "Epoch 65/200\n",
            "34/34 [==============================] - 0s 5ms/step - loss: 3511.8186 - mae: 3511.8186\n",
            "Epoch 66/200\n",
            "34/34 [==============================] - 0s 5ms/step - loss: 3629.7483 - mae: 3629.7483\n",
            "Epoch 67/200\n",
            "34/34 [==============================] - 0s 4ms/step - loss: 3570.7214 - mae: 3570.7214\n",
            "Epoch 68/200\n",
            "34/34 [==============================] - 0s 5ms/step - loss: 3544.6357 - mae: 3544.6357\n",
            "Epoch 69/200\n",
            "34/34 [==============================] - 0s 5ms/step - loss: 3514.1436 - mae: 3514.1436\n",
            "Epoch 70/200\n",
            "34/34 [==============================] - 0s 4ms/step - loss: 3505.4668 - mae: 3505.4668\n",
            "Epoch 71/200\n",
            "34/34 [==============================] - 0s 3ms/step - loss: 3506.1416 - mae: 3506.1416\n",
            "Epoch 72/200\n",
            "34/34 [==============================] - 0s 3ms/step - loss: 3545.9189 - mae: 3545.9189\n",
            "Epoch 73/200\n",
            "34/34 [==============================] - 0s 3ms/step - loss: 3520.7039 - mae: 3520.7039\n",
            "Epoch 74/200\n",
            "34/34 [==============================] - 0s 3ms/step - loss: 3507.5981 - mae: 3507.5981\n",
            "Epoch 75/200\n",
            "34/34 [==============================] - 0s 3ms/step - loss: 3509.0278 - mae: 3509.0278\n",
            "Epoch 76/200\n",
            "34/34 [==============================] - 0s 3ms/step - loss: 3517.0662 - mae: 3517.0662\n",
            "Epoch 77/200\n",
            "34/34 [==============================] - 0s 3ms/step - loss: 3602.8723 - mae: 3602.8723\n",
            "Epoch 78/200\n",
            "34/34 [==============================] - 0s 3ms/step - loss: 3611.6829 - mae: 3611.6829\n",
            "Epoch 79/200\n",
            "34/34 [==============================] - 0s 3ms/step - loss: 3548.0066 - mae: 3548.0066\n",
            "Epoch 80/200\n",
            "34/34 [==============================] - 0s 3ms/step - loss: 3503.1562 - mae: 3503.1562\n",
            "Epoch 81/200\n",
            "34/34 [==============================] - 0s 3ms/step - loss: 3529.7324 - mae: 3529.7324\n",
            "Epoch 82/200\n",
            "34/34 [==============================] - 0s 3ms/step - loss: 3597.0413 - mae: 3597.0413\n",
            "Epoch 83/200\n",
            "34/34 [==============================] - 0s 3ms/step - loss: 3537.9409 - mae: 3537.9409\n",
            "Epoch 84/200\n",
            "34/34 [==============================] - 0s 3ms/step - loss: 3510.3140 - mae: 3510.3140\n",
            "Epoch 85/200\n",
            "34/34 [==============================] - 0s 3ms/step - loss: 3509.1133 - mae: 3509.1133\n",
            "Epoch 86/200\n",
            "34/34 [==============================] - 0s 3ms/step - loss: 3505.3623 - mae: 3505.3623\n",
            "Epoch 87/200\n",
            "34/34 [==============================] - 0s 3ms/step - loss: 3538.3745 - mae: 3538.3745\n",
            "Epoch 88/200\n",
            "34/34 [==============================] - 0s 3ms/step - loss: 3572.8022 - mae: 3572.8022\n",
            "Epoch 89/200\n",
            "34/34 [==============================] - 0s 3ms/step - loss: 3583.8914 - mae: 3583.8914\n",
            "Epoch 90/200\n",
            "34/34 [==============================] - 0s 3ms/step - loss: 3505.6843 - mae: 3505.6843\n",
            "Epoch 91/200\n",
            "34/34 [==============================] - 0s 3ms/step - loss: 3508.4443 - mae: 3508.4443\n",
            "Epoch 92/200\n",
            "34/34 [==============================] - 0s 3ms/step - loss: 3532.3921 - mae: 3532.3921\n",
            "Epoch 93/200\n",
            "34/34 [==============================] - 0s 3ms/step - loss: 3625.6702 - mae: 3625.6702\n",
            "Epoch 94/200\n",
            "34/34 [==============================] - 0s 3ms/step - loss: 3613.3013 - mae: 3613.3013\n",
            "Epoch 95/200\n",
            "34/34 [==============================] - 0s 3ms/step - loss: 3514.6147 - mae: 3514.6147\n",
            "Epoch 96/200\n",
            "34/34 [==============================] - 0s 3ms/step - loss: 3531.1357 - mae: 3531.1357\n",
            "Epoch 97/200\n",
            "34/34 [==============================] - 0s 3ms/step - loss: 3568.3323 - mae: 3568.3323\n",
            "Epoch 98/200\n",
            "34/34 [==============================] - 0s 3ms/step - loss: 3541.2173 - mae: 3541.2173\n",
            "Epoch 99/200\n",
            "34/34 [==============================] - 0s 3ms/step - loss: 3519.4990 - mae: 3519.4990\n",
            "Epoch 100/200\n",
            "34/34 [==============================] - 0s 3ms/step - loss: 3506.0962 - mae: 3506.0962\n",
            "Epoch 101/200\n",
            "34/34 [==============================] - 0s 3ms/step - loss: 3492.2566 - mae: 3492.2566\n",
            "Epoch 102/200\n",
            "34/34 [==============================] - 0s 3ms/step - loss: 3497.7915 - mae: 3497.7915\n",
            "Epoch 103/200\n",
            "34/34 [==============================] - 0s 3ms/step - loss: 3503.7952 - mae: 3503.7952\n",
            "Epoch 104/200\n",
            "34/34 [==============================] - 0s 3ms/step - loss: 3494.4829 - mae: 3494.4829\n",
            "Epoch 105/200\n",
            "34/34 [==============================] - 0s 3ms/step - loss: 3567.9194 - mae: 3567.9194\n",
            "Epoch 106/200\n",
            "34/34 [==============================] - 0s 3ms/step - loss: 3513.7515 - mae: 3513.7515\n",
            "Epoch 107/200\n",
            "34/34 [==============================] - 0s 3ms/step - loss: 3507.8088 - mae: 3507.8088\n",
            "Epoch 108/200\n",
            "34/34 [==============================] - 0s 3ms/step - loss: 3570.2898 - mae: 3570.2898\n",
            "Epoch 109/200\n",
            "34/34 [==============================] - 0s 3ms/step - loss: 3526.9124 - mae: 3526.9124\n",
            "Epoch 110/200\n",
            "34/34 [==============================] - 0s 3ms/step - loss: 3498.2798 - mae: 3498.2798\n",
            "Epoch 111/200\n",
            "34/34 [==============================] - 0s 3ms/step - loss: 3508.5842 - mae: 3508.5842\n",
            "Epoch 112/200\n",
            "34/34 [==============================] - 0s 3ms/step - loss: 3516.2700 - mae: 3516.2700\n",
            "Epoch 113/200\n",
            "34/34 [==============================] - 0s 3ms/step - loss: 3526.6748 - mae: 3526.6748\n",
            "Epoch 114/200\n",
            "34/34 [==============================] - 0s 3ms/step - loss: 3500.9509 - mae: 3500.9509\n",
            "Epoch 115/200\n",
            "34/34 [==============================] - 0s 3ms/step - loss: 3519.2124 - mae: 3519.2124\n",
            "Epoch 116/200\n",
            "34/34 [==============================] - 0s 3ms/step - loss: 3571.0222 - mae: 3571.0222\n",
            "Epoch 117/200\n",
            "34/34 [==============================] - 0s 3ms/step - loss: 3522.5520 - mae: 3522.5520\n",
            "Epoch 118/200\n",
            "34/34 [==============================] - 0s 3ms/step - loss: 3495.9180 - mae: 3495.9180\n",
            "Epoch 119/200\n",
            "34/34 [==============================] - 0s 3ms/step - loss: 3527.3694 - mae: 3527.3694\n",
            "Epoch 120/200\n",
            "34/34 [==============================] - 0s 3ms/step - loss: 3538.3198 - mae: 3538.3198\n",
            "Epoch 121/200\n",
            "34/34 [==============================] - 0s 3ms/step - loss: 3507.3499 - mae: 3507.3499\n",
            "Epoch 122/200\n",
            "34/34 [==============================] - 0s 3ms/step - loss: 3550.5764 - mae: 3550.5764\n",
            "Epoch 123/200\n",
            "34/34 [==============================] - 0s 3ms/step - loss: 3548.4055 - mae: 3548.4055\n",
            "Epoch 124/200\n",
            "34/34 [==============================] - 0s 3ms/step - loss: 3507.1875 - mae: 3507.1875\n",
            "Epoch 125/200\n",
            "34/34 [==============================] - 0s 3ms/step - loss: 3530.9236 - mae: 3530.9236\n",
            "Epoch 126/200\n",
            "34/34 [==============================] - 0s 3ms/step - loss: 3510.6726 - mae: 3510.6726\n",
            "Epoch 127/200\n",
            "34/34 [==============================] - 0s 3ms/step - loss: 3503.8025 - mae: 3503.8025\n",
            "Epoch 128/200\n",
            "34/34 [==============================] - 0s 3ms/step - loss: 3544.1421 - mae: 3544.1421\n",
            "Epoch 129/200\n",
            "34/34 [==============================] - 0s 3ms/step - loss: 3517.5754 - mae: 3517.5754\n",
            "Epoch 130/200\n",
            "34/34 [==============================] - 0s 3ms/step - loss: 3590.2795 - mae: 3590.2795\n",
            "Epoch 131/200\n",
            "34/34 [==============================] - 0s 3ms/step - loss: 3497.5732 - mae: 3497.5732\n",
            "Epoch 132/200\n",
            "34/34 [==============================] - 0s 3ms/step - loss: 3554.4316 - mae: 3554.4316\n",
            "Epoch 133/200\n",
            "34/34 [==============================] - 0s 3ms/step - loss: 3503.2522 - mae: 3503.2522\n",
            "Epoch 134/200\n",
            "34/34 [==============================] - 0s 3ms/step - loss: 3499.2930 - mae: 3499.2930\n",
            "Epoch 135/200\n",
            "34/34 [==============================] - 0s 3ms/step - loss: 3555.1921 - mae: 3555.1921\n",
            "Epoch 136/200\n",
            "34/34 [==============================] - 0s 3ms/step - loss: 3529.1917 - mae: 3529.1917\n",
            "Epoch 137/200\n",
            "34/34 [==============================] - 0s 3ms/step - loss: 3521.6829 - mae: 3521.6829\n",
            "Epoch 138/200\n",
            "34/34 [==============================] - 0s 3ms/step - loss: 3558.5256 - mae: 3558.5256\n",
            "Epoch 139/200\n",
            "34/34 [==============================] - 0s 3ms/step - loss: 3582.1885 - mae: 3582.1885\n",
            "Epoch 140/200\n",
            "34/34 [==============================] - 0s 3ms/step - loss: 3505.5498 - mae: 3505.5498\n",
            "Epoch 141/200\n",
            "34/34 [==============================] - 0s 3ms/step - loss: 3510.0188 - mae: 3510.0188\n",
            "Epoch 142/200\n",
            "34/34 [==============================] - 0s 3ms/step - loss: 3510.2595 - mae: 3510.2595\n",
            "Epoch 143/200\n",
            "34/34 [==============================] - 0s 3ms/step - loss: 3494.1091 - mae: 3494.1091\n",
            "Epoch 144/200\n",
            "34/34 [==============================] - 0s 3ms/step - loss: 3504.6980 - mae: 3504.6980\n",
            "Epoch 145/200\n",
            "34/34 [==============================] - 0s 3ms/step - loss: 3579.6501 - mae: 3579.6501\n",
            "Epoch 146/200\n",
            "34/34 [==============================] - 0s 3ms/step - loss: 3583.0574 - mae: 3583.0574\n",
            "Epoch 147/200\n",
            "34/34 [==============================] - 0s 3ms/step - loss: 3519.1633 - mae: 3519.1633\n",
            "Epoch 148/200\n",
            "34/34 [==============================] - 0s 3ms/step - loss: 3515.9011 - mae: 3515.9011\n",
            "Epoch 149/200\n",
            "34/34 [==============================] - 0s 3ms/step - loss: 3494.2136 - mae: 3494.2136\n",
            "Epoch 150/200\n",
            "34/34 [==============================] - 0s 3ms/step - loss: 3495.0620 - mae: 3495.0620\n",
            "Epoch 151/200\n",
            "34/34 [==============================] - 0s 3ms/step - loss: 3519.7888 - mae: 3519.7888\n",
            "Epoch 152/200\n",
            "34/34 [==============================] - 0s 3ms/step - loss: 3505.4600 - mae: 3505.4600\n",
            "Epoch 153/200\n",
            "34/34 [==============================] - 0s 3ms/step - loss: 3567.3469 - mae: 3567.3469\n",
            "Epoch 154/200\n",
            "34/34 [==============================] - 0s 3ms/step - loss: 3583.6292 - mae: 3583.6292\n",
            "Epoch 155/200\n",
            "34/34 [==============================] - 0s 3ms/step - loss: 3513.3533 - mae: 3513.3533\n",
            "Epoch 156/200\n",
            "34/34 [==============================] - 0s 3ms/step - loss: 3510.0969 - mae: 3510.0969\n",
            "Epoch 157/200\n",
            "34/34 [==============================] - 0s 3ms/step - loss: 3516.8142 - mae: 3516.8142\n",
            "Epoch 158/200\n",
            "34/34 [==============================] - 0s 3ms/step - loss: 3565.8979 - mae: 3565.8979\n",
            "Epoch 159/200\n",
            "34/34 [==============================] - 0s 3ms/step - loss: 3499.1384 - mae: 3499.1384\n",
            "Epoch 160/200\n",
            "34/34 [==============================] - 0s 3ms/step - loss: 3607.8855 - mae: 3607.8855\n",
            "Epoch 161/200\n",
            "34/34 [==============================] - 0s 4ms/step - loss: 3507.9780 - mae: 3507.9780\n",
            "Epoch 162/200\n",
            "34/34 [==============================] - 0s 5ms/step - loss: 3510.7102 - mae: 3510.7102\n",
            "Epoch 163/200\n",
            "34/34 [==============================] - 0s 4ms/step - loss: 3549.8999 - mae: 3549.8999\n",
            "Epoch 164/200\n",
            "34/34 [==============================] - 0s 5ms/step - loss: 3522.1970 - mae: 3522.1970\n",
            "Epoch 165/200\n",
            "34/34 [==============================] - 0s 4ms/step - loss: 3639.0239 - mae: 3639.0239\n",
            "Epoch 166/200\n",
            "34/34 [==============================] - 0s 4ms/step - loss: 3527.6804 - mae: 3527.6804\n",
            "Epoch 167/200\n",
            "34/34 [==============================] - 0s 4ms/step - loss: 3569.3450 - mae: 3569.3450\n",
            "Epoch 168/200\n",
            "34/34 [==============================] - 0s 4ms/step - loss: 3608.5146 - mae: 3608.5146\n",
            "Epoch 169/200\n",
            "34/34 [==============================] - 0s 4ms/step - loss: 3500.1758 - mae: 3500.1758\n",
            "Epoch 170/200\n",
            "34/34 [==============================] - 0s 4ms/step - loss: 3529.1870 - mae: 3529.1870\n",
            "Epoch 171/200\n",
            "34/34 [==============================] - 0s 4ms/step - loss: 3513.7727 - mae: 3513.7727\n",
            "Epoch 172/200\n",
            "34/34 [==============================] - 0s 4ms/step - loss: 3498.7449 - mae: 3498.7449\n",
            "Epoch 173/200\n",
            "34/34 [==============================] - 0s 4ms/step - loss: 3500.0952 - mae: 3500.0952\n",
            "Epoch 174/200\n",
            "34/34 [==============================] - 0s 4ms/step - loss: 3492.7473 - mae: 3492.7473\n",
            "Epoch 175/200\n",
            "34/34 [==============================] - 0s 4ms/step - loss: 3544.9170 - mae: 3544.9170\n",
            "Epoch 176/200\n",
            "34/34 [==============================] - 0s 4ms/step - loss: 3506.5254 - mae: 3506.5254\n",
            "Epoch 177/200\n",
            "34/34 [==============================] - 0s 5ms/step - loss: 3509.5242 - mae: 3509.5242\n",
            "Epoch 178/200\n",
            "34/34 [==============================] - 0s 5ms/step - loss: 3563.1277 - mae: 3563.1277\n",
            "Epoch 179/200\n",
            "34/34 [==============================] - 0s 4ms/step - loss: 3514.5024 - mae: 3514.5024\n",
            "Epoch 180/200\n",
            "34/34 [==============================] - 0s 4ms/step - loss: 3541.7952 - mae: 3541.7952\n",
            "Epoch 181/200\n",
            "34/34 [==============================] - 0s 4ms/step - loss: 3543.4641 - mae: 3543.4641\n",
            "Epoch 182/200\n",
            "34/34 [==============================] - 0s 4ms/step - loss: 3540.5625 - mae: 3540.5625\n",
            "Epoch 183/200\n",
            "34/34 [==============================] - 0s 4ms/step - loss: 3554.4265 - mae: 3554.4265\n",
            "Epoch 184/200\n",
            "34/34 [==============================] - 0s 4ms/step - loss: 3592.7871 - mae: 3592.7871\n",
            "Epoch 185/200\n",
            "34/34 [==============================] - 0s 4ms/step - loss: 3500.3093 - mae: 3500.3093\n",
            "Epoch 186/200\n",
            "34/34 [==============================] - 0s 4ms/step - loss: 3557.1509 - mae: 3557.1509\n",
            "Epoch 187/200\n",
            "34/34 [==============================] - 0s 3ms/step - loss: 3591.1160 - mae: 3591.1160\n",
            "Epoch 188/200\n",
            "34/34 [==============================] - 0s 3ms/step - loss: 3512.2432 - mae: 3512.2432\n",
            "Epoch 189/200\n",
            "34/34 [==============================] - 0s 3ms/step - loss: 3497.5342 - mae: 3497.5342\n",
            "Epoch 190/200\n",
            "34/34 [==============================] - 0s 3ms/step - loss: 3518.5710 - mae: 3518.5710\n",
            "Epoch 191/200\n",
            "34/34 [==============================] - 0s 3ms/step - loss: 3492.7322 - mae: 3492.7322\n",
            "Epoch 192/200\n",
            "34/34 [==============================] - 0s 3ms/step - loss: 3508.9495 - mae: 3508.9495\n",
            "Epoch 193/200\n",
            "34/34 [==============================] - 0s 3ms/step - loss: 3504.4814 - mae: 3504.4814\n",
            "Epoch 194/200\n",
            "34/34 [==============================] - 0s 3ms/step - loss: 3533.7476 - mae: 3533.7476\n",
            "Epoch 195/200\n",
            "34/34 [==============================] - 0s 3ms/step - loss: 3523.1587 - mae: 3523.1587\n",
            "Epoch 196/200\n",
            "34/34 [==============================] - 0s 3ms/step - loss: 3591.6809 - mae: 3591.6809\n",
            "Epoch 197/200\n",
            "34/34 [==============================] - 0s 3ms/step - loss: 3509.2126 - mae: 3509.2126\n",
            "Epoch 198/200\n",
            "34/34 [==============================] - 0s 3ms/step - loss: 3507.5249 - mae: 3507.5249\n",
            "Epoch 199/200\n",
            "34/34 [==============================] - 0s 3ms/step - loss: 3500.0503 - mae: 3500.0503\n",
            "Epoch 200/200\n",
            "34/34 [==============================] - 0s 3ms/step - loss: 3523.0571 - mae: 3523.0571\n"
          ]
        }
      ]
    },
    {
      "cell_type": "code",
      "source": [
        "# Evaluate out third model\n",
        "insurance_model_3.evaluate(X_test, y_test)"
      ],
      "metadata": {
        "colab": {
          "base_uri": "https://localhost:8080/"
        },
        "id": "S3DN04WlfDK6",
        "outputId": "f1ee88ac-7f5a-415d-ad3c-f383ee5a481b"
      },
      "execution_count": 137,
      "outputs": [
        {
          "output_type": "stream",
          "name": "stdout",
          "text": [
            "9/9 [==============================] - 0s 2ms/step - loss: 3167.5703 - mae: 3167.5703\n"
          ]
        },
        {
          "output_type": "execute_result",
          "data": {
            "text/plain": [
              "[3167.5703125, 3167.5703125]"
            ]
          },
          "metadata": {},
          "execution_count": 137
        }
      ]
    },
    {
      "cell_type": "code",
      "source": [
        "# Plot history (Also known as a loss curve or a training curve)\n",
        "pd.DataFrame(history.history).plot()\n",
        "plt.ylabel(\"Loss\")\n",
        "plt.xlabel(\"Epochs\")"
      ],
      "metadata": {
        "colab": {
          "base_uri": "https://localhost:8080/",
          "height": 467
        },
        "id": "3TQOeb2wfDIS",
        "outputId": "f656a4f2-348a-4075-f204-560ed3686642"
      },
      "execution_count": 138,
      "outputs": [
        {
          "output_type": "execute_result",
          "data": {
            "text/plain": [
              "Text(0.5, 0, 'Epochs')"
            ]
          },
          "metadata": {},
          "execution_count": 138
        },
        {
          "output_type": "display_data",
          "data": {
            "text/plain": [
              "<Figure size 640x480 with 1 Axes>"
            ],
            "image/png": "[encoded data removed]"
          },
          "metadata": {}
        }
      ]
    },
    {
      "cell_type": "markdown",
      "source": [
        "From this, it looks like our model's loss (and MAE) were both still decreasing (in our case, MAE and loss are the same, hence the lines in the plot overlap eachother).\n",
        "\n",
        "What this tells us is the loss might go down if we try training it for longer.\n",
        "\n",
        "> 🤔 **Question:** How long should you train for? \n",
        "\n",
        "> It depends on what problem you're working on. Sometimes training won't take very long, other times it'll take longer than you expect. A common method is to set your model training for a very long time (e.g. 1000's of epochs) but set it up with an [EarlyStopping callback](https://www.tensorflow.org/api_docs/python/tf/keras/callbacks/EarlyStopping) so it stops automatically when it stops improving. We'll see this in another module.\n",
        "\n",
        "Let's train the same model as above for a little longer. We can do this but calling fit on it again."
      ],
      "metadata": {
        "id": "aiGOh5vHfDFn"
      }
    },
    {
      "cell_type": "markdown",
      "source": [
        " ## Preprocessing data (normalization and standardization)\n",
        "\n",
        "A common practice when working with neural networks is to make sure all of the data you pass to them is in the range 0 to 1.\n",
        "\n",
        "This practice is called **normalization** (scaling all values from their original range to, e.g. between 0 and 100,000 to be between 0 and 1).\n",
        "\n",
        "There is another process call **standardization** which converts all of your data to unit variance and 0 mean.\n",
        "\n",
        "These two practices are often part of a preprocessing pipeline (a series of functions to prepare your data for use with neural networks).\n",
        "\n",
        "Knowing this, some of the major steps you'll take to preprocess your data for a neural network include:\n",
        "* Turning all of your data to numbers (a neural network can't handle strings).\n",
        "* Making sure your data is in the right shape (verifying input and output shapes).\n",
        "* [**Feature scaling**](https://scikit-learn.org/stable/modules/preprocessing.html#preprocessing-scaler):\n",
        "    * Normalizing data (making sure all values are between 0 and 1). This is done by subtracting the minimum value then dividing by the maximum value minus the minmum. This is also referred to as min-max scaling.\n",
        "    * Standardization (making sure all values have a mean of 0 and a variance of 1). This is done by substracting the mean value from the target feature and then dividing it by the standard deviation.\n",
        "    * Which one should you use?\n",
        "      * **With neural networks you'll tend to favour normalization** as they tend to prefer values between 0 and 1 (you'll see this espcially with image processing), however, you'll often find a neural network can perform pretty well with minimal feature scaling.\n",
        "\n",
        "> 📖 **Resource:** For more on preprocessing data, I'd recommend reading the following resources:\n",
        "* [Scikit-Learn's documentation on preprocessing data](https://scikit-learn.org/stable/modules/preprocessing.html#preprocessing-data).\n",
        "* [Scale, Standardize or Normalize with Scikit-Learn by Jeff Hale](https://towardsdatascience.com/scale-standardize-or-normalize-with-scikit-learn-6ccc7d176a02).\n",
        "\n",
        "We've already turned our data into numbers using `get_dummies()`, let's see how we'd normalize it as well."
      ],
      "metadata": {
        "id": "bevu1Xc0aBtO"
      }
    },
    {
      "cell_type": "code",
      "source": [
        "X[\"age\"].plot(kind=\"hist\")"
      ],
      "metadata": {
        "colab": {
          "base_uri": "https://localhost:8080/",
          "height": 448
        },
        "id": "67pR0JGbYTxm",
        "outputId": "912933c9-ecca-47e9-d28a-4bdc02224677"
      },
      "execution_count": 139,
      "outputs": [
        {
          "output_type": "execute_result",
          "data": {
            "text/plain": [
              "<Axes: ylabel='Frequency'>"
            ]
          },
          "metadata": {},
          "execution_count": 139
        },
        {
          "output_type": "display_data",
          "data": {
            "text/plain": [
              "<Figure size 640x480 with 1 Axes>"
            ],
            "image/png": "[encoded data removed]"
          },
          "metadata": {}
        }
      ]
    },
    {
      "cell_type": "code",
      "source": [
        "X[\"bmi\"].plot(kind=\"hist\")"
      ],
      "metadata": {
        "colab": {
          "base_uri": "https://localhost:8080/",
          "height": 448
        },
        "id": "_wLP521FiD44",
        "outputId": "ddec483d-5402-47df-ba80-532a06cc5326"
      },
      "execution_count": 140,
      "outputs": [
        {
          "output_type": "execute_result",
          "data": {
            "text/plain": [
              "<Axes: ylabel='Frequency'>"
            ]
          },
          "metadata": {},
          "execution_count": 140
        },
        {
          "output_type": "display_data",
          "data": {
            "text/plain": [
              "<Figure size 640x480 with 1 Axes>"
            ],
            "image/png": "[encoded data removed]"
          },
          "metadata": {}
        }
      ]
    },
    {
      "cell_type": "code",
      "source": [
        "X[\"children\"].value_counts()"
      ],
      "metadata": {
        "colab": {
          "base_uri": "https://localhost:8080/"
        },
        "id": "RAMA4GqKiDug",
        "outputId": "fc9c4e3f-c5bc-4f41-f674-3c11a9160d58"
      },
      "execution_count": 142,
      "outputs": [
        {
          "output_type": "execute_result",
          "data": {
            "text/plain": [
              "0    574\n",
              "1    324\n",
              "2    240\n",
              "3    157\n",
              "4     25\n",
              "5     18\n",
              "Name: children, dtype: int64"
            ]
          },
          "metadata": {},
          "execution_count": 142
        }
      ]
    },
    {
      "cell_type": "code",
      "source": [
        "import pandas as pd\n",
        "import matplotlib.pyplot as plt\n",
        "import tensorflow as tf\n",
        "\n",
        "# Read in the insurance dataframe\n",
        "insurance = pd.read_csv(\"https://raw.githubusercontent.com/stedy/Machine-Learning-with-R-datasets/master/insurance.csv\")\n",
        "insurance"
      ],
      "metadata": {
        "colab": {
          "base_uri": "https://localhost:8080/",
          "height": 423
        },
        "id": "kngywqrLiDr-",
        "outputId": "2a462e2f-1187-4727-cd0f-0fce52e8f73b"
      },
      "execution_count": 143,
      "outputs": [
        {
          "output_type": "execute_result",
          "data": {
            "text/plain": [
              "      age     sex     bmi  children smoker     region      charges\n",
              "0      19  female  27.900         0    yes  southwest  16884.92400\n",
              "1      18    male  33.770         1     no  southeast   1725.55230\n",
              "2      28    male  33.000         3     no  southeast   4449.46200\n",
              "3      33    male  22.705         0     no  northwest  21984.47061\n",
              "4      32    male  28.880         0     no  northwest   3866.85520\n",
              "...   ...     ...     ...       ...    ...        ...          ...\n",
              "1333   50    male  30.970         3     no  northwest  10600.54830\n",
              "1334   18  female  31.920         0     no  northeast   2205.98080\n",
              "1335   18  female  36.850         0     no  southeast   1629.83350\n",
              "1336   21  female  25.800         0     no  southwest   2007.94500\n",
              "1337   61  female  29.070         0    yes  northwest  29141.36030\n",
              "\n",
              "[1338 rows x 7 columns]"
            ],
            "text/html": [
              "\n",
              "  <div id=\"df-4f9deeea-cb55-4efc-b433-a1a8d7114cfd\">\n",
              "    <div class=\"colab-df-container\">\n",
              "      <div>\n",
              "<style scoped>\n",
              "    .dataframe tbody tr th:only-of-type {\n",
              "        vertical-align: middle;\n",
              "    }\n",
              "\n",
              "    .dataframe tbody tr th {\n",
              "        vertical-align: top;\n",
              "    }\n",
              "\n",
              "    .dataframe thead th {\n",
              "        text-align: right;\n",
              "    }\n",
              "</style>\n",
              "<table border=\"1\" class=\"dataframe\">\n",
              "  <thead>\n",
              "    <tr style=\"text-align: right;\">\n",
              "      <th></th>\n",
              "      <th>age</th>\n",
              "      <th>sex</th>\n",
              "      <th>bmi</th>\n",
              "      <th>children</th>\n",
              "      <th>smoker</th>\n",
              "      <th>region</th>\n",
              "      <th>charges</th>\n",
              "    </tr>\n",
              "  </thead>\n",
              "  <tbody>\n",
              "    <tr>\n",
              "      <th>0</th>\n",
              "      <td>19</td>\n",
              "      <td>female</td>\n",
              "      <td>27.900</td>\n",
              "      <td>0</td>\n",
              "      <td>yes</td>\n",
              "      <td>southwest</td>\n",
              "      <td>16884.92400</td>\n",
              "    </tr>\n",
              "    <tr>\n",
              "      <th>1</th>\n",
              "      <td>18</td>\n",
              "      <td>male</td>\n",
              "      <td>33.770</td>\n",
              "      <td>1</td>\n",
              "      <td>no</td>\n",
              "      <td>southeast</td>\n",
              "      <td>1725.55230</td>\n",
              "    </tr>\n",
              "    <tr>\n",
              "      <th>2</th>\n",
              "      <td>28</td>\n",
              "      <td>male</td>\n",
              "      <td>33.000</td>\n",
              "      <td>3</td>\n",
              "      <td>no</td>\n",
              "      <td>southeast</td>\n",
              "      <td>4449.46200</td>\n",
              "    </tr>\n",
              "    <tr>\n",
              "      <th>3</th>\n",
              "      <td>33</td>\n",
              "      <td>male</td>\n",
              "      <td>22.705</td>\n",
              "      <td>0</td>\n",
              "      <td>no</td>\n",
              "      <td>northwest</td>\n",
              "      <td>21984.47061</td>\n",
              "    </tr>\n",
              "    <tr>\n",
              "      <th>4</th>\n",
              "      <td>32</td>\n",
              "      <td>male</td>\n",
              "      <td>28.880</td>\n",
              "      <td>0</td>\n",
              "      <td>no</td>\n",
              "      <td>northwest</td>\n",
              "      <td>3866.85520</td>\n",
              "    </tr>\n",
              "    <tr>\n",
              "      <th>...</th>\n",
              "      <td>...</td>\n",
              "      <td>...</td>\n",
              "      <td>...</td>\n",
              "      <td>...</td>\n",
              "      <td>...</td>\n",
              "      <td>...</td>\n",
              "      <td>...</td>\n",
              "    </tr>\n",
              "    <tr>\n",
              "      <th>1333</th>\n",
              "      <td>50</td>\n",
              "      <td>male</td>\n",
              "      <td>30.970</td>\n",
              "      <td>3</td>\n",
              "      <td>no</td>\n",
              "      <td>northwest</td>\n",
              "      <td>10600.54830</td>\n",
              "    </tr>\n",
              "    <tr>\n",
              "      <th>1334</th>\n",
              "      <td>18</td>\n",
              "      <td>female</td>\n",
              "      <td>31.920</td>\n",
              "      <td>0</td>\n",
              "      <td>no</td>\n",
              "      <td>northeast</td>\n",
              "      <td>2205.98080</td>\n",
              "    </tr>\n",
              "    <tr>\n",
              "      <th>1335</th>\n",
              "      <td>18</td>\n",
              "      <td>female</td>\n",
              "      <td>36.850</td>\n",
              "      <td>0</td>\n",
              "      <td>no</td>\n",
              "      <td>southeast</td>\n",
              "      <td>1629.83350</td>\n",
              "    </tr>\n",
              "    <tr>\n",
              "      <th>1336</th>\n",
              "      <td>21</td>\n",
              "      <td>female</td>\n",
              "      <td>25.800</td>\n",
              "      <td>0</td>\n",
              "      <td>no</td>\n",
              "      <td>southwest</td>\n",
              "      <td>2007.94500</td>\n",
              "    </tr>\n",
              "    <tr>\n",
              "      <th>1337</th>\n",
              "      <td>61</td>\n",
              "      <td>female</td>\n",
              "      <td>29.070</td>\n",
              "      <td>0</td>\n",
              "      <td>yes</td>\n",
              "      <td>northwest</td>\n",
              "      <td>29141.36030</td>\n",
              "    </tr>\n",
              "  </tbody>\n",
              "</table>\n",
              "<p>1338 rows × 7 columns</p>\n",
              "</div>\n",
              "      <button class=\"colab-df-convert\" onclick=\"convertToInteractive('df-4f9deeea-cb55-4efc-b433-a1a8d7114cfd')\"\n",
              "              title=\"Convert this dataframe to an interactive table.\"\n",
              "              style=\"display:none;\">\n",
              "        \n",
              "  <svg xmlns=\"http://www.w3.org/2000/svg\" height=\"24px\"viewBox=\"0 0 24 24\"\n",
              "       width=\"24px\">\n",
              "    <path d=\"M0 0h24v24H0V0z\" fill=\"none\"/>\n",
              "    <path d=\"M18.56 5.44l.94 2.06.94-2.06 2.06-.94-2.06-.94-.94-2.06-.94 2.06-2.06.94zm-11 1L8.5 8.5l.94-2.06 2.06-.94-2.06-.94L8.5 2.5l-.94 2.06-2.06.94zm10 10l.94 2.06.94-2.06 2.06-.94-2.06-.94-.94-2.06-.94 2.06-2.06.94z\"/><path d=\"M17.41 7.96l-1.37-1.37c-.4-.4-.92-.59-1.43-.59-.52 0-1.04.2-1.43.59L10.3 9.45l-7.72 7.72c-.78.78-.78 2.05 0 2.83L4 21.41c.39.39.9.59 1.41.59.51 0 1.02-.2 1.41-.59l7.78-7.78 2.81-2.81c.8-.78.8-2.07 0-2.86zM5.41 20L4 18.59l7.72-7.72 1.47 1.35L5.41 20z\"/>\n",
              "  </svg>\n",
              "      </button>\n",
              "      \n",
              "  <style>\n",
              "    .colab-df-container {\n",
              "      display:flex;\n",
              "      flex-wrap:wrap;\n",
              "      gap: 12px;\n",
              "    }\n",
              "\n",
              "    .colab-df-convert {\n",
              "      background-color: #E8F0FE;\n",
              "      border: none;\n",
              "      border-radius: 50%;\n",
              "      cursor: pointer;\n",
              "      display: none;\n",
              "      fill: #1967D2;\n",
              "      height: 32px;\n",
              "      padding: 0 0 0 0;\n",
              "      width: 32px;\n",
              "    }\n",
              "\n",
              "    .colab-df-convert:hover {\n",
              "      background-color: #E2EBFA;\n",
              "      box-shadow: 0px 1px 2px rgba(60, 64, 67, 0.3), 0px 1px 3px 1px rgba(60, 64, 67, 0.15);\n",
              "      fill: #174EA6;\n",
              "    }\n",
              "\n",
              "    [theme=dark] .colab-df-convert {\n",
              "      background-color: #3B4455;\n",
              "      fill: #D2E3FC;\n",
              "    }\n",
              "\n",
              "    [theme=dark] .colab-df-convert:hover {\n",
              "      background-color: #434B5C;\n",
              "      box-shadow: 0px 1px 3px 1px rgba(0, 0, 0, 0.15);\n",
              "      filter: drop-shadow(0px 1px 2px rgba(0, 0, 0, 0.3));\n",
              "      fill: #FFFFFF;\n",
              "    }\n",
              "  </style>\n",
              "\n",
              "      <script>\n",
              "        const buttonEl =\n",
              "          document.querySelector('#df-4f9deeea-cb55-4efc-b433-a1a8d7114cfd button.colab-df-convert');\n",
              "        buttonEl.style.display =\n",
              "          google.colab.kernel.accessAllowed ? 'block' : 'none';\n",
              "\n",
              "        async function convertToInteractive(key) {\n",
              "          const element = document.querySelector('#df-4f9deeea-cb55-4efc-b433-a1a8d7114cfd');\n",
              "          const dataTable =\n",
              "            await google.colab.kernel.invokeFunction('convertToInteractive',\n",
              "                                                     [key], {});\n",
              "          if (!dataTable) return;\n",
              "\n",
              "          const docLinkHtml = 'Like what you see? Visit the ' +\n",
              "            '<a target=\"_blank\" href=https://colab.research.google.com/notebooks/data_table.ipynb>data table notebook</a>'\n",
              "            + ' to learn more about interactive tables.';\n",
              "          element.innerHTML = '';\n",
              "          dataTable['output_type'] = 'display_data';\n",
              "          await google.colab.output.renderOutput(dataTable, element);\n",
              "          const docLink = document.createElement('div');\n",
              "          docLink.innerHTML = docLinkHtml;\n",
              "          element.appendChild(docLink);\n",
              "        }\n",
              "      </script>\n",
              "    </div>\n",
              "  </div>\n",
              "  "
            ]
          },
          "metadata": {},
          "execution_count": 143
        }
      ]
    },
    {
      "cell_type": "markdown",
      "source": [
        "Now, just as before, we need to transform the non-numerical columns into numbers and this time we'll also be normalizing the numerical columns with different ranges (to make sure they're all between 0 and 1).\n",
        "\n",
        "To do this, we're going to use a few classes from Scikit-Learn:\n",
        "* [`make_column_transformer`](https://scikit-learn.org/stable/modules/generated/sklearn.compose.make_column_transformer.html) - build a multi-step data preprocessing function for the folllowing transformations:\n",
        "  * [`MinMaxScaler`](https://scikit-learn.org/stable/modules/generated/sklearn.preprocessing.MinMaxScaler.html) - make sure all numerical columns are normalized (between 0 and 1).\n",
        "  * [`OneHotEncoder`](https://scikit-learn.org/stable/modules/generated/sklearn.preprocessing.OneHotEncoder.html) - one hot encode the non-numerical columns.\n",
        "\n",
        "Let's see them in action."
      ],
      "metadata": {
        "id": "jbUKrfYxiDow"
      }
    },
    {
      "cell_type": "code",
      "source": [
        "from sklearn.compose import make_column_transformer\n",
        "from sklearn.preprocessing import MinMaxScaler, OneHotEncoder\n",
        "from sklearn.model_selection import train_test_split\n",
        "\n",
        "# Create a column transformer\n",
        "ct = make_column_transformer(\n",
        "    (MinMaxScaler(), [\"age\", \"bmi\", \"children\"]), # Turn all values in these between 0 and 1\n",
        "    (OneHotEncoder(handle_unknown=\"ignore\"), [\"sex\", \"smoker\", \"region\"])\n",
        ")\n",
        "\n",
        "# Create X and y values\n",
        "X = insurance.drop(\"charges\", axis=1)\n",
        "y = insurance[\"charges\"]\n",
        "\n",
        "# Buils our train and test datasets\n",
        "X_train, X_test, y_train, y_test = train_test_split(X,\n",
        "                                                    y,\n",
        "                                                    test_size=0.2,\n",
        "                                                    random_state=42)\n",
        "\n",
        "# Fit the column transformer to our training data\n",
        "ct.fit(X_train)\n",
        "\n",
        "# Transform training and test data with normalization (MinMaxScalar) and OneHotEncoder\n",
        "X_train_normal = ct.transform(X_train)\n",
        "X_test_normal = ct.transform(X_test)"
      ],
      "metadata": {
        "id": "tjWqfZT-iDmJ"
      },
      "execution_count": 152,
      "outputs": []
    },
    {
      "cell_type": "code",
      "source": [
        "# What does our data look like\n",
        "X_train.loc[0]"
      ],
      "metadata": {
        "colab": {
          "base_uri": "https://localhost:8080/"
        },
        "id": "yQWH4J1HiDb7",
        "outputId": "b9f94268-70cc-40e2-a949-05cf381cf13e"
      },
      "execution_count": 153,
      "outputs": [
        {
          "output_type": "execute_result",
          "data": {
            "text/plain": [
              "age                19\n",
              "sex            female\n",
              "bmi              27.9\n",
              "children            0\n",
              "smoker            yes\n",
              "region      southwest\n",
              "Name: 0, dtype: object"
            ]
          },
          "metadata": {},
          "execution_count": 153
        }
      ]
    },
    {
      "cell_type": "code",
      "source": [
        "X_train_normal[0]"
      ],
      "metadata": {
        "colab": {
          "base_uri": "https://localhost:8080/"
        },
        "id": "3VzwPixuSxBu",
        "outputId": "87099641-0bc4-4cd0-eef9-77ebd04ab44d"
      },
      "execution_count": 160,
      "outputs": [
        {
          "output_type": "execute_result",
          "data": {
            "text/plain": [
              "array([0.60869565, 0.10734463, 0.4       , 1.        , 0.        ,\n",
              "       1.        , 0.        , 0.        , 1.        , 0.        ,\n",
              "       0.        ])"
            ]
          },
          "metadata": {},
          "execution_count": 160
        }
      ]
    },
    {
      "cell_type": "code",
      "source": [
        "X_train_normal.shape, X_train.shape"
      ],
      "metadata": {
        "colab": {
          "base_uri": "https://localhost:8080/"
        },
        "id": "Ws47FaQIsAE1",
        "outputId": "dd585292-93ad-4fb1-dfb7-91922ca63871"
      },
      "execution_count": 162,
      "outputs": [
        {
          "output_type": "execute_result",
          "data": {
            "text/plain": [
              "((1070, 11), (1070, 6))"
            ]
          },
          "metadata": {},
          "execution_count": 162
        }
      ]
    },
    {
      "cell_type": "markdown",
      "source": [
        "Our data is normalized and numerical, let's model it.\n",
        "\n",
        "We'll use the same model as `insurance_model_2`."
      ],
      "metadata": {
        "id": "2HTPpHaFsACD"
      }
    },
    {
      "cell_type": "code",
      "source": [
        "# Build a neural network model to fit on our normalized data"
      ],
      "metadata": {
        "id": "yzxBhc5CsNki"
      },
      "execution_count": 163,
      "outputs": []
    },
    {
      "cell_type": "code",
      "source": [
        "# Set random seed\n",
        "tf.random.set_seed(42)\n",
        "\n",
        "# 1. Create the model\n",
        "insurance_model_3 = tf.keras.Sequential([\n",
        "    tf.keras.layers.Dense(100),\n",
        "    tf.keras.layers.Dense(10),\n",
        "    tf.keras.layers.Dense(1)\n",
        "])\n",
        "\n",
        "# 2. Compile the model\n",
        "insurance_model_3.compile(loss=tf.keras.losses.mae,\n",
        "                          optimizer=tf.keras.optimizers.Adam(),\n",
        "                          metrics=[\"mae\"])\n",
        "\n",
        "# 3. Fit the model\n",
        "insurance_model_3.fit(X_train_normal, y_train, epochs=200)"
      ],
      "metadata": {
        "colab": {
          "base_uri": "https://localhost:8080/"
        },
        "id": "ifdQM1h2sNhm",
        "outputId": "a5666005-3843-4a95-c6a0-0cfcbc36ec38"
      },
      "execution_count": 169,
      "outputs": [
        {
          "output_type": "stream",
          "name": "stdout",
          "text": [
            "Epoch 1/200\n",
            "34/34 [==============================] - 1s 5ms/step - loss: 13344.6797 - mae: 13344.6797\n",
            "Epoch 2/200\n",
            "34/34 [==============================] - 0s 4ms/step - loss: 13337.7861 - mae: 13337.7861\n",
            "Epoch 3/200\n",
            "34/34 [==============================] - 0s 4ms/step - loss: 13319.7559 - mae: 13319.7559\n",
            "Epoch 4/200\n",
            "34/34 [==============================] - 0s 4ms/step - loss: 13280.0420 - mae: 13280.0420\n",
            "Epoch 5/200\n",
            "34/34 [==============================] - 0s 4ms/step - loss: 13207.3623 - mae: 13207.3623\n",
            "Epoch 6/200\n",
            "34/34 [==============================] - 0s 4ms/step - loss: 13090.4912 - mae: 13090.4912\n",
            "Epoch 7/200\n",
            "34/34 [==============================] - 0s 4ms/step - loss: 12918.8916 - mae: 12918.8916\n",
            "Epoch 8/200\n",
            "34/34 [==============================] - 0s 4ms/step - loss: 12682.2764 - mae: 12682.2764\n",
            "Epoch 9/200\n",
            "34/34 [==============================] - 0s 5ms/step - loss: 12370.3838 - mae: 12370.3838\n",
            "Epoch 10/200\n",
            "34/34 [==============================] - 0s 4ms/step - loss: 11977.5439 - mae: 11977.5439\n",
            "Epoch 11/200\n",
            "34/34 [==============================] - 0s 4ms/step - loss: 11510.8965 - mae: 11510.8965\n",
            "Epoch 12/200\n",
            "34/34 [==============================] - 0s 4ms/step - loss: 11005.4795 - mae: 11005.4795\n",
            "Epoch 13/200\n",
            "34/34 [==============================] - 0s 4ms/step - loss: 10502.3096 - mae: 10502.3096\n",
            "Epoch 14/200\n",
            "34/34 [==============================] - 0s 4ms/step - loss: 10001.1123 - mae: 10001.1123\n",
            "Epoch 15/200\n",
            "34/34 [==============================] - 0s 5ms/step - loss: 9528.2695 - mae: 9528.2695\n",
            "Epoch 16/200\n",
            "34/34 [==============================] - 0s 4ms/step - loss: 9106.6475 - mae: 9106.6475\n",
            "Epoch 17/200\n",
            "34/34 [==============================] - 0s 4ms/step - loss: 8752.2910 - mae: 8752.2910\n",
            "Epoch 18/200\n",
            "34/34 [==============================] - 0s 4ms/step - loss: 8467.7080 - mae: 8467.7080\n",
            "Epoch 19/200\n",
            "34/34 [==============================] - 0s 4ms/step - loss: 8246.3438 - mae: 8246.3438\n",
            "Epoch 20/200\n",
            "34/34 [==============================] - 0s 4ms/step - loss: 8095.7544 - mae: 8095.7544\n",
            "Epoch 21/200\n",
            "34/34 [==============================] - 0s 5ms/step - loss: 7984.4736 - mae: 7984.4736\n",
            "Epoch 22/200\n",
            "34/34 [==============================] - 0s 4ms/step - loss: 7908.4551 - mae: 7908.4551\n",
            "Epoch 23/200\n",
            "34/34 [==============================] - 0s 3ms/step - loss: 7849.0776 - mae: 7849.0776\n",
            "Epoch 24/200\n",
            "34/34 [==============================] - 0s 3ms/step - loss: 7796.8423 - mae: 7796.8423\n",
            "Epoch 25/200\n",
            "34/34 [==============================] - 0s 3ms/step - loss: 7758.8584 - mae: 7758.8584\n",
            "Epoch 26/200\n",
            "34/34 [==============================] - 0s 3ms/step - loss: 7707.0986 - mae: 7707.0986\n",
            "Epoch 27/200\n",
            "34/34 [==============================] - 0s 3ms/step - loss: 7665.0684 - mae: 7665.0684\n",
            "Epoch 28/200\n",
            "34/34 [==============================] - 0s 3ms/step - loss: 7623.0195 - mae: 7623.0195\n",
            "Epoch 29/200\n",
            "34/34 [==============================] - 0s 3ms/step - loss: 7581.1274 - mae: 7581.1274\n",
            "Epoch 30/200\n",
            "34/34 [==============================] - 0s 3ms/step - loss: 7538.2271 - mae: 7538.2271\n",
            "Epoch 31/200\n",
            "34/34 [==============================] - 0s 3ms/step - loss: 7494.7510 - mae: 7494.7510\n",
            "Epoch 32/200\n",
            "34/34 [==============================] - 0s 3ms/step - loss: 7451.0049 - mae: 7451.0049\n",
            "Epoch 33/200\n",
            "34/34 [==============================] - 0s 3ms/step - loss: 7407.1997 - mae: 7407.1997\n",
            "Epoch 34/200\n",
            "34/34 [==============================] - 0s 3ms/step - loss: 7359.4790 - mae: 7359.4790\n",
            "Epoch 35/200\n",
            "34/34 [==============================] - 0s 3ms/step - loss: 7313.2642 - mae: 7313.2642\n",
            "Epoch 36/200\n",
            "34/34 [==============================] - 0s 3ms/step - loss: 7263.5508 - mae: 7263.5508\n",
            "Epoch 37/200\n",
            "34/34 [==============================] - 0s 3ms/step - loss: 7213.7974 - mae: 7213.7974\n",
            "Epoch 38/200\n",
            "34/34 [==============================] - 0s 3ms/step - loss: 7163.4849 - mae: 7163.4849\n",
            "Epoch 39/200\n",
            "34/34 [==============================] - 0s 3ms/step - loss: 7109.3486 - mae: 7109.3486\n",
            "Epoch 40/200\n",
            "34/34 [==============================] - 0s 3ms/step - loss: 7054.6196 - mae: 7054.6196\n",
            "Epoch 41/200\n",
            "34/34 [==============================] - 0s 4ms/step - loss: 6999.1045 - mae: 6999.1045\n",
            "Epoch 42/200\n",
            "34/34 [==============================] - 0s 3ms/step - loss: 6940.8159 - mae: 6940.8159\n",
            "Epoch 43/200\n",
            "34/34 [==============================] - 0s 3ms/step - loss: 6879.2119 - mae: 6879.2119\n",
            "Epoch 44/200\n",
            "34/34 [==============================] - 0s 3ms/step - loss: 6813.9058 - mae: 6813.9058\n",
            "Epoch 45/200\n",
            "34/34 [==============================] - 0s 3ms/step - loss: 6747.8716 - mae: 6747.8716\n",
            "Epoch 46/200\n",
            "34/34 [==============================] - 0s 3ms/step - loss: 6679.9888 - mae: 6679.9888\n",
            "Epoch 47/200\n",
            "34/34 [==============================] - 0s 3ms/step - loss: 6610.1416 - mae: 6610.1416\n",
            "Epoch 48/200\n",
            "34/34 [==============================] - 0s 3ms/step - loss: 6532.3018 - mae: 6532.3018\n",
            "Epoch 49/200\n",
            "34/34 [==============================] - 0s 3ms/step - loss: 6454.5312 - mae: 6454.5312\n",
            "Epoch 50/200\n",
            "34/34 [==============================] - 0s 3ms/step - loss: 6370.5708 - mae: 6370.5708\n",
            "Epoch 51/200\n",
            "34/34 [==============================] - 0s 3ms/step - loss: 6288.0181 - mae: 6288.0181\n",
            "Epoch 52/200\n",
            "34/34 [==============================] - 0s 3ms/step - loss: 6196.0576 - mae: 6196.0576\n",
            "Epoch 53/200\n",
            "34/34 [==============================] - 0s 3ms/step - loss: 6101.8564 - mae: 6101.8564\n",
            "Epoch 54/200\n",
            "34/34 [==============================] - 0s 3ms/step - loss: 6004.9360 - mae: 6004.9360\n",
            "Epoch 55/200\n",
            "34/34 [==============================] - 0s 3ms/step - loss: 5899.8262 - mae: 5899.8262\n",
            "Epoch 56/200\n",
            "34/34 [==============================] - 0s 4ms/step - loss: 5793.5645 - mae: 5793.5645\n",
            "Epoch 57/200\n",
            "34/34 [==============================] - 0s 3ms/step - loss: 5679.7397 - mae: 5679.7397\n",
            "Epoch 58/200\n",
            "34/34 [==============================] - 0s 3ms/step - loss: 5562.6802 - mae: 5562.6802\n",
            "Epoch 59/200\n",
            "34/34 [==============================] - 0s 3ms/step - loss: 5446.4531 - mae: 5446.4531\n",
            "Epoch 60/200\n",
            "34/34 [==============================] - 0s 3ms/step - loss: 5325.1377 - mae: 5325.1377\n",
            "Epoch 61/200\n",
            "34/34 [==============================] - 0s 3ms/step - loss: 5198.5625 - mae: 5198.5625\n",
            "Epoch 62/200\n",
            "34/34 [==============================] - 0s 3ms/step - loss: 5070.9932 - mae: 5070.9932\n",
            "Epoch 63/200\n",
            "34/34 [==============================] - 0s 3ms/step - loss: 4942.9951 - mae: 4942.9951\n",
            "Epoch 64/200\n",
            "34/34 [==============================] - 0s 3ms/step - loss: 4812.0444 - mae: 4812.0444\n",
            "Epoch 65/200\n",
            "34/34 [==============================] - 0s 3ms/step - loss: 4684.5923 - mae: 4684.5923\n",
            "Epoch 66/200\n",
            "34/34 [==============================] - 0s 3ms/step - loss: 4556.3208 - mae: 4556.3208\n",
            "Epoch 67/200\n",
            "34/34 [==============================] - 0s 3ms/step - loss: 4444.5371 - mae: 4444.5371\n",
            "Epoch 68/200\n",
            "34/34 [==============================] - 0s 3ms/step - loss: 4335.8491 - mae: 4335.8491\n",
            "Epoch 69/200\n",
            "34/34 [==============================] - 0s 3ms/step - loss: 4232.0923 - mae: 4232.0923\n",
            "Epoch 70/200\n",
            "34/34 [==============================] - 0s 3ms/step - loss: 4136.7344 - mae: 4136.7344\n",
            "Epoch 71/200\n",
            "34/34 [==============================] - 0s 3ms/step - loss: 4047.2393 - mae: 4047.2393\n",
            "Epoch 72/200\n",
            "34/34 [==============================] - 0s 3ms/step - loss: 3968.3948 - mae: 3968.3948\n",
            "Epoch 73/200\n",
            "34/34 [==============================] - 0s 3ms/step - loss: 3900.7969 - mae: 3900.7969\n",
            "Epoch 74/200\n",
            "34/34 [==============================] - 0s 3ms/step - loss: 3844.9329 - mae: 3844.9329\n",
            "Epoch 75/200\n",
            "34/34 [==============================] - 0s 3ms/step - loss: 3799.0007 - mae: 3799.0007\n",
            "Epoch 76/200\n",
            "34/34 [==============================] - 0s 3ms/step - loss: 3763.1526 - mae: 3763.1526\n",
            "Epoch 77/200\n",
            "34/34 [==============================] - 0s 4ms/step - loss: 3735.0310 - mae: 3735.0310\n",
            "Epoch 78/200\n",
            "34/34 [==============================] - 0s 3ms/step - loss: 3714.5669 - mae: 3714.5669\n",
            "Epoch 79/200\n",
            "34/34 [==============================] - 0s 3ms/step - loss: 3699.0022 - mae: 3699.0022\n",
            "Epoch 80/200\n",
            "34/34 [==============================] - 0s 3ms/step - loss: 3688.3445 - mae: 3688.3445\n",
            "Epoch 81/200\n",
            "34/34 [==============================] - 0s 3ms/step - loss: 3680.6008 - mae: 3680.6008\n",
            "Epoch 82/200\n",
            "34/34 [==============================] - 0s 3ms/step - loss: 3676.0000 - mae: 3676.0000\n",
            "Epoch 83/200\n",
            "34/34 [==============================] - 0s 3ms/step - loss: 3669.2144 - mae: 3669.2144\n",
            "Epoch 84/200\n",
            "34/34 [==============================] - 0s 3ms/step - loss: 3665.8865 - mae: 3665.8865\n",
            "Epoch 85/200\n",
            "34/34 [==============================] - 0s 3ms/step - loss: 3662.8989 - mae: 3662.8989\n",
            "Epoch 86/200\n",
            "34/34 [==============================] - 0s 3ms/step - loss: 3660.9192 - mae: 3660.9192\n",
            "Epoch 87/200\n",
            "34/34 [==============================] - 0s 3ms/step - loss: 3657.9753 - mae: 3657.9753\n",
            "Epoch 88/200\n",
            "34/34 [==============================] - 0s 3ms/step - loss: 3655.5601 - mae: 3655.5601\n",
            "Epoch 89/200\n",
            "34/34 [==============================] - 0s 3ms/step - loss: 3653.6516 - mae: 3653.6516\n",
            "Epoch 90/200\n",
            "34/34 [==============================] - 0s 3ms/step - loss: 3652.0911 - mae: 3652.0911\n",
            "Epoch 91/200\n",
            "34/34 [==============================] - 0s 3ms/step - loss: 3649.0757 - mae: 3649.0757\n",
            "Epoch 92/200\n",
            "34/34 [==============================] - 0s 3ms/step - loss: 3648.2700 - mae: 3648.2700\n",
            "Epoch 93/200\n",
            "34/34 [==============================] - 0s 3ms/step - loss: 3646.0586 - mae: 3646.0586\n",
            "Epoch 94/200\n",
            "34/34 [==============================] - 0s 3ms/step - loss: 3644.4036 - mae: 3644.4036\n",
            "Epoch 95/200\n",
            "34/34 [==============================] - 0s 3ms/step - loss: 3645.5427 - mae: 3645.5427\n",
            "Epoch 96/200\n",
            "34/34 [==============================] - 0s 3ms/step - loss: 3642.2378 - mae: 3642.2378\n",
            "Epoch 97/200\n",
            "34/34 [==============================] - 0s 3ms/step - loss: 3639.8254 - mae: 3639.8254\n",
            "Epoch 98/200\n",
            "34/34 [==============================] - 0s 3ms/step - loss: 3637.6213 - mae: 3637.6213\n",
            "Epoch 99/200\n",
            "34/34 [==============================] - 0s 3ms/step - loss: 3637.3342 - mae: 3637.3342\n",
            "Epoch 100/200\n",
            "34/34 [==============================] - 0s 3ms/step - loss: 3635.8792 - mae: 3635.8792\n",
            "Epoch 101/200\n",
            "34/34 [==============================] - 0s 3ms/step - loss: 3632.6719 - mae: 3632.6719\n",
            "Epoch 102/200\n",
            "34/34 [==============================] - 0s 3ms/step - loss: 3630.2998 - mae: 3630.2998\n",
            "Epoch 103/200\n",
            "34/34 [==============================] - 0s 3ms/step - loss: 3629.2300 - mae: 3629.2300\n",
            "Epoch 104/200\n",
            "34/34 [==============================] - 0s 3ms/step - loss: 3626.8794 - mae: 3626.8794\n",
            "Epoch 105/200\n",
            "34/34 [==============================] - 0s 3ms/step - loss: 3625.2036 - mae: 3625.2036\n",
            "Epoch 106/200\n",
            "34/34 [==============================] - 0s 3ms/step - loss: 3623.8232 - mae: 3623.8232\n",
            "Epoch 107/200\n",
            "34/34 [==============================] - 0s 3ms/step - loss: 3623.3911 - mae: 3623.3911\n",
            "Epoch 108/200\n",
            "34/34 [==============================] - 0s 3ms/step - loss: 3620.6396 - mae: 3620.6396\n",
            "Epoch 109/200\n",
            "34/34 [==============================] - 0s 3ms/step - loss: 3621.0144 - mae: 3621.0144\n",
            "Epoch 110/200\n",
            "34/34 [==============================] - 0s 3ms/step - loss: 3617.7046 - mae: 3617.7046\n",
            "Epoch 111/200\n",
            "34/34 [==============================] - 0s 3ms/step - loss: 3615.1821 - mae: 3615.1821\n",
            "Epoch 112/200\n",
            "34/34 [==============================] - 0s 3ms/step - loss: 3613.0425 - mae: 3613.0425\n",
            "Epoch 113/200\n",
            "34/34 [==============================] - 0s 3ms/step - loss: 3611.4692 - mae: 3611.4692\n",
            "Epoch 114/200\n",
            "34/34 [==============================] - 0s 3ms/step - loss: 3610.6155 - mae: 3610.6155\n",
            "Epoch 115/200\n",
            "34/34 [==============================] - 0s 3ms/step - loss: 3608.9773 - mae: 3608.9773\n",
            "Epoch 116/200\n",
            "34/34 [==============================] - 0s 5ms/step - loss: 3607.5010 - mae: 3607.5010\n",
            "Epoch 117/200\n",
            "34/34 [==============================] - 0s 5ms/step - loss: 3604.3892 - mae: 3604.3892\n",
            "Epoch 118/200\n",
            "34/34 [==============================] - 0s 4ms/step - loss: 3600.8750 - mae: 3600.8750\n",
            "Epoch 119/200\n",
            "34/34 [==============================] - 0s 4ms/step - loss: 3603.0664 - mae: 3603.0664\n",
            "Epoch 120/200\n",
            "34/34 [==============================] - 0s 4ms/step - loss: 3599.7441 - mae: 3599.7441\n",
            "Epoch 121/200\n",
            "34/34 [==============================] - 0s 5ms/step - loss: 3595.0181 - mae: 3595.0181\n",
            "Epoch 122/200\n",
            "34/34 [==============================] - 0s 4ms/step - loss: 3594.2627 - mae: 3594.2627\n",
            "Epoch 123/200\n",
            "34/34 [==============================] - 0s 4ms/step - loss: 3592.2974 - mae: 3592.2974\n",
            "Epoch 124/200\n",
            "34/34 [==============================] - 0s 4ms/step - loss: 3590.1099 - mae: 3590.1099\n",
            "Epoch 125/200\n",
            "34/34 [==============================] - 0s 4ms/step - loss: 3588.0078 - mae: 3588.0078\n",
            "Epoch 126/200\n",
            "34/34 [==============================] - 0s 4ms/step - loss: 3586.8127 - mae: 3586.8127\n",
            "Epoch 127/200\n",
            "34/34 [==============================] - 0s 4ms/step - loss: 3587.5288 - mae: 3587.5288\n",
            "Epoch 128/200\n",
            "34/34 [==============================] - 0s 6ms/step - loss: 3583.8613 - mae: 3583.8613\n",
            "Epoch 129/200\n",
            "34/34 [==============================] - 0s 5ms/step - loss: 3582.5364 - mae: 3582.5364\n",
            "Epoch 130/200\n",
            "34/34 [==============================] - 0s 4ms/step - loss: 3578.8096 - mae: 3578.8096\n",
            "Epoch 131/200\n",
            "34/34 [==============================] - 0s 4ms/step - loss: 3577.4819 - mae: 3577.4819\n",
            "Epoch 132/200\n",
            "34/34 [==============================] - 0s 4ms/step - loss: 3574.5642 - mae: 3574.5642\n",
            "Epoch 133/200\n",
            "34/34 [==============================] - 0s 4ms/step - loss: 3573.0474 - mae: 3573.0474\n",
            "Epoch 134/200\n",
            "34/34 [==============================] - 0s 4ms/step - loss: 3571.0410 - mae: 3571.0410\n",
            "Epoch 135/200\n",
            "34/34 [==============================] - 0s 4ms/step - loss: 3568.9482 - mae: 3568.9482\n",
            "Epoch 136/200\n",
            "34/34 [==============================] - 0s 4ms/step - loss: 3567.7065 - mae: 3567.7065\n",
            "Epoch 137/200\n",
            "34/34 [==============================] - 0s 5ms/step - loss: 3565.8433 - mae: 3565.8433\n",
            "Epoch 138/200\n",
            "34/34 [==============================] - 0s 4ms/step - loss: 3563.6562 - mae: 3563.6562\n",
            "Epoch 139/200\n",
            "34/34 [==============================] - 0s 4ms/step - loss: 3563.0322 - mae: 3563.0322\n",
            "Epoch 140/200\n",
            "34/34 [==============================] - 0s 3ms/step - loss: 3560.7605 - mae: 3560.7605\n",
            "Epoch 141/200\n",
            "34/34 [==============================] - 0s 3ms/step - loss: 3560.9553 - mae: 3560.9553\n",
            "Epoch 142/200\n",
            "34/34 [==============================] - 0s 3ms/step - loss: 3557.7512 - mae: 3557.7512\n",
            "Epoch 143/200\n",
            "34/34 [==============================] - 0s 3ms/step - loss: 3557.8113 - mae: 3557.8113\n",
            "Epoch 144/200\n",
            "34/34 [==============================] - 0s 3ms/step - loss: 3554.9519 - mae: 3554.9519\n",
            "Epoch 145/200\n",
            "34/34 [==============================] - 0s 3ms/step - loss: 3552.9429 - mae: 3552.9429\n",
            "Epoch 146/200\n",
            "34/34 [==============================] - 0s 3ms/step - loss: 3553.2581 - mae: 3553.2581\n",
            "Epoch 147/200\n",
            "34/34 [==============================] - 0s 3ms/step - loss: 3550.8010 - mae: 3550.8010\n",
            "Epoch 148/200\n",
            "34/34 [==============================] - 0s 3ms/step - loss: 3549.5566 - mae: 3549.5566\n",
            "Epoch 149/200\n",
            "34/34 [==============================] - 0s 3ms/step - loss: 3546.7107 - mae: 3546.7107\n",
            "Epoch 150/200\n",
            "34/34 [==============================] - 0s 3ms/step - loss: 3546.3040 - mae: 3546.3040\n",
            "Epoch 151/200\n",
            "34/34 [==============================] - 0s 3ms/step - loss: 3544.8567 - mae: 3544.8567\n",
            "Epoch 152/200\n",
            "34/34 [==============================] - 0s 3ms/step - loss: 3542.9863 - mae: 3542.9863\n",
            "Epoch 153/200\n",
            "34/34 [==============================] - 0s 3ms/step - loss: 3541.6672 - mae: 3541.6672\n",
            "Epoch 154/200\n",
            "34/34 [==============================] - 0s 3ms/step - loss: 3542.9077 - mae: 3542.9077\n",
            "Epoch 155/200\n",
            "34/34 [==============================] - 0s 3ms/step - loss: 3540.4451 - mae: 3540.4451\n",
            "Epoch 156/200\n",
            "34/34 [==============================] - 0s 3ms/step - loss: 3538.5762 - mae: 3538.5762\n",
            "Epoch 157/200\n",
            "34/34 [==============================] - 0s 3ms/step - loss: 3537.2244 - mae: 3537.2244\n",
            "Epoch 158/200\n",
            "34/34 [==============================] - 0s 3ms/step - loss: 3534.3472 - mae: 3534.3472\n",
            "Epoch 159/200\n",
            "34/34 [==============================] - 0s 3ms/step - loss: 3532.7368 - mae: 3532.7368\n",
            "Epoch 160/200\n",
            "34/34 [==============================] - 0s 3ms/step - loss: 3532.4866 - mae: 3532.4866\n",
            "Epoch 161/200\n",
            "34/34 [==============================] - 0s 3ms/step - loss: 3529.4326 - mae: 3529.4326\n",
            "Epoch 162/200\n",
            "34/34 [==============================] - 0s 3ms/step - loss: 3528.7600 - mae: 3528.7600\n",
            "Epoch 163/200\n",
            "34/34 [==============================] - 0s 3ms/step - loss: 3526.8342 - mae: 3526.8342\n",
            "Epoch 164/200\n",
            "34/34 [==============================] - 0s 3ms/step - loss: 3526.2600 - mae: 3526.2600\n",
            "Epoch 165/200\n",
            "34/34 [==============================] - 0s 3ms/step - loss: 3524.2681 - mae: 3524.2681\n",
            "Epoch 166/200\n",
            "34/34 [==============================] - 0s 3ms/step - loss: 3522.6636 - mae: 3522.6636\n",
            "Epoch 167/200\n",
            "34/34 [==============================] - 0s 3ms/step - loss: 3521.6379 - mae: 3521.6379\n",
            "Epoch 168/200\n",
            "34/34 [==============================] - 0s 3ms/step - loss: 3520.5029 - mae: 3520.5029\n",
            "Epoch 169/200\n",
            "34/34 [==============================] - 0s 3ms/step - loss: 3519.2969 - mae: 3519.2969\n",
            "Epoch 170/200\n",
            "34/34 [==============================] - 0s 3ms/step - loss: 3517.8518 - mae: 3517.8518\n",
            "Epoch 171/200\n",
            "34/34 [==============================] - 0s 4ms/step - loss: 3517.4678 - mae: 3517.4678\n",
            "Epoch 172/200\n",
            "34/34 [==============================] - 0s 4ms/step - loss: 3515.8459 - mae: 3515.8459\n",
            "Epoch 173/200\n",
            "34/34 [==============================] - 0s 4ms/step - loss: 3514.3870 - mae: 3514.3870\n",
            "Epoch 174/200\n",
            "34/34 [==============================] - 0s 4ms/step - loss: 3513.4966 - mae: 3513.4966\n",
            "Epoch 175/200\n",
            "34/34 [==============================] - 0s 3ms/step - loss: 3512.0220 - mae: 3512.0220\n",
            "Epoch 176/200\n",
            "34/34 [==============================] - 0s 4ms/step - loss: 3512.1550 - mae: 3512.1550\n",
            "Epoch 177/200\n",
            "34/34 [==============================] - 0s 3ms/step - loss: 3512.4116 - mae: 3512.4116\n",
            "Epoch 178/200\n",
            "34/34 [==============================] - 0s 3ms/step - loss: 3509.9268 - mae: 3509.9268\n",
            "Epoch 179/200\n",
            "34/34 [==============================] - 0s 3ms/step - loss: 3511.6116 - mae: 3511.6116\n",
            "Epoch 180/200\n",
            "34/34 [==============================] - 0s 3ms/step - loss: 3506.9570 - mae: 3506.9570\n",
            "Epoch 181/200\n",
            "34/34 [==============================] - 0s 3ms/step - loss: 3504.8459 - mae: 3504.8459\n",
            "Epoch 182/200\n",
            "34/34 [==============================] - 0s 3ms/step - loss: 3504.3374 - mae: 3504.3374\n",
            "Epoch 183/200\n",
            "34/34 [==============================] - 0s 3ms/step - loss: 3502.4441 - mae: 3502.4441\n",
            "Epoch 184/200\n",
            "34/34 [==============================] - 0s 3ms/step - loss: 3501.6921 - mae: 3501.6921\n",
            "Epoch 185/200\n",
            "34/34 [==============================] - 0s 3ms/step - loss: 3501.0747 - mae: 3501.0747\n",
            "Epoch 186/200\n",
            "34/34 [==============================] - 0s 3ms/step - loss: 3499.1060 - mae: 3499.1060\n",
            "Epoch 187/200\n",
            "34/34 [==============================] - 0s 3ms/step - loss: 3499.0168 - mae: 3499.0168\n",
            "Epoch 188/200\n",
            "34/34 [==============================] - 0s 3ms/step - loss: 3496.4160 - mae: 3496.4160\n",
            "Epoch 189/200\n",
            "34/34 [==============================] - 0s 3ms/step - loss: 3494.8262 - mae: 3494.8262\n",
            "Epoch 190/200\n",
            "34/34 [==============================] - 0s 3ms/step - loss: 3496.5029 - mae: 3496.5029\n",
            "Epoch 191/200\n",
            "34/34 [==============================] - 0s 3ms/step - loss: 3501.7717 - mae: 3501.7717\n",
            "Epoch 192/200\n",
            "34/34 [==============================] - 0s 3ms/step - loss: 3491.7427 - mae: 3491.7427\n",
            "Epoch 193/200\n",
            "34/34 [==============================] - 0s 3ms/step - loss: 3491.7119 - mae: 3491.7119\n",
            "Epoch 194/200\n",
            "34/34 [==============================] - 0s 3ms/step - loss: 3488.7378 - mae: 3488.7378\n",
            "Epoch 195/200\n",
            "34/34 [==============================] - 0s 3ms/step - loss: 3488.3816 - mae: 3488.3816\n",
            "Epoch 196/200\n",
            "34/34 [==============================] - 0s 3ms/step - loss: 3489.3289 - mae: 3489.3289\n",
            "Epoch 197/200\n",
            "34/34 [==============================] - 0s 3ms/step - loss: 3485.6472 - mae: 3485.6472\n",
            "Epoch 198/200\n",
            "34/34 [==============================] - 0s 3ms/step - loss: 3484.6091 - mae: 3484.6091\n",
            "Epoch 199/200\n",
            "34/34 [==============================] - 0s 3ms/step - loss: 3483.3298 - mae: 3483.3298\n",
            "Epoch 200/200\n",
            "34/34 [==============================] - 0s 3ms/step - loss: 3483.9744 - mae: 3483.9744\n"
          ]
        },
        {
          "output_type": "execute_result",
          "data": {
            "text/plain": [
              "<keras.callbacks.History at 0x7ff121613f10>"
            ]
          },
          "metadata": {},
          "execution_count": 169
        }
      ]
    },
    {
      "cell_type": "code",
      "source": [
        "# Evaluate our insurance_model trained on normalized data\n",
        "insurance_model_3.evaluate(X_test_normal, y_test)"
      ],
      "metadata": {
        "colab": {
          "base_uri": "https://localhost:8080/"
        },
        "id": "U65F8ciqsNe5",
        "outputId": "715e7f8f-226a-43f7-b310-80ac1be44aaa"
      },
      "execution_count": 168,
      "outputs": [
        {
          "output_type": "stream",
          "name": "stdout",
          "text": [
            "9/9 [==============================] - 0s 4ms/step - loss: 3437.2786 - mae: 3437.2786\n"
          ]
        },
        {
          "output_type": "execute_result",
          "data": {
            "text/plain": [
              "[3437.278564453125, 3437.278564453125]"
            ]
          },
          "metadata": {},
          "execution_count": 168
        }
      ]
    },
    {
      "cell_type": "code",
      "source": [],
      "metadata": {
        "id": "iH-4cgqQttbC"
      },
      "execution_count": null,
      "outputs": []
    },
    {
      "cell_type": "markdown",
      "source": [
        "From this we can see normalizing the data results in 10% less error using the same model than not normalizing the data.\n",
        "\n",
        "This is **one of the main benefits of normalization: faster convergence time** (a fancy way of saying, your model gets to better results faster).\n",
        "\n",
        "`insurance_model_2` may have eventually achieved the same results as `insurance_model_3` if we left it training for longer. \n",
        "\n",
        "Also, the results may change if we were to alter the architectures of the models, e.g. more hidden units per layer or more layers.\n",
        "\n",
        "But since our main goal as neural network practitioners is to decrease the time between experiments, anything that helps us get better results sooner is a plus."
      ],
      "metadata": {
        "id": "OGt2f13NttYa"
      }
    },
    {
      "cell_type": "markdown",
      "source": [
        "## 🛠 Exercises\n",
        "\n",
        "We've a covered a whole lot pretty quickly.\n",
        "\n",
        "So now it's time to have a **play around** with a few things and start to build up your intuition.\n",
        "\n",
        "I emphasise the words play around because that's very important. Try a few things out, run the code and see what happens.\n",
        "\n",
        "1. Create your own regression dataset (or make the one we created in \"Create data to view and fit\" bigger) and build fit a model to it.\n",
        "2. Try building a neural network with 4 Dense layers and fitting it to your own regression dataset, how does it perform?\n",
        "3. Try and improve the results we got on the insurance dataset, some things you might want to try include:\n",
        "  * Building a larger model (how does one with 4 dense layers go?).\n",
        "  * Increasing the number of units in each layer.\n",
        "  * Lookup the documentation of [Adam](https://www.tensorflow.org/api_docs/python/tf/keras/optimizers/Adam) and find out what the first parameter is, what happens if you increase it by 10x?\n",
        "  * What happens if you train for longer (say 300 epochs instead of 200)? \n",
        "4. Import the [Boston pricing dataset](https://www.tensorflow.org/api_docs/python/tf/keras/datasets/boston_housing/load_data) from TensorFlow [`tf.keras.datasets`](https://www.tensorflow.org/api_docs/python/tf/keras/datasets) and model it.\n"
      ],
      "metadata": {
        "id": "qfX7fGGHttVp"
      }
    },
    {
      "cell_type": "markdown",
      "source": [
        "## 📖 Extra curriculum\n",
        "\n",
        "If you're looking for extra materials relating to this notebook, I'd check out the following:\n",
        "\n",
        "* [MIT introduction deep learning lecture 1](https://youtu.be/njKP3FqW3Sk) - gives a great overview of what's happening behind all of the code we're running.\n",
        "* Reading: 1-hour of [Chapter 1 of Neural Networks and Deep Learning](http://neuralnetworksanddeeplearning.com/chap1.html) by Michael Nielson - a great in-depth and hands-on example of the intuition behind neural networks.\n",
        "\n",
        "To practice your regression modelling with TensorFlow, I'd also encourage you to look through [Lion Bridge's collection of datasets](https://lionbridge.ai/datasets/) or [Kaggle's datasets](https://www.kaggle.com/data), find a regression dataset which sparks your interest and try to model."
      ],
      "metadata": {
        "id": "W0RQPCrLr_7r"
      }
    },
    {
      "cell_type": "markdown",
      "source": [
        "see the livk about **Scale, Standardize, or Normalize with Scikit-Learn**\n",
        "\n",
        "\n",
        "https://towardsdatascience.com/scale-standardize-or-normalize-with-scikit-learn-6ccc7d176a02\n"
      ],
      "metadata": {
        "id": "aFvETquWvIvC"
      }
    },
    {
      "cell_type": "code",
      "source": [],
      "metadata": {
        "id": "pr11rLP9vYmx"
      },
      "execution_count": null,
      "outputs": []
    }
  ]
}