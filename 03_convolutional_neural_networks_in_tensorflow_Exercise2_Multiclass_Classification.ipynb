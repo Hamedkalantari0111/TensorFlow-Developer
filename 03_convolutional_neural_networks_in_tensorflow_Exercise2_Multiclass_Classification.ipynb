{
  "nbformat": 4,
  "nbformat_minor": 0,
  "metadata": {
    "colab": {
      "provenance": [],
      "gpuType": "T4"
    },
    "kernelspec": {
      "name": "python3",
      "display_name": "Python 3"
    },
    "language_info": {
      "name": "python"
    },
    "accelerator": "GPU"
  },
  "cells": [
    {
      "cell_type": "markdown",
      "source": [
        "# **Food Vision with CNN-Multiclass Clssification**"
      ],
      "metadata": {
        "id": "509FsXQ1JsRY"
      }
    },
    {
      "cell_type": "markdown",
      "source": [
        "# **1- Import data**"
      ],
      "metadata": {
        "id": "FLAGFsqpJ1Ez"
      }
    },
    {
      "cell_type": "code",
      "source": [
        "# Get the source file from (https://github.com/mrdbourke/tensorflow-deep-learning)\n",
        "!wget https://storage.googleapis.com/ztm_tf_course/food_vision/10_food_classes_all_data.zip\n",
        "\n",
        "# Unzip the file\n",
        "import zipfile\n",
        "with zipfile.ZipFile('10_food_classes_all_data.zip', 'r') as zip_ref:\n",
        "  zip_ref.extractall()\n",
        "  zip_ref.close()"
      ],
      "metadata": {
        "colab": {
          "base_uri": "https://localhost:8080/"
        },
        "id": "1n1T7KSDKD-4",
        "outputId": "5f6df3a3-e6b1-4911-9c11-661caf8088b3"
      },
      "execution_count": 1,
      "outputs": [
        {
          "output_type": "stream",
          "name": "stdout",
          "text": [
            "--2023-06-11 02:08:35--  https://storage.googleapis.com/ztm_tf_course/food_vision/10_food_classes_all_data.zip\n",
            "Resolving storage.googleapis.com (storage.googleapis.com)... 142.251.175.128, 172.253.118.128, 74.125.24.128, ...\n",
            "Connecting to storage.googleapis.com (storage.googleapis.com)|142.251.175.128|:443... connected.\n",
            "HTTP request sent, awaiting response... 200 OK\n",
            "Length: 519183241 (495M) [application/zip]\n",
            "Saving to: ‘10_food_classes_all_data.zip’\n",
            "\n",
            "10_food_classes_all 100%[===================>] 495.13M  17.8MB/s    in 30s     \n",
            "\n",
            "2023-06-11 02:09:05 (16.8 MB/s) - ‘10_food_classes_all_data.zip’ saved [519183241/519183241]\n",
            "\n"
          ]
        }
      ]
    },
    {
      "cell_type": "markdown",
      "source": [
        "# **2- Inspect the data**"
      ],
      "metadata": {
        "id": "fbYM4Qq4KIM_"
      }
    },
    {
      "cell_type": "code",
      "source": [
        "# Walk through the data directory and kist number of files\n",
        "import os\n",
        "for dirpath, dirnames, filenames in os.walk('10_food_classes_all_data'):\n",
        "  print(f\"There are {len(dirnames)} directories, {len(filenames)} images in {dirpath}.\")\n",
        "  print (\"-------------------------------------------------------------------\")"
      ],
      "metadata": {
        "colab": {
          "base_uri": "https://localhost:8080/"
        },
        "id": "B7QZBXbOKIlo",
        "outputId": "dc7bc5bc-dda7-4fc8-8fca-09a2ecadc44c"
      },
      "execution_count": 5,
      "outputs": [
        {
          "output_type": "stream",
          "name": "stdout",
          "text": [
            "There are 2 directories, 0 images in 10_food_classes_all_data.\n",
            "-------------------------------------------------------------------\n",
            "There are 10 directories, 0 images in 10_food_classes_all_data/test.\n",
            "-------------------------------------------------------------------\n",
            "There are 0 directories, 250 images in 10_food_classes_all_data/test/hamburger.\n",
            "-------------------------------------------------------------------\n",
            "There are 0 directories, 250 images in 10_food_classes_all_data/test/ramen.\n",
            "-------------------------------------------------------------------\n",
            "There are 0 directories, 250 images in 10_food_classes_all_data/test/sushi.\n",
            "-------------------------------------------------------------------\n",
            "There are 0 directories, 250 images in 10_food_classes_all_data/test/ice_cream.\n",
            "-------------------------------------------------------------------\n",
            "There are 0 directories, 250 images in 10_food_classes_all_data/test/steak.\n",
            "-------------------------------------------------------------------\n",
            "There are 0 directories, 250 images in 10_food_classes_all_data/test/chicken_curry.\n",
            "-------------------------------------------------------------------\n",
            "There are 0 directories, 250 images in 10_food_classes_all_data/test/fried_rice.\n",
            "-------------------------------------------------------------------\n",
            "There are 0 directories, 250 images in 10_food_classes_all_data/test/grilled_salmon.\n",
            "-------------------------------------------------------------------\n",
            "There are 0 directories, 250 images in 10_food_classes_all_data/test/pizza.\n",
            "-------------------------------------------------------------------\n",
            "There are 0 directories, 250 images in 10_food_classes_all_data/test/chicken_wings.\n",
            "-------------------------------------------------------------------\n",
            "There are 10 directories, 0 images in 10_food_classes_all_data/train.\n",
            "-------------------------------------------------------------------\n",
            "There are 0 directories, 750 images in 10_food_classes_all_data/train/hamburger.\n",
            "-------------------------------------------------------------------\n",
            "There are 0 directories, 750 images in 10_food_classes_all_data/train/ramen.\n",
            "-------------------------------------------------------------------\n",
            "There are 0 directories, 750 images in 10_food_classes_all_data/train/sushi.\n",
            "-------------------------------------------------------------------\n",
            "There are 0 directories, 750 images in 10_food_classes_all_data/train/ice_cream.\n",
            "-------------------------------------------------------------------\n",
            "There are 0 directories, 750 images in 10_food_classes_all_data/train/steak.\n",
            "-------------------------------------------------------------------\n",
            "There are 0 directories, 750 images in 10_food_classes_all_data/train/chicken_curry.\n",
            "-------------------------------------------------------------------\n",
            "There are 0 directories, 750 images in 10_food_classes_all_data/train/fried_rice.\n",
            "-------------------------------------------------------------------\n",
            "There are 0 directories, 750 images in 10_food_classes_all_data/train/grilled_salmon.\n",
            "-------------------------------------------------------------------\n",
            "There are 0 directories, 750 images in 10_food_classes_all_data/train/pizza.\n",
            "-------------------------------------------------------------------\n",
            "There are 0 directories, 750 images in 10_food_classes_all_data/train/chicken_wings.\n",
            "-------------------------------------------------------------------\n"
          ]
        }
      ]
    },
    {
      "cell_type": "code",
      "source": [
        "# Get the class names programmatically\n",
        "import pathlib\n",
        "import numpy as np\n",
        "\n",
        "data_dir = pathlib.Path('/content/10_food_classes_all_data/train')\n",
        "class_names = sorted([item.name for item in data_dir.glob('*')])\n",
        "print(class_names )"
      ],
      "metadata": {
        "colab": {
          "base_uri": "https://localhost:8080/"
        },
        "id": "c5vsEXI_PS4o",
        "outputId": "0df12e8f-8477-4ed8-97c8-f40d9f0fed12"
      },
      "execution_count": 16,
      "outputs": [
        {
          "output_type": "stream",
          "name": "stdout",
          "text": [
            "['chicken_curry', 'chicken_wings', 'fried_rice', 'grilled_salmon', 'hamburger', 'ice_cream', 'pizza', 'ramen', 'steak', 'sushi']\n"
          ]
        }
      ]
    },
    {
      "cell_type": "code",
      "source": [],
      "metadata": {
        "id": "5kihCsKGR04B"
      },
      "execution_count": null,
      "outputs": []
    },
    {
      "cell_type": "markdown",
      "source": [
        "# **3- Preprocess data**"
      ],
      "metadata": {
        "id": "ceWTRaDOKJoY"
      }
    },
    {
      "cell_type": "code",
      "source": [
        "# Set up train ans test directories\n",
        "train_dir = '/content/10_food_classes_all_data/train'\n",
        "test_dir = '/content/10_food_classes_all_data/test'\n"
      ],
      "metadata": {
        "id": "zW1Wb9kbKLuo"
      },
      "execution_count": 17,
      "outputs": []
    },
    {
      "cell_type": "markdown",
      "source": [
        "# **4- Create a CNN model**"
      ],
      "metadata": {
        "id": "AqDp8_8hKNF4"
      }
    },
    {
      "cell_type": "code",
      "source": [],
      "metadata": {
        "id": "_EqlEYgrKOkQ"
      },
      "execution_count": null,
      "outputs": []
    },
    {
      "cell_type": "markdown",
      "source": [
        "# **5- Evaluate the model**"
      ],
      "metadata": {
        "id": "KuY-Qd6yKQS4"
      }
    },
    {
      "cell_type": "code",
      "source": [],
      "metadata": {
        "id": "hbF8qMtuKQl_"
      },
      "execution_count": null,
      "outputs": []
    },
    {
      "cell_type": "markdown",
      "source": [
        "# **6- Make a prediction with our trained model**"
      ],
      "metadata": {
        "id": "_AvZKG4RKSXo"
      }
    },
    {
      "cell_type": "markdown",
      "source": [
        "## **6-1- Download the file**"
      ],
      "metadata": {
        "id": "RKjLi4_vKSvI"
      }
    },
    {
      "cell_type": "code",
      "source": [],
      "metadata": {
        "id": "zbht_UiIKVHZ"
      },
      "execution_count": null,
      "outputs": []
    },
    {
      "cell_type": "markdown",
      "source": [
        "## **6-2- preprocess the image file**"
      ],
      "metadata": {
        "id": "HtzYV9tHKXN_"
      }
    },
    {
      "cell_type": "code",
      "source": [],
      "metadata": {
        "id": "Hb36yMEOKXev"
      },
      "execution_count": null,
      "outputs": []
    },
    {
      "cell_type": "markdown",
      "source": [
        "## **6-3- Predict the model**"
      ],
      "metadata": {
        "id": "l2xb4j9yKbAI"
      }
    },
    {
      "cell_type": "code",
      "source": [],
      "metadata": {
        "id": "lhhhGnJgKbZ_"
      },
      "execution_count": null,
      "outputs": []
    },
    {
      "cell_type": "markdown",
      "source": [
        "# **7- Save the model**"
      ],
      "metadata": {
        "id": "GM9ffgnOKdMx"
      }
    },
    {
      "cell_type": "code",
      "source": [],
      "metadata": {
        "id": "eyqOp8MCKdmX"
      },
      "execution_count": null,
      "outputs": []
    }
  ]
}